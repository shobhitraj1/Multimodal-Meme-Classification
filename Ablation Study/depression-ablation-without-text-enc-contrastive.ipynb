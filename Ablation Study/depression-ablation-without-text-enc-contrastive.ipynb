{
 "cells": [
  {
   "cell_type": "markdown",
   "metadata": {},
   "source": [
    "## Dataset Download"
   ]
  },
  {
   "cell_type": "code",
   "execution_count": 1,
   "metadata": {
    "_cell_guid": "b1076dfc-b9ad-4769-8c92-a6c4dae69d19",
    "_uuid": "8f2839f25d086af736a60e9eeb907d3b93b6e0e5",
    "execution": {
     "iopub.execute_input": "2025-04-13T17:22:42.052519Z",
     "iopub.status.busy": "2025-04-13T17:22:42.052006Z",
     "iopub.status.idle": "2025-04-13T17:22:56.427128Z",
     "shell.execute_reply": "2025-04-13T17:22:56.426393Z",
     "shell.execute_reply.started": "2025-04-13T17:22:42.052483Z"
    },
    "id": "CFR2nxXH5qnr",
    "trusted": true
   },
   "outputs": [
    {
     "name": "stdout",
     "output_type": "stream",
     "text": [
      "Downloading...\n",
      "From (original): https://drive.google.com/uc?id=1LQoyq_ZjHJih7hxJ2yJ_OrZhOIE_BZwB\n",
      "From (redirected): https://drive.google.com/uc?id=1LQoyq_ZjHJih7hxJ2yJ_OrZhOIE_BZwB&confirm=t&uuid=8aec5ebd-370f-48d8-b4b8-9474e3dd613b\n",
      "To: /kaggle/working/depression_dataset_complete.zip\n",
      "100%|████████████████████████████████████████| 652M/652M [00:09<00:00, 68.4MB/s]\n"
     ]
    }
   ],
   "source": [
    "!gdown 1LQoyq_ZjHJih7hxJ2yJ_OrZhOIE_BZwB"
   ]
  },
  {
   "cell_type": "code",
   "execution_count": 2,
   "metadata": {
    "execution": {
     "iopub.execute_input": "2025-04-13T17:22:56.429508Z",
     "iopub.status.busy": "2025-04-13T17:22:56.428842Z",
     "iopub.status.idle": "2025-04-13T17:23:03.575708Z",
     "shell.execute_reply": "2025-04-13T17:23:03.574921Z",
     "shell.execute_reply.started": "2025-04-13T17:22:56.429485Z"
    },
    "id": "aJ77QP0c5qnv",
    "trusted": true
   },
   "outputs": [],
   "source": [
    "!unzip depression_dataset_complete.zip > /dev/null"
   ]
  },
  {
   "cell_type": "code",
   "execution_count": 14,
   "metadata": {
    "execution": {
     "iopub.execute_input": "2025-04-15T00:49:39.190484Z",
     "iopub.status.busy": "2025-04-15T00:49:39.189910Z",
     "iopub.status.idle": "2025-04-15T00:49:39.229853Z",
     "shell.execute_reply": "2025-04-15T00:49:39.229339Z",
     "shell.execute_reply.started": "2025-04-15T00:49:39.190460Z"
    },
    "trusted": true
   },
   "outputs": [],
   "source": [
    "import os\n",
    "import torch\n",
    "import torch.nn as nn\n",
    "import torch.optim as optim\n",
    "from torch.utils.data import Dataset, DataLoader\n",
    "from torchvision import transforms\n",
    "from transformers import CLIPImageProcessor, CLIPVisionModel\n",
    "from sklearn.metrics import precision_recall_fscore_support\n",
    "import numpy as np\n",
    "from tqdm import tqdm\n",
    "from PIL import Image\n",
    "import json\n",
    "import math\n",
    "\n",
    "DEVICE = torch.device(\"cuda\" if torch.cuda.is_available() else \"cpu\")\n",
    "BATCH_SIZE = 16\n",
    "LR = 2e-5\n",
    "FUSION_DIM = 768\n",
    "LABELS = [\"Lack of Interest\", \"Feeling Down\", \"Eating Disorder\",\n",
    "          \"Sleeping Disorder\", \"Low Self-Esteem\", \"Concentration Problem\", \"Self-Harm\"]\n",
    "LABEL_MAP = {label: i for i, label in enumerate(LABELS)}\n",
    "NUM_CLASSES = len(LABELS)"
   ]
  },
  {
   "cell_type": "markdown",
   "metadata": {},
   "source": [
    "## Custom Dataset"
   ]
  },
  {
   "cell_type": "code",
   "execution_count": 15,
   "metadata": {
    "execution": {
     "iopub.execute_input": "2025-04-15T00:49:41.909462Z",
     "iopub.status.busy": "2025-04-15T00:49:41.909170Z",
     "iopub.status.idle": "2025-04-15T00:49:41.917172Z",
     "shell.execute_reply": "2025-04-15T00:49:41.916580Z",
     "shell.execute_reply.started": "2025-04-15T00:49:41.909442Z"
    },
    "id": "JRKH0Rau5qnv",
    "trusted": true
   },
   "outputs": [],
   "source": [
    "class ImageOnlyDepressionDataset(Dataset):\n",
    "    def __init__(self, data, image_path, image_processor):\n",
    "        self.data = data\n",
    "        self.image_processor = image_processor\n",
    "        self.img_path = image_path\n",
    "        self.transform = transforms.Compose([\n",
    "            transforms.Resize((224, 224)),\n",
    "            transforms.ToTensor(),\n",
    "            transforms.Normalize(mean=[0.485, 0.456, 0.406], std=[0.229, 0.224, 0.225])\n",
    "        ])\n",
    "\n",
    "    def __len__(self):\n",
    "        return len(self.data)\n",
    "\n",
    "    def __getitem__(self, idx):\n",
    "        sample = self.data[idx]\n",
    "\n",
    "        image_path = os.path.join(self.img_path, sample[\"sample_id\"] + \".jpeg\")\n",
    "        image = Image.open(image_path).convert(\"RGB\")\n",
    "        image_tensor = self.image_processor(image, return_tensors=\"pt\")\n",
    "\n",
    "        labels = torch.zeros(NUM_CLASSES)\n",
    "        for category in sample[\"meme_depressive_categories\"]:\n",
    "            labels[LABEL_MAP[category]] = 1.0\n",
    "\n",
    "        return {\n",
    "            \"image\": image_tensor,\n",
    "            \"label\": labels\n",
    "        }\n",
    "\n",
    "def custom_collate_fn(batch):\n",
    "    labels = torch.stack([item['label'] for item in batch])\n",
    "\n",
    "    images = {}\n",
    "    for key in batch[0]['image'].keys():\n",
    "        if isinstance(batch[0]['image'][key], torch.Tensor):\n",
    "            images[key] = torch.stack([item['image'][key].squeeze(0) for item in batch])\n",
    "\n",
    "    return {\n",
    "        'image': images,\n",
    "        'label': labels,\n",
    "    }"
   ]
  },
  {
   "cell_type": "markdown",
   "metadata": {},
   "source": [
    "## Model Definition"
   ]
  },
  {
   "cell_type": "code",
   "execution_count": 16,
   "metadata": {
    "execution": {
     "iopub.execute_input": "2025-04-15T00:49:44.105364Z",
     "iopub.status.busy": "2025-04-15T00:49:44.104655Z",
     "iopub.status.idle": "2025-04-15T00:49:44.110496Z",
     "shell.execute_reply": "2025-04-15T00:49:44.109919Z",
     "shell.execute_reply.started": "2025-04-15T00:49:44.105332Z"
    },
    "id": "EVIzORNL5qnw",
    "trusted": true
   },
   "outputs": [],
   "source": [
    "class ImageOnlyModel(nn.Module):\n",
    "    def __init__(self, num_classes=7, fusion_dim=768):\n",
    "        super(ImageOnlyModel, self).__init__()\n",
    "\n",
    "        self.vision_encoder = CLIPVisionModel.from_pretrained(\"openai/clip-vit-base-patch32\")\n",
    "        self.vision_dim = self.vision_encoder.config.hidden_size\n",
    "\n",
    "        fusion_dim = 1024\n",
    "\n",
    "        self.vision_projection = nn.Linear(self.vision_dim, fusion_dim)\n",
    "\n",
    "        self.classifier = nn.Sequential(\n",
    "            nn.Linear(fusion_dim, fusion_dim),\n",
    "            nn.LayerNorm(fusion_dim),\n",
    "            nn.GELU(),\n",
    "            nn.Dropout(0.1),\n",
    "            nn.Linear(fusion_dim, num_classes)\n",
    "        )\n",
    "\n",
    "    def forward(self, image_features):\n",
    "        vision_outputs = self.vision_encoder(**image_features)\n",
    "        image_cls = vision_outputs.pooler_output\n",
    "\n",
    "        vision_features = self.vision_projection(image_cls)\n",
    "\n",
    "        logits = self.classifier(vision_features)\n",
    "\n",
    "        return logits"
   ]
  },
  {
   "cell_type": "markdown",
   "metadata": {},
   "source": [
    "## Training Functions"
   ]
  },
  {
   "cell_type": "code",
   "execution_count": 17,
   "metadata": {
    "execution": {
     "iopub.execute_input": "2025-04-15T00:49:45.878827Z",
     "iopub.status.busy": "2025-04-15T00:49:45.878037Z",
     "iopub.status.idle": "2025-04-15T00:49:45.892868Z",
     "shell.execute_reply": "2025-04-15T00:49:45.892156Z",
     "shell.execute_reply.started": "2025-04-15T00:49:45.878802Z"
    },
    "trusted": true
   },
   "outputs": [],
   "source": [
    "def train_image_only_model(model, train_data, val_data, img_path, epochs, model_save_name):\n",
    "    image_processor = CLIPImageProcessor.from_pretrained(\"openai/clip-vit-base-patch32\")\n",
    "\n",
    "    train_dataset = ImageOnlyDepressionDataset(train_data, os.path.join(img_path, \"train\"), image_processor)\n",
    "    val_dataset = ImageOnlyDepressionDataset(val_data, os.path.join(img_path, \"val\"), image_processor)\n",
    "\n",
    "    print(\"Train Set Size:\", len(train_dataset))\n",
    "    print(\"Validation Set Size:\", len(val_dataset))\n",
    "\n",
    "    train_loader = DataLoader(\n",
    "        train_dataset,\n",
    "        batch_size=BATCH_SIZE,\n",
    "        shuffle=True,\n",
    "        collate_fn=custom_collate_fn\n",
    "    )\n",
    "\n",
    "    val_loader = DataLoader(\n",
    "        val_dataset,\n",
    "        batch_size=BATCH_SIZE,\n",
    "        shuffle=False,\n",
    "        collate_fn=custom_collate_fn\n",
    "    )\n",
    "\n",
    "    optimizer = optim.AdamW(model.parameters(), lr=LR)\n",
    "    scheduler = torch.optim.lr_scheduler.ReduceLROnPlateau(\n",
    "        optimizer, mode='max', factor=0.5, patience=2, verbose=True\n",
    "    )\n",
    "    criterion = nn.BCEWithLogitsLoss()\n",
    "\n",
    "    model = model.to(DEVICE)\n",
    "    model = nn.DataParallel(model)\n",
    "\n",
    "    best_f1 = 0\n",
    "    for epoch in range(epochs):\n",
    "        print(f\"\\nEpoch {epoch+1}/{epochs}\")\n",
    "\n",
    "        model.train()\n",
    "        train_loss = 0\n",
    "        all_train_preds, all_train_labels = [], []\n",
    "\n",
    "        for batch in tqdm(train_loader, desc=\"Training\"):\n",
    "            labels = batch[\"label\"].to(DEVICE)\n",
    "            image_features = {k: v.to(DEVICE) for k, v in batch[\"image\"].items()}\n",
    "\n",
    "            optimizer.zero_grad()\n",
    "            logits = model(image_features)\n",
    "            loss = criterion(logits, labels)\n",
    "            loss.backward()\n",
    "            torch.nn.utils.clip_grad_norm_(model.parameters(), 1.0)\n",
    "            optimizer.step()\n",
    "\n",
    "            train_loss += loss.item()\n",
    "            with torch.no_grad():\n",
    "                predictions = (torch.sigmoid(logits) > 0.5).float().cpu().numpy()\n",
    "                all_train_preds.extend(predictions)\n",
    "                all_train_labels.extend(labels.cpu().numpy())\n",
    "\n",
    "        train_loss = train_loss / len(train_loader)\n",
    "        train_metrics = compute_multilabel_metrics(np.array(all_train_labels), np.array(all_train_preds))\n",
    "\n",
    "        print(f\"Train Loss: {train_loss:.4f}\")\n",
    "        print(f\"Train Macro-F1: {train_metrics['macro_f1']:.4f}, Weighted-F1: {train_metrics['weighted_f1']:.4f}\")\n",
    "\n",
    "        val_loss, val_metrics = evaluate_image_only_model(\n",
    "            model, val_loader, criterion\n",
    "        )\n",
    "\n",
    "        print(f\"Validation Loss: {val_loss:.4f}\")\n",
    "        print(f\"Validation Macro-F1: {val_metrics['macro_f1']:.4f}, Weighted-F1: {val_metrics['weighted_f1']:.4f}\")\n",
    "\n",
    "        scheduler.step(val_metrics['macro_f1'])\n",
    "\n",
    "        scheduler.step(val_metrics['macro_f1'])\n",
    "        \n",
    "        f1_hm = 2 * val_metrics[\"macro_f1\"] * val_metrics[\"weighted_f1\"] / (val_metrics[\"macro_f1\"] + val_metrics[\"weighted_f1\"])\n",
    "        if f1_hm > best_f1:\n",
    "            best_f1 = f1_hm\n",
    "            torch.save(model.state_dict(), f\"{model_save_name}_depression.pth\")\n",
    "            print(\"Best model saved!\")\n",
    "        \n",
    "    return model\n",
    "\n",
    "def compute_multilabel_metrics(y_true, y_pred):\n",
    "    macro_precision, macro_recall, macro_f1, _ = precision_recall_fscore_support(y_true, y_pred, average='macro')\n",
    "    weighted_precision, weighted_recall, weighted_f1, _ = precision_recall_fscore_support(y_true, y_pred, average='weighted')\n",
    "    \n",
    "    per_class_precision, per_class_recall, per_class_f1, _ = precision_recall_fscore_support(y_true, y_pred, average=None)\n",
    "    metrics = {\n",
    "        'macro_precision': macro_precision,\n",
    "        'macro_recall': macro_recall,\n",
    "        'macro_f1': macro_f1,\n",
    "        'weighted_precision': weighted_precision,\n",
    "        'weighted_recall': weighted_recall,\n",
    "        'weighted_f1': weighted_f1,\n",
    "        'per_class_precision': per_class_precision,\n",
    "        'per_class_recall': per_class_recall,\n",
    "        'per_class_f1': per_class_f1\n",
    "    }\n",
    "    \n",
    "    return metrics\n",
    "\n",
    "def evaluate_image_only_model(model, loader, criterion):\n",
    "    model.eval()\n",
    "    val_loss = 0\n",
    "    all_val_preds, all_val_labels = [], []\n",
    "    \n",
    "    with torch.no_grad():\n",
    "        for batch in tqdm(loader, desc=\"Evaluating\"):\n",
    "            labels = batch[\"label\"].to(DEVICE)\n",
    "            image_features = {k: v.to(DEVICE) for k, v in batch[\"image\"].items()}\n",
    "            \n",
    "            logits = model(image_features)\n",
    "            loss = criterion(logits, labels)\n",
    "            \n",
    "            val_loss += loss.item()\n",
    "            predictions = (torch.sigmoid(logits) > 0.5).float().cpu().numpy()\n",
    "            all_val_preds.extend(predictions)\n",
    "            all_val_labels.extend(labels.cpu().numpy())\n",
    "    \n",
    "    val_loss = val_loss / len(loader)\n",
    "    val_metrics = compute_multilabel_metrics(np.array(all_val_labels), np.array(all_val_preds))\n",
    "    \n",
    "    print(\"\\nPer-class metrics:\")\n",
    "    for i, label in enumerate(LABELS):\n",
    "        print(f\"{label}: F1={val_metrics['per_class_f1'][i]:.4f}, \"\n",
    "              f\"Precision={val_metrics['per_class_precision'][i]:.4f}, \"\n",
    "              f\"Recall={val_metrics['per_class_recall'][i]:.4f}\")\n",
    "    \n",
    "    return val_loss, val_metrics"
   ]
  },
  {
   "cell_type": "markdown",
   "metadata": {},
   "source": [
    "## Model Training"
   ]
  },
  {
   "cell_type": "code",
   "execution_count": 19,
   "metadata": {
    "execution": {
     "iopub.execute_input": "2025-04-15T00:49:52.046298Z",
     "iopub.status.busy": "2025-04-15T00:49:52.045756Z",
     "iopub.status.idle": "2025-04-15T00:49:52.294401Z",
     "shell.execute_reply": "2025-04-15T00:49:52.293797Z",
     "shell.execute_reply.started": "2025-04-15T00:49:52.046273Z"
    },
    "trusted": true
   },
   "outputs": [],
   "source": [
    "train_data = json.load(open(\"depression_train_llava_dataset.json\", \"r\"))\n",
    "val_data = json.load(open(\"depression_val_llava_dataset.json\", \"r\"))\n",
    "test_data = json.load(open(\"depression_test_llava_dataset.json\", \"r\"))\n",
    "\n",
    "image_processor = CLIPImageProcessor.from_pretrained(\"openai/clip-vit-base-patch32\")\n",
    "\n",
    "img_path = \"depressive_image\"\n",
    "\n",
    "image_processor = CLIPImageProcessor.from_pretrained(\"openai/clip-vit-base-patch32\")\n",
    "\n",
    "test_dataset = ImageOnlyDepressionDataset(test_data, os.path.join(img_path, \"test\"), image_processor)\n",
    "test_loader = DataLoader(\n",
    "    test_dataset,\n",
    "    batch_size=BATCH_SIZE,\n",
    "    shuffle=False,\n",
    "    collate_fn=custom_collate_fn\n",
    ")"
   ]
  },
  {
   "cell_type": "code",
   "execution_count": null,
   "metadata": {
    "execution": {
     "iopub.execute_input": "2025-04-13T17:25:44.224336Z",
     "iopub.status.busy": "2025-04-13T17:25:44.224012Z",
     "iopub.status.idle": "2025-04-13T19:32:45.855596Z",
     "shell.execute_reply": "2025-04-13T19:32:45.854778Z",
     "shell.execute_reply.started": "2025-04-13T17:25:44.224312Z"
    },
    "id": "LFBYJxXr5qnx",
    "outputId": "6833d85d-72dc-4124-88a7-15def6873325",
    "trusted": true
   },
   "outputs": [
    {
     "name": "stdout",
     "output_type": "stream",
     "text": [
      "Train Set Size: 8722\n",
      "Validation Set Size: 359\n",
      "\n",
      "Epoch 1/30\n"
     ]
    },
    {
     "name": "stderr",
     "output_type": "stream",
     "text": [
      "Training: 100%|██████████| 546/546 [03:55<00:00,  2.31it/s]\n"
     ]
    },
    {
     "name": "stdout",
     "output_type": "stream",
     "text": [
      "Train Loss: 0.3221\n",
      "Train Macro-F1: 0.3554, Weighted-F1: 0.3887\n"
     ]
    },
    {
     "name": "stderr",
     "output_type": "stream",
     "text": [
      "Evaluating: 100%|██████████| 23/23 [00:06<00:00,  3.35it/s]\n"
     ]
    },
    {
     "name": "stdout",
     "output_type": "stream",
     "text": [
      "\n",
      "Per-class metrics:\n",
      "Lack of Interest: F1=0.2963, Precision=0.8889, Recall=0.1778\n",
      "Feeling Down: F1=0.3857, Precision=0.6353, Recall=0.2769\n",
      "Eating Disorder: F1=0.4681, Precision=0.4889, Recall=0.4490\n",
      "Sleeping Disorder: F1=0.6842, Precision=0.8387, Recall=0.5778\n",
      "Low Self-Esteem: F1=0.0000, Precision=0.0000, Recall=0.0000\n",
      "Concentration Problem: F1=0.5085, Precision=0.8824, Recall=0.3571\n",
      "Self-Harm: F1=0.1159, Precision=0.5000, Recall=0.0656\n",
      "Validation Loss: 0.4472\n",
      "Validation Macro-F1: 0.3512, Weighted-F1: 0.3270\n",
      "Best model saved!\n"
     ]
    },
    {
     "name": "stdout",
     "output_type": "stream",
     "text": [
      "\n",
      "Epoch 2/30\n"
     ]
    },
    {
     "name": "stderr",
     "output_type": "stream",
     "text": [
      "Training: 100%|██████████| 546/546 [03:56<00:00,  2.30it/s]\n"
     ]
    },
    {
     "name": "stdout",
     "output_type": "stream",
     "text": [
      "Train Loss: 0.2495\n",
      "Train Macro-F1: 0.5645, Weighted-F1: 0.5917\n"
     ]
    },
    {
     "name": "stderr",
     "output_type": "stream",
     "text": [
      "Evaluating: 100%|██████████| 23/23 [00:06<00:00,  3.30it/s]\n"
     ]
    },
    {
     "name": "stdout",
     "output_type": "stream",
     "text": [
      "\n",
      "Per-class metrics:\n",
      "Lack of Interest: F1=0.2308, Precision=0.8571, Recall=0.1333\n",
      "Feeling Down: F1=0.3769, Precision=0.7538, Recall=0.2513\n",
      "Eating Disorder: F1=0.5347, Precision=0.5192, Recall=0.5510\n",
      "Sleeping Disorder: F1=0.5429, Precision=0.7600, Recall=0.4222\n",
      "Low Self-Esteem: F1=0.0449, Precision=0.5000, Recall=0.0235\n",
      "Concentration Problem: F1=0.4688, Precision=0.6818, Recall=0.3571\n",
      "Self-Harm: F1=0.3038, Precision=0.6667, Recall=0.1967\n",
      "Validation Loss: 0.4624\n",
      "Validation Macro-F1: 0.3575, Weighted-F1: 0.3382\n",
      "Best model saved!\n"
     ]
    },
    {
     "name": "stdout",
     "output_type": "stream",
     "text": [
      "\n",
      "Epoch 3/30\n"
     ]
    },
    {
     "name": "stderr",
     "output_type": "stream",
     "text": [
      "Training: 100%|██████████| 546/546 [04:00<00:00,  2.27it/s]\n"
     ]
    },
    {
     "name": "stdout",
     "output_type": "stream",
     "text": [
      "Train Loss: 0.1849\n",
      "Train Macro-F1: 0.7005, Weighted-F1: 0.7297\n"
     ]
    },
    {
     "name": "stderr",
     "output_type": "stream",
     "text": [
      "Evaluating: 100%|██████████| 23/23 [00:07<00:00,  3.27it/s]\n"
     ]
    },
    {
     "name": "stdout",
     "output_type": "stream",
     "text": [
      "\n",
      "Per-class metrics:\n",
      "Lack of Interest: F1=0.2182, Precision=0.6000, Recall=0.1333\n",
      "Feeling Down: F1=0.5209, Precision=0.6983, Recall=0.4154\n",
      "Eating Disorder: F1=0.5319, Precision=0.5556, Recall=0.5102\n",
      "Sleeping Disorder: F1=0.6000, Precision=0.8400, Recall=0.4667\n",
      "Low Self-Esteem: F1=0.0000, Precision=0.0000, Recall=0.0000\n",
      "Concentration Problem: F1=0.4941, Precision=0.4884, Recall=0.5000\n",
      "Self-Harm: F1=0.3294, Precision=0.5833, Recall=0.2295\n",
      "Validation Loss: 0.5183\n",
      "Validation Macro-F1: 0.3849, Weighted-F1: 0.3933\n",
      "Best model saved!\n"
     ]
    },
    {
     "name": "stdout",
     "output_type": "stream",
     "text": [
      "\n",
      "Epoch 4/30\n"
     ]
    },
    {
     "name": "stderr",
     "output_type": "stream",
     "text": [
      "Training: 100%|██████████| 546/546 [03:55<00:00,  2.32it/s]\n"
     ]
    },
    {
     "name": "stdout",
     "output_type": "stream",
     "text": [
      "Train Loss: 0.1378\n",
      "Train Macro-F1: 0.7963, Weighted-F1: 0.8178\n"
     ]
    },
    {
     "name": "stderr",
     "output_type": "stream",
     "text": [
      "Evaluating: 100%|██████████| 23/23 [00:07<00:00,  3.15it/s]\n"
     ]
    },
    {
     "name": "stdout",
     "output_type": "stream",
     "text": [
      "\n",
      "Per-class metrics:\n",
      "Lack of Interest: F1=0.2642, Precision=0.8750, Recall=0.1556\n",
      "Feeling Down: F1=0.4043, Precision=0.6552, Recall=0.2923\n",
      "Eating Disorder: F1=0.3838, Precision=0.3800, Recall=0.3878\n",
      "Sleeping Disorder: F1=0.5205, Precision=0.6786, Recall=0.4222\n",
      "Low Self-Esteem: F1=0.2479, Precision=0.4167, Recall=0.1765\n",
      "Concentration Problem: F1=0.4545, Precision=0.6250, Recall=0.3571\n",
      "Self-Harm: F1=0.4160, Precision=0.4062, Recall=0.4262\n",
      "Validation Loss: 0.5730\n",
      "Validation Macro-F1: 0.3845, Weighted-F1: 0.3803\n"
     ]
    },
    {
     "name": "stdout",
     "output_type": "stream",
     "text": [
      "\n",
      "Epoch 5/30\n"
     ]
    },
    {
     "name": "stderr",
     "output_type": "stream",
     "text": [
      "Training: 100%|██████████| 546/546 [03:55<00:00,  2.32it/s]\n"
     ]
    },
    {
     "name": "stdout",
     "output_type": "stream",
     "text": [
      "Train Loss: 0.0999\n",
      "Train Macro-F1: 0.8680, Weighted-F1: 0.8775\n"
     ]
    },
    {
     "name": "stderr",
     "output_type": "stream",
     "text": [
      "Evaluating: 100%|██████████| 23/23 [00:06<00:00,  3.30it/s]\n"
     ]
    },
    {
     "name": "stdout",
     "output_type": "stream",
     "text": [
      "\n",
      "Per-class metrics:\n",
      "Lack of Interest: F1=0.3158, Precision=0.7500, Recall=0.2000\n",
      "Feeling Down: F1=0.5552, Precision=0.6643, Recall=0.4769\n",
      "Eating Disorder: F1=0.4198, Precision=0.5312, Recall=0.3469\n",
      "Sleeping Disorder: F1=0.5238, Precision=0.5641, Recall=0.4889\n",
      "Low Self-Esteem: F1=0.1852, Precision=0.4348, Recall=0.1176\n",
      "Concentration Problem: F1=0.3729, Precision=0.6471, Recall=0.2619\n",
      "Self-Harm: F1=0.3721, Precision=0.3529, Recall=0.3934\n",
      "Validation Loss: 0.6094\n",
      "Validation Macro-F1: 0.3921, Weighted-F1: 0.4228\n",
      "Best model saved!\n"
     ]
    },
    {
     "name": "stdout",
     "output_type": "stream",
     "text": [
      "\n",
      "Epoch 6/30\n"
     ]
    },
    {
     "name": "stderr",
     "output_type": "stream",
     "text": [
      "Training: 100%|██████████| 546/546 [03:53<00:00,  2.34it/s]\n"
     ]
    },
    {
     "name": "stdout",
     "output_type": "stream",
     "text": [
      "Train Loss: 0.0809\n",
      "Train Macro-F1: 0.8992, Weighted-F1: 0.9048\n"
     ]
    },
    {
     "name": "stderr",
     "output_type": "stream",
     "text": [
      "Evaluating: 100%|██████████| 23/23 [00:06<00:00,  3.33it/s]\n"
     ]
    },
    {
     "name": "stdout",
     "output_type": "stream",
     "text": [
      "\n",
      "Per-class metrics:\n",
      "Lack of Interest: F1=0.2593, Precision=0.7778, Recall=0.1556\n",
      "Feeling Down: F1=0.6000, Precision=0.6545, Recall=0.5538\n",
      "Eating Disorder: F1=0.4096, Precision=0.5000, Recall=0.3469\n",
      "Sleeping Disorder: F1=0.4082, Precision=0.3774, Recall=0.4444\n",
      "Low Self-Esteem: F1=0.0842, Precision=0.4000, Recall=0.0471\n",
      "Concentration Problem: F1=0.3571, Precision=0.7143, Recall=0.2381\n",
      "Self-Harm: F1=0.3636, Precision=0.4737, Recall=0.2951\n",
      "Validation Loss: 0.6814\n",
      "Validation Macro-F1: 0.3546, Weighted-F1: 0.4051\n"
     ]
    },
    {
     "name": "stdout",
     "output_type": "stream",
     "text": [
      "\n",
      "Epoch 7/30\n"
     ]
    },
    {
     "name": "stderr",
     "output_type": "stream",
     "text": [
      "Training: 100%|██████████| 546/546 [03:56<00:00,  2.31it/s]\n"
     ]
    },
    {
     "name": "stdout",
     "output_type": "stream",
     "text": [
      "Train Loss: 0.0735\n",
      "Train Macro-F1: 0.9112, Weighted-F1: 0.9155\n"
     ]
    },
    {
     "name": "stderr",
     "output_type": "stream",
     "text": [
      "Evaluating: 100%|██████████| 23/23 [00:06<00:00,  3.31it/s]\n"
     ]
    },
    {
     "name": "stdout",
     "output_type": "stream",
     "text": [
      "\n",
      "Per-class metrics:\n",
      "Lack of Interest: F1=0.2034, Precision=0.4286, Recall=0.1333\n",
      "Feeling Down: F1=0.5283, Precision=0.6829, Recall=0.4308\n",
      "Eating Disorder: F1=0.4466, Precision=0.4259, Recall=0.4694\n",
      "Sleeping Disorder: F1=0.4722, Precision=0.6296, Recall=0.3778\n",
      "Low Self-Esteem: F1=0.2920, Precision=0.3846, Recall=0.2353\n",
      "Concentration Problem: F1=0.4590, Precision=0.7368, Recall=0.3333\n",
      "Self-Harm: F1=0.4308, Precision=0.4058, Recall=0.4590\n",
      "Validation Loss: 0.7055\n",
      "Validation Macro-F1: 0.4046, Weighted-F1: 0.4323\n",
      "Best model saved!\n"
     ]
    },
    {
     "name": "stdout",
     "output_type": "stream",
     "text": [
      "\n",
      "Epoch 8/30\n"
     ]
    },
    {
     "name": "stderr",
     "output_type": "stream",
     "text": [
      "Training: 100%|██████████| 546/546 [03:59<00:00,  2.28it/s]\n"
     ]
    },
    {
     "name": "stdout",
     "output_type": "stream",
     "text": [
      "Train Loss: 0.0617\n",
      "Train Macro-F1: 0.9293, Weighted-F1: 0.9315\n"
     ]
    },
    {
     "name": "stderr",
     "output_type": "stream",
     "text": [
      "Evaluating: 100%|██████████| 23/23 [00:06<00:00,  3.31it/s]\n"
     ]
    },
    {
     "name": "stdout",
     "output_type": "stream",
     "text": [
      "\n",
      "Per-class metrics:\n",
      "Lack of Interest: F1=0.2222, Precision=0.6667, Recall=0.1333\n",
      "Feeling Down: F1=0.5192, Precision=0.6923, Recall=0.4154\n",
      "Eating Disorder: F1=0.4444, Precision=0.4068, Recall=0.4898\n",
      "Sleeping Disorder: F1=0.5102, Precision=0.4717, Recall=0.5556\n",
      "Low Self-Esteem: F1=0.1714, Precision=0.4500, Recall=0.1059\n",
      "Concentration Problem: F1=0.4776, Precision=0.6400, Recall=0.3810\n",
      "Self-Harm: F1=0.3725, Precision=0.4634, Recall=0.3115\n",
      "Validation Loss: 0.8075\n",
      "Validation Macro-F1: 0.3882, Weighted-F1: 0.4087\n"
     ]
    },
    {
     "name": "stdout",
     "output_type": "stream",
     "text": [
      "\n",
      "Epoch 10/30\n"
     ]
    },
    {
     "name": "stderr",
     "output_type": "stream",
     "text": [
      "Training: 100%|██████████| 546/546 [03:59<00:00,  2.28it/s]\n"
     ]
    },
    {
     "name": "stdout",
     "output_type": "stream",
     "text": [
      "Train Loss: 0.0575\n",
      "Train Macro-F1: 0.9307, Weighted-F1: 0.9349\n"
     ]
    },
    {
     "name": "stderr",
     "output_type": "stream",
     "text": [
      "Evaluating: 100%|██████████| 23/23 [00:07<00:00,  3.15it/s]\n"
     ]
    },
    {
     "name": "stdout",
     "output_type": "stream",
     "text": [
      "\n",
      "Per-class metrics:\n",
      "Lack of Interest: F1=0.2143, Precision=0.5455, Recall=0.1333\n",
      "Feeling Down: F1=0.5204, Precision=0.6694, Recall=0.4256\n",
      "Eating Disorder: F1=0.5036, Precision=0.3889, Recall=0.7143\n",
      "Sleeping Disorder: F1=0.4854, Precision=0.4310, Recall=0.5556\n",
      "Low Self-Esteem: F1=0.1765, Precision=0.5294, Recall=0.1059\n",
      "Concentration Problem: F1=0.3793, Precision=0.6875, Recall=0.2619\n",
      "Self-Harm: F1=0.3303, Precision=0.3750, Recall=0.2951\n",
      "Validation Loss: 0.8945\n",
      "Validation Macro-F1: 0.3728, Weighted-F1: 0.3998\n"
     ]
    },
    {
     "name": "stdout",
     "output_type": "stream",
     "text": [
      "\n",
      "Epoch 11/30\n"
     ]
    },
    {
     "name": "stderr",
     "output_type": "stream",
     "text": [
      "Training: 100%|██████████| 546/546 [03:54<00:00,  2.32it/s]\n"
     ]
    },
    {
     "name": "stdout",
     "output_type": "stream",
     "text": [
      "Train Loss: 0.0567\n",
      "Train Macro-F1: 0.9343, Weighted-F1: 0.9379\n"
     ]
    },
    {
     "name": "stderr",
     "output_type": "stream",
     "text": [
      "Evaluating: 100%|██████████| 23/23 [00:07<00:00,  3.23it/s]\n"
     ]
    },
    {
     "name": "stdout",
     "output_type": "stream",
     "text": [
      "\n",
      "Per-class metrics:\n",
      "Lack of Interest: F1=0.2642, Precision=0.8750, Recall=0.1556\n",
      "Feeling Down: F1=0.5433, Precision=0.6500, Recall=0.4667\n",
      "Eating Disorder: F1=0.5000, Precision=0.5106, Recall=0.4898\n",
      "Sleeping Disorder: F1=0.3711, Precision=0.3462, Recall=0.4000\n",
      "Low Self-Esteem: F1=0.2560, Precision=0.4000, Recall=0.1882\n",
      "Concentration Problem: F1=0.5789, Precision=0.6471, Recall=0.5238\n",
      "Self-Harm: F1=0.3542, Precision=0.4857, Recall=0.2787\n",
      "Validation Loss: 0.8090\n",
      "Validation Macro-F1: 0.4097, Weighted-F1: 0.4343\n"
     ]
    },
    {
     "name": "stdout",
     "output_type": "stream",
     "text": [
      "\n",
      "Epoch 12/30\n"
     ]
    },
    {
     "name": "stderr",
     "output_type": "stream",
     "text": [
      "Training: 100%|██████████| 546/546 [03:55<00:00,  2.32it/s]\n"
     ]
    },
    {
     "name": "stdout",
     "output_type": "stream",
     "text": [
      "Train Loss: 0.0274\n",
      "Train Macro-F1: 0.9722, Weighted-F1: 0.9723\n"
     ]
    },
    {
     "name": "stderr",
     "output_type": "stream",
     "text": [
      "Evaluating: 100%|██████████| 23/23 [00:07<00:00,  3.19it/s]\n"
     ]
    },
    {
     "name": "stdout",
     "output_type": "stream",
     "text": [
      "\n",
      "Per-class metrics:\n",
      "Lack of Interest: F1=0.2222, Precision=0.6667, Recall=0.1333\n",
      "Feeling Down: F1=0.6000, Precision=0.6774, Recall=0.5385\n",
      "Eating Disorder: F1=0.4800, Precision=0.3947, Recall=0.6122\n",
      "Sleeping Disorder: F1=0.4634, Precision=0.5135, Recall=0.4222\n",
      "Low Self-Esteem: F1=0.2056, Precision=0.5000, Recall=0.1294\n",
      "Concentration Problem: F1=0.4308, Precision=0.6087, Recall=0.3333\n",
      "Self-Harm: F1=0.4000, Precision=0.6207, Recall=0.2951\n",
      "Validation Loss: 0.9103\n",
      "Validation Macro-F1: 0.4003, Weighted-F1: 0.4432\n"
     ]
    },
    {
     "name": "stdout",
     "output_type": "stream",
     "text": [
      "\n",
      "Epoch 13/30\n"
     ]
    },
    {
     "name": "stderr",
     "output_type": "stream",
     "text": [
      "Training: 100%|██████████| 546/546 [03:53<00:00,  2.34it/s]\n"
     ]
    },
    {
     "name": "stdout",
     "output_type": "stream",
     "text": [
      "Train Loss: 0.0176\n",
      "Train Macro-F1: 0.9833, Weighted-F1: 0.9827\n"
     ]
    },
    {
     "name": "stderr",
     "output_type": "stream",
     "text": [
      "Evaluating: 100%|██████████| 23/23 [00:07<00:00,  3.18it/s]\n"
     ]
    },
    {
     "name": "stdout",
     "output_type": "stream",
     "text": [
      "\n",
      "Per-class metrics:\n",
      "Lack of Interest: F1=0.2642, Precision=0.8750, Recall=0.1556\n",
      "Feeling Down: F1=0.5316, Precision=0.6942, Recall=0.4308\n",
      "Eating Disorder: F1=0.5000, Precision=0.4328, Recall=0.5918\n",
      "Sleeping Disorder: F1=0.4842, Precision=0.4600, Recall=0.5111\n",
      "Low Self-Esteem: F1=0.1443, Precision=0.5833, Recall=0.0824\n",
      "Concentration Problem: F1=0.4390, Precision=0.4500, Recall=0.4286\n",
      "Self-Harm: F1=0.3962, Precision=0.4667, Recall=0.3443\n",
      "Validation Loss: 1.0338\n",
      "Validation Macro-F1: 0.3942, Weighted-F1: 0.4152\n"
     ]
    },
    {
     "name": "stdout",
     "output_type": "stream",
     "text": [
      "\n",
      "Epoch 14/30\n"
     ]
    },
    {
     "name": "stderr",
     "output_type": "stream",
     "text": [
      "Training: 100%|██████████| 546/546 [03:58<00:00,  2.29it/s]\n"
     ]
    },
    {
     "name": "stdout",
     "output_type": "stream",
     "text": [
      "Train Loss: 0.0129\n",
      "Train Macro-F1: 0.9866, Weighted-F1: 0.9861\n"
     ]
    },
    {
     "name": "stderr",
     "output_type": "stream",
     "text": [
      "Evaluating: 100%|██████████| 23/23 [00:07<00:00,  3.22it/s]\n"
     ]
    },
    {
     "name": "stdout",
     "output_type": "stream",
     "text": [
      "\n",
      "Per-class metrics:\n",
      "Lack of Interest: F1=0.2593, Precision=0.7778, Recall=0.1556\n",
      "Feeling Down: F1=0.4934, Precision=0.6881, Recall=0.3846\n",
      "Eating Disorder: F1=0.4615, Precision=0.3971, Recall=0.5510\n",
      "Sleeping Disorder: F1=0.4615, Precision=0.4565, Recall=0.4667\n",
      "Low Self-Esteem: F1=0.1905, Precision=0.5000, Recall=0.1176\n",
      "Concentration Problem: F1=0.4578, Precision=0.4634, Recall=0.4524\n",
      "Self-Harm: F1=0.3423, Precision=0.3800, Recall=0.3115\n",
      "Validation Loss: 1.0649\n",
      "Validation Macro-F1: 0.3809, Weighted-F1: 0.3976\n"
     ]
    },
    {
     "name": "stdout",
     "output_type": "stream",
     "text": [
      "\n",
      "Epoch 15/30\n"
     ]
    },
    {
     "name": "stderr",
     "output_type": "stream",
     "text": [
      "Training: 100%|██████████| 546/546 [03:59<00:00,  2.28it/s]\n"
     ]
    },
    {
     "name": "stdout",
     "output_type": "stream",
     "text": [
      "Train Loss: 0.0082\n",
      "Train Macro-F1: 0.9901, Weighted-F1: 0.9902\n"
     ]
    },
    {
     "name": "stderr",
     "output_type": "stream",
     "text": [
      "Evaluating: 100%|██████████| 23/23 [00:07<00:00,  3.17it/s]\n"
     ]
    },
    {
     "name": "stdout",
     "output_type": "stream",
     "text": [
      "\n",
      "Per-class metrics:\n",
      "Lack of Interest: F1=0.2857, Precision=0.7273, Recall=0.1778\n",
      "Feeling Down: F1=0.5638, Precision=0.6690, Recall=0.4872\n",
      "Eating Disorder: F1=0.5472, Precision=0.5088, Recall=0.5918\n",
      "Sleeping Disorder: F1=0.5366, Precision=0.5946, Recall=0.4889\n",
      "Low Self-Esteem: F1=0.1584, Precision=0.5000, Recall=0.0941\n",
      "Concentration Problem: F1=0.5238, Precision=0.5238, Recall=0.5238\n",
      "Self-Harm: F1=0.3853, Precision=0.4375, Recall=0.3443\n",
      "Validation Loss: 0.9724\n",
      "Validation Macro-F1: 0.4287, Weighted-F1: 0.4458\n"
     ]
    },
    {
     "name": "stdout",
     "output_type": "stream",
     "text": [
      "\n",
      "Epoch 16/30\n"
     ]
    },
    {
     "name": "stderr",
     "output_type": "stream",
     "text": [
      "Training: 100%|██████████| 546/546 [03:59<00:00,  2.28it/s]\n"
     ]
    },
    {
     "name": "stdout",
     "output_type": "stream",
     "text": [
      "Train Loss: 0.0063\n",
      "Train Macro-F1: 0.9917, Weighted-F1: 0.9914\n"
     ]
    },
    {
     "name": "stderr",
     "output_type": "stream",
     "text": [
      "Evaluating: 100%|██████████| 23/23 [00:06<00:00,  3.29it/s]\n"
     ]
    },
    {
     "name": "stdout",
     "output_type": "stream",
     "text": [
      "\n",
      "Per-class metrics:\n",
      "Lack of Interest: F1=0.2807, Precision=0.6667, Recall=0.1778\n",
      "Feeling Down: F1=0.5209, Precision=0.6983, Recall=0.4154\n",
      "Eating Disorder: F1=0.4793, Precision=0.4028, Recall=0.5918\n",
      "Sleeping Disorder: F1=0.4364, Precision=0.3692, Recall=0.5333\n",
      "Low Self-Esteem: F1=0.1837, Precision=0.6923, Recall=0.1059\n",
      "Concentration Problem: F1=0.5195, Precision=0.5714, Recall=0.4762\n",
      "Self-Harm: F1=0.3750, Precision=0.5143, Recall=0.2951\n",
      "Validation Loss: 1.0663\n",
      "Validation Macro-F1: 0.3994, Weighted-F1: 0.4169\n"
     ]
    },
    {
     "name": "stdout",
     "output_type": "stream",
     "text": [
      "\n",
      "Epoch 17/30\n"
     ]
    },
    {
     "name": "stderr",
     "output_type": "stream",
     "text": [
      "Training: 100%|██████████| 546/546 [03:56<00:00,  2.31it/s]\n"
     ]
    },
    {
     "name": "stdout",
     "output_type": "stream",
     "text": [
      "Train Loss: 0.0060\n",
      "Train Macro-F1: 0.9923, Weighted-F1: 0.9918\n"
     ]
    },
    {
     "name": "stderr",
     "output_type": "stream",
     "text": [
      "Evaluating: 100%|██████████| 23/23 [00:07<00:00,  3.28it/s]\n"
     ]
    },
    {
     "name": "stdout",
     "output_type": "stream",
     "text": [
      "\n",
      "Per-class metrics:\n",
      "Lack of Interest: F1=0.2807, Precision=0.6667, Recall=0.1778\n",
      "Feeling Down: F1=0.5409, Precision=0.6992, Recall=0.4410\n",
      "Eating Disorder: F1=0.4912, Precision=0.4308, Recall=0.5714\n",
      "Sleeping Disorder: F1=0.4583, Precision=0.4314, Recall=0.4889\n",
      "Low Self-Esteem: F1=0.2243, Precision=0.5455, Recall=0.1412\n",
      "Concentration Problem: F1=0.6000, Precision=0.6316, Recall=0.5714\n",
      "Self-Harm: F1=0.3519, Precision=0.4043, Recall=0.3115\n",
      "Validation Loss: 1.0467\n",
      "Validation Macro-F1: 0.4210, Weighted-F1: 0.4378\n"
     ]
    },
    {
     "name": "stdout",
     "output_type": "stream",
     "text": [
      "\n",
      "Epoch 18/30\n"
     ]
    },
    {
     "name": "stderr",
     "output_type": "stream",
     "text": [
      "Training: 100%|██████████| 546/546 [03:56<00:00,  2.31it/s]\n"
     ]
    },
    {
     "name": "stdout",
     "output_type": "stream",
     "text": [
      "Train Loss: 0.0050\n",
      "Train Macro-F1: 0.9915, Weighted-F1: 0.9916\n"
     ]
    },
    {
     "name": "stderr",
     "output_type": "stream",
     "text": [
      "Evaluating: 100%|██████████| 23/23 [00:07<00:00,  3.28it/s]\n"
     ]
    },
    {
     "name": "stdout",
     "output_type": "stream",
     "text": [
      "\n",
      "Per-class metrics:\n",
      "Lack of Interest: F1=0.2857, Precision=0.7273, Recall=0.1778\n",
      "Feeling Down: F1=0.5477, Precision=0.6846, Recall=0.4564\n",
      "Eating Disorder: F1=0.4870, Precision=0.4242, Recall=0.5714\n",
      "Sleeping Disorder: F1=0.4565, Precision=0.4468, Recall=0.4667\n",
      "Low Self-Esteem: F1=0.1942, Precision=0.5556, Recall=0.1176\n",
      "Concentration Problem: F1=0.5854, Precision=0.6000, Recall=0.5714\n",
      "Self-Harm: F1=0.3366, Precision=0.4250, Recall=0.2787\n",
      "Validation Loss: 1.0543\n",
      "Validation Macro-F1: 0.4133, Weighted-F1: 0.4323\n"
     ]
    },
    {
     "name": "stdout",
     "output_type": "stream",
     "text": [
      "\n",
      "Epoch 19/30\n"
     ]
    },
    {
     "name": "stderr",
     "output_type": "stream",
     "text": [
      "Training: 100%|██████████| 546/546 [03:56<00:00,  2.31it/s]\n"
     ]
    },
    {
     "name": "stdout",
     "output_type": "stream",
     "text": [
      "Train Loss: 0.0045\n",
      "Train Macro-F1: 0.9925, Weighted-F1: 0.9927\n"
     ]
    },
    {
     "name": "stderr",
     "output_type": "stream",
     "text": [
      "Evaluating: 100%|██████████| 23/23 [00:07<00:00,  3.26it/s]\n"
     ]
    },
    {
     "name": "stdout",
     "output_type": "stream",
     "text": [
      "\n",
      "Per-class metrics:\n",
      "Lack of Interest: F1=0.2857, Precision=0.7273, Recall=0.1778\n",
      "Feeling Down: F1=0.4800, Precision=0.6857, Recall=0.3692\n",
      "Eating Disorder: F1=0.4828, Precision=0.4179, Recall=0.5714\n",
      "Sleeping Disorder: F1=0.4386, Precision=0.3623, Recall=0.5556\n",
      "Low Self-Esteem: F1=0.1748, Precision=0.5000, Recall=0.1059\n",
      "Concentration Problem: F1=0.5385, Precision=0.5833, Recall=0.5000\n",
      "Self-Harm: F1=0.3654, Precision=0.4419, Recall=0.3115\n",
      "Validation Loss: 1.1174\n",
      "Validation Macro-F1: 0.3951, Weighted-F1: 0.4015\n"
     ]
    },
    {
     "name": "stdout",
     "output_type": "stream",
     "text": [
      "\n",
      "Epoch 20/30\n"
     ]
    },
    {
     "name": "stderr",
     "output_type": "stream",
     "text": [
      "Training: 100%|██████████| 546/546 [03:52<00:00,  2.35it/s]\n"
     ]
    },
    {
     "name": "stdout",
     "output_type": "stream",
     "text": [
      "Train Loss: 0.0048\n",
      "Train Macro-F1: 0.9921, Weighted-F1: 0.9920\n"
     ]
    },
    {
     "name": "stderr",
     "output_type": "stream",
     "text": [
      "Evaluating: 100%|██████████| 23/23 [00:07<00:00,  3.28it/s]\n"
     ]
    },
    {
     "name": "stdout",
     "output_type": "stream",
     "text": [
      "\n",
      "Per-class metrics:\n",
      "Lack of Interest: F1=0.2857, Precision=0.7273, Recall=0.1778\n",
      "Feeling Down: F1=0.5646, Precision=0.6812, Recall=0.4821\n",
      "Eating Disorder: F1=0.4865, Precision=0.4355, Recall=0.5510\n",
      "Sleeping Disorder: F1=0.4681, Precision=0.4490, Recall=0.4889\n",
      "Low Self-Esteem: F1=0.1942, Precision=0.5556, Recall=0.1176\n",
      "Concentration Problem: F1=0.5854, Precision=0.6000, Recall=0.5714\n",
      "Self-Harm: F1=0.3400, Precision=0.4359, Recall=0.2787\n",
      "Validation Loss: 1.0604\n",
      "Validation Macro-F1: 0.4178, Weighted-F1: 0.4400\n"
     ]
    },
    {
     "name": "stdout",
     "output_type": "stream",
     "text": [
      "\n",
      "Epoch 21/30\n"
     ]
    },
    {
     "name": "stderr",
     "output_type": "stream",
     "text": [
      "Training: 100%|██████████| 546/546 [03:54<00:00,  2.32it/s]\n"
     ]
    },
    {
     "name": "stdout",
     "output_type": "stream",
     "text": [
      "Train Loss: 0.0041\n",
      "Train Macro-F1: 0.9928, Weighted-F1: 0.9927\n"
     ]
    },
    {
     "name": "stderr",
     "output_type": "stream",
     "text": [
      "Evaluating: 100%|██████████| 23/23 [00:06<00:00,  3.35it/s]\n"
     ]
    },
    {
     "name": "stdout",
     "output_type": "stream",
     "text": [
      "\n",
      "Per-class metrics:\n",
      "Lack of Interest: F1=0.2857, Precision=0.7273, Recall=0.1778\n",
      "Feeling Down: F1=0.5017, Precision=0.7212, Recall=0.3846\n",
      "Eating Disorder: F1=0.4706, Precision=0.4000, Recall=0.5714\n",
      "Sleeping Disorder: F1=0.4946, Precision=0.4792, Recall=0.5111\n",
      "Low Self-Esteem: F1=0.1633, Precision=0.6154, Recall=0.0941\n",
      "Concentration Problem: F1=0.5714, Precision=0.5714, Recall=0.5714\n",
      "Self-Harm: F1=0.3853, Precision=0.4375, Recall=0.3443\n",
      "Validation Loss: 1.1261\n",
      "Validation Macro-F1: 0.4104, Weighted-F1: 0.4164\n"
     ]
    },
    {
     "name": "stdout",
     "output_type": "stream",
     "text": [
      "\n",
      "Epoch 22/30\n"
     ]
    },
    {
     "name": "stderr",
     "output_type": "stream",
     "text": [
      "Training: 100%|██████████| 546/546 [03:55<00:00,  2.32it/s]\n"
     ]
    },
    {
     "name": "stdout",
     "output_type": "stream",
     "text": [
      "Train Loss: 0.0039\n",
      "Train Macro-F1: 0.9928, Weighted-F1: 0.9928\n"
     ]
    },
    {
     "name": "stderr",
     "output_type": "stream",
     "text": [
      "Evaluating: 100%|██████████| 23/23 [00:06<00:00,  3.32it/s]\n"
     ]
    },
    {
     "name": "stdout",
     "output_type": "stream",
     "text": [
      "\n",
      "Per-class metrics:\n",
      "Lack of Interest: F1=0.2857, Precision=0.7273, Recall=0.1778\n",
      "Feeling Down: F1=0.5083, Precision=0.7130, Recall=0.3949\n",
      "Eating Disorder: F1=0.4912, Precision=0.4308, Recall=0.5714\n",
      "Sleeping Disorder: F1=0.4466, Precision=0.3966, Recall=0.5111\n",
      "Low Self-Esteem: F1=0.1782, Precision=0.5625, Recall=0.1059\n",
      "Concentration Problem: F1=0.5185, Precision=0.5385, Recall=0.5000\n",
      "Self-Harm: F1=0.3495, Precision=0.4286, Recall=0.2951\n",
      "Validation Loss: 1.1194\n",
      "Validation Macro-F1: 0.3969, Weighted-F1: 0.4107\n"
     ]
    },
    {
     "name": "stdout",
     "output_type": "stream",
     "text": [
      "\n",
      "Epoch 23/30\n"
     ]
    },
    {
     "name": "stderr",
     "output_type": "stream",
     "text": [
      "Training: 100%|██████████| 546/546 [03:54<00:00,  2.32it/s]\n"
     ]
    },
    {
     "name": "stdout",
     "output_type": "stream",
     "text": [
      "Train Loss: 0.0040\n",
      "Train Macro-F1: 0.9917, Weighted-F1: 0.9919\n"
     ]
    },
    {
     "name": "stderr",
     "output_type": "stream",
     "text": [
      "Evaluating: 100%|██████████| 23/23 [00:07<00:00,  3.27it/s]\n"
     ]
    },
    {
     "name": "stdout",
     "output_type": "stream",
     "text": [
      "\n",
      "Per-class metrics:\n",
      "Lack of Interest: F1=0.2857, Precision=0.7273, Recall=0.1778\n",
      "Feeling Down: F1=0.5304, Precision=0.7034, Recall=0.4256\n",
      "Eating Disorder: F1=0.4696, Precision=0.4091, Recall=0.5510\n",
      "Sleeping Disorder: F1=0.5287, Precision=0.5476, Recall=0.5111\n",
      "Low Self-Esteem: F1=0.1633, Precision=0.6154, Recall=0.0941\n",
      "Concentration Problem: F1=0.5610, Precision=0.5750, Recall=0.5476\n",
      "Self-Harm: F1=0.3636, Precision=0.4082, Recall=0.3279\n",
      "Validation Loss: 1.1131\n",
      "Validation Macro-F1: 0.4146, Weighted-F1: 0.4266\n"
     ]
    },
    {
     "name": "stdout",
     "output_type": "stream",
     "text": [
      "\n",
      "Epoch 24/30\n"
     ]
    },
    {
     "name": "stderr",
     "output_type": "stream",
     "text": [
      "Training: 100%|██████████| 546/546 [03:53<00:00,  2.34it/s]\n"
     ]
    },
    {
     "name": "stdout",
     "output_type": "stream",
     "text": [
      "Train Loss: 0.0037\n",
      "Train Macro-F1: 0.9935, Weighted-F1: 0.9930\n"
     ]
    },
    {
     "name": "stderr",
     "output_type": "stream",
     "text": [
      "Evaluating: 100%|██████████| 23/23 [00:06<00:00,  3.32it/s]\n"
     ]
    },
    {
     "name": "stdout",
     "output_type": "stream",
     "text": [
      "\n",
      "Per-class metrics:\n",
      "Lack of Interest: F1=0.2857, Precision=0.7273, Recall=0.1778\n",
      "Feeling Down: F1=0.5256, Precision=0.7009, Recall=0.4205\n",
      "Eating Disorder: F1=0.4696, Precision=0.4091, Recall=0.5510\n",
      "Sleeping Disorder: F1=0.4742, Precision=0.4423, Recall=0.5111\n",
      "Low Self-Esteem: F1=0.1600, Precision=0.5333, Recall=0.0941\n",
      "Concentration Problem: F1=0.5366, Precision=0.5500, Recall=0.5238\n",
      "Self-Harm: F1=0.3495, Precision=0.4286, Recall=0.2951\n",
      "Validation Loss: 1.1173\n",
      "Validation Macro-F1: 0.4002, Weighted-F1: 0.4160\n"
     ]
    },
    {
     "name": "stdout",
     "output_type": "stream",
     "text": [
      "\n",
      "Epoch 25/30\n"
     ]
    },
    {
     "name": "stderr",
     "output_type": "stream",
     "text": [
      "Training: 100%|██████████| 546/546 [03:52<00:00,  2.35it/s]\n"
     ]
    },
    {
     "name": "stdout",
     "output_type": "stream",
     "text": [
      "Train Loss: 0.0037\n",
      "Train Macro-F1: 0.9931, Weighted-F1: 0.9930\n"
     ]
    },
    {
     "name": "stderr",
     "output_type": "stream",
     "text": [
      "Evaluating: 100%|██████████| 23/23 [00:06<00:00,  3.32it/s]\n"
     ]
    },
    {
     "name": "stdout",
     "output_type": "stream",
     "text": [
      "\n",
      "Per-class metrics:\n",
      "Lack of Interest: F1=0.2857, Precision=0.7273, Recall=0.1778\n",
      "Feeling Down: F1=0.4966, Precision=0.7184, Recall=0.3795\n",
      "Eating Disorder: F1=0.4590, Precision=0.3836, Recall=0.5714\n",
      "Sleeping Disorder: F1=0.4842, Precision=0.4600, Recall=0.5111\n",
      "Low Self-Esteem: F1=0.1782, Precision=0.5625, Recall=0.1059\n",
      "Concentration Problem: F1=0.5250, Precision=0.5526, Recall=0.5000\n",
      "Self-Harm: F1=0.3429, Precision=0.4091, Recall=0.2951\n",
      "Validation Loss: 1.1460\n",
      "Validation Macro-F1: 0.3960, Weighted-F1: 0.4063\n"
     ]
    },
    {
     "name": "stdout",
     "output_type": "stream",
     "text": [
      "\n",
      "Epoch 26/30\n"
     ]
    },
    {
     "name": "stderr",
     "output_type": "stream",
     "text": [
      "Training: 100%|██████████| 546/546 [03:52<00:00,  2.35it/s]\n"
     ]
    },
    {
     "name": "stdout",
     "output_type": "stream",
     "text": [
      "Train Loss: 0.0037\n",
      "Train Macro-F1: 0.9935, Weighted-F1: 0.9933\n"
     ]
    },
    {
     "name": "stderr",
     "output_type": "stream",
     "text": [
      "Evaluating: 100%|██████████| 23/23 [00:06<00:00,  3.32it/s]\n"
     ]
    },
    {
     "name": "stdout",
     "output_type": "stream",
     "text": [
      "\n",
      "Per-class metrics:\n",
      "Lack of Interest: F1=0.2857, Precision=0.7273, Recall=0.1778\n",
      "Feeling Down: F1=0.5321, Precision=0.7094, Recall=0.4256\n",
      "Eating Disorder: F1=0.4655, Precision=0.4030, Recall=0.5510\n",
      "Sleeping Disorder: F1=0.4742, Precision=0.4423, Recall=0.5111\n",
      "Low Self-Esteem: F1=0.1600, Precision=0.5333, Recall=0.0941\n",
      "Concentration Problem: F1=0.5316, Precision=0.5676, Recall=0.5000\n",
      "Self-Harm: F1=0.3529, Precision=0.4390, Recall=0.2951\n",
      "Validation Loss: 1.1270\n",
      "Validation Macro-F1: 0.4003, Weighted-F1: 0.4180\n"
     ]
    },
    {
     "name": "stdout",
     "output_type": "stream",
     "text": [
      "\n",
      "Epoch 27/30\n"
     ]
    },
    {
     "name": "stderr",
     "output_type": "stream",
     "text": [
      "Training: 100%|██████████| 546/546 [03:55<00:00,  2.32it/s]\n"
     ]
    },
    {
     "name": "stdout",
     "output_type": "stream",
     "text": [
      "Train Loss: 0.0035\n",
      "Train Macro-F1: 0.9936, Weighted-F1: 0.9937\n"
     ]
    },
    {
     "name": "stderr",
     "output_type": "stream",
     "text": [
      "Evaluating: 100%|██████████| 23/23 [00:07<00:00,  3.26it/s]\n"
     ]
    },
    {
     "name": "stdout",
     "output_type": "stream",
     "text": [
      "\n",
      "Per-class metrics:\n",
      "Lack of Interest: F1=0.2857, Precision=0.7273, Recall=0.1778\n",
      "Feeling Down: F1=0.5180, Precision=0.7182, Recall=0.4051\n",
      "Eating Disorder: F1=0.4667, Precision=0.3944, Recall=0.5714\n",
      "Sleeping Disorder: F1=0.4742, Precision=0.4423, Recall=0.5111\n",
      "Low Self-Esteem: F1=0.1600, Precision=0.5333, Recall=0.0941\n",
      "Concentration Problem: F1=0.5316, Precision=0.5676, Recall=0.5000\n",
      "Self-Harm: F1=0.3462, Precision=0.4186, Recall=0.2951\n",
      "Validation Loss: 1.1407\n",
      "Validation Macro-F1: 0.3975, Weighted-F1: 0.4121\n"
     ]
    },
    {
     "name": "stdout",
     "output_type": "stream",
     "text": [
      "\n",
      "Epoch 28/30\n"
     ]
    },
    {
     "name": "stderr",
     "output_type": "stream",
     "text": [
      "Training: 100%|██████████| 546/546 [03:52<00:00,  2.34it/s]\n"
     ]
    },
    {
     "name": "stdout",
     "output_type": "stream",
     "text": [
      "Train Loss: 0.0035\n",
      "Train Macro-F1: 0.9938, Weighted-F1: 0.9935\n"
     ]
    },
    {
     "name": "stderr",
     "output_type": "stream",
     "text": [
      "Evaluating: 100%|██████████| 23/23 [00:06<00:00,  3.34it/s]\n"
     ]
    },
    {
     "name": "stdout",
     "output_type": "stream",
     "text": [
      "\n",
      "Per-class metrics:\n",
      "Lack of Interest: F1=0.2857, Precision=0.7273, Recall=0.1778\n",
      "Feeling Down: F1=0.5084, Precision=0.7308, Recall=0.3897\n",
      "Eating Disorder: F1=0.4793, Precision=0.4028, Recall=0.5918\n",
      "Sleeping Disorder: F1=0.4694, Precision=0.4340, Recall=0.5111\n",
      "Low Self-Esteem: F1=0.1600, Precision=0.5333, Recall=0.0941\n",
      "Concentration Problem: F1=0.5316, Precision=0.5676, Recall=0.5000\n",
      "Self-Harm: F1=0.3429, Precision=0.4091, Recall=0.2951\n",
      "Validation Loss: 1.1525\n",
      "Validation Macro-F1: 0.3968, Weighted-F1: 0.4089\n"
     ]
    },
    {
     "name": "stdout",
     "output_type": "stream",
     "text": [
      "\n",
      "Epoch 29/30\n"
     ]
    },
    {
     "name": "stderr",
     "output_type": "stream",
     "text": [
      "Training: 100%|██████████| 546/546 [03:53<00:00,  2.34it/s]\n"
     ]
    },
    {
     "name": "stdout",
     "output_type": "stream",
     "text": [
      "Train Loss: 0.0035\n",
      "Train Macro-F1: 0.9937, Weighted-F1: 0.9935\n"
     ]
    },
    {
     "name": "stderr",
     "output_type": "stream",
     "text": [
      "Evaluating: 100%|██████████| 23/23 [00:06<00:00,  3.29it/s]\n"
     ]
    },
    {
     "name": "stdout",
     "output_type": "stream",
     "text": [
      "\n",
      "Per-class metrics:\n",
      "Lack of Interest: F1=0.2857, Precision=0.7273, Recall=0.1778\n",
      "Feeling Down: F1=0.5212, Precision=0.7143, Recall=0.4103\n",
      "Eating Disorder: F1=0.4754, Precision=0.3973, Recall=0.5918\n",
      "Sleeping Disorder: F1=0.4742, Precision=0.4423, Recall=0.5111\n",
      "Low Self-Esteem: F1=0.1600, Precision=0.5333, Recall=0.0941\n",
      "Concentration Problem: F1=0.5316, Precision=0.5676, Recall=0.5000\n",
      "Self-Harm: F1=0.3462, Precision=0.4186, Recall=0.2951\n",
      "Validation Loss: 1.1439\n",
      "Validation Macro-F1: 0.3992, Weighted-F1: 0.4141\n"
     ]
    },
    {
     "name": "stdout",
     "output_type": "stream",
     "text": [
      "\n",
      "Epoch 30/30\n"
     ]
    },
    {
     "name": "stderr",
     "output_type": "stream",
     "text": [
      "Training: 100%|██████████| 546/546 [03:54<00:00,  2.32it/s]\n"
     ]
    },
    {
     "name": "stdout",
     "output_type": "stream",
     "text": [
      "Train Loss: 0.0033\n",
      "Train Macro-F1: 0.9939, Weighted-F1: 0.9943\n"
     ]
    },
    {
     "name": "stderr",
     "output_type": "stream",
     "text": [
      "Evaluating: 100%|██████████| 23/23 [00:06<00:00,  3.32it/s]\n"
     ]
    },
    {
     "name": "stdout",
     "output_type": "stream",
     "text": [
      "\n",
      "Per-class metrics:\n",
      "Lack of Interest: F1=0.2857, Precision=0.7273, Recall=0.1778\n",
      "Feeling Down: F1=0.5246, Precision=0.7273, Recall=0.4103\n",
      "Eating Disorder: F1=0.4793, Precision=0.4028, Recall=0.5918\n",
      "Sleeping Disorder: F1=0.4792, Precision=0.4510, Recall=0.5111\n",
      "Low Self-Esteem: F1=0.1600, Precision=0.5333, Recall=0.0941\n",
      "Concentration Problem: F1=0.5316, Precision=0.5676, Recall=0.5000\n",
      "Self-Harm: F1=0.3429, Precision=0.4091, Recall=0.2951\n",
      "Validation Loss: 1.1460\n",
      "Validation Macro-F1: 0.4005, Weighted-F1: 0.4158\n"
     ]
    }
   ],
   "source": [
    "model = ImageOnlyModel(\n",
    "    num_classes=NUM_CLASSES,\n",
    "    fusion_dim=FUSION_DIM\n",
    ")\n",
    "\n",
    "trained_model = train_image_only_model(\n",
    "    model,\n",
    "    train_data,\n",
    "    val_data,\n",
    "    img_path,\n",
    "    epochs=30,\n",
    "    model_save_name=\"only_image\"\n",
    ")"
   ]
  },
  {
   "cell_type": "markdown",
   "metadata": {},
   "source": [
    "## Inference"
   ]
  },
  {
   "cell_type": "code",
   "execution_count": 20,
   "metadata": {
    "execution": {
     "iopub.execute_input": "2025-04-15T00:49:57.063748Z",
     "iopub.status.busy": "2025-04-15T00:49:57.062996Z",
     "iopub.status.idle": "2025-04-15T00:50:09.992123Z",
     "shell.execute_reply": "2025-04-15T00:50:09.991411Z",
     "shell.execute_reply.started": "2025-04-15T00:49:57.063723Z"
    },
    "id": "eDNiozyr5qny",
    "trusted": true
   },
   "outputs": [
    {
     "name": "stdout",
     "output_type": "stream",
     "text": [
      "Downloading...\n",
      "From (original): https://drive.google.com/uc?id=14hFndYWBAr5sHKU1PTb1V0jCcnJmdxj6\n",
      "From (redirected): https://drive.google.com/uc?id=14hFndYWBAr5sHKU1PTb1V0jCcnJmdxj6&confirm=t&uuid=7b981daa-ae0c-4ccc-899f-a0eadcbcc2d8\n",
      "To: /kaggle/working/only_image_depression.pth\n",
      "100%|████████████████████████████████████████| 357M/357M [00:08<00:00, 43.8MB/s]\n"
     ]
    }
   ],
   "source": [
    "!gdown 14hFndYWBAr5sHKU1PTb1V0jCcnJmdxj6"
   ]
  },
  {
   "cell_type": "code",
   "execution_count": 21,
   "metadata": {
    "execution": {
     "iopub.execute_input": "2025-04-15T00:50:09.993859Z",
     "iopub.status.busy": "2025-04-15T00:50:09.993606Z",
     "iopub.status.idle": "2025-04-15T00:50:10.000648Z",
     "shell.execute_reply": "2025-04-15T00:50:09.999915Z",
     "shell.execute_reply.started": "2025-04-15T00:50:09.993836Z"
    },
    "id": "MYFwx-nb5qny",
    "trusted": true
   },
   "outputs": [],
   "source": [
    "def inference(test_data, model_path):\n",
    "    model = ImageOnlyModel(\n",
    "        num_classes=NUM_CLASSES,\n",
    "        fusion_dim=FUSION_DIM\n",
    "    )\n",
    "        \n",
    "    model = model.to(DEVICE)\n",
    "\n",
    "    weights = torch.load(model_path, map_location=DEVICE, weights_only=True)\n",
    "    weights_single = {k.replace(\"module.\", \"\"): v for k, v in weights.items()}\n",
    "\n",
    "    model.load_state_dict(weights_single)\n",
    "\n",
    "    image_processor = CLIPImageProcessor.from_pretrained(\"openai/clip-vit-base-patch32\")\n",
    "\n",
    "    test_dataset = ImageOnlyDepressionDataset(test_data, os.path.join(img_path, \"test\"), image_processor)\n",
    "    test_loader = DataLoader(\n",
    "        test_dataset,\n",
    "        batch_size=BATCH_SIZE,\n",
    "        shuffle=False,\n",
    "        collate_fn=custom_collate_fn\n",
    "    )\n",
    "\n",
    "    loss, metrics = evaluate_image_only_model(\n",
    "        model, test_loader, nn.BCEWithLogitsLoss()\n",
    "    )\n",
    "\n",
    "    print(f\"Test Loss: {loss:.4f}\")\n",
    "    print(f\"Test Macro-F1: {metrics['macro_f1']:.4f}, Weighted-F1: {metrics['weighted_f1']:.4f}\")"
   ]
  },
  {
   "cell_type": "code",
   "execution_count": 23,
   "metadata": {
    "execution": {
     "iopub.execute_input": "2025-04-15T00:52:10.026411Z",
     "iopub.status.busy": "2025-04-15T00:52:10.025661Z",
     "iopub.status.idle": "2025-04-15T00:52:21.531936Z",
     "shell.execute_reply": "2025-04-15T00:52:21.531066Z",
     "shell.execute_reply.started": "2025-04-15T00:52:10.026386Z"
    },
    "trusted": true
   },
   "outputs": [
    {
     "name": "stderr",
     "output_type": "stream",
     "text": [
      "Evaluating: 100%|██████████| 33/33 [00:10<00:00,  3.14it/s]"
     ]
    },
    {
     "name": "stdout",
     "output_type": "stream",
     "text": [
      "\n",
      "Per-class metrics:\n",
      "Lack of Interest: F1=0.2222, Precision=0.5263, Recall=0.1408\n",
      "Feeling Down: F1=0.5492, Precision=0.6310, Recall=0.4862\n",
      "Eating Disorder: F1=0.4113, Precision=0.5918, Recall=0.3152\n",
      "Sleeping Disorder: F1=0.5037, Precision=0.6071, Recall=0.4304\n",
      "Low Self-Esteem: F1=0.2152, Precision=0.3864, Recall=0.1491\n",
      "Concentration Problem: F1=0.7009, Precision=0.8039, Recall=0.6212\n",
      "Self-Harm: F1=0.3284, Precision=0.2750, Recall=0.4074\n",
      "Test Loss: 0.7051\n",
      "Test Macro-F1: 0.4187, Weighted-F1: 0.4307\n"
     ]
    },
    {
     "name": "stderr",
     "output_type": "stream",
     "text": [
      "\n"
     ]
    }
   ],
   "source": [
    "inference(test_data, \"only_image_depression.pth\")"
   ]
  },
  {
   "cell_type": "code",
   "execution_count": null,
   "metadata": {
    "trusted": true
   },
   "outputs": [],
   "source": []
  }
 ],
 "metadata": {
  "colab": {
   "name": "depression-ablation-without_img_enc_contrastive",
   "provenance": []
  },
  "kaggle": {
   "accelerator": "nvidiaTeslaT4",
   "dataSources": [],
   "dockerImageVersionId": 31011,
   "isGpuEnabled": true,
   "isInternetEnabled": true,
   "language": "python",
   "sourceType": "notebook"
  },
  "kernelspec": {
   "display_name": "Python 3",
   "language": "python",
   "name": "python3"
  },
  "language_info": {
   "codemirror_mode": {
    "name": "ipython",
    "version": 3
   },
   "file_extension": ".py",
   "mimetype": "text/x-python",
   "name": "python",
   "nbconvert_exporter": "python",
   "pygments_lexer": "ipython3",
   "version": "3.11.11"
  }
 },
 "nbformat": 4,
 "nbformat_minor": 4
}
