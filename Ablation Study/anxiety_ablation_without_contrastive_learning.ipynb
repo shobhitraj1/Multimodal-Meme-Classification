{
 "cells": [
  {
   "cell_type": "markdown",
   "metadata": {},
   "source": [
    "## Dataset Download"
   ]
  },
  {
   "cell_type": "code",
   "execution_count": 1,
   "metadata": {
    "execution": {
     "iopub.execute_input": "2025-04-14T20:51:03.205911Z",
     "iopub.status.busy": "2025-04-14T20:51:03.205704Z",
     "iopub.status.idle": "2025-04-14T20:51:38.829257Z",
     "shell.execute_reply": "2025-04-14T20:51:38.828614Z",
     "shell.execute_reply.started": "2025-04-14T20:51:03.205867Z"
    },
    "id": "dBaJArLZaOFp",
    "outputId": "e915c5a0-aa63-4e1b-f636-1a5d325b05c5",
    "trusted": true
   },
   "outputs": [
    {
     "name": "stdout",
     "output_type": "stream",
     "text": [
      "Downloading...\n",
      "From (original): https://drive.google.com/uc?id=1doU9FE1tJ-0IL4tKZUOOp76JkXKuTkFU\n",
      "From (redirected): https://drive.google.com/uc?id=1doU9FE1tJ-0IL4tKZUOOp76JkXKuTkFU&confirm=t&uuid=9749e577-5267-4601-8b6e-08c110657b91\n",
      "To: /kaggle/working/anxiety_dataset_complete.zip\n",
      "100%|██████████████████████████████████████| 1.41G/1.41G [00:31<00:00, 45.4MB/s]\n"
     ]
    }
   ],
   "source": [
    "!gdown 1doU9FE1tJ-0IL4tKZUOOp76JkXKuTkFU"
   ]
  },
  {
   "cell_type": "code",
   "execution_count": 2,
   "metadata": {
    "execution": {
     "iopub.execute_input": "2025-04-14T20:51:38.830374Z",
     "iopub.status.busy": "2025-04-14T20:51:38.830140Z",
     "iopub.status.idle": "2025-04-14T20:51:54.298468Z",
     "shell.execute_reply": "2025-04-14T20:51:54.297443Z",
     "shell.execute_reply.started": "2025-04-14T20:51:38.830345Z"
    },
    "id": "IbGEfxrIaOFq",
    "trusted": true
   },
   "outputs": [],
   "source": [
    "!unzip anxiety_dataset_complete.zip > /dev/null"
   ]
  },
  {
   "cell_type": "code",
   "execution_count": null,
   "metadata": {
    "execution": {
     "iopub.execute_input": "2025-04-14T20:52:23.270389Z",
     "iopub.status.busy": "2025-04-14T20:52:23.270068Z",
     "iopub.status.idle": "2025-04-14T20:52:23.276036Z",
     "shell.execute_reply": "2025-04-14T20:52:23.275398Z",
     "shell.execute_reply.started": "2025-04-14T20:52:23.270367Z"
    },
    "trusted": true
   },
   "outputs": [],
   "source": [
    "import os\n",
    "import torch\n",
    "import torch.nn as nn\n",
    "import torch.optim as optim\n",
    "import torch.nn.functional as F\n",
    "from torch.utils.data import Dataset, DataLoader\n",
    "from torchvision import transforms\n",
    "from transformers import AutoTokenizer, AutoModel, CLIPImageProcessor, CLIPVisionModel\n",
    "from sklearn.metrics import f1_score, classification_report\n",
    "from sklearn.model_selection import train_test_split\n",
    "from tqdm import tqdm\n",
    "from PIL import Image\n",
    "import json\n",
    "import math\n",
    "\n",
    "TRAIN_RATIO = 0.7  # 70% train\n",
    "VAL_RATIO = 0.1  # 10% validation\n",
    "TEST_RATIO = 0.2 # 20% test\n",
    "DEVICE = torch.device(\"cuda\" if torch.cuda.is_available() else \"cpu\")\n",
    "BATCH_SIZE = 16\n",
    "LR = 2e-5\n",
    "MAX_LEN = 512\n",
    "FUSION_DIM = 768\n",
    "LABELS = [\"Nervousness\", \"Lack of Worry Control\", \"Excessive Worry\",\n",
    "          \"Difficulty Relaxing\", \"Restlessness\", \"Impending Doom\"]\n",
    "LABEL_MAP = {i: idx for idx, i in enumerate(LABELS)} "
   ]
  },
  {
   "cell_type": "markdown",
   "metadata": {},
   "source": [
    "## Custom Dataset"
   ]
  },
  {
   "cell_type": "code",
   "execution_count": 6,
   "metadata": {
    "execution": {
     "iopub.execute_input": "2025-04-14T20:52:25.834657Z",
     "iopub.status.busy": "2025-04-14T20:52:25.834176Z",
     "iopub.status.idle": "2025-04-14T20:52:25.842855Z",
     "shell.execute_reply": "2025-04-14T20:52:25.842151Z",
     "shell.execute_reply.started": "2025-04-14T20:52:25.834630Z"
    },
    "id": "umr8W5FhaOFq",
    "outputId": "4214e988-3391-465e-e12a-0100c71436d8",
    "trusted": true
   },
   "outputs": [],
   "source": [
    "class MultimodalAnxietyDataset(Dataset):\n",
    "    def __init__(self, data, image_path, tokenizer, image_processor, max_len=512):\n",
    "        self.data = data\n",
    "        self.tokenizer = tokenizer\n",
    "        self.image_processor = image_processor\n",
    "        self.max_len = max_len\n",
    "        self.img_path = image_path\n",
    "        self.transform = transforms.Compose([\n",
    "            transforms.Resize((224, 224)),\n",
    "            transforms.ToTensor(),\n",
    "            transforms.Normalize(mean=[0.485, 0.456, 0.406], std=[0.229, 0.224, 0.225])\n",
    "        ])\n",
    "\n",
    "    def __len__(self):\n",
    "        return len(self.data)\n",
    "\n",
    "    def __getitem__(self, idx):\n",
    "        sample = self.data[idx]\n",
    "\n",
    "        ocr_text = sample[\"ocr_text\"]\n",
    "        figurative_reasoning = sample[\"figurative_reasoning\"]\n",
    "        combined_text = ocr_text + \" [SEP] \" + figurative_reasoning\n",
    "\n",
    "        encoding = self.tokenizer(\n",
    "            combined_text,\n",
    "            padding=\"max_length\",\n",
    "            truncation=True,\n",
    "            max_length=self.max_len,\n",
    "            return_tensors=\"pt\",\n",
    "        )\n",
    "\n",
    "        image_path = os.path.join(self.img_path, sample[\"sample_id\"] + \".jpg\")\n",
    "        image = Image.open(image_path).convert(\"RGB\")\n",
    "        image_tensor = self.image_processor(image, return_tensors=\"pt\")\n",
    "\n",
    "        label = LABEL_MAP[sample[\"meme_anxiety_category\"]]\n",
    "\n",
    "        return {\n",
    "            \"input_ids\": encoding[\"input_ids\"].squeeze(0),\n",
    "            \"attention_mask\": encoding[\"attention_mask\"].squeeze(0),\n",
    "            \"image\": image_tensor,\n",
    "            \"label\": torch.tensor(label, dtype=torch.long)\n",
    "        }\n",
    "\n",
    "def custom_collate_fn(batch):\n",
    "    input_ids = torch.stack([item['input_ids'] for item in batch])\n",
    "    attention_mask = torch.stack([item['attention_mask'] for item in batch])\n",
    "    labels = torch.stack([item['label'] for item in batch])\n",
    "\n",
    "    images = {}\n",
    "    for key in batch[0]['image'].keys():\n",
    "        if isinstance(batch[0]['image'][key], torch.Tensor):\n",
    "            images[key] = torch.stack([item['image'][key].squeeze(0) for item in batch])\n",
    "\n",
    "    return {\n",
    "        'input_ids': input_ids,\n",
    "        'attention_mask': attention_mask,\n",
    "        'image': images,\n",
    "        'label': labels,\n",
    "    }"
   ]
  },
  {
   "cell_type": "markdown",
   "metadata": {},
   "source": [
    "## Model Definition"
   ]
  },
  {
   "cell_type": "code",
   "execution_count": 7,
   "metadata": {
    "execution": {
     "iopub.execute_input": "2025-04-14T20:52:26.386333Z",
     "iopub.status.busy": "2025-04-14T20:52:26.385640Z",
     "iopub.status.idle": "2025-04-14T20:52:26.402388Z",
     "shell.execute_reply": "2025-04-14T20:52:26.401671Z",
     "shell.execute_reply.started": "2025-04-14T20:52:26.386298Z"
    },
    "id": "kIDOiy1MaOFr",
    "trusted": true
   },
   "outputs": [],
   "source": [
    "class CrossAttentionLayer(nn.Module):\n",
    "    def __init__(self, hidden_size, num_attention_heads=8, dropout=0.1):\n",
    "        super().__init__()\n",
    "        self.num_attention_heads = num_attention_heads\n",
    "        self.attention_head_size = hidden_size // num_attention_heads\n",
    "        self.all_head_size = self.num_attention_heads * self.attention_head_size\n",
    "\n",
    "        self.query = nn.Linear(hidden_size, self.all_head_size)\n",
    "        self.key = nn.Linear(hidden_size, self.all_head_size)\n",
    "        self.value = nn.Linear(hidden_size, self.all_head_size)\n",
    "\n",
    "        self.output = nn.Linear(hidden_size, hidden_size)\n",
    "\n",
    "        self.dropout = nn.Dropout(dropout)\n",
    "        self.layer_norm = nn.LayerNorm(hidden_size)\n",
    "\n",
    "        self.ffn = nn.Sequential(\n",
    "            nn.Linear(hidden_size, hidden_size * 4),\n",
    "            nn.GELU(),\n",
    "            nn.Dropout(dropout),\n",
    "            nn.Linear(hidden_size * 4, hidden_size),\n",
    "            nn.Dropout(dropout)\n",
    "        )\n",
    "        self.ffn_layer_norm = nn.LayerNorm(hidden_size)\n",
    "\n",
    "    def transpose_for_scores(self, x):\n",
    "        new_x_shape = x.size()[:-1] + (self.num_attention_heads, self.attention_head_size)\n",
    "        x = x.view(*new_x_shape)\n",
    "        return x.permute(0, 2, 1, 3)\n",
    "\n",
    "    def forward(self, x, context):\n",
    "        mixed_query_layer = self.query(x)\n",
    "        mixed_key_layer = self.key(context)\n",
    "        mixed_value_layer = self.value(context)\n",
    "\n",
    "        query_layer = self.transpose_for_scores(mixed_query_layer)\n",
    "        key_layer = self.transpose_for_scores(mixed_key_layer)\n",
    "        value_layer = self.transpose_for_scores(mixed_value_layer)\n",
    "\n",
    "        attention_scores = torch.matmul(query_layer, key_layer.transpose(-1, -2))\n",
    "        attention_scores = attention_scores / math.sqrt(self.attention_head_size)\n",
    "\n",
    "        attention_probs = nn.Softmax(dim=-1)(attention_scores)\n",
    "        attention_probs = self.dropout(attention_probs)\n",
    "\n",
    "        context_layer = torch.matmul(attention_probs, value_layer)\n",
    "        context_layer = context_layer.permute(0, 2, 1, 3).contiguous()\n",
    "        new_context_layer_shape = context_layer.size()[:-2] + (self.all_head_size,)\n",
    "        context_layer = context_layer.view(*new_context_layer_shape)\n",
    "\n",
    "        attention_output = self.output(context_layer)\n",
    "        attention_output = self.dropout(attention_output)\n",
    "        attention_output = self.layer_norm(attention_output + x)\n",
    "\n",
    "        ffn_output = self.ffn(attention_output)\n",
    "\n",
    "        output = self.ffn_layer_norm(ffn_output + attention_output)\n",
    "\n",
    "        return output\n",
    "\n",
    "class MultimodalAttentionModel(nn.Module):\n",
    "    def __init__(self, text_model_name=\"bert-base-uncased\", num_classes=3, fusion_dim=768):\n",
    "        super(MultimodalAttentionModel, self).__init__()\n",
    "\n",
    "        self.text_encoder = AutoModel.from_pretrained(text_model_name)\n",
    "        self.text_dim = self.text_encoder.config.hidden_size\n",
    "\n",
    "        self.vision_encoder = CLIPVisionModel.from_pretrained(\"openai/clip-vit-base-patch32\")\n",
    "        self.vision_dim = self.vision_encoder.config.hidden_size\n",
    "\n",
    "        self.text_dim = self.text_encoder.config.hidden_size\n",
    "        self.vision_dim = self.vision_encoder.config.hidden_size\n",
    "        fusion_dim = 1024\n",
    "\n",
    "        self.text_projections = nn.ModuleList([\n",
    "            nn.Linear(self.text_dim, fusion_dim) for _ in range(3)\n",
    "        ])\n",
    "\n",
    "        self.vision_projections = nn.ModuleList([\n",
    "            nn.Linear(self.vision_dim, fusion_dim) for _ in range(3)\n",
    "        ])\n",
    "\n",
    "        self.co_attention_layers = nn.ModuleList([\n",
    "            CrossAttentionLayer(fusion_dim) for _ in range(3)\n",
    "        ])\n",
    "\n",
    "        self.expert_nets = nn.ModuleList([\n",
    "            nn.Sequential(\n",
    "                nn.Linear(fusion_dim, fusion_dim),\n",
    "                nn.LayerNorm(fusion_dim),\n",
    "                nn.GELU(),\n",
    "                nn.Dropout(0.2)\n",
    "            ) for _ in range(4)\n",
    "        ])\n",
    "\n",
    "        self.moe_gate = nn.Linear(fusion_dim, 4)\n",
    "\n",
    "        self.classifier = nn.Sequential(\n",
    "            nn.Linear(fusion_dim, fusion_dim),\n",
    "            nn.LayerNorm(fusion_dim),\n",
    "            nn.GELU(),\n",
    "            nn.Dropout(0.1),\n",
    "            nn.Linear(fusion_dim, num_classes)\n",
    "        )\n",
    "\n",
    "    def forward(self, input_ids, attention_mask, image_features):\n",
    "        text_outputs = self.text_encoder(input_ids=input_ids, attention_mask=attention_mask, output_hidden_states=True)\n",
    "        text_features = [\n",
    "            text_outputs.hidden_states[-i][:, 0] for i in range(1, 4)\n",
    "        ]\n",
    "        text_features = [\n",
    "            proj(feat) for proj, feat in zip(self.text_projections, text_features)\n",
    "        ]\n",
    "\n",
    "        vision_outputs = self.vision_encoder(**image_features, output_hidden_states=True)\n",
    "        vision_features = [\n",
    "            vision_outputs.hidden_states[-i][:, 0] for i in range(1, 4)\n",
    "        ]\n",
    "        vision_features = [\n",
    "            proj(feat) for proj, feat in zip(self.vision_projections, vision_features)\n",
    "        ]\n",
    "\n",
    "        fused_features = []\n",
    "        for text_feat, vision_feat, co_attn in zip(text_features, vision_features, self.co_attention_layers):\n",
    "            fused_feat = co_attn(text_feat.unsqueeze(1), vision_feat.unsqueeze(1))\n",
    "            fused_features.append(fused_feat.squeeze(1))\n",
    "\n",
    "        combined_feature = sum(fused_features) / len(fused_features)\n",
    "\n",
    "        expert_outputs = [expert(combined_feature) for expert in self.expert_nets]\n",
    "        expert_gates = F.softmax(self.moe_gate(combined_feature), dim=1)\n",
    "\n",
    "        moe_output = torch.zeros_like(expert_outputs[0])\n",
    "        for i, expert_out in enumerate(expert_outputs):\n",
    "            moe_output += expert_out * expert_gates[:, i].unsqueeze(1)\n",
    "\n",
    "        logits = self.classifier(moe_output)\n",
    "\n",
    "        return logits"
   ]
  },
  {
   "cell_type": "markdown",
   "metadata": {},
   "source": [
    "## Training Functions"
   ]
  },
  {
   "cell_type": "code",
   "execution_count": 8,
   "metadata": {
    "execution": {
     "iopub.execute_input": "2025-04-14T20:52:31.866975Z",
     "iopub.status.busy": "2025-04-14T20:52:31.866309Z",
     "iopub.status.idle": "2025-04-14T20:52:31.879239Z",
     "shell.execute_reply": "2025-04-14T20:52:31.878422Z",
     "shell.execute_reply.started": "2025-04-14T20:52:31.866941Z"
    },
    "trusted": true
   },
   "outputs": [],
   "source": [
    "def train_multimodal_model(model, train_data, val_data, img_path, epochs, model_save_name):\n",
    "    tokenizer = AutoTokenizer.from_pretrained(\"mental/mental-roberta-base\")\n",
    "    image_processor = CLIPImageProcessor.from_pretrained(\"openai/clip-vit-base-patch32\")\n",
    "\n",
    "    train_dataset = MultimodalAnxietyDataset(train_data, img_path, tokenizer, image_processor, max_len=MAX_LEN)\n",
    "    val_dataset = MultimodalAnxietyDataset(val_data, img_path, tokenizer, image_processor, max_len=MAX_LEN)\n",
    "\n",
    "    print(\"Train Set Size:\", len(train_dataset))\n",
    "    print(\"Validation Set Size:\", len(val_dataset))\n",
    "\n",
    "    train_loader = DataLoader(\n",
    "        train_dataset,\n",
    "        batch_size=BATCH_SIZE,\n",
    "        shuffle=True,\n",
    "        collate_fn=custom_collate_fn\n",
    "    )\n",
    "\n",
    "    val_loader = DataLoader(\n",
    "        val_dataset,\n",
    "        batch_size=BATCH_SIZE,\n",
    "        shuffle=False,\n",
    "        collate_fn=custom_collate_fn\n",
    "    )\n",
    "\n",
    "    optimizer = optim.AdamW(model.parameters(), lr=LR)\n",
    "    scheduler = torch.optim.lr_scheduler.ReduceLROnPlateau(\n",
    "        optimizer, mode='max', factor=0.5, patience=2, verbose=True\n",
    "    )\n",
    "    criterion = nn.CrossEntropyLoss()\n",
    "\n",
    "    model = model.to(DEVICE)\n",
    "    model = nn.DataParallel(model)\n",
    "\n",
    "    best_f1 = 0\n",
    "    for epoch in range(epochs):\n",
    "        print(f\"\\nEpoch {epoch+1}/{epochs}\")\n",
    "\n",
    "        model.train()\n",
    "        train_loss = 0\n",
    "        train_preds, train_labels = [], []\n",
    "\n",
    "        for batch in tqdm(train_loader, desc=\"Training\"):\n",
    "            input_ids = batch[\"input_ids\"].to(DEVICE)\n",
    "            attention_mask = batch[\"attention_mask\"].to(DEVICE)\n",
    "            labels = batch[\"label\"].to(DEVICE)\n",
    "            image_features = {k: v.to(DEVICE) for k, v in batch[\"image\"].items()}\n",
    "\n",
    "            optimizer.zero_grad()\n",
    "            logits = model(input_ids, attention_mask, image_features)\n",
    "            loss = criterion(logits, labels)\n",
    "            loss.backward()\n",
    "            torch.nn.utils.clip_grad_norm_(model.parameters(), 1.0)\n",
    "            optimizer.step()\n",
    "\n",
    "            train_loss += loss.item()\n",
    "            predictions = torch.argmax(logits, dim=1).cpu().numpy()\n",
    "            train_preds.extend(predictions)\n",
    "            train_labels.extend(labels.cpu().numpy())\n",
    "\n",
    "        train_loss = train_loss / len(train_loader)\n",
    "        train_macro_f1 = f1_score(train_labels, train_preds, average=\"macro\")\n",
    "        train_weighted_f1 = f1_score(train_labels, train_preds, average=\"weighted\")\n",
    "\n",
    "        print(f\"Train Loss: {train_loss:.4f}\")\n",
    "        print(f\"Train Macro-F1: {train_macro_f1:.4f}, Weighted-F1: {train_weighted_f1:.4f}\")\n",
    "\n",
    "        val_loss, val_macro_f1, val_weighted_f1 = evaluate_multimodal_model(\n",
    "            model, val_loader, criterion\n",
    "        )\n",
    "\n",
    "        print(f\"Validation Loss: {val_loss:.4f}\")\n",
    "        print(f\"Validation Macro-F1: {val_macro_f1:.4f}, Weighted-F1: {val_weighted_f1:.4f}\")\n",
    "\n",
    "        scheduler.step(val_macro_f1)\n",
    "\n",
    "        f1_hm = 2 * val_macro_f1 * val_weighted_f1 / (val_macro_f1 + val_weighted_f1)\n",
    "        if f1_hm > best_f1:\n",
    "            best_f1 = f1_hm\n",
    "            torch.save(model.state_dict(), f\"{model_save_name}_anxiety.pth\")\n",
    "            print(\"Best model saved!\")\n",
    "\n",
    "    return model\n",
    "\n",
    "def evaluate_multimodal_model(model, loader, criterion):\n",
    "    model.eval()\n",
    "    val_loss = 0\n",
    "    val_preds, val_labels = [], []\n",
    "\n",
    "    with torch.no_grad():\n",
    "        for batch in tqdm(loader, desc=\"Evaluating\"):\n",
    "            input_ids = batch[\"input_ids\"].to(DEVICE)\n",
    "            attention_mask = batch[\"attention_mask\"].to(DEVICE)\n",
    "            labels = batch[\"label\"].to(DEVICE)\n",
    "            image_features = {k: v.to(DEVICE) for k, v in batch[\"image\"].items()}\n",
    "\n",
    "            logits = model(input_ids, attention_mask, image_features)\n",
    "            loss = criterion(logits, labels)\n",
    "\n",
    "            val_loss += loss.item()\n",
    "            predictions = torch.argmax(logits, dim=1).cpu().numpy()\n",
    "            val_preds.extend(predictions)\n",
    "            val_labels.extend(labels.cpu().numpy())\n",
    "\n",
    "    val_loss = val_loss / len(loader)\n",
    "    val_macro_f1 = f1_score(val_labels, val_preds, average=\"macro\")\n",
    "    val_weighted_f1 = f1_score(val_labels, val_preds, average=\"weighted\")\n",
    "\n",
    "    target_names = [k for k, v in sorted(LABEL_MAP.items(), key=lambda x: x[1])]\n",
    "    report = classification_report(val_labels, val_preds, target_names=target_names)\n",
    "    print(report)\n",
    "\n",
    "    return val_loss, val_macro_f1, val_weighted_f1"
   ]
  },
  {
   "cell_type": "markdown",
   "metadata": {},
   "source": [
    "## Model Training"
   ]
  },
  {
   "cell_type": "code",
   "execution_count": null,
   "metadata": {
    "execution": {
     "iopub.execute_input": "2025-04-14T20:52:36.066181Z",
     "iopub.status.busy": "2025-04-14T20:52:36.065640Z",
     "iopub.status.idle": "2025-04-14T20:52:36.989910Z",
     "shell.execute_reply": "2025-04-14T20:52:36.988650Z",
     "shell.execute_reply.started": "2025-04-14T20:52:36.066158Z"
    },
    "trusted": true
   },
   "outputs": [],
   "source": [
    "full_train_data = json.load(open(\"anxiety_train_llava_dataset.json\", \"r\"))\n",
    "test_data = json.load(open(\"anxiety_test_llava_dataset.json\", \"r\"))\n",
    "\n",
    "labels = [LABEL_MAP[item[\"meme_anxiety_category\"]] for item in full_train_data]\n",
    "\n",
    "train_size = math.ceil(len(full_train_data) * TRAIN_RATIO / (TRAIN_RATIO + VAL_RATIO))\n",
    "train_data, val_data = train_test_split(\n",
    "    full_train_data, train_size=train_size, stratify=labels, random_state=42\n",
    ")\n",
    "\n",
    "img_path = \"anxiety_train_image\"\n",
    "\n",
    "tokenizer = AutoTokenizer.from_pretrained(\"mental/mental-roberta-base\")\n",
    "image_processor = CLIPImageProcessor.from_pretrained(\"openai/clip-vit-base-patch32\")\n",
    "\n",
    "test_dataset = MultimodalAnxietyDataset(test_data, \"anxiety_test_image\", tokenizer, image_processor, max_len=MAX_LEN)\n",
    "test_loader = DataLoader(\n",
    "    test_dataset,\n",
    "    batch_size=BATCH_SIZE,\n",
    "    shuffle=False,\n",
    "    collate_fn=custom_collate_fn\n",
    ")"
   ]
  },
  {
   "cell_type": "code",
   "execution_count": null,
   "metadata": {
    "execution": {
     "iopub.execute_input": "2025-04-13T09:43:11.814347Z",
     "iopub.status.busy": "2025-04-13T09:43:11.814069Z"
    },
    "id": "nQGC7Q_1aOFs",
    "outputId": "e0d16dea-dbdc-4ed7-e90e-ef2ac52d8ed6",
    "trusted": true
   },
   "outputs": [
    {
     "name": "stderr",
     "output_type": "stream",
     "text": [
      "Some weights of RobertaModel were not initialized from the model checkpoint at mental/mental-roberta-base and are newly initialized: ['pooler.dense.bias', 'pooler.dense.weight']\n",
      "You should probably TRAIN this model on a down-stream task to be able to use it for predictions and inference.\n"
     ]
    },
    {
     "name": "stdout",
     "output_type": "stream",
     "text": [
      "Train Set Size: 2153\n",
      "Validation Set Size: 307\n",
      "\n",
      "Epoch 1/30\n"
     ]
    },
    {
     "name": "stderr",
     "output_type": "stream",
     "text": [
      "Training: 100%|██████████| 135/135 [03:33<00:00,  1.58s/it]\n"
     ]
    },
    {
     "name": "stdout",
     "output_type": "stream",
     "text": [
      "Train Loss: 1.7318\n",
      "Train Macro-F1: 0.2420, Weighted-F1: 0.2442\n"
     ]
    },
    {
     "name": "stderr",
     "output_type": "stream",
     "text": [
      "Evaluating: 100%|██████████| 20/20 [00:14<00:00,  1.35it/s]\n"
     ]
    },
    {
     "name": "stdout",
     "output_type": "stream",
     "text": [
      "                       precision    recall  f1-score   support\n",
      "\n",
      "          Nervousness       0.55      0.62      0.58        53\n",
      "Lack of Worry Control       0.33      0.72      0.45        47\n",
      "      Excessive Worry       0.00      0.00      0.00        46\n",
      "  Difficulty Relaxing       0.92      0.71      0.80        51\n",
      "         Restlessness       0.33      0.48      0.39        58\n",
      "       Impending Doom       0.72      0.25      0.37        52\n",
      "\n",
      "             accuracy                           0.47       307\n",
      "            macro avg       0.48      0.46      0.43       307\n",
      "         weighted avg       0.48      0.47      0.44       307\n",
      "\n",
      "Validation Loss: 1.3845\n",
      "Validation Macro-F1: 0.4334, Weighted-F1: 0.4401\n",
      "Best model saved!\n",
      "\n",
      "Epoch 2/30\n"
     ]
    },
    {
     "name": "stderr",
     "output_type": "stream",
     "text": [
      "Training: 100%|██████████| 135/135 [03:31<00:00,  1.57s/it]\n"
     ]
    },
    {
     "name": "stdout",
     "output_type": "stream",
     "text": [
      "Train Loss: 1.2146\n",
      "Train Macro-F1: 0.5356, Weighted-F1: 0.5355\n"
     ]
    },
    {
     "name": "stderr",
     "output_type": "stream",
     "text": [
      "Evaluating: 100%|██████████| 20/20 [00:14<00:00,  1.35it/s]\n"
     ]
    },
    {
     "name": "stdout",
     "output_type": "stream",
     "text": [
      "                       precision    recall  f1-score   support\n",
      "\n",
      "          Nervousness       0.70      0.57      0.62        53\n",
      "Lack of Worry Control       0.68      0.57      0.62        47\n",
      "      Excessive Worry       0.63      0.37      0.47        46\n",
      "  Difficulty Relaxing       0.82      0.80      0.81        51\n",
      "         Restlessness       0.42      0.69      0.52        58\n",
      "       Impending Doom       0.61      0.60      0.60        52\n",
      "\n",
      "             accuracy                           0.61       307\n",
      "            macro avg       0.64      0.60      0.61       307\n",
      "         weighted avg       0.64      0.61      0.61       307\n",
      "\n",
      "Validation Loss: 1.0530\n",
      "Validation Macro-F1: 0.6075, Weighted-F1: 0.6077\n",
      "Best model saved!\n",
      "\n",
      "Epoch 3/30\n"
     ]
    },
    {
     "name": "stderr",
     "output_type": "stream",
     "text": [
      "Training: 100%|██████████| 135/135 [03:30<00:00,  1.56s/it]\n"
     ]
    },
    {
     "name": "stdout",
     "output_type": "stream",
     "text": [
      "Train Loss: 0.7739\n",
      "Train Macro-F1: 0.7318, Weighted-F1: 0.7312\n"
     ]
    },
    {
     "name": "stderr",
     "output_type": "stream",
     "text": [
      "Evaluating: 100%|██████████| 20/20 [00:15<00:00,  1.33it/s]\n"
     ]
    },
    {
     "name": "stdout",
     "output_type": "stream",
     "text": [
      "                       precision    recall  f1-score   support\n",
      "\n",
      "          Nervousness       0.66      0.77      0.71        53\n",
      "Lack of Worry Control       0.66      0.57      0.61        47\n",
      "      Excessive Worry       0.64      0.39      0.49        46\n",
      "  Difficulty Relaxing       0.93      0.80      0.86        51\n",
      "         Restlessness       0.53      0.57      0.55        58\n",
      "       Impending Doom       0.63      0.85      0.72        52\n",
      "\n",
      "             accuracy                           0.66       307\n",
      "            macro avg       0.68      0.66      0.66       307\n",
      "         weighted avg       0.67      0.66      0.66       307\n",
      "\n",
      "Validation Loss: 1.0143\n",
      "Validation Macro-F1: 0.6579, Weighted-F1: 0.6594\n",
      "Best model saved!\n",
      "\n",
      "Epoch 4/30\n"
     ]
    },
    {
     "name": "stderr",
     "output_type": "stream",
     "text": [
      "Training: 100%|██████████| 135/135 [03:31<00:00,  1.57s/it]\n"
     ]
    },
    {
     "name": "stdout",
     "output_type": "stream",
     "text": [
      "Train Loss: 0.4749\n",
      "Train Macro-F1: 0.8421, Weighted-F1: 0.8424\n"
     ]
    },
    {
     "name": "stderr",
     "output_type": "stream",
     "text": [
      "Evaluating: 100%|██████████| 20/20 [00:14<00:00,  1.34it/s]\n"
     ]
    },
    {
     "name": "stdout",
     "output_type": "stream",
     "text": [
      "                       precision    recall  f1-score   support\n",
      "\n",
      "          Nervousness       0.61      0.66      0.64        53\n",
      "Lack of Worry Control       0.81      0.45      0.58        47\n",
      "      Excessive Worry       0.61      0.41      0.49        46\n",
      "  Difficulty Relaxing       0.91      0.78      0.84        51\n",
      "         Restlessness       0.50      0.72      0.59        58\n",
      "       Impending Doom       0.58      0.73      0.65        52\n",
      "\n",
      "             accuracy                           0.64       307\n",
      "            macro avg       0.67      0.63      0.63       307\n",
      "         weighted avg       0.67      0.64      0.63       307\n",
      "\n",
      "Validation Loss: 1.2196\n",
      "Validation Macro-F1: 0.6314, Weighted-F1: 0.6336\n",
      "\n",
      "Epoch 5/30\n"
     ]
    },
    {
     "name": "stderr",
     "output_type": "stream",
     "text": [
      "Training: 100%|██████████| 135/135 [03:31<00:00,  1.57s/it]\n"
     ]
    },
    {
     "name": "stdout",
     "output_type": "stream",
     "text": [
      "Train Loss: 0.2657\n",
      "Train Macro-F1: 0.9147, Weighted-F1: 0.9150\n"
     ]
    },
    {
     "name": "stderr",
     "output_type": "stream",
     "text": [
      "Evaluating: 100%|██████████| 20/20 [00:14<00:00,  1.34it/s]\n"
     ]
    },
    {
     "name": "stdout",
     "output_type": "stream",
     "text": [
      "                       precision    recall  f1-score   support\n",
      "\n",
      "          Nervousness       0.67      0.66      0.67        53\n",
      "Lack of Worry Control       0.65      0.60      0.62        47\n",
      "      Excessive Worry       0.61      0.41      0.49        46\n",
      "  Difficulty Relaxing       0.88      0.86      0.87        51\n",
      "         Restlessness       0.51      0.55      0.53        58\n",
      "       Impending Doom       0.59      0.77      0.67        52\n",
      "\n",
      "             accuracy                           0.64       307\n",
      "            macro avg       0.65      0.64      0.64       307\n",
      "         weighted avg       0.65      0.64      0.64       307\n",
      "\n",
      "Validation Loss: 1.4764\n",
      "Validation Macro-F1: 0.6415, Weighted-F1: 0.6419\n",
      "\n",
      "Epoch 6/30\n"
     ]
    },
    {
     "name": "stderr",
     "output_type": "stream",
     "text": [
      "Training: 100%|██████████| 135/135 [03:31<00:00,  1.57s/it]\n"
     ]
    },
    {
     "name": "stdout",
     "output_type": "stream",
     "text": [
      "Train Loss: 0.2074\n",
      "Train Macro-F1: 0.9345, Weighted-F1: 0.9350\n"
     ]
    },
    {
     "name": "stderr",
     "output_type": "stream",
     "text": [
      "Evaluating: 100%|██████████| 20/20 [00:14<00:00,  1.35it/s]\n"
     ]
    },
    {
     "name": "stdout",
     "output_type": "stream",
     "text": [
      "                       precision    recall  f1-score   support\n",
      "\n",
      "          Nervousness       0.55      0.79      0.65        53\n",
      "Lack of Worry Control       0.92      0.47      0.62        47\n",
      "      Excessive Worry       0.55      0.39      0.46        46\n",
      "  Difficulty Relaxing       0.89      0.80      0.85        51\n",
      "         Restlessness       0.51      0.64      0.57        58\n",
      "       Impending Doom       0.65      0.69      0.67        52\n",
      "\n",
      "             accuracy                           0.64       307\n",
      "            macro avg       0.68      0.63      0.63       307\n",
      "         weighted avg       0.67      0.64      0.64       307\n",
      "\n",
      "Validation Loss: 1.8626\n",
      "Validation Macro-F1: 0.6348, Weighted-F1: 0.6367\n",
      "\n",
      "Epoch 7/30\n"
     ]
    },
    {
     "name": "stderr",
     "output_type": "stream",
     "text": [
      "Training: 100%|██████████| 135/135 [03:31<00:00,  1.57s/it]\n"
     ]
    },
    {
     "name": "stdout",
     "output_type": "stream",
     "text": [
      "Train Loss: 0.1187\n",
      "Train Macro-F1: 0.9657, Weighted-F1: 0.9661\n"
     ]
    },
    {
     "name": "stderr",
     "output_type": "stream",
     "text": [
      "Evaluating: 100%|██████████| 20/20 [00:14<00:00,  1.35it/s]\n"
     ]
    },
    {
     "name": "stdout",
     "output_type": "stream",
     "text": [
      "                       precision    recall  f1-score   support\n",
      "\n",
      "          Nervousness       0.67      0.68      0.67        53\n",
      "Lack of Worry Control       0.75      0.64      0.69        47\n",
      "      Excessive Worry       0.55      0.46      0.50        46\n",
      "  Difficulty Relaxing       0.85      0.88      0.87        51\n",
      "         Restlessness       0.56      0.60      0.58        58\n",
      "       Impending Doom       0.65      0.75      0.70        52\n",
      "\n",
      "             accuracy                           0.67       307\n",
      "            macro avg       0.67      0.67      0.67       307\n",
      "         weighted avg       0.67      0.67      0.67       307\n",
      "\n",
      "Validation Loss: 1.7143\n",
      "Validation Macro-F1: 0.6679, Weighted-F1: 0.6686\n",
      "Best model saved!\n",
      "\n",
      "Epoch 8/30\n"
     ]
    },
    {
     "name": "stderr",
     "output_type": "stream",
     "text": [
      "Training: 100%|██████████| 135/135 [03:30<00:00,  1.56s/it]\n"
     ]
    },
    {
     "name": "stdout",
     "output_type": "stream",
     "text": [
      "Train Loss: 0.0700\n",
      "Train Macro-F1: 0.9794, Weighted-F1: 0.9796\n"
     ]
    },
    {
     "name": "stderr",
     "output_type": "stream",
     "text": [
      "Evaluating: 100%|██████████| 20/20 [00:14<00:00,  1.36it/s]\n"
     ]
    },
    {
     "name": "stdout",
     "output_type": "stream",
     "text": [
      "                       precision    recall  f1-score   support\n",
      "\n",
      "          Nervousness       0.66      0.62      0.64        53\n",
      "Lack of Worry Control       0.72      0.55      0.63        47\n",
      "      Excessive Worry       0.58      0.46      0.51        46\n",
      "  Difficulty Relaxing       0.87      0.88      0.87        51\n",
      "         Restlessness       0.55      0.57      0.56        58\n",
      "       Impending Doom       0.56      0.79      0.66        52\n",
      "\n",
      "             accuracy                           0.65       307\n",
      "            macro avg       0.66      0.65      0.64       307\n",
      "         weighted avg       0.65      0.65      0.65       307\n",
      "\n",
      "Validation Loss: 1.9985\n",
      "Validation Macro-F1: 0.6448, Weighted-F1: 0.6452\n",
      "\n",
      "Epoch 9/30\n"
     ]
    },
    {
     "name": "stderr",
     "output_type": "stream",
     "text": [
      "Training: 100%|██████████| 135/135 [03:31<00:00,  1.56s/it]\n"
     ]
    },
    {
     "name": "stdout",
     "output_type": "stream",
     "text": [
      "Train Loss: 0.0473\n",
      "Train Macro-F1: 0.9867, Weighted-F1: 0.9870\n"
     ]
    },
    {
     "name": "stderr",
     "output_type": "stream",
     "text": [
      "Evaluating: 100%|██████████| 20/20 [00:14<00:00,  1.36it/s]\n"
     ]
    },
    {
     "name": "stdout",
     "output_type": "stream",
     "text": [
      "                       precision    recall  f1-score   support\n",
      "\n",
      "          Nervousness       0.64      0.70      0.67        53\n",
      "Lack of Worry Control       0.62      0.60      0.61        47\n",
      "      Excessive Worry       0.69      0.39      0.50        46\n",
      "  Difficulty Relaxing       0.91      0.78      0.84        51\n",
      "         Restlessness       0.53      0.53      0.53        58\n",
      "       Impending Doom       0.58      0.85      0.69        52\n",
      "\n",
      "             accuracy                           0.64       307\n",
      "            macro avg       0.66      0.64      0.64       307\n",
      "         weighted avg       0.66      0.64      0.64       307\n",
      "\n",
      "Validation Loss: 2.1113\n",
      "Validation Macro-F1: 0.6399, Weighted-F1: 0.6405\n",
      "\n",
      "Epoch 10/30\n"
     ]
    },
    {
     "name": "stderr",
     "output_type": "stream",
     "text": [
      "Training: 100%|██████████| 135/135 [03:30<00:00,  1.56s/it]\n"
     ]
    },
    {
     "name": "stdout",
     "output_type": "stream",
     "text": [
      "Train Loss: 0.0393\n",
      "Train Macro-F1: 0.9891, Weighted-F1: 0.9893\n"
     ]
    },
    {
     "name": "stderr",
     "output_type": "stream",
     "text": [
      "Evaluating: 100%|██████████| 20/20 [00:15<00:00,  1.33it/s]\n"
     ]
    },
    {
     "name": "stdout",
     "output_type": "stream",
     "text": [
      "                       precision    recall  f1-score   support\n",
      "\n",
      "          Nervousness       0.60      0.74      0.66        53\n",
      "Lack of Worry Control       0.86      0.51      0.64        47\n",
      "      Excessive Worry       0.56      0.54      0.55        46\n",
      "  Difficulty Relaxing       0.88      0.84      0.86        51\n",
      "         Restlessness       0.58      0.62      0.60        58\n",
      "       Impending Doom       0.67      0.75      0.71        52\n",
      "\n",
      "             accuracy                           0.67       307\n",
      "            macro avg       0.69      0.67      0.67       307\n",
      "         weighted avg       0.69      0.67      0.67       307\n",
      "\n",
      "Validation Loss: 2.2772\n",
      "Validation Macro-F1: 0.6699, Weighted-F1: 0.6708\n",
      "Best model saved!\n",
      "\n",
      "Epoch 11/30\n"
     ]
    },
    {
     "name": "stderr",
     "output_type": "stream",
     "text": [
      "Training: 100%|██████████| 135/135 [03:31<00:00,  1.57s/it]\n"
     ]
    },
    {
     "name": "stdout",
     "output_type": "stream",
     "text": [
      "Train Loss: 0.0354\n",
      "Train Macro-F1: 0.9925, Weighted-F1: 0.9926\n"
     ]
    },
    {
     "name": "stderr",
     "output_type": "stream",
     "text": [
      "Evaluating: 100%|██████████| 20/20 [00:14<00:00,  1.35it/s]\n"
     ]
    },
    {
     "name": "stdout",
     "output_type": "stream",
     "text": [
      "                       precision    recall  f1-score   support\n",
      "\n",
      "          Nervousness       0.66      0.74      0.70        53\n",
      "Lack of Worry Control       0.82      0.60      0.69        47\n",
      "      Excessive Worry       0.57      0.59      0.58        46\n",
      "  Difficulty Relaxing       0.88      0.86      0.87        51\n",
      "         Restlessness       0.56      0.62      0.59        58\n",
      "       Impending Doom       0.68      0.69      0.69        52\n",
      "\n",
      "             accuracy                           0.68       307\n",
      "            macro avg       0.70      0.68      0.69       307\n",
      "         weighted avg       0.69      0.68      0.69       307\n",
      "\n",
      "Validation Loss: 2.1422\n",
      "Validation Macro-F1: 0.6859, Weighted-F1: 0.6855\n",
      "Best model saved!\n",
      "\n",
      "Epoch 12/30\n"
     ]
    },
    {
     "name": "stderr",
     "output_type": "stream",
     "text": [
      "Training: 100%|██████████| 135/135 [03:31<00:00,  1.57s/it]\n"
     ]
    },
    {
     "name": "stdout",
     "output_type": "stream",
     "text": [
      "Train Loss: 0.0293\n",
      "Train Macro-F1: 0.9925, Weighted-F1: 0.9926\n"
     ]
    },
    {
     "name": "stderr",
     "output_type": "stream",
     "text": [
      "Evaluating: 100%|██████████| 20/20 [00:14<00:00,  1.34it/s]\n"
     ]
    },
    {
     "name": "stdout",
     "output_type": "stream",
     "text": [
      "                       precision    recall  f1-score   support\n",
      "\n",
      "          Nervousness       0.61      0.74      0.67        53\n",
      "Lack of Worry Control       0.84      0.55      0.67        47\n",
      "      Excessive Worry       0.62      0.46      0.52        46\n",
      "  Difficulty Relaxing       0.84      0.82      0.83        51\n",
      "         Restlessness       0.57      0.64      0.60        58\n",
      "       Impending Doom       0.60      0.73      0.66        52\n",
      "\n",
      "             accuracy                           0.66       307\n",
      "            macro avg       0.68      0.66      0.66       307\n",
      "         weighted avg       0.68      0.66      0.66       307\n",
      "\n",
      "Validation Loss: 2.3044\n",
      "Validation Macro-F1: 0.6588, Weighted-F1: 0.6596\n",
      "\n",
      "Epoch 13/30\n"
     ]
    },
    {
     "name": "stderr",
     "output_type": "stream",
     "text": [
      "Training: 100%|██████████| 135/135 [03:30<00:00,  1.56s/it]\n"
     ]
    },
    {
     "name": "stdout",
     "output_type": "stream",
     "text": [
      "Train Loss: 0.0274\n",
      "Train Macro-F1: 0.9948, Weighted-F1: 0.9949\n"
     ]
    },
    {
     "name": "stderr",
     "output_type": "stream",
     "text": [
      "Evaluating: 100%|██████████| 20/20 [00:14<00:00,  1.35it/s]\n"
     ]
    },
    {
     "name": "stdout",
     "output_type": "stream",
     "text": [
      "                       precision    recall  f1-score   support\n",
      "\n",
      "          Nervousness       0.59      0.72      0.65        53\n",
      "Lack of Worry Control       0.86      0.51      0.64        47\n",
      "      Excessive Worry       0.55      0.50      0.52        46\n",
      "  Difficulty Relaxing       0.91      0.78      0.84        51\n",
      "         Restlessness       0.52      0.53      0.53        58\n",
      "       Impending Doom       0.58      0.77      0.66        52\n",
      "\n",
      "             accuracy                           0.64       307\n",
      "            macro avg       0.67      0.64      0.64       307\n",
      "         weighted avg       0.66      0.64      0.64       307\n",
      "\n",
      "Validation Loss: 2.3376\n",
      "Validation Macro-F1: 0.6402, Weighted-F1: 0.6396\n",
      "\n",
      "Epoch 14/30\n"
     ]
    },
    {
     "name": "stderr",
     "output_type": "stream",
     "text": [
      "Training: 100%|██████████| 135/135 [03:31<00:00,  1.56s/it]\n"
     ]
    },
    {
     "name": "stdout",
     "output_type": "stream",
     "text": [
      "Train Loss: 0.0253\n",
      "Train Macro-F1: 0.9952, Weighted-F1: 0.9954\n"
     ]
    },
    {
     "name": "stderr",
     "output_type": "stream",
     "text": [
      "Evaluating: 100%|██████████| 20/20 [00:15<00:00,  1.31it/s]\n"
     ]
    },
    {
     "name": "stdout",
     "output_type": "stream",
     "text": [
      "                       precision    recall  f1-score   support\n",
      "\n",
      "          Nervousness       0.65      0.75      0.70        53\n",
      "Lack of Worry Control       0.84      0.55      0.67        47\n",
      "      Excessive Worry       0.54      0.46      0.49        46\n",
      "  Difficulty Relaxing       0.88      0.84      0.86        51\n",
      "         Restlessness       0.51      0.64      0.56        58\n",
      "       Impending Doom       0.68      0.69      0.69        52\n",
      "\n",
      "             accuracy                           0.66       307\n",
      "            macro avg       0.68      0.66      0.66       307\n",
      "         weighted avg       0.68      0.66      0.66       307\n",
      "\n",
      "Validation Loss: 2.3073\n",
      "Validation Macro-F1: 0.6612, Weighted-F1: 0.6619\n",
      "\n",
      "Epoch 15/30\n"
     ]
    },
    {
     "name": "stderr",
     "output_type": "stream",
     "text": [
      "Training: 100%|██████████| 135/135 [03:31<00:00,  1.57s/it]\n"
     ]
    },
    {
     "name": "stdout",
     "output_type": "stream",
     "text": [
      "Train Loss: 0.0156\n",
      "Train Macro-F1: 0.9962, Weighted-F1: 0.9963\n"
     ]
    },
    {
     "name": "stderr",
     "output_type": "stream",
     "text": [
      "Evaluating: 100%|██████████| 20/20 [00:14<00:00,  1.34it/s]\n"
     ]
    },
    {
     "name": "stdout",
     "output_type": "stream",
     "text": [
      "                       precision    recall  f1-score   support\n",
      "\n",
      "          Nervousness       0.63      0.74      0.68        53\n",
      "Lack of Worry Control       0.86      0.53      0.66        47\n",
      "      Excessive Worry       0.66      0.46      0.54        46\n",
      "  Difficulty Relaxing       0.88      0.84      0.86        51\n",
      "         Restlessness       0.58      0.57      0.57        58\n",
      "       Impending Doom       0.55      0.83      0.66        52\n",
      "\n",
      "             accuracy                           0.66       307\n",
      "            macro avg       0.69      0.66      0.66       307\n",
      "         weighted avg       0.69      0.66      0.66       307\n",
      "\n",
      "Validation Loss: 2.4506\n",
      "Validation Macro-F1: 0.6617, Weighted-F1: 0.6618\n",
      "\n",
      "Epoch 16/30\n"
     ]
    },
    {
     "name": "stderr",
     "output_type": "stream",
     "text": [
      "Training: 100%|██████████| 135/135 [03:31<00:00,  1.56s/it]\n"
     ]
    },
    {
     "name": "stdout",
     "output_type": "stream",
     "text": [
      "Train Loss: 0.0117\n",
      "Train Macro-F1: 0.9962, Weighted-F1: 0.9963\n"
     ]
    },
    {
     "name": "stderr",
     "output_type": "stream",
     "text": [
      "Evaluating: 100%|██████████| 20/20 [00:14<00:00,  1.35it/s]\n"
     ]
    },
    {
     "name": "stdout",
     "output_type": "stream",
     "text": [
      "                       precision    recall  f1-score   support\n",
      "\n",
      "          Nervousness       0.66      0.72      0.68        53\n",
      "Lack of Worry Control       0.81      0.53      0.64        47\n",
      "      Excessive Worry       0.49      0.48      0.48        46\n",
      "  Difficulty Relaxing       0.90      0.88      0.89        51\n",
      "         Restlessness       0.51      0.64      0.57        58\n",
      "       Impending Doom       0.71      0.69      0.70        52\n",
      "\n",
      "             accuracy                           0.66       307\n",
      "            macro avg       0.68      0.66      0.66       307\n",
      "         weighted avg       0.68      0.66      0.66       307\n",
      "\n",
      "Validation Loss: 2.3573\n",
      "Validation Macro-F1: 0.6614, Weighted-F1: 0.6628\n",
      "\n",
      "Epoch 17/30\n"
     ]
    },
    {
     "name": "stderr",
     "output_type": "stream",
     "text": [
      "Training: 100%|██████████| 135/135 [03:31<00:00,  1.56s/it]\n"
     ]
    },
    {
     "name": "stdout",
     "output_type": "stream",
     "text": [
      "Train Loss: 0.0121\n",
      "Train Macro-F1: 0.9962, Weighted-F1: 0.9963\n"
     ]
    },
    {
     "name": "stderr",
     "output_type": "stream",
     "text": [
      "Evaluating: 100%|██████████| 20/20 [00:14<00:00,  1.34it/s]\n"
     ]
    },
    {
     "name": "stdout",
     "output_type": "stream",
     "text": [
      "                       precision    recall  f1-score   support\n",
      "\n",
      "          Nervousness       0.62      0.74      0.67        53\n",
      "Lack of Worry Control       0.83      0.53      0.65        47\n",
      "      Excessive Worry       0.68      0.46      0.55        46\n",
      "  Difficulty Relaxing       0.88      0.88      0.88        51\n",
      "         Restlessness       0.54      0.59      0.56        58\n",
      "       Impending Doom       0.59      0.79      0.68        52\n",
      "\n",
      "             accuracy                           0.67       307\n",
      "            macro avg       0.69      0.66      0.66       307\n",
      "         weighted avg       0.69      0.67      0.66       307\n",
      "\n",
      "Validation Loss: 2.5054\n",
      "Validation Macro-F1: 0.6649, Weighted-F1: 0.6648\n",
      "\n",
      "Epoch 18/30\n"
     ]
    },
    {
     "name": "stderr",
     "output_type": "stream",
     "text": [
      "Training: 100%|██████████| 135/135 [03:30<00:00,  1.56s/it]\n"
     ]
    },
    {
     "name": "stdout",
     "output_type": "stream",
     "text": [
      "Train Loss: 0.0097\n",
      "Train Macro-F1: 0.9972, Weighted-F1: 0.9972\n"
     ]
    },
    {
     "name": "stderr",
     "output_type": "stream",
     "text": [
      "Evaluating: 100%|██████████| 20/20 [00:15<00:00,  1.32it/s]\n"
     ]
    },
    {
     "name": "stdout",
     "output_type": "stream",
     "text": [
      "                       precision    recall  f1-score   support\n",
      "\n",
      "          Nervousness       0.67      0.74      0.70        53\n",
      "Lack of Worry Control       0.83      0.53      0.65        47\n",
      "      Excessive Worry       0.62      0.43      0.51        46\n",
      "  Difficulty Relaxing       0.92      0.86      0.89        51\n",
      "         Restlessness       0.51      0.60      0.55        58\n",
      "       Impending Doom       0.59      0.79      0.67        52\n",
      "\n",
      "             accuracy                           0.66       307\n",
      "            macro avg       0.69      0.66      0.66       307\n",
      "         weighted avg       0.68      0.66      0.66       307\n",
      "\n",
      "Validation Loss: 2.4603\n",
      "Validation Macro-F1: 0.6628, Weighted-F1: 0.6632\n",
      "\n",
      "Epoch 19/30\n"
     ]
    },
    {
     "name": "stderr",
     "output_type": "stream",
     "text": [
      "Training: 100%|██████████| 135/135 [03:30<00:00,  1.56s/it]\n"
     ]
    },
    {
     "name": "stdout",
     "output_type": "stream",
     "text": [
      "Train Loss: 0.0083\n",
      "Train Macro-F1: 0.9972, Weighted-F1: 0.9972\n"
     ]
    },
    {
     "name": "stderr",
     "output_type": "stream",
     "text": [
      "Evaluating: 100%|██████████| 20/20 [00:14<00:00,  1.35it/s]\n"
     ]
    },
    {
     "name": "stdout",
     "output_type": "stream",
     "text": [
      "                       precision    recall  f1-score   support\n",
      "\n",
      "          Nervousness       0.67      0.72      0.69        53\n",
      "Lack of Worry Control       0.82      0.57      0.68        47\n",
      "      Excessive Worry       0.59      0.43      0.50        46\n",
      "  Difficulty Relaxing       0.92      0.86      0.89        51\n",
      "         Restlessness       0.51      0.62      0.56        58\n",
      "       Impending Doom       0.63      0.79      0.70        52\n",
      "\n",
      "             accuracy                           0.67       307\n",
      "            macro avg       0.69      0.67      0.67       307\n",
      "         weighted avg       0.68      0.67      0.67       307\n",
      "\n",
      "Validation Loss: 2.4237\n",
      "Validation Macro-F1: 0.6697, Weighted-F1: 0.6702\n",
      "\n",
      "Epoch 20/30\n"
     ]
    },
    {
     "name": "stderr",
     "output_type": "stream",
     "text": [
      "Training: 100%|██████████| 135/135 [03:31<00:00,  1.57s/it]\n"
     ]
    },
    {
     "name": "stdout",
     "output_type": "stream",
     "text": [
      "Train Loss: 0.0091\n",
      "Train Macro-F1: 0.9972, Weighted-F1: 0.9972\n"
     ]
    },
    {
     "name": "stderr",
     "output_type": "stream",
     "text": [
      "Evaluating: 100%|██████████| 20/20 [00:14<00:00,  1.35it/s]\n"
     ]
    },
    {
     "name": "stdout",
     "output_type": "stream",
     "text": [
      "                       precision    recall  f1-score   support\n",
      "\n",
      "          Nervousness       0.64      0.74      0.68        53\n",
      "Lack of Worry Control       0.78      0.53      0.63        47\n",
      "      Excessive Worry       0.65      0.43      0.52        46\n",
      "  Difficulty Relaxing       0.91      0.84      0.88        51\n",
      "         Restlessness       0.51      0.59      0.54        58\n",
      "       Impending Doom       0.59      0.79      0.68        52\n",
      "\n",
      "             accuracy                           0.66       307\n",
      "            macro avg       0.68      0.65      0.66       307\n",
      "         weighted avg       0.68      0.66      0.66       307\n",
      "\n",
      "Validation Loss: 2.4825\n",
      "Validation Macro-F1: 0.6560, Weighted-F1: 0.6562\n",
      "\n",
      "Epoch 21/30\n"
     ]
    },
    {
     "name": "stderr",
     "output_type": "stream",
     "text": [
      "Training: 100%|██████████| 135/135 [03:31<00:00,  1.56s/it]\n"
     ]
    },
    {
     "name": "stdout",
     "output_type": "stream",
     "text": [
      "Train Loss: 0.0080\n",
      "Train Macro-F1: 0.9962, Weighted-F1: 0.9963\n"
     ]
    },
    {
     "name": "stderr",
     "output_type": "stream",
     "text": [
      "Evaluating: 100%|██████████| 20/20 [00:14<00:00,  1.34it/s]\n"
     ]
    },
    {
     "name": "stdout",
     "output_type": "stream",
     "text": [
      "                       precision    recall  f1-score   support\n",
      "\n",
      "          Nervousness       0.65      0.75      0.70        53\n",
      "Lack of Worry Control       0.82      0.60      0.69        47\n",
      "      Excessive Worry       0.61      0.43      0.51        46\n",
      "  Difficulty Relaxing       0.90      0.86      0.88        51\n",
      "         Restlessness       0.52      0.62      0.57        58\n",
      "       Impending Doom       0.67      0.77      0.71        52\n",
      "\n",
      "             accuracy                           0.68       307\n",
      "            macro avg       0.69      0.67      0.68       307\n",
      "         weighted avg       0.69      0.68      0.68       307\n",
      "\n",
      "Validation Loss: 2.4638\n",
      "Validation Macro-F1: 0.6758, Weighted-F1: 0.6761\n",
      "\n",
      "Epoch 22/30\n"
     ]
    },
    {
     "name": "stderr",
     "output_type": "stream",
     "text": [
      "Training: 100%|██████████| 135/135 [03:31<00:00,  1.57s/it]\n"
     ]
    },
    {
     "name": "stdout",
     "output_type": "stream",
     "text": [
      "Train Loss: 0.0062\n",
      "Train Macro-F1: 0.9966, Weighted-F1: 0.9967\n"
     ]
    },
    {
     "name": "stderr",
     "output_type": "stream",
     "text": [
      "Evaluating: 100%|██████████| 20/20 [00:15<00:00,  1.33it/s]\n"
     ]
    },
    {
     "name": "stdout",
     "output_type": "stream",
     "text": [
      "                       precision    recall  f1-score   support\n",
      "\n",
      "          Nervousness       0.64      0.74      0.68        53\n",
      "Lack of Worry Control       0.82      0.57      0.68        47\n",
      "      Excessive Worry       0.60      0.46      0.52        46\n",
      "  Difficulty Relaxing       0.92      0.86      0.89        51\n",
      "         Restlessness       0.51      0.57      0.54        58\n",
      "       Impending Doom       0.63      0.79      0.70        52\n",
      "\n",
      "             accuracy                           0.67       307\n",
      "            macro avg       0.69      0.66      0.67       307\n",
      "         weighted avg       0.68      0.67      0.67       307\n",
      "\n",
      "Validation Loss: 2.4596\n",
      "Validation Macro-F1: 0.6673, Weighted-F1: 0.6669\n",
      "\n",
      "Epoch 23/30\n"
     ]
    },
    {
     "name": "stderr",
     "output_type": "stream",
     "text": [
      "Training: 100%|██████████| 135/135 [03:31<00:00,  1.57s/it]\n"
     ]
    },
    {
     "name": "stdout",
     "output_type": "stream",
     "text": [
      "Train Loss: 0.0084\n",
      "Train Macro-F1: 0.9967, Weighted-F1: 0.9967\n"
     ]
    },
    {
     "name": "stderr",
     "output_type": "stream",
     "text": [
      "Evaluating: 100%|██████████| 20/20 [00:14<00:00,  1.35it/s]\n"
     ]
    },
    {
     "name": "stdout",
     "output_type": "stream",
     "text": [
      "                       precision    recall  f1-score   support\n",
      "\n",
      "          Nervousness       0.65      0.75      0.70        53\n",
      "Lack of Worry Control       0.81      0.55      0.66        47\n",
      "      Excessive Worry       0.58      0.46      0.51        46\n",
      "  Difficulty Relaxing       0.90      0.86      0.88        51\n",
      "         Restlessness       0.51      0.57      0.54        58\n",
      "       Impending Doom       0.63      0.77      0.70        52\n",
      "\n",
      "             accuracy                           0.66       307\n",
      "            macro avg       0.68      0.66      0.66       307\n",
      "         weighted avg       0.68      0.66      0.66       307\n",
      "\n",
      "Validation Loss: 2.4886\n",
      "Validation Macro-F1: 0.6631, Weighted-F1: 0.6630\n",
      "\n",
      "Epoch 24/30\n"
     ]
    },
    {
     "name": "stderr",
     "output_type": "stream",
     "text": [
      "Training: 100%|██████████| 135/135 [03:31<00:00,  1.57s/it]\n"
     ]
    },
    {
     "name": "stdout",
     "output_type": "stream",
     "text": [
      "Train Loss: 0.0060\n",
      "Train Macro-F1: 0.9972, Weighted-F1: 0.9972\n"
     ]
    },
    {
     "name": "stderr",
     "output_type": "stream",
     "text": [
      "Evaluating: 100%|██████████| 20/20 [00:14<00:00,  1.34it/s]\n"
     ]
    },
    {
     "name": "stdout",
     "output_type": "stream",
     "text": [
      "                       precision    recall  f1-score   support\n",
      "\n",
      "          Nervousness       0.63      0.75      0.69        53\n",
      "Lack of Worry Control       0.81      0.55      0.66        47\n",
      "      Excessive Worry       0.62      0.46      0.52        46\n",
      "  Difficulty Relaxing       0.90      0.86      0.88        51\n",
      "         Restlessness       0.51      0.57      0.54        58\n",
      "       Impending Doom       0.62      0.77      0.69        52\n",
      "\n",
      "             accuracy                           0.66       307\n",
      "            macro avg       0.68      0.66      0.66       307\n",
      "         weighted avg       0.68      0.66      0.66       307\n",
      "\n",
      "Validation Loss: 2.5116\n",
      "Validation Macro-F1: 0.6632, Weighted-F1: 0.6629\n",
      "\n",
      "Epoch 25/30\n"
     ]
    },
    {
     "name": "stderr",
     "output_type": "stream",
     "text": [
      "Training: 100%|██████████| 135/135 [03:31<00:00,  1.57s/it]\n"
     ]
    },
    {
     "name": "stdout",
     "output_type": "stream",
     "text": [
      "Train Loss: 0.0052\n",
      "Train Macro-F1: 0.9976, Weighted-F1: 0.9977\n"
     ]
    },
    {
     "name": "stderr",
     "output_type": "stream",
     "text": [
      "Evaluating: 100%|██████████| 20/20 [00:14<00:00,  1.34it/s]\n"
     ]
    },
    {
     "name": "stdout",
     "output_type": "stream",
     "text": [
      "                       precision    recall  f1-score   support\n",
      "\n",
      "          Nervousness       0.65      0.75      0.70        53\n",
      "Lack of Worry Control       0.81      0.55      0.66        47\n",
      "      Excessive Worry       0.60      0.46      0.52        46\n",
      "  Difficulty Relaxing       0.90      0.86      0.88        51\n",
      "         Restlessness       0.51      0.57      0.54        58\n",
      "       Impending Doom       0.62      0.77      0.69        52\n",
      "\n",
      "             accuracy                           0.66       307\n",
      "            macro avg       0.68      0.66      0.66       307\n",
      "         weighted avg       0.68      0.66      0.66       307\n",
      "\n",
      "Validation Loss: 2.5004\n",
      "Validation Macro-F1: 0.6631, Weighted-F1: 0.6629\n",
      "\n",
      "Epoch 26/30\n"
     ]
    },
    {
     "name": "stderr",
     "output_type": "stream",
     "text": [
      "Training: 100%|██████████| 135/135 [03:31<00:00,  1.57s/it]\n"
     ]
    },
    {
     "name": "stdout",
     "output_type": "stream",
     "text": [
      "Train Loss: 0.0071\n",
      "Train Macro-F1: 0.9967, Weighted-F1: 0.9968\n"
     ]
    },
    {
     "name": "stderr",
     "output_type": "stream",
     "text": [
      "Evaluating: 100%|██████████| 20/20 [00:14<00:00,  1.35it/s]\n"
     ]
    },
    {
     "name": "stdout",
     "output_type": "stream",
     "text": [
      "                       precision    recall  f1-score   support\n",
      "\n",
      "          Nervousness       0.65      0.75      0.70        53\n",
      "Lack of Worry Control       0.81      0.55      0.66        47\n",
      "      Excessive Worry       0.61      0.43      0.51        46\n",
      "  Difficulty Relaxing       0.92      0.86      0.89        51\n",
      "         Restlessness       0.51      0.59      0.54        58\n",
      "       Impending Doom       0.63      0.79      0.70        52\n",
      "\n",
      "             accuracy                           0.67       307\n",
      "            macro avg       0.69      0.66      0.67       307\n",
      "         weighted avg       0.68      0.67      0.67       307\n",
      "\n",
      "Validation Loss: 2.5031\n",
      "Validation Macro-F1: 0.6657, Weighted-F1: 0.6659\n",
      "\n",
      "Epoch 27/30\n"
     ]
    },
    {
     "name": "stderr",
     "output_type": "stream",
     "text": [
      "Training: 100%|██████████| 135/135 [03:30<00:00,  1.56s/it]\n"
     ]
    },
    {
     "name": "stdout",
     "output_type": "stream",
     "text": [
      "Train Loss: 0.0046\n",
      "Train Macro-F1: 0.9976, Weighted-F1: 0.9977\n"
     ]
    },
    {
     "name": "stderr",
     "output_type": "stream",
     "text": [
      "Evaluating: 100%|██████████| 20/20 [00:14<00:00,  1.35it/s]\n"
     ]
    },
    {
     "name": "stdout",
     "output_type": "stream",
     "text": [
      "                       precision    recall  f1-score   support\n",
      "\n",
      "          Nervousness       0.65      0.75      0.70        53\n",
      "Lack of Worry Control       0.81      0.55      0.66        47\n",
      "      Excessive Worry       0.61      0.43      0.51        46\n",
      "  Difficulty Relaxing       0.90      0.86      0.88        51\n",
      "         Restlessness       0.51      0.59      0.54        58\n",
      "       Impending Doom       0.62      0.77      0.69        52\n",
      "\n",
      "             accuracy                           0.66       307\n",
      "            macro avg       0.68      0.66      0.66       307\n",
      "         weighted avg       0.68      0.66      0.66       307\n",
      "\n",
      "Validation Loss: 2.5050\n",
      "Validation Macro-F1: 0.6623, Weighted-F1: 0.6625\n",
      "\n",
      "Epoch 28/30\n"
     ]
    },
    {
     "name": "stderr",
     "output_type": "stream",
     "text": [
      "Training: 100%|██████████| 135/135 [03:31<00:00,  1.57s/it]\n"
     ]
    },
    {
     "name": "stdout",
     "output_type": "stream",
     "text": [
      "Train Loss: 0.0057\n",
      "Train Macro-F1: 0.9976, Weighted-F1: 0.9977\n"
     ]
    },
    {
     "name": "stderr",
     "output_type": "stream",
     "text": [
      "Evaluating: 100%|██████████| 20/20 [00:14<00:00,  1.35it/s]\n"
     ]
    },
    {
     "name": "stdout",
     "output_type": "stream",
     "text": [
      "                       precision    recall  f1-score   support\n",
      "\n",
      "          Nervousness       0.66      0.75      0.70        53\n",
      "Lack of Worry Control       0.81      0.55      0.66        47\n",
      "      Excessive Worry       0.61      0.43      0.51        46\n",
      "  Difficulty Relaxing       0.92      0.86      0.89        51\n",
      "         Restlessness       0.51      0.60      0.56        58\n",
      "       Impending Doom       0.63      0.79      0.70        52\n",
      "\n",
      "             accuracy                           0.67       307\n",
      "            macro avg       0.69      0.67      0.67       307\n",
      "         weighted avg       0.68      0.67      0.67       307\n",
      "\n",
      "Validation Loss: 2.5110\n",
      "Validation Macro-F1: 0.6686, Weighted-F1: 0.6691\n",
      "\n",
      "Epoch 29/30\n"
     ]
    },
    {
     "name": "stderr",
     "output_type": "stream",
     "text": [
      "Training: 100%|██████████| 135/135 [03:31<00:00,  1.56s/it]\n"
     ]
    },
    {
     "name": "stdout",
     "output_type": "stream",
     "text": [
      "Train Loss: 0.0051\n",
      "Train Macro-F1: 0.9976, Weighted-F1: 0.9977\n"
     ]
    },
    {
     "name": "stderr",
     "output_type": "stream",
     "text": [
      "Evaluating: 100%|██████████| 20/20 [00:15<00:00,  1.33it/s]\n"
     ]
    },
    {
     "name": "stdout",
     "output_type": "stream",
     "text": [
      "                       precision    recall  f1-score   support\n",
      "\n",
      "          Nervousness       0.65      0.74      0.69        53\n",
      "Lack of Worry Control       0.81      0.55      0.66        47\n",
      "      Excessive Worry       0.61      0.43      0.51        46\n",
      "  Difficulty Relaxing       0.92      0.86      0.89        51\n",
      "         Restlessness       0.51      0.60      0.56        58\n",
      "       Impending Doom       0.62      0.79      0.69        52\n",
      "\n",
      "             accuracy                           0.67       307\n",
      "            macro avg       0.69      0.66      0.67       307\n",
      "         weighted avg       0.68      0.67      0.67       307\n",
      "\n",
      "Validation Loss: 2.5064\n",
      "Validation Macro-F1: 0.6657, Weighted-F1: 0.6661\n",
      "\n",
      "Epoch 30/30\n"
     ]
    },
    {
     "name": "stderr",
     "output_type": "stream",
     "text": [
      "Training: 100%|██████████| 135/135 [03:31<00:00,  1.57s/it]\n"
     ]
    },
    {
     "name": "stdout",
     "output_type": "stream",
     "text": [
      "Train Loss: 0.0053\n",
      "Train Macro-F1: 0.9976, Weighted-F1: 0.9977\n"
     ]
    },
    {
     "name": "stderr",
     "output_type": "stream",
     "text": [
      "Evaluating: 100%|██████████| 20/20 [00:14<00:00,  1.35it/s]\n"
     ]
    },
    {
     "name": "stdout",
     "output_type": "stream",
     "text": [
      "                       precision    recall  f1-score   support\n",
      "\n",
      "          Nervousness       0.66      0.74      0.70        53\n",
      "Lack of Worry Control       0.81      0.55      0.66        47\n",
      "      Excessive Worry       0.61      0.43      0.51        46\n",
      "  Difficulty Relaxing       0.92      0.86      0.89        51\n",
      "         Restlessness       0.51      0.62      0.56        58\n",
      "       Impending Doom       0.63      0.79      0.70        52\n",
      "\n",
      "             accuracy                           0.67       307\n",
      "            macro avg       0.69      0.67      0.67       307\n",
      "         weighted avg       0.69      0.67      0.67       307\n",
      "\n",
      "Validation Loss: 2.5001\n",
      "Validation Macro-F1: 0.6689, Weighted-F1: 0.6695\n"
     ]
    }
   ],
   "source": [
    "model = MultimodalAttentionModel(\n",
    "    text_model_name=\"mental/mental-roberta-base\",\n",
    "    num_classes=len(LABEL_MAP),\n",
    "    fusion_dim=FUSION_DIM\n",
    ")\n",
    "\n",
    "trained_model, tokenizer, image_processor = train_multimodal_model(\n",
    "    model,\n",
    "    train_data,\n",
    "    val_data,\n",
    "    img_path,\n",
    "    epochs=30,\n",
    "    model_save_name=\"no_contrastive\"\n",
    ")"
   ]
  },
  {
   "cell_type": "markdown",
   "metadata": {},
   "source": [
    "## Inference"
   ]
  },
  {
   "cell_type": "code",
   "execution_count": 11,
   "metadata": {
    "execution": {
     "iopub.execute_input": "2025-04-14T20:53:10.887608Z",
     "iopub.status.busy": "2025-04-14T20:53:10.886824Z",
     "iopub.status.idle": "2025-04-14T20:53:34.670975Z",
     "shell.execute_reply": "2025-04-14T20:53:34.670019Z",
     "shell.execute_reply.started": "2025-04-14T20:53:10.887580Z"
    },
    "id": "YAgLeEM3aOFt",
    "trusted": true
   },
   "outputs": [
    {
     "name": "stdout",
     "output_type": "stream",
     "text": [
      "Downloading...\n",
      "From (original): https://drive.google.com/uc?id=1qF-7lyFOOLxn6XqBqRYp-UMFa6dF9IYv\n",
      "From (redirected): https://drive.google.com/uc?id=1qF-7lyFOOLxn6XqBqRYp-UMFa6dF9IYv&confirm=t&uuid=1b026422-fcf7-4c65-9128-3fc9c7d551f8\n",
      "To: /kaggle/working/no_contrastive_anxiety.pth\n",
      "100%|██████████████████████████████████████| 1.04G/1.04G [00:18<00:00, 54.7MB/s]\n"
     ]
    }
   ],
   "source": [
    "!gdown 1qF-7lyFOOLxn6XqBqRYp-UMFa6dF9IYv"
   ]
  },
  {
   "cell_type": "code",
   "execution_count": 12,
   "metadata": {
    "execution": {
     "iopub.execute_input": "2025-04-14T20:53:44.152910Z",
     "iopub.status.busy": "2025-04-14T20:53:44.152545Z",
     "iopub.status.idle": "2025-04-14T20:53:44.159019Z",
     "shell.execute_reply": "2025-04-14T20:53:44.158317Z",
     "shell.execute_reply.started": "2025-04-14T20:53:44.152862Z"
    },
    "trusted": true
   },
   "outputs": [],
   "source": [
    "def inference(test_data, model_path):\n",
    "    model = MultimodalAttentionModel(\n",
    "        text_model_name=\"mental/mental-roberta-base\",\n",
    "        num_classes=len(LABEL_MAP),\n",
    "        fusion_dim=FUSION_DIM\n",
    "    )\n",
    "\n",
    "    model = model.to(DEVICE)\n",
    "\n",
    "    weights = torch.load(model_path, map_location=DEVICE, weights_only=True)\n",
    "    weights_single = {k.replace(\"module.\", \"\"): v for k, v in weights.items()}\n",
    "\n",
    "    model.load_state_dict(weights_single)\n",
    "    tokenizer = AutoTokenizer.from_pretrained(\"mental/mental-roberta-base\")\n",
    "    image_processor = CLIPImageProcessor.from_pretrained(\"openai/clip-vit-base-patch32\")\n",
    "\n",
    "    test_dataset = MultimodalAnxietyDataset(test_data, \"anxiety_test_image\", tokenizer, image_processor, max_len=MAX_LEN)\n",
    "    test_loader = DataLoader(\n",
    "        test_dataset,\n",
    "        batch_size=BATCH_SIZE,\n",
    "        shuffle=False,\n",
    "        collate_fn=custom_collate_fn\n",
    "    )\n",
    "\n",
    "    loss, macro_f1, weighted_f1 = evaluate_multimodal_model(\n",
    "        model, test_loader, nn.CrossEntropyLoss()\n",
    "    )\n",
    "\n",
    "    print(f\"Test Loss: {loss:.4f}\")\n",
    "    print(f\"Test Macro-F1: {macro_f1:.4f}, Weighted-F1: {weighted_f1:.4f}\")\n",
    "\n",
    "    return macro_f1, weighted_f1"
   ]
  },
  {
   "cell_type": "code",
   "execution_count": 16,
   "metadata": {
    "execution": {
     "iopub.execute_input": "2025-04-14T20:55:58.588146Z",
     "iopub.status.busy": "2025-04-14T20:55:58.587856Z",
     "iopub.status.idle": "2025-04-14T20:56:34.547650Z",
     "shell.execute_reply": "2025-04-14T20:56:34.547107Z",
     "shell.execute_reply.started": "2025-04-14T20:55:58.588126Z"
    },
    "trusted": true
   },
   "outputs": [
    {
     "name": "stderr",
     "output_type": "stream",
     "text": [
      "Some weights of RobertaModel were not initialized from the model checkpoint at mental/mental-roberta-base and are newly initialized: ['pooler.dense.bias', 'pooler.dense.weight']\n",
      "You should probably TRAIN this model on a down-stream task to be able to use it for predictions and inference.\n",
      "Evaluating: 100%|██████████| 39/39 [00:32<00:00,  1.19it/s]"
     ]
    },
    {
     "name": "stdout",
     "output_type": "stream",
     "text": [
      "                       precision    recall  f1-score   support\n",
      "\n",
      "          Nervousness       0.66      0.65      0.65       106\n",
      "Lack of Worry Control       0.66      0.52      0.58        94\n",
      "      Excessive Worry       0.52      0.65      0.58        92\n",
      "  Difficulty Relaxing       0.83      0.77      0.80       102\n",
      "         Restlessness       0.52      0.59      0.55       116\n",
      "       Impending Doom       0.76      0.67      0.71       105\n",
      "\n",
      "             accuracy                           0.64       615\n",
      "            macro avg       0.66      0.64      0.65       615\n",
      "         weighted avg       0.66      0.64      0.65       615\n",
      "\n",
      "Test Loss: 2.4443\n",
      "Test Macro-F1: 0.6469, Weighted-F1: 0.6471\n"
     ]
    },
    {
     "name": "stderr",
     "output_type": "stream",
     "text": [
      "\n"
     ]
    },
    {
     "data": {
      "text/plain": [
       "(0.6468653448458661, 0.6470777612908264)"
      ]
     },
     "execution_count": 16,
     "metadata": {},
     "output_type": "execute_result"
    }
   ],
   "source": [
    "inference(test_data, \"no_contrastive_anxiety.pth\")"
   ]
  },
  {
   "cell_type": "code",
   "execution_count": null,
   "metadata": {
    "trusted": true
   },
   "outputs": [],
   "source": []
  }
 ],
 "metadata": {
  "colab": {
   "name": "anxiety_ablation_without_contrastive_learning",
   "provenance": []
  },
  "kaggle": {
   "accelerator": "nvidiaTeslaT4",
   "dataSources": [],
   "dockerImageVersionId": 31011,
   "isGpuEnabled": true,
   "isInternetEnabled": true,
   "language": "python",
   "sourceType": "notebook"
  },
  "kernelspec": {
   "display_name": "Python 3",
   "language": "python",
   "name": "python3"
  },
  "language_info": {
   "codemirror_mode": {
    "name": "ipython",
    "version": 3
   },
   "file_extension": ".py",
   "mimetype": "text/x-python",
   "name": "python",
   "nbconvert_exporter": "python",
   "pygments_lexer": "ipython3",
   "version": "3.11.11"
  }
 },
 "nbformat": 4,
 "nbformat_minor": 4
}
