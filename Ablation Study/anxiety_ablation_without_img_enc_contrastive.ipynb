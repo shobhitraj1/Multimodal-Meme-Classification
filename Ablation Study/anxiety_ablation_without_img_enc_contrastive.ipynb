{
 "cells": [
  {
   "cell_type": "markdown",
   "metadata": {},
   "source": [
    "## Dataset Download"
   ]
  },
  {
   "cell_type": "code",
   "execution_count": null,
   "metadata": {
    "execution": {
     "iopub.execute_input": "2025-04-13T09:44:09.816731Z",
     "iopub.status.busy": "2025-04-13T09:44:09.816508Z",
     "iopub.status.idle": "2025-04-13T09:44:18.84652Z",
     "shell.execute_reply": "2025-04-13T09:44:18.84589Z",
     "shell.execute_reply.started": "2025-04-13T09:44:09.816706Z"
    },
    "id": "b60aKWSTdnfB",
    "outputId": "8017f051-5f61-4ba8-e70f-d84232eb95b0",
    "trusted": true
   },
   "outputs": [
    {
     "name": "stdout",
     "output_type": "stream",
     "text": [
      "Downloading...\n",
      "From (original): https://drive.google.com/uc?id=1doU9FE1tJ-0IL4tKZUOOp76JkXKuTkFU\n",
      "From (redirected): https://drive.google.com/uc?id=1doU9FE1tJ-0IL4tKZUOOp76JkXKuTkFU&confirm=t&uuid=52071f04-cc2f-414e-b37c-ce4972b9c905\n",
      "To: /kaggle/working/anxiety_dataset_complete.zip\n",
      "100%|███████████████████████████████████████| 1.41G/1.41G [00:04<00:00, 321MB/s]\n"
     ]
    }
   ],
   "source": [
    "!gdown 1doU9FE1tJ-0IL4tKZUOOp76JkXKuTkFU"
   ]
  },
  {
   "cell_type": "code",
   "execution_count": null,
   "metadata": {
    "execution": {
     "iopub.execute_input": "2025-04-13T09:44:18.848401Z",
     "iopub.status.busy": "2025-04-13T09:44:18.848161Z",
     "iopub.status.idle": "2025-04-13T09:44:34.279234Z",
     "shell.execute_reply": "2025-04-13T09:44:34.278229Z",
     "shell.execute_reply.started": "2025-04-13T09:44:18.84838Z"
    },
    "id": "DGxmLa_WdnfC",
    "trusted": true
   },
   "outputs": [],
   "source": [
    "!unzip anxiety_dataset_complete.zip > /dev/null"
   ]
  },
  {
   "cell_type": "code",
   "execution_count": 27,
   "metadata": {
    "execution": {
     "iopub.execute_input": "2025-04-14T21:36:14.736225Z",
     "iopub.status.busy": "2025-04-14T21:36:14.735501Z",
     "iopub.status.idle": "2025-04-14T21:36:14.741795Z",
     "shell.execute_reply": "2025-04-14T21:36:14.741277Z",
     "shell.execute_reply.started": "2025-04-14T21:36:14.736200Z"
    },
    "trusted": true
   },
   "outputs": [],
   "source": [
    "import os\n",
    "import torch\n",
    "import torch.nn as nn\n",
    "import torch.optim as optim\n",
    "import torch.nn.functional as F\n",
    "from torch.utils.data import Dataset, DataLoader\n",
    "from transformers import AutoTokenizer, AutoModel\n",
    "from sklearn.metrics import f1_score, classification_report\n",
    "from sklearn.model_selection import train_test_split\n",
    "from tqdm import tqdm\n",
    "import json\n",
    "import math\n",
    "\n",
    "TRAIN_RATIO = 0.7  # 70% train\n",
    "VAL_RATIO = 0.1    # 10% validation\n",
    "TEST_RATIO = 0.2   # 20% test\n",
    "DEVICE = torch.device(\"cuda\" if torch.cuda.is_available() else \"cpu\")\n",
    "BATCH_SIZE = 16\n",
    "LR = 2e-5\n",
    "MAX_LEN = 512\n",
    "FUSION_DIM = 768\n",
    "LABELS = [\"Nervousness\", \"Lack of Worry Control\", \"Excessive Worry\",\n",
    "          \"Difficulty Relaxing\", \"Restlessness\", \"Impending Doom\"]\n",
    "LABEL_MAP = {i: idx for idx, i in enumerate(LABELS)}"
   ]
  },
  {
   "cell_type": "markdown",
   "metadata": {},
   "source": [
    "## Custom Dataset"
   ]
  },
  {
   "cell_type": "code",
   "execution_count": 28,
   "metadata": {
    "execution": {
     "iopub.execute_input": "2025-04-14T21:36:17.061284Z",
     "iopub.status.busy": "2025-04-14T21:36:17.060660Z",
     "iopub.status.idle": "2025-04-14T21:36:17.067850Z",
     "shell.execute_reply": "2025-04-14T21:36:17.067264Z",
     "shell.execute_reply.started": "2025-04-14T21:36:17.061261Z"
    },
    "id": "avI-yK3SdnfC",
    "trusted": true
   },
   "outputs": [],
   "source": [
    "class TextOnlyAnxietyDataset(Dataset):\n",
    "    def __init__(self, data, tokenizer, max_len=512):\n",
    "        self.data = data\n",
    "        self.tokenizer = tokenizer\n",
    "        self.max_len = max_len\n",
    "\n",
    "    def __len__(self):\n",
    "        return len(self.data)\n",
    "\n",
    "    def __getitem__(self, idx):\n",
    "        sample = self.data[idx]\n",
    "\n",
    "        ocr_text = sample[\"ocr_text\"]\n",
    "        figurative_reasoning = sample[\"figurative_reasoning\"]\n",
    "        combined_text = ocr_text + \" [SEP] \" + figurative_reasoning\n",
    "\n",
    "        encoding = self.tokenizer(\n",
    "            combined_text,\n",
    "            padding=\"max_length\",\n",
    "            truncation=True,\n",
    "            max_length=self.max_len,\n",
    "            return_tensors=\"pt\",\n",
    "        )\n",
    "\n",
    "        label = LABEL_MAP[sample[\"meme_anxiety_category\"]]\n",
    "\n",
    "        return {\n",
    "            \"input_ids\": encoding[\"input_ids\"].squeeze(0),\n",
    "            \"attention_mask\": encoding[\"attention_mask\"].squeeze(0),\n",
    "            \"label\": torch.tensor(label, dtype=torch.long)\n",
    "        }\n",
    "\n",
    "def custom_collate_fn(batch):\n",
    "    input_ids = torch.stack([item['input_ids'] for item in batch])\n",
    "    attention_mask = torch.stack([item['attention_mask'] for item in batch])\n",
    "    labels = torch.stack([item['label'] for item in batch])\n",
    "\n",
    "    return {\n",
    "        'input_ids': input_ids,\n",
    "        'attention_mask': attention_mask,\n",
    "        'label': labels,\n",
    "    }"
   ]
  },
  {
   "cell_type": "markdown",
   "metadata": {},
   "source": [
    "## Model Definition"
   ]
  },
  {
   "cell_type": "code",
   "execution_count": 29,
   "metadata": {
    "execution": {
     "iopub.execute_input": "2025-04-14T21:36:19.652779Z",
     "iopub.status.busy": "2025-04-14T21:36:19.652101Z",
     "iopub.status.idle": "2025-04-14T21:36:19.660674Z",
     "shell.execute_reply": "2025-04-14T21:36:19.660129Z",
     "shell.execute_reply.started": "2025-04-14T21:36:19.652754Z"
    },
    "id": "hSE-u0-4dnfD",
    "trusted": true
   },
   "outputs": [],
   "source": [
    "class TextOnlyModel(nn.Module):\n",
    "    def __init__(self, text_model_name=\"bert-base-uncased\", num_classes=6, hidden_dim=768):\n",
    "        super(TextOnlyModel, self).__init__()\n",
    "\n",
    "        self.text_encoder = AutoModel.from_pretrained(text_model_name)\n",
    "        self.text_dim = self.text_encoder.config.hidden_size\n",
    "\n",
    "        self.text_projections = nn.ModuleList([\n",
    "            nn.Linear(self.text_dim, hidden_dim) for _ in range(3)\n",
    "        ])\n",
    "\n",
    "        self.expert_nets = nn.ModuleList([\n",
    "            nn.Sequential(\n",
    "                nn.Linear(hidden_dim, hidden_dim),\n",
    "                nn.LayerNorm(hidden_dim),\n",
    "                nn.GELU(),\n",
    "                nn.Dropout(0.2)\n",
    "            ) for _ in range(4)\n",
    "        ])\n",
    "\n",
    "        self.moe_gate = nn.Linear(hidden_dim, 4)\n",
    "\n",
    "        self.classifier = nn.Sequential(\n",
    "            nn.Linear(hidden_dim, hidden_dim),\n",
    "            nn.LayerNorm(hidden_dim),\n",
    "            nn.GELU(),\n",
    "            nn.Dropout(0.1),\n",
    "            nn.Linear(hidden_dim, num_classes)\n",
    "        )\n",
    "\n",
    "    def forward(self, input_ids, attention_mask):\n",
    "        text_outputs = self.text_encoder(input_ids=input_ids, attention_mask=attention_mask, output_hidden_states=True)\n",
    "\n",
    "        text_features = [\n",
    "            text_outputs.hidden_states[-i][:, 0] for i in range(1, 4)\n",
    "        ]\n",
    "        text_features = [\n",
    "            proj(feat) for proj, feat in zip(self.text_projections, text_features)\n",
    "        ]\n",
    "\n",
    "        combined_feature = sum(text_features) / len(text_features)\n",
    "\n",
    "        expert_outputs = [expert(combined_feature) for expert in self.expert_nets]\n",
    "        expert_gates = F.softmax(self.moe_gate(combined_feature), dim=1)\n",
    "\n",
    "        moe_output = torch.zeros_like(expert_outputs[0])\n",
    "        for i, expert_out in enumerate(expert_outputs):\n",
    "            moe_output += expert_out * expert_gates[:, i].unsqueeze(1)\n",
    "\n",
    "        logits = self.classifier(moe_output)\n",
    "\n",
    "        return logits"
   ]
  },
  {
   "cell_type": "markdown",
   "metadata": {},
   "source": [
    "## Training Functions"
   ]
  },
  {
   "cell_type": "code",
   "execution_count": 30,
   "metadata": {
    "execution": {
     "iopub.execute_input": "2025-04-14T21:36:21.841711Z",
     "iopub.status.busy": "2025-04-14T21:36:21.841152Z",
     "iopub.status.idle": "2025-04-14T21:36:21.854189Z",
     "shell.execute_reply": "2025-04-14T21:36:21.853403Z",
     "shell.execute_reply.started": "2025-04-14T21:36:21.841684Z"
    },
    "trusted": true
   },
   "outputs": [],
   "source": [
    "def train_text_model(model, train_data, val_data, epochs, model_save_name):\n",
    "    tokenizer = AutoTokenizer.from_pretrained(\"mental/mental-roberta-base\")\n",
    "\n",
    "    train_dataset = TextOnlyAnxietyDataset(train_data, tokenizer, max_len=MAX_LEN)\n",
    "    val_dataset = TextOnlyAnxietyDataset(val_data, tokenizer, max_len=MAX_LEN)\n",
    "\n",
    "    print(\"Train Set Size:\", len(train_dataset))\n",
    "    print(\"Validation Set Size:\", len(val_dataset))\n",
    "    \n",
    "    train_loader = DataLoader(\n",
    "        train_dataset,\n",
    "        batch_size=BATCH_SIZE,\n",
    "        shuffle=True,\n",
    "        collate_fn=custom_collate_fn\n",
    "    )\n",
    "\n",
    "    val_loader = DataLoader(\n",
    "        val_dataset,\n",
    "        batch_size=BATCH_SIZE,\n",
    "        shuffle=False,\n",
    "        collate_fn=custom_collate_fn\n",
    "    )\n",
    "\n",
    "    optimizer = optim.AdamW(model.parameters(), lr=LR)\n",
    "    scheduler = torch.optim.lr_scheduler.ReduceLROnPlateau(\n",
    "        optimizer, mode='max', factor=0.5, patience=2, verbose=True\n",
    "    )\n",
    "    criterion = nn.CrossEntropyLoss()\n",
    "\n",
    "    model = model.to(DEVICE)\n",
    "    model = nn.DataParallel(model)\n",
    "\n",
    "    best_f1 = 0\n",
    "    for epoch in range(epochs):\n",
    "        print(f\"\\nEpoch {epoch+1}/{epochs}\")\n",
    "\n",
    "        model.train()\n",
    "        train_loss = 0\n",
    "        train_preds, train_labels = [], []\n",
    "\n",
    "        for batch in tqdm(train_loader, desc=\"Training\"):\n",
    "            input_ids = batch[\"input_ids\"].to(DEVICE)\n",
    "            attention_mask = batch[\"attention_mask\"].to(DEVICE)\n",
    "            labels = batch[\"label\"].to(DEVICE)\n",
    "\n",
    "            optimizer.zero_grad()\n",
    "            logits = model(input_ids, attention_mask)\n",
    "            loss = criterion(logits, labels)\n",
    "            loss.backward()\n",
    "            torch.nn.utils.clip_grad_norm_(model.parameters(), 1.0)\n",
    "            optimizer.step()\n",
    "\n",
    "            train_loss += loss.item()\n",
    "            predictions = torch.argmax(logits, dim=1).cpu().numpy()\n",
    "            train_preds.extend(predictions)\n",
    "            train_labels.extend(labels.cpu().numpy())\n",
    "\n",
    "        train_loss = train_loss / len(train_loader)\n",
    "        train_macro_f1 = f1_score(train_labels, train_preds, average=\"macro\")\n",
    "        train_weighted_f1 = f1_score(train_labels, train_preds, average=\"weighted\")\n",
    "\n",
    "        print(f\"Train Loss: {train_loss:.4f}\")\n",
    "        print(f\"Train Macro-F1: {train_macro_f1:.4f}, Weighted-F1: {train_weighted_f1:.4f}\")\n",
    "\n",
    "        val_loss, val_macro_f1, val_weighted_f1 = evaluate_text_model(\n",
    "            model, val_loader, criterion\n",
    "        )\n",
    "\n",
    "        print(f\"Validation Loss: {val_loss:.4f}\")\n",
    "        print(f\"Validation Macro-F1: {val_macro_f1:.4f}, Weighted-F1: {val_weighted_f1:.4f}\")\n",
    "\n",
    "        scheduler.step(val_macro_f1)\n",
    "\n",
    "        f1_hm = 2 * val_macro_f1 * val_weighted_f1 / (val_macro_f1 + val_weighted_f1)\n",
    "        if f1_hm > best_f1:\n",
    "            best_f1 = f1_hm\n",
    "            torch.save(model.state_dict(), f\"{model_save_name}_anxiety.pth\")\n",
    "            print(\"Best model saved!\")\n",
    "\n",
    "    return model\n",
    "\n",
    "def evaluate_text_model(model, loader, criterion):\n",
    "    model.eval()\n",
    "    val_loss = 0\n",
    "    val_preds, val_labels = [], []\n",
    "\n",
    "    with torch.no_grad():\n",
    "        for batch in tqdm(loader, desc=\"Evaluating\"):\n",
    "            input_ids = batch[\"input_ids\"].to(DEVICE)\n",
    "            attention_mask = batch[\"attention_mask\"].to(DEVICE)\n",
    "            labels = batch[\"label\"].to(DEVICE)\n",
    "\n",
    "            logits = model(input_ids, attention_mask)\n",
    "            loss = criterion(logits, labels)\n",
    "\n",
    "            val_loss += loss.item()\n",
    "            predictions = torch.argmax(logits, dim=1).cpu().numpy()\n",
    "            val_preds.extend(predictions)\n",
    "            val_labels.extend(labels.cpu().numpy())\n",
    "\n",
    "    val_loss = val_loss / len(loader)\n",
    "    val_macro_f1 = f1_score(val_labels, val_preds, average=\"macro\")\n",
    "    val_weighted_f1 = f1_score(val_labels, val_preds, average=\"weighted\")\n",
    "\n",
    "    target_names = [k for k, v in sorted(LABEL_MAP.items(), key=lambda x: x[1])]\n",
    "    report = classification_report(val_labels, val_preds, target_names=target_names)\n",
    "    print(report)\n",
    "\n",
    "    return val_loss, val_macro_f1, val_weighted_f1"
   ]
  },
  {
   "cell_type": "markdown",
   "metadata": {},
   "source": [
    "## Model Training"
   ]
  },
  {
   "cell_type": "code",
   "execution_count": null,
   "metadata": {
    "execution": {
     "iopub.execute_input": "2025-04-14T21:36:23.958856Z",
     "iopub.status.busy": "2025-04-14T21:36:23.958249Z",
     "iopub.status.idle": "2025-04-14T21:36:24.298359Z",
     "shell.execute_reply": "2025-04-14T21:36:24.297561Z",
     "shell.execute_reply.started": "2025-04-14T21:36:23.958832Z"
    },
    "trusted": true
   },
   "outputs": [],
   "source": [
    "full_train_data = json.load(open(\"anxiety_train_llava_dataset.json\", \"r\"))\n",
    "test_data = json.load(open(\"anxiety_test_llava_dataset.json\", \"r\"))\n",
    "\n",
    "labels = [LABEL_MAP[item[\"meme_anxiety_category\"]] for item in full_train_data]\n",
    "\n",
    "train_size = math.ceil(len(full_train_data) * TRAIN_RATIO / (TRAIN_RATIO + VAL_RATIO))\n",
    "train_data, val_data = train_test_split(\n",
    "    full_train_data, train_size=train_size, stratify=labels, random_state=42\n",
    ")\n",
    "\n",
    "tokenizer = AutoTokenizer.from_pretrained(\"mental/mental-roberta-base\")\n",
    "\n",
    "test_dataset = TextOnlyAnxietyDataset(test_data, tokenizer, max_len=MAX_LEN)\n",
    "test_loader = DataLoader(\n",
    "    test_dataset,\n",
    "    batch_size=BATCH_SIZE,\n",
    "    shuffle=False,\n",
    "    collate_fn=custom_collate_fn\n",
    ")"
   ]
  },
  {
   "cell_type": "code",
   "execution_count": null,
   "metadata": {
    "execution": {
     "iopub.execute_input": "2025-04-13T09:56:51.735995Z",
     "iopub.status.busy": "2025-04-13T09:56:51.735646Z",
     "iopub.status.idle": "2025-04-13T11:06:07.659234Z",
     "shell.execute_reply": "2025-04-13T11:06:07.658449Z",
     "shell.execute_reply.started": "2025-04-13T09:56:51.735975Z"
    },
    "id": "p29WyvcVdnfE",
    "outputId": "88e1ffe6-88cf-4121-ec9f-204a0e5bdeef",
    "trusted": true
   },
   "outputs": [
    {
     "name": "stderr",
     "output_type": "stream",
     "text": [
      "Some weights of RobertaModel were not initialized from the model checkpoint at mental/mental-roberta-base and are newly initialized: ['pooler.dense.bias', 'pooler.dense.weight']\n",
      "You should probably TRAIN this model on a down-stream task to be able to use it for predictions and inference.\n"
     ]
    },
    {
     "name": "stdout",
     "output_type": "stream",
     "text": [
      "Train Set Size: 2153\n",
      "Validation Set Size: 307\n",
      "\n",
      "Epoch 1/30\n"
     ]
    },
    {
     "name": "stderr",
     "output_type": "stream",
     "text": [
      "Training: 100%|██████████| 135/135 [02:01<00:00,  1.11it/s]\n"
     ]
    },
    {
     "name": "stdout",
     "output_type": "stream",
     "text": [
      "Train Loss: 1.7209\n",
      "Train Macro-F1: 0.2361, Weighted-F1: 0.2382\n"
     ]
    },
    {
     "name": "stderr",
     "output_type": "stream",
     "text": [
      "Evaluating: 100%|██████████| 20/20 [00:05<00:00,  3.70it/s]\n"
     ]
    },
    {
     "name": "stdout",
     "output_type": "stream",
     "text": [
      "                       precision    recall  f1-score   support\n",
      "\n",
      "          Nervousness       0.41      0.79      0.54        53\n",
      "Lack of Worry Control       0.51      0.51      0.51        47\n",
      "      Excessive Worry       0.47      0.20      0.28        46\n",
      "  Difficulty Relaxing       0.83      0.78      0.81        51\n",
      "         Restlessness       0.35      0.45      0.39        58\n",
      "       Impending Doom       0.69      0.21      0.32        52\n",
      "\n",
      "             accuracy                           0.50       307\n",
      "            macro avg       0.54      0.49      0.48       307\n",
      "         weighted avg       0.54      0.50      0.48       307\n",
      "\n",
      "Validation Loss: 1.3568\n",
      "Validation Macro-F1: 0.4753, Weighted-F1: 0.4761\n",
      "Best model saved!\n",
      "\n",
      "Epoch 2/30\n"
     ]
    },
    {
     "name": "stderr",
     "output_type": "stream",
     "text": [
      "Training: 100%|██████████| 135/135 [02:01<00:00,  1.11it/s]\n"
     ]
    },
    {
     "name": "stdout",
     "output_type": "stream",
     "text": [
      "Train Loss: 1.1704\n",
      "Train Macro-F1: 0.5547, Weighted-F1: 0.5545\n"
     ]
    },
    {
     "name": "stderr",
     "output_type": "stream",
     "text": [
      "Evaluating: 100%|██████████| 20/20 [00:05<00:00,  3.68it/s]\n"
     ]
    },
    {
     "name": "stdout",
     "output_type": "stream",
     "text": [
      "                       precision    recall  f1-score   support\n",
      "\n",
      "          Nervousness       0.65      0.60      0.63        53\n",
      "Lack of Worry Control       0.57      0.57      0.57        47\n",
      "      Excessive Worry       0.63      0.37      0.47        46\n",
      "  Difficulty Relaxing       0.82      0.92      0.87        51\n",
      "         Restlessness       0.49      0.69      0.57        58\n",
      "       Impending Doom       0.71      0.62      0.66        52\n",
      "\n",
      "             accuracy                           0.64       307\n",
      "            macro avg       0.65      0.63      0.63       307\n",
      "         weighted avg       0.64      0.64      0.63       307\n",
      "\n",
      "Validation Loss: 1.0349\n",
      "Validation Macro-F1: 0.6282, Weighted-F1: 0.6304\n",
      "Best model saved!\n",
      "\n",
      "Epoch 3/30\n"
     ]
    },
    {
     "name": "stderr",
     "output_type": "stream",
     "text": [
      "Training: 100%|██████████| 135/135 [02:01<00:00,  1.11it/s]\n"
     ]
    },
    {
     "name": "stdout",
     "output_type": "stream",
     "text": [
      "Train Loss: 0.7756\n",
      "Train Macro-F1: 0.7311, Weighted-F1: 0.7311\n"
     ]
    },
    {
     "name": "stderr",
     "output_type": "stream",
     "text": [
      "Evaluating: 100%|██████████| 20/20 [00:05<00:00,  3.69it/s]\n"
     ]
    },
    {
     "name": "stdout",
     "output_type": "stream",
     "text": [
      "                       precision    recall  f1-score   support\n",
      "\n",
      "          Nervousness       0.67      0.58      0.63        53\n",
      "Lack of Worry Control       0.74      0.62      0.67        47\n",
      "      Excessive Worry       0.66      0.46      0.54        46\n",
      "  Difficulty Relaxing       0.90      0.84      0.87        51\n",
      "         Restlessness       0.45      0.74      0.56        58\n",
      "       Impending Doom       0.67      0.60      0.63        52\n",
      "\n",
      "             accuracy                           0.64       307\n",
      "            macro avg       0.68      0.64      0.65       307\n",
      "         weighted avg       0.68      0.64      0.65       307\n",
      "\n",
      "Validation Loss: 1.0623\n",
      "Validation Macro-F1: 0.6498, Weighted-F1: 0.6490\n",
      "Best model saved!\n",
      "\n",
      "Epoch 4/30\n"
     ]
    },
    {
     "name": "stderr",
     "output_type": "stream",
     "text": [
      "Training: 100%|██████████| 135/135 [02:01<00:00,  1.11it/s]\n"
     ]
    },
    {
     "name": "stdout",
     "output_type": "stream",
     "text": [
      "Train Loss: 0.4776\n",
      "Train Macro-F1: 0.8468, Weighted-F1: 0.8472\n"
     ]
    },
    {
     "name": "stderr",
     "output_type": "stream",
     "text": [
      "Evaluating: 100%|██████████| 20/20 [00:05<00:00,  3.69it/s]\n"
     ]
    },
    {
     "name": "stdout",
     "output_type": "stream",
     "text": [
      "                       precision    recall  f1-score   support\n",
      "\n",
      "          Nervousness       0.55      0.77      0.65        53\n",
      "Lack of Worry Control       0.80      0.60      0.68        47\n",
      "      Excessive Worry       0.58      0.41      0.48        46\n",
      "  Difficulty Relaxing       0.91      0.76      0.83        51\n",
      "         Restlessness       0.55      0.55      0.55        58\n",
      "       Impending Doom       0.62      0.77      0.69        52\n",
      "\n",
      "             accuracy                           0.65       307\n",
      "            macro avg       0.67      0.64      0.65       307\n",
      "         weighted avg       0.67      0.65      0.65       307\n",
      "\n",
      "Validation Loss: 1.2091\n",
      "Validation Macro-F1: 0.6468, Weighted-F1: 0.6470\n",
      "\n",
      "Epoch 5/30\n"
     ]
    },
    {
     "name": "stderr",
     "output_type": "stream",
     "text": [
      "Training: 100%|██████████| 135/135 [02:01<00:00,  1.11it/s]\n"
     ]
    },
    {
     "name": "stdout",
     "output_type": "stream",
     "text": [
      "Train Loss: 0.3084\n",
      "Train Macro-F1: 0.9072, Weighted-F1: 0.9072\n"
     ]
    },
    {
     "name": "stderr",
     "output_type": "stream",
     "text": [
      "Evaluating: 100%|██████████| 20/20 [00:05<00:00,  3.70it/s]\n"
     ]
    },
    {
     "name": "stdout",
     "output_type": "stream",
     "text": [
      "                       precision    recall  f1-score   support\n",
      "\n",
      "          Nervousness       0.53      0.72      0.61        53\n",
      "Lack of Worry Control       0.82      0.66      0.73        47\n",
      "      Excessive Worry       0.59      0.48      0.53        46\n",
      "  Difficulty Relaxing       0.82      0.88      0.85        51\n",
      "         Restlessness       0.61      0.53      0.57        58\n",
      "       Impending Doom       0.70      0.73      0.72        52\n",
      "\n",
      "             accuracy                           0.67       307\n",
      "            macro avg       0.68      0.67      0.67       307\n",
      "         weighted avg       0.68      0.67      0.67       307\n",
      "\n",
      "Validation Loss: 1.2773\n",
      "Validation Macro-F1: 0.6671, Weighted-F1: 0.6660\n",
      "Best model saved!\n",
      "\n",
      "Epoch 6/30\n"
     ]
    },
    {
     "name": "stderr",
     "output_type": "stream",
     "text": [
      "Training: 100%|██████████| 135/135 [02:01<00:00,  1.11it/s]\n"
     ]
    },
    {
     "name": "stdout",
     "output_type": "stream",
     "text": [
      "Train Loss: 0.1928\n",
      "Train Macro-F1: 0.9442, Weighted-F1: 0.9447\n"
     ]
    },
    {
     "name": "stderr",
     "output_type": "stream",
     "text": [
      "Evaluating: 100%|██████████| 20/20 [00:05<00:00,  3.69it/s]\n"
     ]
    },
    {
     "name": "stdout",
     "output_type": "stream",
     "text": [
      "                       precision    recall  f1-score   support\n",
      "\n",
      "          Nervousness       0.54      0.77      0.64        53\n",
      "Lack of Worry Control       0.72      0.70      0.71        47\n",
      "      Excessive Worry       0.47      0.50      0.48        46\n",
      "  Difficulty Relaxing       0.91      0.78      0.84        51\n",
      "         Restlessness       0.68      0.47      0.55        58\n",
      "       Impending Doom       0.73      0.73      0.73        52\n",
      "\n",
      "             accuracy                           0.66       307\n",
      "            macro avg       0.67      0.66      0.66       307\n",
      "         weighted avg       0.68      0.66      0.66       307\n",
      "\n",
      "Validation Loss: 1.5622\n",
      "Validation Macro-F1: 0.6589, Weighted-F1: 0.6587\n",
      "\n",
      "Epoch 7/30\n"
     ]
    },
    {
     "name": "stderr",
     "output_type": "stream",
     "text": [
      "Training: 100%|██████████| 135/135 [02:01<00:00,  1.11it/s]\n"
     ]
    },
    {
     "name": "stdout",
     "output_type": "stream",
     "text": [
      "Train Loss: 0.1604\n",
      "Train Macro-F1: 0.9531, Weighted-F1: 0.9540\n"
     ]
    },
    {
     "name": "stderr",
     "output_type": "stream",
     "text": [
      "Evaluating: 100%|██████████| 20/20 [00:05<00:00,  3.47it/s]\n"
     ]
    },
    {
     "name": "stdout",
     "output_type": "stream",
     "text": [
      "                       precision    recall  f1-score   support\n",
      "\n",
      "          Nervousness       0.58      0.68      0.63        53\n",
      "Lack of Worry Control       0.62      0.70      0.66        47\n",
      "      Excessive Worry       0.83      0.33      0.47        46\n",
      "  Difficulty Relaxing       0.87      0.78      0.82        51\n",
      "         Restlessness       0.54      0.64      0.59        58\n",
      "       Impending Doom       0.65      0.75      0.70        52\n",
      "\n",
      "             accuracy                           0.65       307\n",
      "            macro avg       0.68      0.65      0.64       307\n",
      "         weighted avg       0.68      0.65      0.65       307\n",
      "\n",
      "Validation Loss: 1.6942\n",
      "Validation Macro-F1: 0.6439, Weighted-F1: 0.6453\n",
      "\n",
      "Epoch 8/30\n"
     ]
    },
    {
     "name": "stderr",
     "output_type": "stream",
     "text": [
      "Training: 100%|██████████| 135/135 [02:01<00:00,  1.11it/s]\n"
     ]
    },
    {
     "name": "stdout",
     "output_type": "stream",
     "text": [
      "Train Loss: 0.1207\n",
      "Train Macro-F1: 0.9666, Weighted-F1: 0.9671\n"
     ]
    },
    {
     "name": "stderr",
     "output_type": "stream",
     "text": [
      "Evaluating: 100%|██████████| 20/20 [00:05<00:00,  3.68it/s]\n"
     ]
    },
    {
     "name": "stdout",
     "output_type": "stream",
     "text": [
      "                       precision    recall  f1-score   support\n",
      "\n",
      "          Nervousness       0.71      0.60      0.65        53\n",
      "Lack of Worry Control       0.76      0.62      0.68        47\n",
      "      Excessive Worry       0.79      0.41      0.54        46\n",
      "  Difficulty Relaxing       0.90      0.75      0.82        51\n",
      "         Restlessness       0.50      0.72      0.59        58\n",
      "       Impending Doom       0.57      0.81      0.67        52\n",
      "\n",
      "             accuracy                           0.66       307\n",
      "            macro avg       0.71      0.65      0.66       307\n",
      "         weighted avg       0.70      0.66      0.66       307\n",
      "\n",
      "Validation Loss: 1.9583\n",
      "Validation Macro-F1: 0.6589, Weighted-F1: 0.6590\n",
      "\n",
      "Epoch 9/30\n"
     ]
    },
    {
     "name": "stderr",
     "output_type": "stream",
     "text": [
      "Training: 100%|██████████| 135/135 [02:01<00:00,  1.11it/s]\n"
     ]
    },
    {
     "name": "stdout",
     "output_type": "stream",
     "text": [
      "Train Loss: 0.0642\n",
      "Train Macro-F1: 0.9820, Weighted-F1: 0.9819\n"
     ]
    },
    {
     "name": "stderr",
     "output_type": "stream",
     "text": [
      "Evaluating: 100%|██████████| 20/20 [00:05<00:00,  3.70it/s]\n"
     ]
    },
    {
     "name": "stdout",
     "output_type": "stream",
     "text": [
      "                       precision    recall  f1-score   support\n",
      "\n",
      "          Nervousness       0.67      0.64      0.65        53\n",
      "Lack of Worry Control       0.70      0.74      0.72        47\n",
      "      Excessive Worry       0.55      0.48      0.51        46\n",
      "  Difficulty Relaxing       0.88      0.73      0.80        51\n",
      "         Restlessness       0.56      0.71      0.63        58\n",
      "       Impending Doom       0.75      0.73      0.74        52\n",
      "\n",
      "             accuracy                           0.67       307\n",
      "            macro avg       0.68      0.67      0.67       307\n",
      "         weighted avg       0.68      0.67      0.68       307\n",
      "\n",
      "Validation Loss: 1.8230\n",
      "Validation Macro-F1: 0.6744, Weighted-F1: 0.6754\n",
      "Best model saved!\n",
      "\n",
      "Epoch 10/30\n"
     ]
    },
    {
     "name": "stderr",
     "output_type": "stream",
     "text": [
      "Training: 100%|██████████| 135/135 [02:02<00:00,  1.10it/s]\n"
     ]
    },
    {
     "name": "stdout",
     "output_type": "stream",
     "text": [
      "Train Loss: 0.0376\n",
      "Train Macro-F1: 0.9897, Weighted-F1: 0.9898\n"
     ]
    },
    {
     "name": "stderr",
     "output_type": "stream",
     "text": [
      "Evaluating: 100%|██████████| 20/20 [00:05<00:00,  3.69it/s]\n"
     ]
    },
    {
     "name": "stdout",
     "output_type": "stream",
     "text": [
      "                       precision    recall  f1-score   support\n",
      "\n",
      "          Nervousness       0.65      0.68      0.67        53\n",
      "Lack of Worry Control       0.72      0.66      0.69        47\n",
      "      Excessive Worry       0.62      0.46      0.52        46\n",
      "  Difficulty Relaxing       0.90      0.75      0.82        51\n",
      "         Restlessness       0.54      0.69      0.61        58\n",
      "       Impending Doom       0.68      0.77      0.72        52\n",
      "\n",
      "             accuracy                           0.67       307\n",
      "            macro avg       0.69      0.67      0.67       307\n",
      "         weighted avg       0.68      0.67      0.67       307\n",
      "\n",
      "Validation Loss: 1.9831\n",
      "Validation Macro-F1: 0.6708, Weighted-F1: 0.6716\n",
      "\n",
      "Epoch 11/30\n"
     ]
    },
    {
     "name": "stderr",
     "output_type": "stream",
     "text": [
      "Training: 100%|██████████| 135/135 [02:02<00:00,  1.11it/s]\n"
     ]
    },
    {
     "name": "stdout",
     "output_type": "stream",
     "text": [
      "Train Loss: 0.0365\n",
      "Train Macro-F1: 0.9906, Weighted-F1: 0.9907\n"
     ]
    },
    {
     "name": "stderr",
     "output_type": "stream",
     "text": [
      "Evaluating: 100%|██████████| 20/20 [00:05<00:00,  3.70it/s]\n"
     ]
    },
    {
     "name": "stdout",
     "output_type": "stream",
     "text": [
      "                       precision    recall  f1-score   support\n",
      "\n",
      "          Nervousness       0.67      0.70      0.69        53\n",
      "Lack of Worry Control       0.65      0.77      0.71        47\n",
      "      Excessive Worry       0.62      0.46      0.52        46\n",
      "  Difficulty Relaxing       0.89      0.80      0.85        51\n",
      "         Restlessness       0.66      0.64      0.65        58\n",
      "       Impending Doom       0.66      0.77      0.71        52\n",
      "\n",
      "             accuracy                           0.69       307\n",
      "            macro avg       0.69      0.69      0.69       307\n",
      "         weighted avg       0.69      0.69      0.69       307\n",
      "\n",
      "Validation Loss: 1.9283\n",
      "Validation Macro-F1: 0.6864, Weighted-F1: 0.6880\n",
      "Best model saved!\n",
      "\n",
      "Epoch 12/30\n"
     ]
    },
    {
     "name": "stderr",
     "output_type": "stream",
     "text": [
      "Training: 100%|██████████| 135/135 [02:01<00:00,  1.11it/s]\n"
     ]
    },
    {
     "name": "stdout",
     "output_type": "stream",
     "text": [
      "Train Loss: 0.0275\n",
      "Train Macro-F1: 0.9935, Weighted-F1: 0.9935\n"
     ]
    },
    {
     "name": "stderr",
     "output_type": "stream",
     "text": [
      "Evaluating: 100%|██████████| 20/20 [00:05<00:00,  3.69it/s]\n"
     ]
    },
    {
     "name": "stdout",
     "output_type": "stream",
     "text": [
      "                       precision    recall  f1-score   support\n",
      "\n",
      "          Nervousness       0.65      0.68      0.67        53\n",
      "Lack of Worry Control       0.69      0.74      0.71        47\n",
      "      Excessive Worry       0.63      0.48      0.54        46\n",
      "  Difficulty Relaxing       0.89      0.76      0.82        51\n",
      "         Restlessness       0.59      0.64      0.61        58\n",
      "       Impending Doom       0.66      0.75      0.70        52\n",
      "\n",
      "             accuracy                           0.68       307\n",
      "            macro avg       0.68      0.68      0.68       307\n",
      "         weighted avg       0.68      0.68      0.68       307\n",
      "\n",
      "Validation Loss: 2.0381\n",
      "Validation Macro-F1: 0.6766, Weighted-F1: 0.6768\n",
      "\n",
      "Epoch 13/30\n"
     ]
    },
    {
     "name": "stderr",
     "output_type": "stream",
     "text": [
      "Training: 100%|██████████| 135/135 [02:01<00:00,  1.11it/s]\n"
     ]
    },
    {
     "name": "stdout",
     "output_type": "stream",
     "text": [
      "Train Loss: 0.0243\n",
      "Train Macro-F1: 0.9939, Weighted-F1: 0.9940\n"
     ]
    },
    {
     "name": "stderr",
     "output_type": "stream",
     "text": [
      "Evaluating: 100%|██████████| 20/20 [00:05<00:00,  3.69it/s]\n"
     ]
    },
    {
     "name": "stdout",
     "output_type": "stream",
     "text": [
      "                       precision    recall  f1-score   support\n",
      "\n",
      "          Nervousness       0.58      0.74      0.65        53\n",
      "Lack of Worry Control       0.72      0.62      0.67        47\n",
      "      Excessive Worry       0.52      0.50      0.51        46\n",
      "  Difficulty Relaxing       0.88      0.75      0.81        51\n",
      "         Restlessness       0.63      0.62      0.63        58\n",
      "       Impending Doom       0.68      0.73      0.70        52\n",
      "\n",
      "             accuracy                           0.66       307\n",
      "            macro avg       0.67      0.66      0.66       307\n",
      "         weighted avg       0.67      0.66      0.66       307\n",
      "\n",
      "Validation Loss: 2.1167\n",
      "Validation Macro-F1: 0.6610, Weighted-F1: 0.6627\n",
      "\n",
      "Epoch 14/30\n"
     ]
    },
    {
     "name": "stderr",
     "output_type": "stream",
     "text": [
      "Training: 100%|██████████| 135/135 [02:02<00:00,  1.11it/s]\n"
     ]
    },
    {
     "name": "stdout",
     "output_type": "stream",
     "text": [
      "Train Loss: 0.0267\n",
      "Train Macro-F1: 0.9929, Weighted-F1: 0.9930\n"
     ]
    },
    {
     "name": "stderr",
     "output_type": "stream",
     "text": [
      "Evaluating: 100%|██████████| 20/20 [00:05<00:00,  3.68it/s]\n"
     ]
    },
    {
     "name": "stdout",
     "output_type": "stream",
     "text": [
      "                       precision    recall  f1-score   support\n",
      "\n",
      "          Nervousness       0.70      0.72      0.71        53\n",
      "Lack of Worry Control       0.68      0.68      0.68        47\n",
      "      Excessive Worry       0.66      0.50      0.57        46\n",
      "  Difficulty Relaxing       0.88      0.82      0.85        51\n",
      "         Restlessness       0.66      0.67      0.67        58\n",
      "       Impending Doom       0.62      0.77      0.69        52\n",
      "\n",
      "             accuracy                           0.70       307\n",
      "            macro avg       0.70      0.69      0.69       307\n",
      "         weighted avg       0.70      0.70      0.70       307\n",
      "\n",
      "Validation Loss: 2.1297\n",
      "Validation Macro-F1: 0.6940, Weighted-F1: 0.6957\n",
      "Best model saved!\n",
      "\n",
      "Epoch 15/30\n"
     ]
    },
    {
     "name": "stderr",
     "output_type": "stream",
     "text": [
      "Training: 100%|██████████| 135/135 [02:01<00:00,  1.11it/s]\n"
     ]
    },
    {
     "name": "stdout",
     "output_type": "stream",
     "text": [
      "Train Loss: 0.0301\n",
      "Train Macro-F1: 0.9916, Weighted-F1: 0.9916\n"
     ]
    },
    {
     "name": "stderr",
     "output_type": "stream",
     "text": [
      "Evaluating: 100%|██████████| 20/20 [00:05<00:00,  3.68it/s]\n"
     ]
    },
    {
     "name": "stdout",
     "output_type": "stream",
     "text": [
      "                       precision    recall  f1-score   support\n",
      "\n",
      "          Nervousness       0.60      0.74      0.66        53\n",
      "Lack of Worry Control       0.74      0.66      0.70        47\n",
      "      Excessive Worry       0.57      0.46      0.51        46\n",
      "  Difficulty Relaxing       0.88      0.71      0.78        51\n",
      "         Restlessness       0.58      0.66      0.62        58\n",
      "       Impending Doom       0.68      0.75      0.72        52\n",
      "\n",
      "             accuracy                           0.66       307\n",
      "            macro avg       0.68      0.66      0.66       307\n",
      "         weighted avg       0.67      0.66      0.66       307\n",
      "\n",
      "Validation Loss: 2.1898\n",
      "Validation Macro-F1: 0.6633, Weighted-F1: 0.6645\n",
      "\n",
      "Epoch 16/30\n"
     ]
    },
    {
     "name": "stderr",
     "output_type": "stream",
     "text": [
      "Training: 100%|██████████| 135/135 [02:01<00:00,  1.11it/s]\n"
     ]
    },
    {
     "name": "stdout",
     "output_type": "stream",
     "text": [
      "Train Loss: 0.0246\n",
      "Train Macro-F1: 0.9939, Weighted-F1: 0.9940\n"
     ]
    },
    {
     "name": "stderr",
     "output_type": "stream",
     "text": [
      "Evaluating: 100%|██████████| 20/20 [00:05<00:00,  3.69it/s]\n"
     ]
    },
    {
     "name": "stdout",
     "output_type": "stream",
     "text": [
      "                       precision    recall  f1-score   support\n",
      "\n",
      "          Nervousness       0.71      0.64      0.67        53\n",
      "Lack of Worry Control       0.71      0.74      0.73        47\n",
      "      Excessive Worry       0.59      0.59      0.59        46\n",
      "  Difficulty Relaxing       0.88      0.75      0.81        51\n",
      "         Restlessness       0.60      0.66      0.63        58\n",
      "       Impending Doom       0.67      0.75      0.71        52\n",
      "\n",
      "             accuracy                           0.69       307\n",
      "            macro avg       0.69      0.69      0.69       307\n",
      "         weighted avg       0.69      0.69      0.69       307\n",
      "\n",
      "Validation Loss: 2.0588\n",
      "Validation Macro-F1: 0.6892, Weighted-F1: 0.6889\n",
      "\n",
      "Epoch 17/30\n"
     ]
    },
    {
     "name": "stderr",
     "output_type": "stream",
     "text": [
      "Training: 100%|██████████| 135/135 [02:02<00:00,  1.10it/s]\n"
     ]
    },
    {
     "name": "stdout",
     "output_type": "stream",
     "text": [
      "Train Loss: 0.0223\n",
      "Train Macro-F1: 0.9962, Weighted-F1: 0.9963\n"
     ]
    },
    {
     "name": "stderr",
     "output_type": "stream",
     "text": [
      "Evaluating: 100%|██████████| 20/20 [00:05<00:00,  3.69it/s]\n"
     ]
    },
    {
     "name": "stdout",
     "output_type": "stream",
     "text": [
      "                       precision    recall  f1-score   support\n",
      "\n",
      "          Nervousness       0.66      0.70      0.68        53\n",
      "Lack of Worry Control       0.69      0.74      0.71        47\n",
      "      Excessive Worry       0.63      0.48      0.54        46\n",
      "  Difficulty Relaxing       0.89      0.78      0.83        51\n",
      "         Restlessness       0.62      0.67      0.64        58\n",
      "       Impending Doom       0.68      0.75      0.72        52\n",
      "\n",
      "             accuracy                           0.69       307\n",
      "            macro avg       0.69      0.69      0.69       307\n",
      "         weighted avg       0.69      0.69      0.69       307\n",
      "\n",
      "Validation Loss: 2.1529\n",
      "Validation Macro-F1: 0.6883, Weighted-F1: 0.6894\n",
      "\n",
      "Epoch 18/30\n"
     ]
    },
    {
     "name": "stderr",
     "output_type": "stream",
     "text": [
      "Training: 100%|██████████| 135/135 [02:01<00:00,  1.11it/s]\n"
     ]
    },
    {
     "name": "stdout",
     "output_type": "stream",
     "text": [
      "Train Loss: 0.0181\n",
      "Train Macro-F1: 0.9953, Weighted-F1: 0.9954\n"
     ]
    },
    {
     "name": "stderr",
     "output_type": "stream",
     "text": [
      "Evaluating: 100%|██████████| 20/20 [00:05<00:00,  3.48it/s]\n"
     ]
    },
    {
     "name": "stdout",
     "output_type": "stream",
     "text": [
      "                       precision    recall  f1-score   support\n",
      "\n",
      "          Nervousness       0.65      0.70      0.67        53\n",
      "Lack of Worry Control       0.73      0.74      0.74        47\n",
      "      Excessive Worry       0.65      0.48      0.55        46\n",
      "  Difficulty Relaxing       0.89      0.80      0.85        51\n",
      "         Restlessness       0.65      0.69      0.67        58\n",
      "       Impending Doom       0.67      0.77      0.71        52\n",
      "\n",
      "             accuracy                           0.70       307\n",
      "            macro avg       0.70      0.70      0.70       307\n",
      "         weighted avg       0.70      0.70      0.70       307\n",
      "\n",
      "Validation Loss: 2.1537\n",
      "Validation Macro-F1: 0.6976, Weighted-F1: 0.6987\n",
      "Best model saved!\n",
      "\n",
      "Epoch 19/30\n"
     ]
    },
    {
     "name": "stderr",
     "output_type": "stream",
     "text": [
      "Training: 100%|██████████| 135/135 [02:01<00:00,  1.11it/s]\n"
     ]
    },
    {
     "name": "stdout",
     "output_type": "stream",
     "text": [
      "Train Loss: 0.0137\n",
      "Train Macro-F1: 0.9966, Weighted-F1: 0.9968\n"
     ]
    },
    {
     "name": "stderr",
     "output_type": "stream",
     "text": [
      "Evaluating: 100%|██████████| 20/20 [00:05<00:00,  3.68it/s]\n"
     ]
    },
    {
     "name": "stdout",
     "output_type": "stream",
     "text": [
      "                       precision    recall  f1-score   support\n",
      "\n",
      "          Nervousness       0.62      0.72      0.67        53\n",
      "Lack of Worry Control       0.73      0.68      0.70        47\n",
      "      Excessive Worry       0.67      0.43      0.53        46\n",
      "  Difficulty Relaxing       0.88      0.86      0.87        51\n",
      "         Restlessness       0.62      0.69      0.66        58\n",
      "       Impending Doom       0.67      0.75      0.71        52\n",
      "\n",
      "             accuracy                           0.69       307\n",
      "            macro avg       0.70      0.69      0.69       307\n",
      "         weighted avg       0.70      0.69      0.69       307\n",
      "\n",
      "Validation Loss: 2.2576\n",
      "Validation Macro-F1: 0.6887, Weighted-F1: 0.6904\n",
      "\n",
      "Epoch 20/30\n"
     ]
    },
    {
     "name": "stderr",
     "output_type": "stream",
     "text": [
      "Training: 100%|██████████| 135/135 [02:01<00:00,  1.11it/s]\n"
     ]
    },
    {
     "name": "stdout",
     "output_type": "stream",
     "text": [
      "Train Loss: 0.0109\n",
      "Train Macro-F1: 0.9958, Weighted-F1: 0.9958\n"
     ]
    },
    {
     "name": "stderr",
     "output_type": "stream",
     "text": [
      "Evaluating: 100%|██████████| 20/20 [00:05<00:00,  3.70it/s]\n"
     ]
    },
    {
     "name": "stdout",
     "output_type": "stream",
     "text": [
      "                       precision    recall  f1-score   support\n",
      "\n",
      "          Nervousness       0.65      0.68      0.67        53\n",
      "Lack of Worry Control       0.71      0.72      0.72        47\n",
      "      Excessive Worry       0.60      0.46      0.52        46\n",
      "  Difficulty Relaxing       0.89      0.76      0.82        51\n",
      "         Restlessness       0.56      0.69      0.62        58\n",
      "       Impending Doom       0.69      0.71      0.70        52\n",
      "\n",
      "             accuracy                           0.67       307\n",
      "            macro avg       0.68      0.67      0.67       307\n",
      "         weighted avg       0.68      0.67      0.67       307\n",
      "\n",
      "Validation Loss: 2.2565\n",
      "Validation Macro-F1: 0.6734, Weighted-F1: 0.6742\n",
      "\n",
      "Epoch 21/30\n"
     ]
    },
    {
     "name": "stderr",
     "output_type": "stream",
     "text": [
      "Training: 100%|██████████| 135/135 [02:01<00:00,  1.11it/s]\n"
     ]
    },
    {
     "name": "stdout",
     "output_type": "stream",
     "text": [
      "Train Loss: 0.0099\n",
      "Train Macro-F1: 0.9972, Weighted-F1: 0.9972\n"
     ]
    },
    {
     "name": "stderr",
     "output_type": "stream",
     "text": [
      "Evaluating: 100%|██████████| 20/20 [00:05<00:00,  3.69it/s]\n"
     ]
    },
    {
     "name": "stdout",
     "output_type": "stream",
     "text": [
      "                       precision    recall  f1-score   support\n",
      "\n",
      "          Nervousness       0.66      0.70      0.68        53\n",
      "Lack of Worry Control       0.70      0.70      0.70        47\n",
      "      Excessive Worry       0.68      0.46      0.55        46\n",
      "  Difficulty Relaxing       0.87      0.78      0.82        51\n",
      "         Restlessness       0.56      0.69      0.62        58\n",
      "       Impending Doom       0.69      0.73      0.71        52\n",
      "\n",
      "             accuracy                           0.68       307\n",
      "            macro avg       0.69      0.68      0.68       307\n",
      "         weighted avg       0.69      0.68      0.68       307\n",
      "\n",
      "Validation Loss: 2.3001\n",
      "Validation Macro-F1: 0.6795, Weighted-F1: 0.6800\n",
      "\n",
      "Epoch 22/30\n"
     ]
    },
    {
     "name": "stderr",
     "output_type": "stream",
     "text": [
      "Training: 100%|██████████| 135/135 [02:01<00:00,  1.11it/s]\n"
     ]
    },
    {
     "name": "stdout",
     "output_type": "stream",
     "text": [
      "Train Loss: 0.0102\n",
      "Train Macro-F1: 0.9967, Weighted-F1: 0.9967\n"
     ]
    },
    {
     "name": "stderr",
     "output_type": "stream",
     "text": [
      "Evaluating: 100%|██████████| 20/20 [00:05<00:00,  3.67it/s]\n"
     ]
    },
    {
     "name": "stdout",
     "output_type": "stream",
     "text": [
      "                       precision    recall  f1-score   support\n",
      "\n",
      "          Nervousness       0.63      0.72      0.67        53\n",
      "Lack of Worry Control       0.70      0.68      0.69        47\n",
      "      Excessive Worry       0.59      0.48      0.53        46\n",
      "  Difficulty Relaxing       0.87      0.80      0.84        51\n",
      "         Restlessness       0.63      0.67      0.65        58\n",
      "       Impending Doom       0.69      0.73      0.71        52\n",
      "\n",
      "             accuracy                           0.68       307\n",
      "            macro avg       0.69      0.68      0.68       307\n",
      "         weighted avg       0.69      0.68      0.68       307\n",
      "\n",
      "Validation Loss: 2.2568\n",
      "Validation Macro-F1: 0.6813, Weighted-F1: 0.6830\n",
      "\n",
      "Epoch 23/30\n"
     ]
    },
    {
     "name": "stderr",
     "output_type": "stream",
     "text": [
      "Training: 100%|██████████| 135/135 [02:01<00:00,  1.11it/s]\n"
     ]
    },
    {
     "name": "stdout",
     "output_type": "stream",
     "text": [
      "Train Loss: 0.0090\n",
      "Train Macro-F1: 0.9972, Weighted-F1: 0.9972\n"
     ]
    },
    {
     "name": "stderr",
     "output_type": "stream",
     "text": [
      "Evaluating: 100%|██████████| 20/20 [00:05<00:00,  3.70it/s]\n"
     ]
    },
    {
     "name": "stdout",
     "output_type": "stream",
     "text": [
      "                       precision    recall  f1-score   support\n",
      "\n",
      "          Nervousness       0.65      0.70      0.67        53\n",
      "Lack of Worry Control       0.68      0.72      0.70        47\n",
      "      Excessive Worry       0.66      0.50      0.57        46\n",
      "  Difficulty Relaxing       0.89      0.76      0.82        51\n",
      "         Restlessness       0.62      0.69      0.66        58\n",
      "       Impending Doom       0.67      0.73      0.70        52\n",
      "\n",
      "             accuracy                           0.69       307\n",
      "            macro avg       0.69      0.68      0.69       307\n",
      "         weighted avg       0.69      0.69      0.69       307\n",
      "\n",
      "Validation Loss: 2.3268\n",
      "Validation Macro-F1: 0.6859, Weighted-F1: 0.6869\n",
      "\n",
      "Epoch 24/30\n"
     ]
    },
    {
     "name": "stderr",
     "output_type": "stream",
     "text": [
      "Training: 100%|██████████| 135/135 [02:01<00:00,  1.11it/s]\n"
     ]
    },
    {
     "name": "stdout",
     "output_type": "stream",
     "text": [
      "Train Loss: 0.0114\n",
      "Train Macro-F1: 0.9962, Weighted-F1: 0.9963\n"
     ]
    },
    {
     "name": "stderr",
     "output_type": "stream",
     "text": [
      "Evaluating: 100%|██████████| 20/20 [00:05<00:00,  3.70it/s]\n"
     ]
    },
    {
     "name": "stdout",
     "output_type": "stream",
     "text": [
      "                       precision    recall  f1-score   support\n",
      "\n",
      "          Nervousness       0.67      0.68      0.67        53\n",
      "Lack of Worry Control       0.65      0.72      0.69        47\n",
      "      Excessive Worry       0.62      0.52      0.56        46\n",
      "  Difficulty Relaxing       0.89      0.80      0.85        51\n",
      "         Restlessness       0.64      0.64      0.64        58\n",
      "       Impending Doom       0.67      0.75      0.71        52\n",
      "\n",
      "             accuracy                           0.69       307\n",
      "            macro avg       0.69      0.69      0.69       307\n",
      "         weighted avg       0.69      0.69      0.69       307\n",
      "\n",
      "Validation Loss: 2.2796\n",
      "Validation Macro-F1: 0.6861, Weighted-F1: 0.6870\n",
      "\n",
      "Epoch 25/30\n"
     ]
    },
    {
     "name": "stderr",
     "output_type": "stream",
     "text": [
      "Training: 100%|██████████| 135/135 [02:01<00:00,  1.11it/s]\n"
     ]
    },
    {
     "name": "stdout",
     "output_type": "stream",
     "text": [
      "Train Loss: 0.0082\n",
      "Train Macro-F1: 0.9962, Weighted-F1: 0.9963\n"
     ]
    },
    {
     "name": "stderr",
     "output_type": "stream",
     "text": [
      "Evaluating: 100%|██████████| 20/20 [00:05<00:00,  3.69it/s]\n"
     ]
    },
    {
     "name": "stdout",
     "output_type": "stream",
     "text": [
      "                       precision    recall  f1-score   support\n",
      "\n",
      "          Nervousness       0.64      0.70      0.67        53\n",
      "Lack of Worry Control       0.67      0.72      0.69        47\n",
      "      Excessive Worry       0.63      0.48      0.54        46\n",
      "  Difficulty Relaxing       0.90      0.84      0.87        51\n",
      "         Restlessness       0.65      0.64      0.64        58\n",
      "       Impending Doom       0.67      0.75      0.71        52\n",
      "\n",
      "             accuracy                           0.69       307\n",
      "            macro avg       0.69      0.69      0.69       307\n",
      "         weighted avg       0.69      0.69      0.69       307\n",
      "\n",
      "Validation Loss: 2.2764\n",
      "Validation Macro-F1: 0.6875, Weighted-F1: 0.6887\n",
      "\n",
      "Epoch 26/30\n"
     ]
    },
    {
     "name": "stderr",
     "output_type": "stream",
     "text": [
      "Training: 100%|██████████| 135/135 [02:01<00:00,  1.11it/s]\n"
     ]
    },
    {
     "name": "stdout",
     "output_type": "stream",
     "text": [
      "Train Loss: 0.0066\n",
      "Train Macro-F1: 0.9972, Weighted-F1: 0.9972\n"
     ]
    },
    {
     "name": "stderr",
     "output_type": "stream",
     "text": [
      "Evaluating: 100%|██████████| 20/20 [00:05<00:00,  3.69it/s]\n"
     ]
    },
    {
     "name": "stdout",
     "output_type": "stream",
     "text": [
      "                       precision    recall  f1-score   support\n",
      "\n",
      "          Nervousness       0.64      0.70      0.67        53\n",
      "Lack of Worry Control       0.67      0.70      0.69        47\n",
      "      Excessive Worry       0.61      0.48      0.54        46\n",
      "  Difficulty Relaxing       0.90      0.84      0.87        51\n",
      "         Restlessness       0.66      0.66      0.66        58\n",
      "       Impending Doom       0.67      0.75      0.71        52\n",
      "\n",
      "             accuracy                           0.69       307\n",
      "            macro avg       0.69      0.69      0.69       307\n",
      "         weighted avg       0.69      0.69      0.69       307\n",
      "\n",
      "Validation Loss: 2.2978\n",
      "Validation Macro-F1: 0.6873, Weighted-F1: 0.6889\n",
      "\n",
      "Epoch 27/30\n"
     ]
    },
    {
     "name": "stderr",
     "output_type": "stream",
     "text": [
      "Training: 100%|██████████| 135/135 [02:01<00:00,  1.11it/s]\n"
     ]
    },
    {
     "name": "stdout",
     "output_type": "stream",
     "text": [
      "Train Loss: 0.0080\n",
      "Train Macro-F1: 0.9971, Weighted-F1: 0.9972\n"
     ]
    },
    {
     "name": "stderr",
     "output_type": "stream",
     "text": [
      "Evaluating: 100%|██████████| 20/20 [00:05<00:00,  3.70it/s]\n"
     ]
    },
    {
     "name": "stdout",
     "output_type": "stream",
     "text": [
      "                       precision    recall  f1-score   support\n",
      "\n",
      "          Nervousness       0.64      0.70      0.67        53\n",
      "Lack of Worry Control       0.69      0.70      0.69        47\n",
      "      Excessive Worry       0.61      0.48      0.54        46\n",
      "  Difficulty Relaxing       0.90      0.84      0.87        51\n",
      "         Restlessness       0.65      0.67      0.66        58\n",
      "       Impending Doom       0.67      0.73      0.70        52\n",
      "\n",
      "             accuracy                           0.69       307\n",
      "            macro avg       0.69      0.69      0.69       307\n",
      "         weighted avg       0.69      0.69      0.69       307\n",
      "\n",
      "Validation Loss: 2.2993\n",
      "Validation Macro-F1: 0.6875, Weighted-F1: 0.6891\n",
      "\n",
      "Epoch 28/30\n"
     ]
    },
    {
     "name": "stderr",
     "output_type": "stream",
     "text": [
      "Training: 100%|██████████| 135/135 [02:01<00:00,  1.11it/s]\n"
     ]
    },
    {
     "name": "stdout",
     "output_type": "stream",
     "text": [
      "Train Loss: 0.0064\n",
      "Train Macro-F1: 0.9972, Weighted-F1: 0.9972\n"
     ]
    },
    {
     "name": "stderr",
     "output_type": "stream",
     "text": [
      "Evaluating: 100%|██████████| 20/20 [00:05<00:00,  3.72it/s]\n"
     ]
    },
    {
     "name": "stdout",
     "output_type": "stream",
     "text": [
      "                       precision    recall  f1-score   support\n",
      "\n",
      "          Nervousness       0.65      0.70      0.67        53\n",
      "Lack of Worry Control       0.69      0.70      0.69        47\n",
      "      Excessive Worry       0.62      0.50      0.55        46\n",
      "  Difficulty Relaxing       0.90      0.86      0.88        51\n",
      "         Restlessness       0.66      0.67      0.67        58\n",
      "       Impending Doom       0.68      0.75      0.72        52\n",
      "\n",
      "             accuracy                           0.70       307\n",
      "            macro avg       0.70      0.70      0.70       307\n",
      "         weighted avg       0.70      0.70      0.70       307\n",
      "\n",
      "Validation Loss: 2.2882\n",
      "Validation Macro-F1: 0.6973, Weighted-F1: 0.6989\n",
      "\n",
      "Epoch 29/30\n"
     ]
    },
    {
     "name": "stderr",
     "output_type": "stream",
     "text": [
      "Training: 100%|██████████| 135/135 [02:01<00:00,  1.11it/s]\n"
     ]
    },
    {
     "name": "stdout",
     "output_type": "stream",
     "text": [
      "Train Loss: 0.0063\n",
      "Train Macro-F1: 0.9972, Weighted-F1: 0.9972\n"
     ]
    },
    {
     "name": "stderr",
     "output_type": "stream",
     "text": [
      "Evaluating: 100%|██████████| 20/20 [00:05<00:00,  3.70it/s]\n"
     ]
    },
    {
     "name": "stdout",
     "output_type": "stream",
     "text": [
      "                       precision    recall  f1-score   support\n",
      "\n",
      "          Nervousness       0.65      0.70      0.67        53\n",
      "Lack of Worry Control       0.69      0.70      0.69        47\n",
      "      Excessive Worry       0.62      0.50      0.55        46\n",
      "  Difficulty Relaxing       0.90      0.86      0.88        51\n",
      "         Restlessness       0.65      0.67      0.66        58\n",
      "       Impending Doom       0.68      0.73      0.70        52\n",
      "\n",
      "             accuracy                           0.70       307\n",
      "            macro avg       0.70      0.69      0.69       307\n",
      "         weighted avg       0.70      0.70      0.70       307\n",
      "\n",
      "Validation Loss: 2.3026\n",
      "Validation Macro-F1: 0.6944, Weighted-F1: 0.6958\n",
      "\n",
      "Epoch 30/30\n"
     ]
    },
    {
     "name": "stderr",
     "output_type": "stream",
     "text": [
      "Training: 100%|██████████| 135/135 [02:01<00:00,  1.11it/s]\n"
     ]
    },
    {
     "name": "stdout",
     "output_type": "stream",
     "text": [
      "Train Loss: 0.0059\n",
      "Train Macro-F1: 0.9976, Weighted-F1: 0.9977\n"
     ]
    },
    {
     "name": "stderr",
     "output_type": "stream",
     "text": [
      "Evaluating: 100%|██████████| 20/20 [00:05<00:00,  3.71it/s]\n"
     ]
    },
    {
     "name": "stdout",
     "output_type": "stream",
     "text": [
      "                       precision    recall  f1-score   support\n",
      "\n",
      "          Nervousness       0.65      0.70      0.67        53\n",
      "Lack of Worry Control       0.69      0.70      0.69        47\n",
      "      Excessive Worry       0.62      0.50      0.55        46\n",
      "  Difficulty Relaxing       0.90      0.86      0.88        51\n",
      "         Restlessness       0.65      0.67      0.66        58\n",
      "       Impending Doom       0.68      0.73      0.70        52\n",
      "\n",
      "             accuracy                           0.70       307\n",
      "            macro avg       0.70      0.69      0.69       307\n",
      "         weighted avg       0.70      0.70      0.70       307\n",
      "\n",
      "Validation Loss: 2.2974\n",
      "Validation Macro-F1: 0.6944, Weighted-F1: 0.6958\n"
     ]
    }
   ],
   "source": [
    "model = TextOnlyModel(\n",
    "    text_model_name=\"mental/mental-roberta-base\",\n",
    "    num_classes=len(LABEL_MAP),\n",
    "    hidden_dim=FUSION_DIM\n",
    ")\n",
    "\n",
    "trained_model, tokenizer = train_text_model(\n",
    "    model,\n",
    "    train_data,\n",
    "    val_data,\n",
    "    epochs=30,\n",
    "    model_save_name=\"only_text\"\n",
    ")"
   ]
  },
  {
   "cell_type": "markdown",
   "metadata": {},
   "source": [
    "## Inference"
   ]
  },
  {
   "cell_type": "code",
   "execution_count": 32,
   "metadata": {
    "execution": {
     "iopub.execute_input": "2025-04-14T21:36:32.452496Z",
     "iopub.status.busy": "2025-04-14T21:36:32.451961Z",
     "iopub.status.idle": "2025-04-14T21:36:49.126317Z",
     "shell.execute_reply": "2025-04-14T21:36:49.125551Z",
     "shell.execute_reply.started": "2025-04-14T21:36:32.452475Z"
    },
    "id": "g5v8LMwednfE",
    "trusted": true
   },
   "outputs": [
    {
     "name": "stdout",
     "output_type": "stream",
     "text": [
      "Downloading...\n",
      "From (original): https://drive.google.com/uc?id=1nYT2Dw1vUTh5iK7FNSLwlJq1921_FjTO\n",
      "From (redirected): https://drive.google.com/uc?id=1nYT2Dw1vUTh5iK7FNSLwlJq1921_FjTO&confirm=t&uuid=3f0e6ee0-c984-43dc-aa27-4d8cb5bb78a3\n",
      "To: /kaggle/working/only_text_anxiety.pth\n",
      "100%|████████████████████████████████████████| 518M/518M [00:12<00:00, 42.1MB/s]\n"
     ]
    }
   ],
   "source": [
    "!gdown 1nYT2Dw1vUTh5iK7FNSLwlJq1921_FjTO"
   ]
  },
  {
   "cell_type": "code",
   "execution_count": 38,
   "metadata": {
    "execution": {
     "iopub.execute_input": "2025-04-14T21:38:11.149841Z",
     "iopub.status.busy": "2025-04-14T21:38:11.149083Z",
     "iopub.status.idle": "2025-04-14T21:38:11.155477Z",
     "shell.execute_reply": "2025-04-14T21:38:11.154675Z",
     "shell.execute_reply.started": "2025-04-14T21:38:11.149818Z"
    },
    "trusted": true
   },
   "outputs": [],
   "source": [
    "def inference(test_data, model_path):\n",
    "    model = TextOnlyModel(\n",
    "        text_model_name=\"mental/mental-roberta-base\",\n",
    "        num_classes=len(LABEL_MAP),\n",
    "        hidden_dim=FUSION_DIM\n",
    "    )\n",
    "\n",
    "    model = model.to(DEVICE)\n",
    "\n",
    "    weights = torch.load(model_path, map_location=DEVICE, weights_only=True)\n",
    "    weights_single = {k.replace(\"module.\", \"\"): v for k, v in weights.items()}\n",
    "\n",
    "    model.load_state_dict(weights_single)\n",
    "    tokenizer = AutoTokenizer.from_pretrained(\"mental/mental-roberta-base\")\n",
    "\n",
    "    test_dataset = TextOnlyAnxietyDataset(test_data, tokenizer, max_len=MAX_LEN)\n",
    "    test_loader = DataLoader(\n",
    "        test_dataset,\n",
    "        batch_size=BATCH_SIZE,\n",
    "        shuffle=False,\n",
    "        collate_fn=custom_collate_fn\n",
    "    )\n",
    "\n",
    "    loss, macro_f1, weighted_f1 = evaluate_text_model(\n",
    "        model, test_loader, nn.CrossEntropyLoss()\n",
    "    )\n",
    "\n",
    "    print(f\"Test Loss: {loss:.4f}\")\n",
    "    print(f\"Test Macro-F1: {macro_f1:.4f}, Weighted-F1: {weighted_f1:.4f}\")\n",
    "\n",
    "    return macro_f1, weighted_f1"
   ]
  },
  {
   "cell_type": "code",
   "execution_count": 39,
   "metadata": {
    "execution": {
     "iopub.execute_input": "2025-04-14T21:38:11.326387Z",
     "iopub.status.busy": "2025-04-14T21:38:11.326183Z",
     "iopub.status.idle": "2025-04-14T21:38:32.741247Z",
     "shell.execute_reply": "2025-04-14T21:38:32.740471Z",
     "shell.execute_reply.started": "2025-04-14T21:38:11.326371Z"
    },
    "trusted": true
   },
   "outputs": [
    {
     "name": "stderr",
     "output_type": "stream",
     "text": [
      "Some weights of RobertaModel were not initialized from the model checkpoint at mental/mental-roberta-base and are newly initialized: ['pooler.dense.bias', 'pooler.dense.weight']\n",
      "You should probably TRAIN this model on a down-stream task to be able to use it for predictions and inference.\n",
      "Evaluating: 100%|██████████| 39/39 [00:20<00:00,  1.93it/s]"
     ]
    },
    {
     "name": "stdout",
     "output_type": "stream",
     "text": [
      "                       precision    recall  f1-score   support\n",
      "\n",
      "          Nervousness       0.70      0.60      0.65       106\n",
      "Lack of Worry Control       0.65      0.67      0.66        94\n",
      "      Excessive Worry       0.62      0.60      0.61        92\n",
      "  Difficulty Relaxing       0.79      0.76      0.78       102\n",
      "         Restlessness       0.50      0.59      0.54       116\n",
      "       Impending Doom       0.74      0.72      0.73       105\n",
      "\n",
      "             accuracy                           0.66       615\n",
      "            macro avg       0.67      0.66      0.66       615\n",
      "         weighted avg       0.66      0.66      0.66       615\n",
      "\n",
      "Test Loss: 2.5080\n",
      "Test Macro-F1: 0.6606, Weighted-F1: 0.6590\n"
     ]
    },
    {
     "name": "stderr",
     "output_type": "stream",
     "text": [
      "\n"
     ]
    },
    {
     "data": {
      "text/plain": [
       "(0.6606387991478248, 0.658952957544853)"
      ]
     },
     "execution_count": 39,
     "metadata": {},
     "output_type": "execute_result"
    }
   ],
   "source": [
    "inference(test_data, \"only_text_anxiety.pth\")"
   ]
  },
  {
   "cell_type": "code",
   "execution_count": null,
   "metadata": {
    "trusted": true
   },
   "outputs": [],
   "source": []
  }
 ],
 "metadata": {
  "colab": {
   "name": "anxiety_ablation_without_img_enc_contrastive",
   "provenance": []
  },
  "kaggle": {
   "accelerator": "nvidiaTeslaT4",
   "dataSources": [],
   "dockerImageVersionId": 31011,
   "isGpuEnabled": true,
   "isInternetEnabled": true,
   "language": "python",
   "sourceType": "notebook"
  },
  "kernelspec": {
   "display_name": "Python 3",
   "language": "python",
   "name": "python3"
  },
  "language_info": {
   "codemirror_mode": {
    "name": "ipython",
    "version": 3
   },
   "file_extension": ".py",
   "mimetype": "text/x-python",
   "name": "python",
   "nbconvert_exporter": "python",
   "pygments_lexer": "ipython3",
   "version": "3.11.11"
  }
 },
 "nbformat": 4,
 "nbformat_minor": 4
}
