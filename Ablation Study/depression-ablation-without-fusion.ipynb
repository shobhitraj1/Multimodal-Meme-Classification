{
 "cells": [
  {
   "cell_type": "markdown",
   "metadata": {},
   "source": [
    "## Dataset Download"
   ]
  },
  {
   "cell_type": "code",
   "execution_count": 1,
   "metadata": {
    "_cell_guid": "b1076dfc-b9ad-4769-8c92-a6c4dae69d19",
    "_uuid": "8f2839f25d086af736a60e9eeb907d3b93b6e0e5",
    "execution": {
     "iopub.execute_input": "2025-04-13T13:36:47.583821Z",
     "iopub.status.busy": "2025-04-13T13:36:47.583532Z",
     "iopub.status.idle": "2025-04-13T13:37:01.371288Z",
     "shell.execute_reply": "2025-04-13T13:37:01.370039Z",
     "shell.execute_reply.started": "2025-04-13T13:36:47.583799Z"
    },
    "id": "j9Zw8lgt1ftL",
    "outputId": "618211d2-13c8-4cfd-db76-74ab6b94cdc3",
    "trusted": true
   },
   "outputs": [
    {
     "name": "stdout",
     "output_type": "stream",
     "text": [
      "Downloading...\n",
      "From (original): https://drive.google.com/uc?id=1LQoyq_ZjHJih7hxJ2yJ_OrZhOIE_BZwB\n",
      "From (redirected): https://drive.google.com/uc?id=1LQoyq_ZjHJih7hxJ2yJ_OrZhOIE_BZwB&confirm=t&uuid=62dc275f-0edc-430f-ba07-5578c1056838\n",
      "To: /kaggle/working/depression_dataset_complete.zip\n",
      "100%|████████████████████████████████████████| 652M/652M [00:08<00:00, 74.9MB/s]\n"
     ]
    }
   ],
   "source": [
    "!gdown 1LQoyq_ZjHJih7hxJ2yJ_OrZhOIE_BZwB"
   ]
  },
  {
   "cell_type": "code",
   "execution_count": 2,
   "metadata": {
    "execution": {
     "iopub.execute_input": "2025-04-13T13:37:01.373510Z",
     "iopub.status.busy": "2025-04-13T13:37:01.373154Z",
     "iopub.status.idle": "2025-04-13T13:37:08.169177Z",
     "shell.execute_reply": "2025-04-13T13:37:08.168112Z",
     "shell.execute_reply.started": "2025-04-13T13:37:01.373481Z"
    },
    "id": "Ej_Lg2Tb1ftM",
    "trusted": true
   },
   "outputs": [],
   "source": [
    "!unzip depression_dataset_complete.zip > /dev/null"
   ]
  },
  {
   "cell_type": "code",
   "execution_count": 16,
   "metadata": {
    "execution": {
     "iopub.execute_input": "2025-04-14T23:52:55.833208Z",
     "iopub.status.busy": "2025-04-14T23:52:55.832565Z",
     "iopub.status.idle": "2025-04-14T23:52:55.838940Z",
     "shell.execute_reply": "2025-04-14T23:52:55.838177Z",
     "shell.execute_reply.started": "2025-04-14T23:52:55.833183Z"
    },
    "trusted": true
   },
   "outputs": [],
   "source": [
    "import os\n",
    "import torch\n",
    "import torch.nn as nn\n",
    "import torch.optim as optim\n",
    "from torch.utils.data import Dataset, DataLoader\n",
    "from torchvision import transforms\n",
    "from transformers import AutoTokenizer, AutoModel, CLIPImageProcessor, CLIPVisionModel\n",
    "from sklearn.metrics import precision_recall_fscore_support\n",
    "import numpy as np\n",
    "from tqdm import tqdm\n",
    "from PIL import Image\n",
    "import json\n",
    "import math\n",
    "\n",
    "DEVICE = torch.device(\"cuda\" if torch.cuda.is_available() else \"cpu\")\n",
    "BATCH_SIZE = 16\n",
    "LR = 2e-5\n",
    "MAX_LEN = 512\n",
    "FUSION_DIM = 768\n",
    "LABELS = [\"Lack of Interest\", \"Feeling Down\", \"Eating Disorder\",\n",
    "          \"Sleeping Disorder\", \"Low Self-Esteem\", \"Concentration Problem\", \"Self-Harm\"]\n",
    "LABEL_MAP = {label: i for i, label in enumerate(LABELS)}\n",
    "NUM_CLASSES = len(LABELS)"
   ]
  },
  {
   "cell_type": "markdown",
   "metadata": {},
   "source": [
    "## Custom Dataset"
   ]
  },
  {
   "cell_type": "code",
   "execution_count": 17,
   "metadata": {
    "execution": {
     "iopub.execute_input": "2025-04-14T23:52:58.851202Z",
     "iopub.status.busy": "2025-04-14T23:52:58.850660Z",
     "iopub.status.idle": "2025-04-14T23:52:58.860057Z",
     "shell.execute_reply": "2025-04-14T23:52:58.859467Z",
     "shell.execute_reply.started": "2025-04-14T23:52:58.851179Z"
    },
    "id": "9ZzhMrBY1ftN",
    "trusted": true
   },
   "outputs": [],
   "source": [
    "class MultimodalDepressionDataset(Dataset):\n",
    "    def __init__(self, data, image_path, tokenizer, image_processor, max_len=512):\n",
    "        self.data = data\n",
    "        self.tokenizer = tokenizer\n",
    "        self.image_processor = image_processor\n",
    "        self.max_len = max_len\n",
    "        self.img_path = image_path\n",
    "        self.transform = transforms.Compose([\n",
    "            transforms.Resize((224, 224)),\n",
    "            transforms.ToTensor(),\n",
    "            transforms.Normalize(mean=[0.485, 0.456, 0.406], std=[0.229, 0.224, 0.225])\n",
    "        ])\n",
    "\n",
    "    def __len__(self):\n",
    "        return len(self.data)\n",
    "\n",
    "    def __getitem__(self, idx):\n",
    "        sample = self.data[idx]\n",
    "\n",
    "        ocr_text = sample[\"ocr_text\"]\n",
    "        figurative_reasoning = sample[\"figurative_reasoning\"]\n",
    "        combined_text = ocr_text + \" [SEP] \" + figurative_reasoning\n",
    "\n",
    "        encoding = self.tokenizer(\n",
    "            combined_text,\n",
    "            padding=\"max_length\",\n",
    "            truncation=True,\n",
    "            max_length=self.max_len,\n",
    "            return_tensors=\"pt\",\n",
    "        )\n",
    "\n",
    "        image_path = os.path.join(self.img_path, sample[\"sample_id\"] + \".jpeg\")\n",
    "        image = Image.open(image_path).convert(\"RGB\")\n",
    "        image_tensor = self.image_processor(image, return_tensors=\"pt\")\n",
    "\n",
    "        labels = torch.zeros(NUM_CLASSES)\n",
    "        for category in sample[\"meme_depressive_categories\"]:\n",
    "            labels[LABEL_MAP[category]] = 1.0\n",
    "\n",
    "        return {\n",
    "            \"input_ids\": encoding[\"input_ids\"].squeeze(0),\n",
    "            \"attention_mask\": encoding[\"attention_mask\"].squeeze(0),\n",
    "            \"image\": image_tensor,\n",
    "            \"label\": labels\n",
    "        }\n",
    "\n",
    "def custom_collate_fn(batch):\n",
    "    input_ids = torch.stack([item['input_ids'] for item in batch])\n",
    "    attention_mask = torch.stack([item['attention_mask'] for item in batch])\n",
    "    labels = torch.stack([item['label'] for item in batch])\n",
    "\n",
    "    images = {}\n",
    "    for key in batch[0]['image'].keys():\n",
    "        if isinstance(batch[0]['image'][key], torch.Tensor):\n",
    "            images[key] = torch.stack([item['image'][key].squeeze(0) for item in batch])\n",
    "\n",
    "    return {\n",
    "        'input_ids': input_ids,\n",
    "        'attention_mask': attention_mask,\n",
    "        'image': images,\n",
    "        'label': labels,\n",
    "    }"
   ]
  },
  {
   "cell_type": "markdown",
   "metadata": {},
   "source": [
    "## Model Definition"
   ]
  },
  {
   "cell_type": "code",
   "execution_count": null,
   "metadata": {
    "execution": {
     "iopub.execute_input": "2025-04-14T23:53:00.969709Z",
     "iopub.status.busy": "2025-04-14T23:53:00.969133Z",
     "iopub.status.idle": "2025-04-14T23:53:00.991734Z",
     "shell.execute_reply": "2025-04-14T23:53:00.991147Z",
     "shell.execute_reply.started": "2025-04-14T23:53:00.969685Z"
    },
    "id": "dUS44Uwr1ftO",
    "trusted": true
   },
   "outputs": [],
   "source": [
    "class SimpleFusionModel(nn.Module):\n",
    "    def __init__(self, text_model_name=\"bert-base-uncased\", num_classes=7, fusion_dim=768):\n",
    "        super(SimpleFusionModel, self).__init__()\n",
    "\n",
    "        self.text_encoder = AutoModel.from_pretrained(text_model_name)\n",
    "        self.text_dim = self.text_encoder.config.hidden_size\n",
    "\n",
    "        self.vision_encoder = CLIPVisionModel.from_pretrained(\"openai/clip-vit-base-patch32\")\n",
    "        self.vision_dim = self.vision_encoder.config.hidden_size\n",
    "\n",
    "        self.text_projection = nn.Linear(self.text_dim, fusion_dim)\n",
    "        self.vision_projection = nn.Linear(self.vision_dim, fusion_dim)\n",
    "\n",
    "        self.fusion_dim = fusion_dim\n",
    "        self.fusion_layer = nn.Sequential(\n",
    "            nn.Linear(fusion_dim * 2, fusion_dim),\n",
    "            nn.LayerNorm(fusion_dim),\n",
    "            nn.GELU(),\n",
    "            nn.Dropout(0.2)\n",
    "        )\n",
    "\n",
    "        self.expert_nets = nn.ModuleList([\n",
    "            nn.Sequential(\n",
    "                nn.Linear(fusion_dim, fusion_dim),\n",
    "                nn.LayerNorm(fusion_dim),\n",
    "                nn.GELU(),\n",
    "                nn.Dropout(0.2)\n",
    "            ) for _ in range(4)\n",
    "        ])\n",
    "\n",
    "        self.moe_gate = nn.Linear(fusion_dim, 4)\n",
    "\n",
    "        self.classifier = nn.Sequential(\n",
    "            nn.Linear(fusion_dim, fusion_dim),\n",
    "            nn.LayerNorm(fusion_dim),\n",
    "            nn.GELU(),\n",
    "            nn.Dropout(0.1),\n",
    "            nn.Linear(fusion_dim, num_classes)\n",
    "        )\n",
    "\n",
    "        contrastive_dim = 256\n",
    "        self.contrastive_projection = nn.Sequential(\n",
    "            nn.Linear(fusion_dim, fusion_dim // 2),\n",
    "            nn.LayerNorm(fusion_dim // 2),\n",
    "            nn.GELU(),\n",
    "            nn.Linear(fusion_dim // 2, contrastive_dim)\n",
    "        )\n",
    "\n",
    "        self.text_contrastive_proj = nn.Sequential(\n",
    "            nn.Linear(self.text_dim, contrastive_dim),\n",
    "            nn.LayerNorm(contrastive_dim),\n",
    "            nn.GELU()\n",
    "        )\n",
    "\n",
    "        self.image_contrastive_proj = nn.Sequential(\n",
    "            nn.Linear(self.vision_dim, contrastive_dim),\n",
    "            nn.LayerNorm(contrastive_dim),\n",
    "            nn.GELU()\n",
    "        )\n",
    "\n",
    "    def forward(self, input_ids, attention_mask, image_features, get_embeddings=False):\n",
    "        text_outputs = self.text_encoder(input_ids=input_ids, attention_mask=attention_mask)\n",
    "        text_cls = text_outputs.last_hidden_state[:, 0]\n",
    "\n",
    "        vision_outputs = self.vision_encoder(**image_features)\n",
    "        image_cls = vision_outputs.pooler_output\n",
    "\n",
    "        text_projected = self.text_projection(text_cls)\n",
    "        image_projected = self.vision_projection(image_cls)\n",
    "\n",
    "        concat_features = torch.cat([text_projected, image_projected], dim=1)\n",
    "        fused_features = self.fusion_layer(concat_features)\n",
    "\n",
    "        expert_outputs = [expert(fused_features) for expert in self.expert_nets]\n",
    "        expert_gates = torch.nn.functional.softmax(self.moe_gate(fused_features), dim=1)\n",
    "\n",
    "        moe_output = torch.zeros_like(expert_outputs[0])\n",
    "        for i, expert_out in enumerate(expert_outputs):\n",
    "            moe_output += expert_out * expert_gates[:, i].unsqueeze(1)\n",
    "\n",
    "        logits = self.classifier(moe_output)\n",
    "\n",
    "        if get_embeddings:\n",
    "            multimodal_contrastive = self.contrastive_projection(moe_output)\n",
    "            text_contrastive = self.text_contrastive_proj(text_cls)\n",
    "            image_contrastive = self.image_contrastive_proj(image_cls)\n",
    "\n",
    "            multimodal_contrastive = torch.nn.functional.normalize(multimodal_contrastive, p=2, dim=1)\n",
    "            text_contrastive = torch.nn.functional.normalize(text_contrastive, p=2, dim=1)\n",
    "            image_contrastive = torch.nn.functional.normalize(image_contrastive, p=2, dim=1)\n",
    "\n",
    "            return {\n",
    "                \"logits\": logits,\n",
    "                \"multimodal_embedding\": multimodal_contrastive,\n",
    "                \"text_embedding\": text_contrastive,\n",
    "                \"image_embedding\": image_contrastive\n",
    "            }\n",
    "\n",
    "        return logits\n",
    "\n",
    "class ContrastiveLoss(nn.Module):\n",
    "    def __init__(self, temperature=0.5):\n",
    "        super().__init__()\n",
    "        self.temperature = temperature\n",
    "        self.criterion = nn.CrossEntropyLoss(reduction=\"sum\")\n",
    "\n",
    "    def forward(self, modal1, modal2):\n",
    "        batch_size = modal1.shape[0]\n",
    "\n",
    "        features = torch.cat([modal1, modal2], dim=0)\n",
    "        similarity_matrix = torch.matmul(features, features.T)\n",
    "\n",
    "        mask = (~torch.eye(2 * batch_size, dtype=bool, device=features.device)).float()\n",
    "\n",
    "        similarity_matrix = similarity_matrix * mask\n",
    "        similarity_matrix = similarity_matrix / self.temperature\n",
    "\n",
    "        labels = torch.arange(batch_size, device=features.device, dtype=torch.long)\n",
    "        labels = torch.cat([labels + batch_size, labels], dim=0)\n",
    "\n",
    "        loss = self.criterion(similarity_matrix, labels)\n",
    "        loss = loss / (2 * batch_size)\n",
    "\n",
    "        return loss"
   ]
  },
  {
   "cell_type": "markdown",
   "metadata": {},
   "source": [
    "## Training Functions"
   ]
  },
  {
   "cell_type": "code",
   "execution_count": 19,
   "metadata": {
    "execution": {
     "iopub.execute_input": "2025-04-14T23:53:05.084748Z",
     "iopub.status.busy": "2025-04-14T23:53:05.084071Z",
     "iopub.status.idle": "2025-04-14T23:53:05.100758Z",
     "shell.execute_reply": "2025-04-14T23:53:05.100061Z",
     "shell.execute_reply.started": "2025-04-14T23:53:05.084721Z"
    },
    "trusted": true
   },
   "outputs": [],
   "source": [
    "def train_multimodal_model(model, train_data, val_data, img_path, epochs, model_save_name):\n",
    "    tokenizer = AutoTokenizer.from_pretrained(\"mental/mental-roberta-base\")\n",
    "    image_processor = CLIPImageProcessor.from_pretrained(\"openai/clip-vit-base-patch32\")\n",
    "\n",
    "    train_dataset = MultimodalDepressionDataset(train_data, os.path.join(img_path, \"train\"), tokenizer, image_processor, max_len=MAX_LEN)\n",
    "    val_dataset = MultimodalDepressionDataset(val_data, os.path.join(img_path, \"val\"), tokenizer, image_processor, max_len=MAX_LEN)\n",
    "\n",
    "    print(\"Train Set Size:\", len(train_dataset))\n",
    "    print(\"Validation Set Size:\", len(val_dataset))\n",
    "\n",
    "    train_loader = DataLoader(\n",
    "        train_dataset,\n",
    "        batch_size=BATCH_SIZE,\n",
    "        shuffle=True,\n",
    "        collate_fn=custom_collate_fn\n",
    "    )\n",
    "\n",
    "    val_loader = DataLoader(\n",
    "        val_dataset,\n",
    "        batch_size=BATCH_SIZE,\n",
    "        shuffle=False,\n",
    "        collate_fn=custom_collate_fn\n",
    "    )\n",
    "\n",
    "    optimizer = optim.AdamW(model.parameters(), lr=LR)\n",
    "    scheduler = torch.optim.lr_scheduler.ReduceLROnPlateau(\n",
    "        optimizer, mode='max', factor=0.5, patience=2, verbose=True\n",
    "    )\n",
    "    criterion = nn.BCEWithLogitsLoss()\n",
    "    contrastive_criterion = ContrastiveLoss(temperature=0.07)\n",
    "    contrastive_weight = 0.3\n",
    "\n",
    "    model = model.to(DEVICE)\n",
    "    model = nn.DataParallel(model)\n",
    "\n",
    "    best_f1 = 0\n",
    "    for epoch in range(epochs):\n",
    "        print(f\"\\nEpoch {epoch+1}/{epochs}\")\n",
    "\n",
    "        model.train()\n",
    "        train_loss = 0\n",
    "        all_train_preds, all_train_labels = [], []\n",
    "\n",
    "        for batch in tqdm(train_loader, desc=\"Training\"):\n",
    "            input_ids = batch[\"input_ids\"].to(DEVICE)\n",
    "            attention_mask = batch[\"attention_mask\"].to(DEVICE)\n",
    "            labels = batch[\"label\"].to(DEVICE)\n",
    "            image_features = {k: v.to(DEVICE) for k, v in batch[\"image\"].items()}\n",
    "\n",
    "            optimizer.zero_grad()\n",
    "            outputs = model(input_ids, attention_mask, image_features, get_embeddings=True)\n",
    "            logits = outputs[\"logits\"]\n",
    "            classification_loss = criterion(logits, labels)\n",
    "\n",
    "            multimodal_text_loss = contrastive_criterion(\n",
    "                outputs[\"multimodal_embedding\"],\n",
    "                outputs[\"text_embedding\"]\n",
    "            )\n",
    "\n",
    "            multimodal_image_loss = contrastive_criterion(\n",
    "                outputs[\"multimodal_embedding\"],\n",
    "                outputs[\"image_embedding\"]\n",
    "            )\n",
    "\n",
    "            text_image_loss = contrastive_criterion(\n",
    "                outputs[\"text_embedding\"],\n",
    "                outputs[\"image_embedding\"]\n",
    "            )\n",
    "\n",
    "            contrastive_loss = (multimodal_text_loss + multimodal_image_loss + text_image_loss) / 3\n",
    "            loss = (1 - contrastive_weight) * classification_loss + contrastive_weight * contrastive_loss\n",
    "\n",
    "            loss.backward()\n",
    "            torch.nn.utils.clip_grad_norm_(model.parameters(), 1.0)\n",
    "            optimizer.step()\n",
    "\n",
    "            train_loss += loss.item()\n",
    "            with torch.no_grad():\n",
    "                predictions = (torch.sigmoid(logits) > 0.5).float().cpu().numpy()\n",
    "                all_train_preds.extend(predictions)\n",
    "                all_train_labels.extend(labels.cpu().numpy())\n",
    "\n",
    "        train_loss = train_loss / len(train_loader)\n",
    "        train_metrics = compute_multilabel_metrics(np.array(all_train_labels), np.array(all_train_preds))\n",
    "\n",
    "        print(f\"Train Loss: {train_loss:.4f}\")\n",
    "        print(f\"Train Macro-F1: {train_metrics['macro_f1']:.4f}, Weighted-F1: {train_metrics['weighted_f1']:.4f}\")\n",
    "\n",
    "        val_loss, val_metrics = evaluate_multimodal_model(\n",
    "            model, val_loader, criterion\n",
    "        )\n",
    "\n",
    "        print(f\"Validation Loss: {val_loss:.4f}\")\n",
    "        print(f\"Validation Macro-F1: {val_metrics['macro_f1']:.4f}, Weighted-F1: {val_metrics['weighted_f1']:.4f}\")\n",
    "\n",
    "        scheduler.step(val_metrics['macro_f1'])\n",
    "        \n",
    "        f1_hm = 2 * val_metrics[\"macro_f1\"] * val_metrics[\"weighted_f1\"] / (val_metrics[\"macro_f1\"] + val_metrics[\"weighted_f1\"])\n",
    "        if f1_hm > best_f1:\n",
    "            best_f1 = f1_hm\n",
    "            torch.save(model.state_dict(), f\"{model_save_name}_depression.pth\")\n",
    "            print(\"Best model saved!\")\n",
    "        \n",
    "    return model\n",
    "\n",
    "def compute_multilabel_metrics(y_true, y_pred):\n",
    "    macro_precision, macro_recall, macro_f1, _ = precision_recall_fscore_support(y_true, y_pred, average='macro')\n",
    "    weighted_precision, weighted_recall, weighted_f1, _ = precision_recall_fscore_support(y_true, y_pred, average='weighted')\n",
    "    \n",
    "    per_class_precision, per_class_recall, per_class_f1, _ = precision_recall_fscore_support(y_true, y_pred, average=None)\n",
    "    metrics = {\n",
    "        'macro_precision': macro_precision,\n",
    "        'macro_recall': macro_recall,\n",
    "        'macro_f1': macro_f1,\n",
    "        'weighted_precision': weighted_precision,\n",
    "        'weighted_recall': weighted_recall,\n",
    "        'weighted_f1': weighted_f1,\n",
    "        'per_class_precision': per_class_precision,\n",
    "        'per_class_recall': per_class_recall,\n",
    "        'per_class_f1': per_class_f1\n",
    "    }\n",
    "    \n",
    "    return metrics\n",
    "\n",
    "def evaluate_multimodal_model(model, loader, criterion):\n",
    "    model.eval()\n",
    "    val_loss = 0\n",
    "    all_val_preds, all_val_labels = [], []\n",
    "    \n",
    "    with torch.no_grad():\n",
    "        for batch in tqdm(loader, desc=\"Evaluating\"):\n",
    "            input_ids = batch[\"input_ids\"].to(DEVICE)\n",
    "            attention_mask = batch[\"attention_mask\"].to(DEVICE)\n",
    "            labels = batch[\"label\"].to(DEVICE)\n",
    "            image_features = {k: v.to(DEVICE) for k, v in batch[\"image\"].items()}\n",
    "            \n",
    "            logits = model(input_ids, attention_mask, image_features)\n",
    "            loss = criterion(logits, labels)\n",
    "            \n",
    "            val_loss += loss.item()\n",
    "            predictions = (torch.sigmoid(logits) > 0.5).float().cpu().numpy()\n",
    "            all_val_preds.extend(predictions)\n",
    "            all_val_labels.extend(labels.cpu().numpy())\n",
    "    \n",
    "    val_loss = val_loss / len(loader)\n",
    "    val_metrics = compute_multilabel_metrics(np.array(all_val_labels), np.array(all_val_preds))\n",
    "    \n",
    "    print(\"\\nPer-class metrics:\")\n",
    "    for i, label in enumerate(LABELS):\n",
    "        print(f\"{label}: F1={val_metrics['per_class_f1'][i]:.4f}, \"\n",
    "              f\"Precision={val_metrics['per_class_precision'][i]:.4f}, \"\n",
    "              f\"Recall={val_metrics['per_class_recall'][i]:.4f}\")\n",
    "    \n",
    "    return val_loss, val_metrics"
   ]
  },
  {
   "cell_type": "markdown",
   "metadata": {},
   "source": [
    "## Model Training"
   ]
  },
  {
   "cell_type": "code",
   "execution_count": 20,
   "metadata": {
    "execution": {
     "iopub.execute_input": "2025-04-14T23:53:07.904354Z",
     "iopub.status.busy": "2025-04-14T23:53:07.903794Z",
     "iopub.status.idle": "2025-04-14T23:53:08.312357Z",
     "shell.execute_reply": "2025-04-14T23:53:08.311799Z",
     "shell.execute_reply.started": "2025-04-14T23:53:07.904331Z"
    },
    "trusted": true
   },
   "outputs": [],
   "source": [
    "train_data = json.load(open(\"depression_train_llava_dataset.json\", \"r\"))\n",
    "val_data = json.load(open(\"depression_val_llava_dataset.json\", \"r\"))\n",
    "test_data = json.load(open(\"depression_test_llava_dataset.json\", \"r\"))\n",
    "\n",
    "img_path = \"depressive_image\"\n",
    "\n",
    "tokenizer = AutoTokenizer.from_pretrained(\"mental/mental-roberta-base\")\n",
    "image_processor = CLIPImageProcessor.from_pretrained(\"openai/clip-vit-base-patch32\")\n",
    "\n",
    "test_dataset = MultimodalDepressionDataset(test_data, os.path.join(img_path, \"test\"), tokenizer, image_processor, max_len=MAX_LEN)\n",
    "test_loader = DataLoader(\n",
    "    test_dataset,\n",
    "    batch_size=BATCH_SIZE,\n",
    "    shuffle=False,\n",
    "    collate_fn=custom_collate_fn\n",
    ")"
   ]
  },
  {
   "cell_type": "code",
   "execution_count": null,
   "metadata": {
    "execution": {
     "iopub.execute_input": "2025-04-13T13:38:04.500862Z",
     "iopub.status.busy": "2025-04-13T13:38:04.500008Z",
     "iopub.status.idle": "2025-04-13T20:05:45.390993Z",
     "shell.execute_reply": "2025-04-13T20:05:45.390116Z",
     "shell.execute_reply.started": "2025-04-13T13:38:04.500826Z"
    },
    "id": "U4rrSIL41ftQ",
    "outputId": "3c97f449-8d5f-4dc0-9550-0a82e67856ee",
    "trusted": true
   },
   "outputs": [
    {
     "name": "stdout",
     "output_type": "stream",
     "text": [
      "Train Set Size: 8722\n",
      "Validation Set Size: 359\n"
     ]
    },
    {
     "name": "stderr",
     "output_type": "stream",
     "text": [
      "Some weights of RobertaModel were not initialized from the model checkpoint at mental/mental-roberta-base and are newly initialized: ['pooler.dense.bias', 'pooler.dense.weight']\n",
      "You should probably TRAIN this model on a down-stream task to be able to use it for predictions and inference.\n"
     ]
    },
    {
     "name": "stdout",
     "output_type": "stream",
     "text": [
      "\n",
      "Epoch 1/30\n"
     ]
    },
    {
     "name": "stderr",
     "output_type": "stream",
     "text": [
      "Training: 100%|██████████| 546/546 [12:20<00:00,  1.36s/it]\n"
     ]
    },
    {
     "name": "stdout",
     "output_type": "stream",
     "text": [
      "Train Loss: 0.8549\n",
      "Train Macro-F1: 0.1953, Weighted-F1: 0.2651\n"
     ]
    },
    {
     "name": "stderr",
     "output_type": "stream",
     "text": [
      "Evaluating: 100%|██████████| 23/23 [00:12<00:00,  1.77it/s]\n"
     ]
    },
    {
     "name": "stdout",
     "output_type": "stream",
     "text": [
      "\n",
      "Per-class metrics:\n",
      "Lack of Interest: F1=0.0000, Precision=0.0000, Recall=0.0000\n",
      "Feeling Down: F1=0.3175, Precision=0.7018, Recall=0.2051\n",
      "Eating Disorder: F1=0.7400, Precision=0.7255, Recall=0.7551\n",
      "Sleeping Disorder: F1=0.8090, Precision=0.8182, Recall=0.8000\n",
      "Low Self-Esteem: F1=0.0000, Precision=0.0000, Recall=0.0000\n",
      "Concentration Problem: F1=0.0465, Precision=1.0000, Recall=0.0238\n",
      "Self-Harm: F1=0.2857, Precision=0.6875, Recall=0.1803\n",
      "Validation Loss: 0.4138\n",
      "Validation Macro-F1: 0.3141, Weighted-F1: 0.2949\n",
      "Best model saved!\n"
     ]
    },
    {
     "name": "stdout",
     "output_type": "stream",
     "text": [
      "\n",
      "Epoch 2/30\n"
     ]
    },
    {
     "name": "stderr",
     "output_type": "stream",
     "text": [
      "Training: 100%|██████████| 546/546 [12:20<00:00,  1.36s/it]\n"
     ]
    },
    {
     "name": "stdout",
     "output_type": "stream",
     "text": [
      "Train Loss: 0.3889\n",
      "Train Macro-F1: 0.4385, Weighted-F1: 0.5488\n"
     ]
    },
    {
     "name": "stderr",
     "output_type": "stream",
     "text": [
      "Evaluating: 100%|██████████| 23/23 [00:13<00:00,  1.74it/s]\n"
     ]
    },
    {
     "name": "stdout",
     "output_type": "stream",
     "text": [
      "\n",
      "Per-class metrics:\n",
      "Lack of Interest: F1=0.2000, Precision=1.0000, Recall=0.1111\n",
      "Feeling Down: F1=0.4710, Precision=0.8025, Recall=0.3333\n",
      "Eating Disorder: F1=0.7525, Precision=0.7308, Recall=0.7755\n",
      "Sleeping Disorder: F1=0.6923, Precision=0.8182, Recall=0.6000\n",
      "Low Self-Esteem: F1=0.0233, Precision=1.0000, Recall=0.0118\n",
      "Concentration Problem: F1=0.5902, Precision=0.9474, Recall=0.4286\n",
      "Self-Harm: F1=0.4882, Precision=0.4697, Recall=0.5082\n",
      "Validation Loss: 0.4000\n",
      "Validation Macro-F1: 0.4596, Weighted-F1: 0.4318\n",
      "Best model saved!\n"
     ]
    },
    {
     "name": "stdout",
     "output_type": "stream",
     "text": [
      "\n",
      "Epoch 3/30\n"
     ]
    },
    {
     "name": "stderr",
     "output_type": "stream",
     "text": [
      "Training: 100%|██████████| 546/546 [12:27<00:00,  1.37s/it]\n"
     ]
    },
    {
     "name": "stdout",
     "output_type": "stream",
     "text": [
      "Train Loss: 0.2661\n",
      "Train Macro-F1: 0.6485, Weighted-F1: 0.6979\n"
     ]
    },
    {
     "name": "stderr",
     "output_type": "stream",
     "text": [
      "Evaluating: 100%|██████████| 23/23 [00:13<00:00,  1.74it/s]\n"
     ]
    },
    {
     "name": "stdout",
     "output_type": "stream",
     "text": [
      "\n",
      "Per-class metrics:\n",
      "Lack of Interest: F1=0.3636, Precision=1.0000, Recall=0.2222\n",
      "Feeling Down: F1=0.6472, Precision=0.7500, Recall=0.5692\n",
      "Eating Disorder: F1=0.7835, Precision=0.7917, Recall=0.7755\n",
      "Sleeping Disorder: F1=0.7529, Precision=0.8000, Recall=0.7111\n",
      "Low Self-Esteem: F1=0.1263, Precision=0.6000, Recall=0.0706\n",
      "Concentration Problem: F1=0.6765, Precision=0.8846, Recall=0.5476\n",
      "Self-Harm: F1=0.4494, Precision=0.7143, Recall=0.3279\n",
      "Validation Loss: 0.3893\n",
      "Validation Macro-F1: 0.5428, Weighted-F1: 0.5391\n",
      "Best model saved!\n"
     ]
    },
    {
     "name": "stdout",
     "output_type": "stream",
     "text": [
      "\n",
      "Epoch 4/30\n"
     ]
    },
    {
     "name": "stderr",
     "output_type": "stream",
     "text": [
      "Training: 100%|██████████| 546/546 [12:19<00:00,  1.35s/it]\n"
     ]
    },
    {
     "name": "stdout",
     "output_type": "stream",
     "text": [
      "Train Loss: 0.2014\n",
      "Train Macro-F1: 0.7570, Weighted-F1: 0.7871\n"
     ]
    },
    {
     "name": "stderr",
     "output_type": "stream",
     "text": [
      "Evaluating: 100%|██████████| 23/23 [00:12<00:00,  1.79it/s]\n"
     ]
    },
    {
     "name": "stdout",
     "output_type": "stream",
     "text": [
      "\n",
      "Per-class metrics:\n",
      "Lack of Interest: F1=0.3636, Precision=1.0000, Recall=0.2222\n",
      "Feeling Down: F1=0.6472, Precision=0.7500, Recall=0.5692\n",
      "Eating Disorder: F1=0.8298, Precision=0.8667, Recall=0.7959\n",
      "Sleeping Disorder: F1=0.7500, Precision=0.8571, Recall=0.6667\n",
      "Low Self-Esteem: F1=0.1277, Precision=0.6667, Recall=0.0706\n",
      "Concentration Problem: F1=0.6667, Precision=0.9167, Recall=0.5238\n",
      "Self-Harm: F1=0.5664, Precision=0.6154, Recall=0.5246\n",
      "Validation Loss: 0.3870\n",
      "Validation Macro-F1: 0.5645, Weighted-F1: 0.5563\n",
      "Best model saved!\n"
     ]
    },
    {
     "name": "stdout",
     "output_type": "stream",
     "text": [
      "\n",
      "Epoch 5/30\n"
     ]
    },
    {
     "name": "stderr",
     "output_type": "stream",
     "text": [
      "Training: 100%|██████████| 546/546 [12:18<00:00,  1.35s/it]\n"
     ]
    },
    {
     "name": "stdout",
     "output_type": "stream",
     "text": [
      "Train Loss: 0.1515\n",
      "Train Macro-F1: 0.8273, Weighted-F1: 0.8512\n"
     ]
    },
    {
     "name": "stderr",
     "output_type": "stream",
     "text": [
      "Evaluating: 100%|██████████| 23/23 [00:13<00:00,  1.75it/s]\n"
     ]
    },
    {
     "name": "stdout",
     "output_type": "stream",
     "text": [
      "\n",
      "Per-class metrics:\n",
      "Lack of Interest: F1=0.3929, Precision=1.0000, Recall=0.2444\n",
      "Feeling Down: F1=0.6331, Precision=0.7483, Recall=0.5487\n",
      "Eating Disorder: F1=0.7921, Precision=0.7692, Recall=0.8163\n",
      "Sleeping Disorder: F1=0.7333, Precision=0.7333, Recall=0.7333\n",
      "Low Self-Esteem: F1=0.3065, Precision=0.4872, Recall=0.2235\n",
      "Concentration Problem: F1=0.7059, Precision=0.9231, Recall=0.5714\n",
      "Self-Harm: F1=0.5000, Precision=0.7419, Recall=0.3770\n",
      "Validation Loss: 0.4146\n",
      "Validation Macro-F1: 0.5805, Weighted-F1: 0.5731\n",
      "Best model saved!\n"
     ]
    },
    {
     "name": "stdout",
     "output_type": "stream",
     "text": [
      "\n",
      "Epoch 6/30\n"
     ]
    },
    {
     "name": "stderr",
     "output_type": "stream",
     "text": [
      "Training: 100%|██████████| 546/546 [12:26<00:00,  1.37s/it]\n"
     ]
    },
    {
     "name": "stdout",
     "output_type": "stream",
     "text": [
      "Train Loss: 0.1170\n",
      "Train Macro-F1: 0.8802, Weighted-F1: 0.8973\n"
     ]
    },
    {
     "name": "stderr",
     "output_type": "stream",
     "text": [
      "Evaluating: 100%|██████████| 23/23 [00:13<00:00,  1.77it/s]\n"
     ]
    },
    {
     "name": "stdout",
     "output_type": "stream",
     "text": [
      "\n",
      "Per-class metrics:\n",
      "Lack of Interest: F1=0.3729, Precision=0.7857, Recall=0.2444\n",
      "Feeling Down: F1=0.5658, Precision=0.7890, Recall=0.4410\n",
      "Eating Disorder: F1=0.7879, Precision=0.7800, Recall=0.7959\n",
      "Sleeping Disorder: F1=0.8261, Precision=0.8085, Recall=0.8444\n",
      "Low Self-Esteem: F1=0.3817, Precision=0.5435, Recall=0.2941\n",
      "Concentration Problem: F1=0.7143, Precision=0.8929, Recall=0.5952\n",
      "Self-Harm: F1=0.5556, Precision=0.6383, Recall=0.4918\n",
      "Validation Loss: 0.4437\n",
      "Validation Macro-F1: 0.6006, Weighted-F1: 0.5732\n",
      "Best model saved!\n"
     ]
    },
    {
     "name": "stdout",
     "output_type": "stream",
     "text": [
      "\n",
      "Epoch 7/30\n"
     ]
    },
    {
     "name": "stderr",
     "output_type": "stream",
     "text": [
      "Training: 100%|██████████| 546/546 [12:31<00:00,  1.38s/it]\n"
     ]
    },
    {
     "name": "stdout",
     "output_type": "stream",
     "text": [
      "Train Loss: 0.0918\n",
      "Train Macro-F1: 0.9207, Weighted-F1: 0.9299\n"
     ]
    },
    {
     "name": "stderr",
     "output_type": "stream",
     "text": [
      "Evaluating: 100%|██████████| 23/23 [00:13<00:00,  1.76it/s]\n"
     ]
    },
    {
     "name": "stdout",
     "output_type": "stream",
     "text": [
      "\n",
      "Per-class metrics:\n",
      "Lack of Interest: F1=0.3636, Precision=1.0000, Recall=0.2222\n",
      "Feeling Down: F1=0.6781, Precision=0.7628, Recall=0.6103\n",
      "Eating Disorder: F1=0.7368, Precision=0.7609, Recall=0.7143\n",
      "Sleeping Disorder: F1=0.6341, Precision=0.7027, Recall=0.5778\n",
      "Low Self-Esteem: F1=0.3359, Precision=0.4783, Recall=0.2588\n",
      "Concentration Problem: F1=0.7246, Precision=0.9259, Recall=0.5952\n",
      "Self-Harm: F1=0.5437, Precision=0.6667, Recall=0.4590\n",
      "Validation Loss: 0.4754\n",
      "Validation Macro-F1: 0.5738, Weighted-F1: 0.5850\n"
     ]
    },
    {
     "name": "stdout",
     "output_type": "stream",
     "text": [
      "\n",
      "Epoch 8/30\n"
     ]
    },
    {
     "name": "stderr",
     "output_type": "stream",
     "text": [
      "Training: 100%|██████████| 546/546 [12:19<00:00,  1.35s/it]\n"
     ]
    },
    {
     "name": "stdout",
     "output_type": "stream",
     "text": [
      "Train Loss: 0.0759\n",
      "Train Macro-F1: 0.9408, Weighted-F1: 0.9466\n"
     ]
    },
    {
     "name": "stderr",
     "output_type": "stream",
     "text": [
      "Evaluating: 100%|██████████| 23/23 [00:13<00:00,  1.77it/s]\n"
     ]
    },
    {
     "name": "stdout",
     "output_type": "stream",
     "text": [
      "\n",
      "Per-class metrics:\n",
      "Lack of Interest: F1=0.4068, Precision=0.8571, Recall=0.2667\n",
      "Feeling Down: F1=0.6149, Precision=0.7795, Recall=0.5077\n",
      "Eating Disorder: F1=0.7478, Precision=0.6515, Recall=0.8776\n",
      "Sleeping Disorder: F1=0.7470, Precision=0.8158, Recall=0.6889\n",
      "Low Self-Esteem: F1=0.3382, Precision=0.4510, Recall=0.2706\n",
      "Concentration Problem: F1=0.7397, Precision=0.8710, Recall=0.6429\n",
      "Self-Harm: F1=0.5567, Precision=0.7500, Recall=0.4426\n",
      "Validation Loss: 0.5196\n",
      "Validation Macro-F1: 0.5930, Weighted-F1: 0.5790\n"
     ]
    },
    {
     "name": "stdout",
     "output_type": "stream",
     "text": [
      "\n",
      "Epoch 9/30\n"
     ]
    },
    {
     "name": "stderr",
     "output_type": "stream",
     "text": [
      "Training: 100%|██████████| 546/546 [12:19<00:00,  1.35s/it]\n"
     ]
    },
    {
     "name": "stdout",
     "output_type": "stream",
     "text": [
      "Train Loss: 0.0635\n",
      "Train Macro-F1: 0.9567, Weighted-F1: 0.9597\n"
     ]
    },
    {
     "name": "stderr",
     "output_type": "stream",
     "text": [
      "Evaluating: 100%|██████████| 23/23 [00:13<00:00,  1.77it/s]\n"
     ]
    },
    {
     "name": "stdout",
     "output_type": "stream",
     "text": [
      "\n",
      "Per-class metrics:\n",
      "Lack of Interest: F1=0.3571, Precision=0.9091, Recall=0.2222\n",
      "Feeling Down: F1=0.6386, Precision=0.7737, Recall=0.5436\n",
      "Eating Disorder: F1=0.7843, Precision=0.7547, Recall=0.8163\n",
      "Sleeping Disorder: F1=0.6889, Precision=0.6889, Recall=0.6889\n",
      "Low Self-Esteem: F1=0.1961, Precision=0.5882, Recall=0.1176\n",
      "Concentration Problem: F1=0.7324, Precision=0.8966, Recall=0.6190\n",
      "Self-Harm: F1=0.5333, Precision=0.4865, Recall=0.5902\n",
      "Validation Loss: 0.5707\n",
      "Validation Macro-F1: 0.5615, Weighted-F1: 0.5555\n"
     ]
    },
    {
     "name": "stdout",
     "output_type": "stream",
     "text": [
      "\n",
      "Epoch 10/30\n"
     ]
    },
    {
     "name": "stderr",
     "output_type": "stream",
     "text": [
      "Training: 100%|██████████| 546/546 [12:18<00:00,  1.35s/it]\n"
     ]
    },
    {
     "name": "stdout",
     "output_type": "stream",
     "text": [
      "Train Loss: 0.0413\n",
      "Train Macro-F1: 0.9740, Weighted-F1: 0.9749\n"
     ]
    },
    {
     "name": "stderr",
     "output_type": "stream",
     "text": [
      "Evaluating: 100%|██████████| 23/23 [00:13<00:00,  1.77it/s]\n"
     ]
    },
    {
     "name": "stdout",
     "output_type": "stream",
     "text": [
      "\n",
      "Per-class metrics:\n",
      "Lack of Interest: F1=0.3636, Precision=1.0000, Recall=0.2222\n",
      "Feeling Down: F1=0.6412, Precision=0.7517, Recall=0.5590\n",
      "Eating Disorder: F1=0.8041, Precision=0.8125, Recall=0.7959\n",
      "Sleeping Disorder: F1=0.7111, Precision=0.7111, Recall=0.7111\n",
      "Low Self-Esteem: F1=0.3741, Precision=0.4815, Recall=0.3059\n",
      "Concentration Problem: F1=0.6957, Precision=0.8889, Recall=0.5714\n",
      "Self-Harm: F1=0.6018, Precision=0.6538, Recall=0.5574\n",
      "Validation Loss: 0.5644\n",
      "Validation Macro-F1: 0.5988, Weighted-F1: 0.5949\n"
     ]
    },
    {
     "name": "stdout",
     "output_type": "stream",
     "text": [
      "\n",
      "Epoch 11/30\n"
     ]
    },
    {
     "name": "stderr",
     "output_type": "stream",
     "text": [
      "Training: 100%|██████████| 546/546 [12:23<00:00,  1.36s/it]\n"
     ]
    },
    {
     "name": "stdout",
     "output_type": "stream",
     "text": [
      "Train Loss: 0.0333\n",
      "Train Macro-F1: 0.9822, Weighted-F1: 0.9825\n"
     ]
    },
    {
     "name": "stderr",
     "output_type": "stream",
     "text": [
      "Evaluating: 100%|██████████| 23/23 [00:13<00:00,  1.75it/s]\n"
     ]
    },
    {
     "name": "stdout",
     "output_type": "stream",
     "text": [
      "\n",
      "Per-class metrics:\n",
      "Lack of Interest: F1=0.3509, Precision=0.8333, Recall=0.2222\n",
      "Feeling Down: F1=0.6516, Precision=0.7278, Recall=0.5897\n",
      "Eating Disorder: F1=0.7547, Precision=0.7018, Recall=0.8163\n",
      "Sleeping Disorder: F1=0.6087, Precision=0.8750, Recall=0.4667\n",
      "Low Self-Esteem: F1=0.3051, Precision=0.5455, Recall=0.2118\n",
      "Concentration Problem: F1=0.7429, Precision=0.9286, Recall=0.6190\n",
      "Self-Harm: F1=0.6370, Precision=0.5811, Recall=0.7049\n",
      "Validation Loss: 0.6144\n",
      "Validation Macro-F1: 0.5787, Weighted-F1: 0.5809\n"
     ]
    },
    {
     "name": "stdout",
     "output_type": "stream",
     "text": [
      "\n",
      "Epoch 12/30\n"
     ]
    },
    {
     "name": "stderr",
     "output_type": "stream",
     "text": [
      "Training: 100%|██████████| 546/546 [12:23<00:00,  1.36s/it]\n"
     ]
    },
    {
     "name": "stdout",
     "output_type": "stream",
     "text": [
      "Train Loss: 0.0282\n",
      "Train Macro-F1: 0.9851, Weighted-F1: 0.9848\n"
     ]
    },
    {
     "name": "stderr",
     "output_type": "stream",
     "text": [
      "Evaluating: 100%|██████████| 23/23 [00:13<00:00,  1.75it/s]\n"
     ]
    },
    {
     "name": "stdout",
     "output_type": "stream",
     "text": [
      "\n",
      "Per-class metrics:\n",
      "Lack of Interest: F1=0.3571, Precision=0.9091, Recall=0.2222\n",
      "Feeling Down: F1=0.6814, Precision=0.7410, Recall=0.6308\n",
      "Eating Disorder: F1=0.7477, Precision=0.6897, Recall=0.8163\n",
      "Sleeping Disorder: F1=0.7143, Precision=0.7692, Recall=0.6667\n",
      "Low Self-Esteem: F1=0.2832, Precision=0.5714, Recall=0.1882\n",
      "Concentration Problem: F1=0.7143, Precision=0.8929, Recall=0.5952\n",
      "Self-Harm: F1=0.5607, Precision=0.6522, Recall=0.4918\n",
      "Validation Loss: 0.6091\n",
      "Validation Macro-F1: 0.5798, Weighted-F1: 0.5862\n"
     ]
    },
    {
     "name": "stdout",
     "output_type": "stream",
     "text": [
      "\n",
      "Epoch 13/30\n"
     ]
    },
    {
     "name": "stderr",
     "output_type": "stream",
     "text": [
      "Training: 100%|██████████| 546/546 [12:21<00:00,  1.36s/it]\n"
     ]
    },
    {
     "name": "stdout",
     "output_type": "stream",
     "text": [
      "Train Loss: 0.0240\n",
      "Train Macro-F1: 0.9887, Weighted-F1: 0.9881\n"
     ]
    },
    {
     "name": "stderr",
     "output_type": "stream",
     "text": [
      "Evaluating: 100%|██████████| 23/23 [00:12<00:00,  1.77it/s]\n"
     ]
    },
    {
     "name": "stdout",
     "output_type": "stream",
     "text": [
      "\n",
      "Per-class metrics:\n",
      "Lack of Interest: F1=0.3793, Precision=0.8462, Recall=0.2444\n",
      "Feeling Down: F1=0.6313, Precision=0.7431, Recall=0.5487\n",
      "Eating Disorder: F1=0.7767, Precision=0.7407, Recall=0.8163\n",
      "Sleeping Disorder: F1=0.6889, Precision=0.6889, Recall=0.6889\n",
      "Low Self-Esteem: F1=0.2906, Precision=0.5312, Recall=0.2000\n",
      "Concentration Problem: F1=0.6944, Precision=0.8333, Recall=0.5952\n",
      "Self-Harm: F1=0.5536, Precision=0.6078, Recall=0.5082\n",
      "Validation Loss: 0.6365\n",
      "Validation Macro-F1: 0.5735, Weighted-F1: 0.5687\n"
     ]
    },
    {
     "name": "stdout",
     "output_type": "stream",
     "text": [
      "\n",
      "Epoch 14/30\n"
     ]
    },
    {
     "name": "stderr",
     "output_type": "stream",
     "text": [
      "Training: 100%|██████████| 546/546 [12:19<00:00,  1.35s/it]\n"
     ]
    },
    {
     "name": "stdout",
     "output_type": "stream",
     "text": [
      "Train Loss: 0.0201\n",
      "Train Macro-F1: 0.9923, Weighted-F1: 0.9920\n"
     ]
    },
    {
     "name": "stderr",
     "output_type": "stream",
     "text": [
      "Evaluating: 100%|██████████| 23/23 [00:12<00:00,  1.78it/s]\n"
     ]
    },
    {
     "name": "stdout",
     "output_type": "stream",
     "text": [
      "\n",
      "Per-class metrics:\n",
      "Lack of Interest: F1=0.3793, Precision=0.8462, Recall=0.2444\n",
      "Feeling Down: F1=0.6414, Precision=0.7432, Recall=0.5641\n",
      "Eating Disorder: F1=0.7619, Precision=0.7143, Recall=0.8163\n",
      "Sleeping Disorder: F1=0.7045, Precision=0.7209, Recall=0.6889\n",
      "Low Self-Esteem: F1=0.3721, Precision=0.5455, Recall=0.2824\n",
      "Concentration Problem: F1=0.7324, Precision=0.8966, Recall=0.6190\n",
      "Self-Harm: F1=0.5714, Precision=0.6275, Recall=0.5246\n",
      "Validation Loss: 0.6451\n",
      "Validation Macro-F1: 0.5947, Weighted-F1: 0.5909\n"
     ]
    },
    {
     "name": "stdout",
     "output_type": "stream",
     "text": [
      "\n",
      "Epoch 15/30\n"
     ]
    },
    {
     "name": "stderr",
     "output_type": "stream",
     "text": [
      "Training: 100%|██████████| 546/546 [12:20<00:00,  1.36s/it]\n"
     ]
    },
    {
     "name": "stdout",
     "output_type": "stream",
     "text": [
      "Train Loss: 0.0182\n",
      "Train Macro-F1: 0.9930, Weighted-F1: 0.9927\n"
     ]
    },
    {
     "name": "stderr",
     "output_type": "stream",
     "text": [
      "Evaluating: 100%|██████████| 23/23 [00:13<00:00,  1.76it/s]\n"
     ]
    },
    {
     "name": "stdout",
     "output_type": "stream",
     "text": [
      "\n",
      "Per-class metrics:\n",
      "Lack of Interest: F1=0.3793, Precision=0.8462, Recall=0.2444\n",
      "Feeling Down: F1=0.6353, Precision=0.7448, Recall=0.5538\n",
      "Eating Disorder: F1=0.7455, Precision=0.6721, Recall=0.8367\n",
      "Sleeping Disorder: F1=0.6988, Precision=0.7632, Recall=0.6444\n",
      "Low Self-Esteem: F1=0.3906, Precision=0.5814, Recall=0.2941\n",
      "Concentration Problem: F1=0.7027, Precision=0.8125, Recall=0.6190\n",
      "Self-Harm: F1=0.5283, Precision=0.6222, Recall=0.4590\n",
      "Validation Loss: 0.6658\n",
      "Validation Macro-F1: 0.5829, Weighted-F1: 0.5821\n"
     ]
    },
    {
     "name": "stdout",
     "output_type": "stream",
     "text": [
      "\n",
      "Epoch 16/30\n"
     ]
    },
    {
     "name": "stderr",
     "output_type": "stream",
     "text": [
      "Training: 100%|██████████| 546/546 [12:17<00:00,  1.35s/it]\n"
     ]
    },
    {
     "name": "stdout",
     "output_type": "stream",
     "text": [
      "Train Loss: 0.0157\n",
      "Train Macro-F1: 0.9938, Weighted-F1: 0.9934\n"
     ]
    },
    {
     "name": "stderr",
     "output_type": "stream",
     "text": [
      "Evaluating: 100%|██████████| 23/23 [00:12<00:00,  1.78it/s]\n"
     ]
    },
    {
     "name": "stdout",
     "output_type": "stream",
     "text": [
      "\n",
      "Per-class metrics:\n",
      "Lack of Interest: F1=0.3729, Precision=0.7857, Recall=0.2444\n",
      "Feeling Down: F1=0.6477, Precision=0.7261, Recall=0.5846\n",
      "Eating Disorder: F1=0.7664, Precision=0.7069, Recall=0.8367\n",
      "Sleeping Disorder: F1=0.6988, Precision=0.7632, Recall=0.6444\n",
      "Low Self-Esteem: F1=0.3361, Precision=0.5882, Recall=0.2353\n",
      "Concentration Problem: F1=0.7123, Precision=0.8387, Recall=0.6190\n",
      "Self-Harm: F1=0.5636, Precision=0.6327, Recall=0.5082\n",
      "Validation Loss: 0.6662\n",
      "Validation Macro-F1: 0.5854, Weighted-F1: 0.5842\n"
     ]
    },
    {
     "name": "stdout",
     "output_type": "stream",
     "text": [
      "\n",
      "Epoch 17/30\n"
     ]
    },
    {
     "name": "stderr",
     "output_type": "stream",
     "text": [
      "Training: 100%|██████████| 546/546 [12:16<00:00,  1.35s/it]\n"
     ]
    },
    {
     "name": "stdout",
     "output_type": "stream",
     "text": [
      "Train Loss: 0.0157\n",
      "Train Macro-F1: 0.9947, Weighted-F1: 0.9943\n"
     ]
    },
    {
     "name": "stderr",
     "output_type": "stream",
     "text": [
      "Evaluating: 100%|██████████| 23/23 [00:13<00:00,  1.74it/s]\n"
     ]
    },
    {
     "name": "stdout",
     "output_type": "stream",
     "text": [
      "\n",
      "Per-class metrics:\n",
      "Lack of Interest: F1=0.3793, Precision=0.8462, Recall=0.2444\n",
      "Feeling Down: F1=0.6573, Precision=0.7267, Recall=0.6000\n",
      "Eating Disorder: F1=0.7593, Precision=0.6949, Recall=0.8367\n",
      "Sleeping Disorder: F1=0.7273, Precision=0.7442, Recall=0.7111\n",
      "Low Self-Esteem: F1=0.3252, Precision=0.5263, Recall=0.2353\n",
      "Concentration Problem: F1=0.7143, Precision=0.8929, Recall=0.5952\n",
      "Self-Harm: F1=0.5524, Precision=0.6591, Recall=0.4754\n",
      "Validation Loss: 0.6677\n",
      "Validation Macro-F1: 0.5879, Weighted-F1: 0.5872\n"
     ]
    },
    {
     "name": "stdout",
     "output_type": "stream",
     "text": [
      "\n",
      "Epoch 18/30\n"
     ]
    },
    {
     "name": "stderr",
     "output_type": "stream",
     "text": [
      "Training: 100%|██████████| 546/546 [12:27<00:00,  1.37s/it]\n"
     ]
    },
    {
     "name": "stdout",
     "output_type": "stream",
     "text": [
      "Train Loss: 0.0150\n",
      "Train Macro-F1: 0.9941, Weighted-F1: 0.9938\n"
     ]
    },
    {
     "name": "stderr",
     "output_type": "stream",
     "text": [
      "Evaluating: 100%|██████████| 23/23 [00:14<00:00,  1.62it/s]\n"
     ]
    },
    {
     "name": "stdout",
     "output_type": "stream",
     "text": [
      "\n",
      "Per-class metrics:\n",
      "Lack of Interest: F1=0.3860, Precision=0.9167, Recall=0.2444\n",
      "Feeling Down: F1=0.6353, Precision=0.7448, Recall=0.5538\n",
      "Eating Disorder: F1=0.7387, Precision=0.6613, Recall=0.8367\n",
      "Sleeping Disorder: F1=0.6747, Precision=0.7368, Recall=0.6222\n",
      "Low Self-Esteem: F1=0.3906, Precision=0.5814, Recall=0.2941\n",
      "Concentration Problem: F1=0.7123, Precision=0.8387, Recall=0.6190\n",
      "Self-Harm: F1=0.5818, Precision=0.6531, Recall=0.5246\n",
      "Validation Loss: 0.6918\n",
      "Validation Macro-F1: 0.5885, Weighted-F1: 0.5870\n"
     ]
    },
    {
     "name": "stdout",
     "output_type": "stream",
     "text": [
      "\n",
      "Epoch 19/30\n"
     ]
    },
    {
     "name": "stderr",
     "output_type": "stream",
     "text": [
      "Training: 100%|██████████| 546/546 [12:33<00:00,  1.38s/it]\n"
     ]
    },
    {
     "name": "stdout",
     "output_type": "stream",
     "text": [
      "Train Loss: 0.0133\n",
      "Train Macro-F1: 0.9951, Weighted-F1: 0.9950\n"
     ]
    },
    {
     "name": "stderr",
     "output_type": "stream",
     "text": [
      "Evaluating: 100%|██████████| 23/23 [00:12<00:00,  1.78it/s]\n"
     ]
    },
    {
     "name": "stdout",
     "output_type": "stream",
     "text": [
      "\n",
      "Per-class metrics:\n",
      "Lack of Interest: F1=0.3793, Precision=0.8462, Recall=0.2444\n",
      "Feeling Down: F1=0.6630, Precision=0.7256, Recall=0.6103\n",
      "Eating Disorder: F1=0.7810, Precision=0.7321, Recall=0.8367\n",
      "Sleeping Disorder: F1=0.6667, Precision=0.7179, Recall=0.6222\n",
      "Low Self-Esteem: F1=0.3548, Precision=0.5641, Recall=0.2588\n",
      "Concentration Problem: F1=0.7027, Precision=0.8125, Recall=0.6190\n",
      "Self-Harm: F1=0.5283, Precision=0.6222, Recall=0.4590\n",
      "Validation Loss: 0.6690\n",
      "Validation Macro-F1: 0.5822, Weighted-F1: 0.5872\n"
     ]
    },
    {
     "name": "stdout",
     "output_type": "stream",
     "text": [
      "\n",
      "Epoch 20/30\n"
     ]
    },
    {
     "name": "stderr",
     "output_type": "stream",
     "text": [
      "Training: 100%|██████████| 546/546 [12:18<00:00,  1.35s/it]\n"
     ]
    },
    {
     "name": "stdout",
     "output_type": "stream",
     "text": [
      "Train Loss: 0.0126\n",
      "Train Macro-F1: 0.9957, Weighted-F1: 0.9951\n"
     ]
    },
    {
     "name": "stderr",
     "output_type": "stream",
     "text": [
      "Evaluating: 100%|██████████| 23/23 [00:13<00:00,  1.70it/s]\n"
     ]
    },
    {
     "name": "stdout",
     "output_type": "stream",
     "text": [
      "\n",
      "Per-class metrics:\n",
      "Lack of Interest: F1=0.3860, Precision=0.9167, Recall=0.2444\n",
      "Feeling Down: F1=0.6741, Precision=0.7378, Recall=0.6205\n",
      "Eating Disorder: F1=0.7664, Precision=0.7069, Recall=0.8367\n",
      "Sleeping Disorder: F1=0.7209, Precision=0.7561, Recall=0.6889\n",
      "Low Self-Esteem: F1=0.3750, Precision=0.5581, Recall=0.2824\n",
      "Concentration Problem: F1=0.7042, Precision=0.8621, Recall=0.5952\n",
      "Self-Harm: F1=0.5524, Precision=0.6591, Recall=0.4754\n",
      "Validation Loss: 0.6668\n",
      "Validation Macro-F1: 0.5970, Weighted-F1: 0.6015\n"
     ]
    },
    {
     "name": "stdout",
     "output_type": "stream",
     "text": [
      "\n",
      "Epoch 21/30\n"
     ]
    },
    {
     "name": "stderr",
     "output_type": "stream",
     "text": [
      "Training: 100%|██████████| 546/546 [12:28<00:00,  1.37s/it]\n"
     ]
    },
    {
     "name": "stdout",
     "output_type": "stream",
     "text": [
      "Train Loss: 0.0126\n",
      "Train Macro-F1: 0.9958, Weighted-F1: 0.9956\n"
     ]
    },
    {
     "name": "stderr",
     "output_type": "stream",
     "text": [
      "Evaluating: 100%|██████████| 23/23 [00:13<00:00,  1.67it/s]\n"
     ]
    },
    {
     "name": "stdout",
     "output_type": "stream",
     "text": [
      "\n",
      "Per-class metrics:\n",
      "Lack of Interest: F1=0.3509, Precision=0.8333, Recall=0.2222\n",
      "Feeling Down: F1=0.6648, Precision=0.7452, Recall=0.6000\n",
      "Eating Disorder: F1=0.7664, Precision=0.7069, Recall=0.8367\n",
      "Sleeping Disorder: F1=0.7126, Precision=0.7381, Recall=0.6889\n",
      "Low Self-Esteem: F1=0.3443, Precision=0.5676, Recall=0.2471\n",
      "Concentration Problem: F1=0.7042, Precision=0.8621, Recall=0.5952\n",
      "Self-Harm: F1=0.5586, Precision=0.6200, Recall=0.5082\n",
      "Validation Loss: 0.6837\n",
      "Validation Macro-F1: 0.5860, Weighted-F1: 0.5899\n"
     ]
    },
    {
     "name": "stdout",
     "output_type": "stream",
     "text": [
      "\n",
      "Epoch 22/30\n"
     ]
    },
    {
     "name": "stderr",
     "output_type": "stream",
     "text": [
      "Training: 100%|██████████| 546/546 [12:21<00:00,  1.36s/it]\n"
     ]
    },
    {
     "name": "stdout",
     "output_type": "stream",
     "text": [
      "Train Loss: 0.0119\n",
      "Train Macro-F1: 0.9956, Weighted-F1: 0.9952\n"
     ]
    },
    {
     "name": "stderr",
     "output_type": "stream",
     "text": [
      "Evaluating: 100%|██████████| 23/23 [00:12<00:00,  1.77it/s]\n"
     ]
    },
    {
     "name": "stdout",
     "output_type": "stream",
     "text": [
      "\n",
      "Per-class metrics:\n",
      "Lack of Interest: F1=0.3509, Precision=0.8333, Recall=0.2222\n",
      "Feeling Down: F1=0.6667, Precision=0.7421, Recall=0.6051\n",
      "Eating Disorder: F1=0.7593, Precision=0.6949, Recall=0.8367\n",
      "Sleeping Disorder: F1=0.7143, Precision=0.7692, Recall=0.6667\n",
      "Low Self-Esteem: F1=0.3651, Precision=0.5610, Recall=0.2706\n",
      "Concentration Problem: F1=0.7042, Precision=0.8621, Recall=0.5952\n",
      "Self-Harm: F1=0.5660, Precision=0.6667, Recall=0.4918\n",
      "Validation Loss: 0.6805\n",
      "Validation Macro-F1: 0.5895, Weighted-F1: 0.5944\n"
     ]
    },
    {
     "name": "stdout",
     "output_type": "stream",
     "text": [
      "\n",
      "Epoch 23/30\n"
     ]
    },
    {
     "name": "stderr",
     "output_type": "stream",
     "text": [
      "Training: 100%|██████████| 546/546 [12:17<00:00,  1.35s/it]\n"
     ]
    },
    {
     "name": "stdout",
     "output_type": "stream",
     "text": [
      "Train Loss: 0.0114\n",
      "Train Macro-F1: 0.9960, Weighted-F1: 0.9958\n"
     ]
    },
    {
     "name": "stderr",
     "output_type": "stream",
     "text": [
      "Evaluating: 100%|██████████| 23/23 [00:13<00:00,  1.73it/s]\n"
     ]
    },
    {
     "name": "stdout",
     "output_type": "stream",
     "text": [
      "\n",
      "Per-class metrics:\n",
      "Lack of Interest: F1=0.3509, Precision=0.8333, Recall=0.2222\n",
      "Feeling Down: F1=0.6760, Precision=0.7423, Recall=0.6205\n",
      "Eating Disorder: F1=0.7736, Precision=0.7193, Recall=0.8367\n",
      "Sleeping Disorder: F1=0.7160, Precision=0.8056, Recall=0.6444\n",
      "Low Self-Esteem: F1=0.3937, Precision=0.5952, Recall=0.2941\n",
      "Concentration Problem: F1=0.7042, Precision=0.8621, Recall=0.5952\n",
      "Self-Harm: F1=0.5243, Precision=0.6429, Recall=0.4426\n",
      "Validation Loss: 0.6771\n",
      "Validation Macro-F1: 0.5912, Weighted-F1: 0.5991\n"
     ]
    },
    {
     "name": "stdout",
     "output_type": "stream",
     "text": [
      "\n",
      "Epoch 24/30\n"
     ]
    },
    {
     "name": "stderr",
     "output_type": "stream",
     "text": [
      "Training: 100%|██████████| 546/546 [12:22<00:00,  1.36s/it]\n"
     ]
    },
    {
     "name": "stdout",
     "output_type": "stream",
     "text": [
      "Train Loss: 0.0118\n",
      "Train Macro-F1: 0.9955, Weighted-F1: 0.9953\n"
     ]
    },
    {
     "name": "stderr",
     "output_type": "stream",
     "text": [
      "Evaluating: 100%|██████████| 23/23 [00:13<00:00,  1.72it/s]\n"
     ]
    },
    {
     "name": "stdout",
     "output_type": "stream",
     "text": [
      "\n",
      "Per-class metrics:\n",
      "Lack of Interest: F1=0.3509, Precision=0.8333, Recall=0.2222\n",
      "Feeling Down: F1=0.6778, Precision=0.7394, Recall=0.6256\n",
      "Eating Disorder: F1=0.7593, Precision=0.6949, Recall=0.8367\n",
      "Sleeping Disorder: F1=0.6977, Precision=0.7317, Recall=0.6667\n",
      "Low Self-Esteem: F1=0.3193, Precision=0.5588, Recall=0.2235\n",
      "Concentration Problem: F1=0.7042, Precision=0.8621, Recall=0.5952\n",
      "Self-Harm: F1=0.5524, Precision=0.6591, Recall=0.4754\n",
      "Validation Loss: 0.6840\n",
      "Validation Macro-F1: 0.5802, Weighted-F1: 0.5881\n"
     ]
    },
    {
     "name": "stdout",
     "output_type": "stream",
     "text": [
      "\n",
      "Epoch 25/30\n"
     ]
    },
    {
     "name": "stderr",
     "output_type": "stream",
     "text": [
      "Training: 100%|██████████| 546/546 [12:26<00:00,  1.37s/it]\n"
     ]
    },
    {
     "name": "stdout",
     "output_type": "stream",
     "text": [
      "Train Loss: 0.0118\n",
      "Train Macro-F1: 0.9968, Weighted-F1: 0.9967\n"
     ]
    },
    {
     "name": "stderr",
     "output_type": "stream",
     "text": [
      "Evaluating: 100%|██████████| 23/23 [00:13<00:00,  1.77it/s]\n"
     ]
    },
    {
     "name": "stdout",
     "output_type": "stream",
     "text": [
      "\n",
      "Per-class metrics:\n",
      "Lack of Interest: F1=0.3509, Precision=0.8333, Recall=0.2222\n",
      "Feeling Down: F1=0.6797, Precision=0.7439, Recall=0.6256\n",
      "Eating Disorder: F1=0.7523, Precision=0.6833, Recall=0.8367\n",
      "Sleeping Disorder: F1=0.6747, Precision=0.7368, Recall=0.6222\n",
      "Low Self-Esteem: F1=0.3306, Precision=0.5556, Recall=0.2353\n",
      "Concentration Problem: F1=0.7042, Precision=0.8621, Recall=0.5952\n",
      "Self-Harm: F1=0.5607, Precision=0.6522, Recall=0.4918\n",
      "Validation Loss: 0.6831\n",
      "Validation Macro-F1: 0.5790, Weighted-F1: 0.5889\n"
     ]
    },
    {
     "name": "stdout",
     "output_type": "stream",
     "text": [
      "\n",
      "Epoch 26/30\n"
     ]
    },
    {
     "name": "stderr",
     "output_type": "stream",
     "text": [
      "Training: 100%|██████████| 546/546 [12:20<00:00,  1.36s/it]\n"
     ]
    },
    {
     "name": "stdout",
     "output_type": "stream",
     "text": [
      "Train Loss: 0.0112\n",
      "Train Macro-F1: 0.9959, Weighted-F1: 0.9958\n"
     ]
    },
    {
     "name": "stderr",
     "output_type": "stream",
     "text": [
      "Evaluating: 100%|██████████| 23/23 [00:13<00:00,  1.74it/s]\n"
     ]
    },
    {
     "name": "stdout",
     "output_type": "stream",
     "text": [
      "\n",
      "Per-class metrics:\n",
      "Lack of Interest: F1=0.3509, Precision=0.8333, Recall=0.2222\n",
      "Feeling Down: F1=0.6629, Precision=0.7405, Recall=0.6000\n",
      "Eating Disorder: F1=0.7593, Precision=0.6949, Recall=0.8367\n",
      "Sleeping Disorder: F1=0.6897, Precision=0.7143, Recall=0.6667\n",
      "Low Self-Esteem: F1=0.2906, Precision=0.5312, Recall=0.2000\n",
      "Concentration Problem: F1=0.7042, Precision=0.8621, Recall=0.5952\n",
      "Self-Harm: F1=0.5556, Precision=0.6383, Recall=0.4918\n",
      "Validation Loss: 0.6910\n",
      "Validation Macro-F1: 0.5733, Weighted-F1: 0.5775\n"
     ]
    },
    {
     "name": "stdout",
     "output_type": "stream",
     "text": [
      "\n",
      "Epoch 27/30\n"
     ]
    },
    {
     "name": "stderr",
     "output_type": "stream",
     "text": [
      "Training: 100%|██████████| 546/546 [12:19<00:00,  1.35s/it]\n"
     ]
    },
    {
     "name": "stdout",
     "output_type": "stream",
     "text": [
      "Train Loss: 0.0115\n",
      "Train Macro-F1: 0.9963, Weighted-F1: 0.9959\n"
     ]
    },
    {
     "name": "stderr",
     "output_type": "stream",
     "text": [
      "Evaluating: 100%|██████████| 23/23 [00:13<00:00,  1.76it/s]\n"
     ]
    },
    {
     "name": "stdout",
     "output_type": "stream",
     "text": [
      "\n",
      "Per-class metrics:\n",
      "Lack of Interest: F1=0.3509, Precision=0.8333, Recall=0.2222\n",
      "Feeling Down: F1=0.6797, Precision=0.7439, Recall=0.6256\n",
      "Eating Disorder: F1=0.7664, Precision=0.7069, Recall=0.8367\n",
      "Sleeping Disorder: F1=0.6905, Precision=0.7436, Recall=0.6444\n",
      "Low Self-Esteem: F1=0.2906, Precision=0.5312, Recall=0.2000\n",
      "Concentration Problem: F1=0.7042, Precision=0.8621, Recall=0.5952\n",
      "Self-Harm: F1=0.5524, Precision=0.6591, Recall=0.4754\n",
      "Validation Loss: 0.6863\n",
      "Validation Macro-F1: 0.5764, Weighted-F1: 0.5841\n"
     ]
    },
    {
     "name": "stdout",
     "output_type": "stream",
     "text": [
      "\n",
      "Epoch 28/30\n"
     ]
    },
    {
     "name": "stderr",
     "output_type": "stream",
     "text": [
      "Training: 100%|██████████| 546/546 [12:19<00:00,  1.35s/it]\n"
     ]
    },
    {
     "name": "stdout",
     "output_type": "stream",
     "text": [
      "Train Loss: 0.0112\n",
      "Train Macro-F1: 0.9967, Weighted-F1: 0.9965\n"
     ]
    },
    {
     "name": "stderr",
     "output_type": "stream",
     "text": [
      "Evaluating: 100%|██████████| 23/23 [00:12<00:00,  1.79it/s]\n"
     ]
    },
    {
     "name": "stdout",
     "output_type": "stream",
     "text": [
      "\n",
      "Per-class metrics:\n",
      "Lack of Interest: F1=0.3509, Precision=0.8333, Recall=0.2222\n",
      "Feeling Down: F1=0.6704, Precision=0.7438, Recall=0.6103\n",
      "Eating Disorder: F1=0.7664, Precision=0.7069, Recall=0.8367\n",
      "Sleeping Disorder: F1=0.6905, Precision=0.7436, Recall=0.6444\n",
      "Low Self-Esteem: F1=0.2906, Precision=0.5312, Recall=0.2000\n",
      "Concentration Problem: F1=0.7042, Precision=0.8621, Recall=0.5952\n",
      "Self-Harm: F1=0.5524, Precision=0.6591, Recall=0.4754\n",
      "Validation Loss: 0.6891\n",
      "Validation Macro-F1: 0.5750, Weighted-F1: 0.5807\n"
     ]
    },
    {
     "name": "stdout",
     "output_type": "stream",
     "text": [
      "\n",
      "Epoch 29/30\n"
     ]
    },
    {
     "name": "stderr",
     "output_type": "stream",
     "text": [
      "Training: 100%|██████████| 546/546 [12:17<00:00,  1.35s/it]\n"
     ]
    },
    {
     "name": "stdout",
     "output_type": "stream",
     "text": [
      "Train Loss: 0.0117\n",
      "Train Macro-F1: 0.9963, Weighted-F1: 0.9961\n"
     ]
    },
    {
     "name": "stderr",
     "output_type": "stream",
     "text": [
      "Evaluating: 100%|██████████| 23/23 [00:13<00:00,  1.74it/s]\n"
     ]
    },
    {
     "name": "stdout",
     "output_type": "stream",
     "text": [
      "\n",
      "Per-class metrics:\n",
      "Lack of Interest: F1=0.3509, Precision=0.8333, Recall=0.2222\n",
      "Feeling Down: F1=0.6704, Precision=0.7438, Recall=0.6103\n",
      "Eating Disorder: F1=0.7664, Precision=0.7069, Recall=0.8367\n",
      "Sleeping Disorder: F1=0.6905, Precision=0.7436, Recall=0.6444\n",
      "Low Self-Esteem: F1=0.3051, Precision=0.5455, Recall=0.2118\n",
      "Concentration Problem: F1=0.7042, Precision=0.8621, Recall=0.5952\n",
      "Self-Harm: F1=0.5524, Precision=0.6591, Recall=0.4754\n",
      "Validation Loss: 0.6900\n",
      "Validation Macro-F1: 0.5771, Weighted-F1: 0.5830\n"
     ]
    },
    {
     "name": "stdout",
     "output_type": "stream",
     "text": [
      "\n",
      "Epoch 30/30\n"
     ]
    },
    {
     "name": "stderr",
     "output_type": "stream",
     "text": [
      "Training: 100%|██████████| 546/546 [12:20<00:00,  1.36s/it]\n"
     ]
    },
    {
     "name": "stdout",
     "output_type": "stream",
     "text": [
      "Train Loss: 0.0106\n",
      "Train Macro-F1: 0.9960, Weighted-F1: 0.9957\n"
     ]
    },
    {
     "name": "stderr",
     "output_type": "stream",
     "text": [
      "Evaluating: 100%|██████████| 23/23 [00:13<00:00,  1.76it/s]\n"
     ]
    },
    {
     "name": "stdout",
     "output_type": "stream",
     "text": [
      "\n",
      "Per-class metrics:\n",
      "Lack of Interest: F1=0.3509, Precision=0.8333, Recall=0.2222\n",
      "Feeling Down: F1=0.6723, Precision=0.7407, Recall=0.6154\n",
      "Eating Disorder: F1=0.7523, Precision=0.6833, Recall=0.8367\n",
      "Sleeping Disorder: F1=0.6988, Precision=0.7632, Recall=0.6444\n",
      "Low Self-Esteem: F1=0.3051, Precision=0.5455, Recall=0.2118\n",
      "Concentration Problem: F1=0.7042, Precision=0.8621, Recall=0.5952\n",
      "Self-Harm: F1=0.5524, Precision=0.6591, Recall=0.4754\n",
      "Validation Loss: 0.6868\n",
      "Validation Macro-F1: 0.5766, Weighted-F1: 0.5831\n"
     ]
    }
   ],
   "source": [
    "model = SimpleFusionModel(\n",
    "    text_model_name=\"mental/mental-roberta-base\",\n",
    "    num_classes=NUM_CLASSES,\n",
    "    fusion_dim=FUSION_DIM\n",
    ")\n",
    "\n",
    "trained_model = train_multimodal_model(\n",
    "    model,\n",
    "    train_data,\n",
    "    val_data,\n",
    "    img_path,\n",
    "    epochs=30,\n",
    "    model_save_name=\"no_fusion\"\n",
    ")"
   ]
  },
  {
   "cell_type": "markdown",
   "metadata": {},
   "source": [
    "## Inference"
   ]
  },
  {
   "cell_type": "code",
   "execution_count": 21,
   "metadata": {
    "execution": {
     "iopub.execute_input": "2025-04-14T23:53:16.576551Z",
     "iopub.status.busy": "2025-04-14T23:53:16.575876Z",
     "iopub.status.idle": "2025-04-14T23:53:32.372730Z",
     "shell.execute_reply": "2025-04-14T23:53:32.371951Z",
     "shell.execute_reply.started": "2025-04-14T23:53:16.576531Z"
    },
    "id": "-eluc-wy1ftR",
    "trusted": true
   },
   "outputs": [
    {
     "name": "stdout",
     "output_type": "stream",
     "text": [
      "Downloading...\n",
      "From (original): https://drive.google.com/uc?id=1WOD-b9DB0FihbpEsdT8-P-ADJ5mKk_vn\n",
      "From (redirected): https://drive.google.com/uc?id=1WOD-b9DB0FihbpEsdT8-P-ADJ5mKk_vn&confirm=t&uuid=3b727fd2-66fb-4333-b2ed-e7ebe87b1675\n",
      "To: /kaggle/working/no_fusion_depression.pth\n",
      "100%|████████████████████████████████████████| 873M/873M [00:11<00:00, 78.5MB/s]\n"
     ]
    }
   ],
   "source": [
    "!gdown 1WOD-b9DB0FihbpEsdT8-P-ADJ5mKk_vn"
   ]
  },
  {
   "cell_type": "code",
   "execution_count": 22,
   "metadata": {
    "execution": {
     "iopub.execute_input": "2025-04-14T23:53:32.374359Z",
     "iopub.status.busy": "2025-04-14T23:53:32.374105Z",
     "iopub.status.idle": "2025-04-14T23:53:32.380763Z",
     "shell.execute_reply": "2025-04-14T23:53:32.380109Z",
     "shell.execute_reply.started": "2025-04-14T23:53:32.374337Z"
    },
    "trusted": true
   },
   "outputs": [],
   "source": [
    "def inference(test_data, model_path):\n",
    "    model = SimpleFusionModel(\n",
    "        text_model_name=\"mental/mental-roberta-base\",\n",
    "        num_classes=NUM_CLASSES,\n",
    "        fusion_dim=FUSION_DIM\n",
    "    )\n",
    "    \n",
    "    model = model.to(DEVICE)\n",
    "\n",
    "    weights = torch.load(model_path, map_location=DEVICE, weights_only=True)\n",
    "    weights_single = {k.replace(\"module.\", \"\"): v for k, v in weights.items()}\n",
    "\n",
    "    model.load_state_dict(weights_single)\n",
    "    tokenizer = AutoTokenizer.from_pretrained(\"mental/mental-roberta-base\")\n",
    "    image_processor = CLIPImageProcessor.from_pretrained(\"openai/clip-vit-base-patch32\")\n",
    "\n",
    "    test_dataset = MultimodalDepressionDataset(test_data, os.path.join(img_path, \"test\"), tokenizer, image_processor, max_len=MAX_LEN)\n",
    "    test_loader = DataLoader(\n",
    "        test_dataset,\n",
    "        batch_size=BATCH_SIZE,\n",
    "        shuffle=False,\n",
    "        collate_fn=custom_collate_fn\n",
    "    )\n",
    "\n",
    "    loss, metrics = evaluate_multimodal_model(\n",
    "        model, test_loader, nn.BCEWithLogitsLoss()\n",
    "    )\n",
    "\n",
    "    print(f\"Test Loss: {loss:.4f}\")\n",
    "    print(f\"Test Macro-F1: {metrics['macro_f1']:.4f}, Weighted-F1: {metrics['weighted_f1']:.4f}\")"
   ]
  },
  {
   "cell_type": "code",
   "execution_count": 23,
   "metadata": {
    "execution": {
     "iopub.execute_input": "2025-04-14T23:53:36.637443Z",
     "iopub.status.busy": "2025-04-14T23:53:36.637161Z",
     "iopub.status.idle": "2025-04-14T23:54:04.120372Z",
     "shell.execute_reply": "2025-04-14T23:54:04.119743Z",
     "shell.execute_reply.started": "2025-04-14T23:53:36.637422Z"
    },
    "trusted": true
   },
   "outputs": [
    {
     "name": "stderr",
     "output_type": "stream",
     "text": [
      "Some weights of RobertaModel were not initialized from the model checkpoint at mental/mental-roberta-base and are newly initialized: ['pooler.dense.bias', 'pooler.dense.weight']\n",
      "You should probably TRAIN this model on a down-stream task to be able to use it for predictions and inference.\n",
      "Evaluating: 100%|██████████| 33/33 [00:25<00:00,  1.30it/s]"
     ]
    },
    {
     "name": "stdout",
     "output_type": "stream",
     "text": [
      "\n",
      "Per-class metrics:\n",
      "Lack of Interest: F1=0.4510, Precision=0.7419, Recall=0.3239\n",
      "Feeling Down: F1=0.6232, Precision=0.8148, Recall=0.5046\n",
      "Eating Disorder: F1=0.8315, Precision=0.8605, Recall=0.8043\n",
      "Sleeping Disorder: F1=0.8212, Precision=0.8611, Recall=0.7848\n",
      "Low Self-Esteem: F1=0.3902, Precision=0.6400, Recall=0.2807\n",
      "Concentration Problem: F1=0.7931, Precision=0.9200, Recall=0.6970\n",
      "Self-Harm: F1=0.6424, Precision=0.6310, Recall=0.6543\n",
      "Test Loss: 0.3947\n",
      "Test Macro-F1: 0.6504, Weighted-F1: 0.6354\n"
     ]
    },
    {
     "name": "stderr",
     "output_type": "stream",
     "text": [
      "\n"
     ]
    }
   ],
   "source": [
    "inference(test_data, \"no_fusion_depression.pth\")"
   ]
  },
  {
   "cell_type": "code",
   "execution_count": null,
   "metadata": {
    "trusted": true
   },
   "outputs": [],
   "source": []
  }
 ],
 "metadata": {
  "colab": {
   "name": "depression-ablation-without-fusion",
   "provenance": []
  },
  "kaggle": {
   "accelerator": "nvidiaTeslaT4",
   "dataSources": [],
   "dockerImageVersionId": 31011,
   "isGpuEnabled": true,
   "isInternetEnabled": true,
   "language": "python",
   "sourceType": "notebook"
  },
  "kernelspec": {
   "display_name": "Python 3",
   "language": "python",
   "name": "python3"
  },
  "language_info": {
   "codemirror_mode": {
    "name": "ipython",
    "version": 3
   },
   "file_extension": ".py",
   "mimetype": "text/x-python",
   "name": "python",
   "nbconvert_exporter": "python",
   "pygments_lexer": "ipython3",
   "version": "3.11.11"
  }
 },
 "nbformat": 4,
 "nbformat_minor": 4
}
