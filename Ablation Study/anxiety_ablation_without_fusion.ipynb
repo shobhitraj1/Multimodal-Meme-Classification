{
 "cells": [
  {
   "cell_type": "markdown",
   "metadata": {},
   "source": [
    "## Dataset Download"
   ]
  },
  {
   "cell_type": "code",
   "execution_count": null,
   "metadata": {
    "execution": {
     "iopub.execute_input": "2025-04-13T09:26:46.865548Z",
     "iopub.status.busy": "2025-04-13T09:26:46.865311Z",
     "iopub.status.idle": "2025-04-13T09:26:57.85394Z",
     "shell.execute_reply": "2025-04-13T09:26:57.853182Z",
     "shell.execute_reply.started": "2025-04-13T09:26:46.86552Z"
    },
    "id": "xV65xDRsXIOY",
    "outputId": "3f1b0d98-2867-4d69-d670-0046efef49f4",
    "trusted": true
   },
   "outputs": [
    {
     "name": "stdout",
     "output_type": "stream",
     "text": [
      "Downloading...\n",
      "From (original): https://drive.google.com/uc?id=1doU9FE1tJ-0IL4tKZUOOp76JkXKuTkFU\n",
      "From (redirected): https://drive.google.com/uc?id=1doU9FE1tJ-0IL4tKZUOOp76JkXKuTkFU&confirm=t&uuid=952822ae-d209-4cee-a667-1111276a6e59\n",
      "To: /kaggle/working/anxiety_dataset_complete.zip\n",
      "100%|███████████████████████████████████████| 1.41G/1.41G [00:06<00:00, 215MB/s]\n"
     ]
    }
   ],
   "source": [
    "!gdown 1doU9FE1tJ-0IL4tKZUOOp76JkXKuTkFU"
   ]
  },
  {
   "cell_type": "code",
   "execution_count": null,
   "metadata": {
    "execution": {
     "iopub.execute_input": "2025-04-13T09:26:57.859393Z",
     "iopub.status.busy": "2025-04-13T09:26:57.859194Z",
     "iopub.status.idle": "2025-04-13T09:27:13.621349Z",
     "shell.execute_reply": "2025-04-13T09:27:13.620594Z",
     "shell.execute_reply.started": "2025-04-13T09:26:57.859373Z"
    },
    "id": "NZezddG7XIOa",
    "trusted": true
   },
   "outputs": [],
   "source": [
    "!unzip anxiety_dataset_complete.zip > /dev/null"
   ]
  },
  {
   "cell_type": "code",
   "execution_count": 18,
   "metadata": {
    "execution": {
     "iopub.execute_input": "2025-04-14T21:11:52.520253Z",
     "iopub.status.busy": "2025-04-14T21:11:52.519529Z",
     "iopub.status.idle": "2025-04-14T21:11:52.526150Z",
     "shell.execute_reply": "2025-04-14T21:11:52.525371Z",
     "shell.execute_reply.started": "2025-04-14T21:11:52.520230Z"
    },
    "trusted": true
   },
   "outputs": [],
   "source": [
    "import os\n",
    "import torch\n",
    "import torch.nn as nn\n",
    "import torch.optim as optim\n",
    "import torch.nn.functional as F\n",
    "from torch.utils.data import Dataset, DataLoader\n",
    "from torchvision import transforms\n",
    "from transformers import AutoTokenizer, AutoModel, CLIPImageProcessor, CLIPVisionModel\n",
    "from sklearn.metrics import f1_score, classification_report\n",
    "from sklearn.model_selection import train_test_split\n",
    "from tqdm import tqdm\n",
    "from PIL import Image\n",
    "import json\n",
    "import math\n",
    "\n",
    "TRAIN_RATIO = 0.7  # 70% train\n",
    "VAL_RATIO = 0.1  # 10% validation\n",
    "TEST_RATIO = 0.2 # 20% test\n",
    "DEVICE = torch.device(\"cuda\" if torch.cuda.is_available() else \"cpu\")\n",
    "BATCH_SIZE = 16\n",
    "LR = 2e-5\n",
    "MAX_LEN = 512\n",
    "FUSION_DIM = 768\n",
    "LABELS = [\"Nervousness\", \"Lack of Worry Control\", \"Excessive Worry\",\n",
    "          \"Difficulty Relaxing\", \"Restlessness\", \"Impending Doom\"]\n",
    "LABEL_MAP = {i: idx for idx, i in enumerate(LABELS)}  "
   ]
  },
  {
   "cell_type": "markdown",
   "metadata": {},
   "source": [
    "## Custom Dataset"
   ]
  },
  {
   "cell_type": "code",
   "execution_count": 19,
   "metadata": {
    "execution": {
     "iopub.execute_input": "2025-04-14T21:11:59.249997Z",
     "iopub.status.busy": "2025-04-14T21:11:59.249550Z",
     "iopub.status.idle": "2025-04-14T21:11:59.258811Z",
     "shell.execute_reply": "2025-04-14T21:11:59.258234Z",
     "shell.execute_reply.started": "2025-04-14T21:11:59.249975Z"
    },
    "id": "DH9WKi9sXIOa",
    "outputId": "3125c6e9-a53b-401e-9698-dbab9b626280",
    "trusted": true
   },
   "outputs": [],
   "source": [
    "class MultimodalAnxietyDataset(Dataset):\n",
    "    def __init__(self, data, image_path, tokenizer, image_processor, max_len=512):\n",
    "        self.data = data\n",
    "        self.tokenizer = tokenizer\n",
    "        self.image_processor = image_processor\n",
    "        self.max_len = max_len\n",
    "        self.img_path = image_path\n",
    "        self.transform = transforms.Compose([\n",
    "            transforms.Resize((224, 224)),\n",
    "            transforms.ToTensor(),\n",
    "            transforms.Normalize(mean=[0.485, 0.456, 0.406], std=[0.229, 0.224, 0.225])\n",
    "        ])\n",
    "\n",
    "    def __len__(self):\n",
    "        return len(self.data)\n",
    "\n",
    "    def __getitem__(self, idx):\n",
    "        sample = self.data[idx]\n",
    "\n",
    "        ocr_text = sample[\"ocr_text\"]\n",
    "        figurative_reasoning = sample[\"figurative_reasoning\"]\n",
    "        combined_text = ocr_text + \" [SEP] \" + figurative_reasoning\n",
    "\n",
    "        encoding = self.tokenizer(\n",
    "            combined_text,\n",
    "            padding=\"max_length\",\n",
    "            truncation=True,\n",
    "            max_length=self.max_len,\n",
    "            return_tensors=\"pt\",\n",
    "        )\n",
    "\n",
    "        image_path = os.path.join(self.img_path, sample[\"sample_id\"] + \".jpg\")\n",
    "        image = Image.open(image_path).convert(\"RGB\")\n",
    "        image_tensor = self.image_processor(image, return_tensors=\"pt\")\n",
    "\n",
    "        label = LABEL_MAP[sample[\"meme_anxiety_category\"]]\n",
    "\n",
    "        return {\n",
    "            \"input_ids\": encoding[\"input_ids\"].squeeze(0),\n",
    "            \"attention_mask\": encoding[\"attention_mask\"].squeeze(0),\n",
    "            \"image\": image_tensor,\n",
    "            \"label\": torch.tensor(label, dtype=torch.long)\n",
    "        }\n",
    "\n",
    "def custom_collate_fn(batch):\n",
    "    input_ids = torch.stack([item['input_ids'] for item in batch])\n",
    "    attention_mask = torch.stack([item['attention_mask'] for item in batch])\n",
    "    labels = torch.stack([item['label'] for item in batch])\n",
    "\n",
    "    images = {}\n",
    "    for key in batch[0]['image'].keys():\n",
    "        if isinstance(batch[0]['image'][key], torch.Tensor):\n",
    "            images[key] = torch.stack([item['image'][key].squeeze(0) for item in batch])\n",
    "\n",
    "    return {\n",
    "        'input_ids': input_ids,\n",
    "        'attention_mask': attention_mask,\n",
    "        'image': images,\n",
    "        'label': labels,\n",
    "    }"
   ]
  },
  {
   "cell_type": "markdown",
   "metadata": {},
   "source": [
    "## Model Definition"
   ]
  },
  {
   "cell_type": "code",
   "execution_count": 20,
   "metadata": {
    "execution": {
     "iopub.execute_input": "2025-04-14T21:12:01.469695Z",
     "iopub.status.busy": "2025-04-14T21:12:01.469424Z",
     "iopub.status.idle": "2025-04-14T21:12:01.481623Z",
     "shell.execute_reply": "2025-04-14T21:12:01.480929Z",
     "shell.execute_reply.started": "2025-04-14T21:12:01.469675Z"
    },
    "id": "FHRAp0BWXIOb",
    "trusted": true
   },
   "outputs": [],
   "source": [
    "class MultimodalConcatenationModel(nn.Module):\n",
    "    def __init__(self, text_model_name=\"bert-base-uncased\", num_classes=3, fusion_dim=768):\n",
    "        super(MultimodalConcatenationModel, self).__init__()\n",
    "\n",
    "        self.text_encoder = AutoModel.from_pretrained(text_model_name)\n",
    "        self.text_dim = self.text_encoder.config.hidden_size\n",
    "\n",
    "        self.vision_encoder = CLIPVisionModel.from_pretrained(\"openai/clip-vit-base-patch32\")\n",
    "        self.vision_dim = self.vision_encoder.config.hidden_size\n",
    "\n",
    "        fusion_dim = 1024\n",
    "        contrastive_dim = 256\n",
    "\n",
    "        self.text_projection = nn.Linear(self.text_dim, fusion_dim)\n",
    "        self.vision_projection = nn.Linear(self.vision_dim, fusion_dim)\n",
    "\n",
    "        self.fusion_layer = nn.Sequential(\n",
    "            nn.Linear(fusion_dim * 2, fusion_dim),\n",
    "            nn.LayerNorm(fusion_dim),\n",
    "            nn.GELU(),\n",
    "            nn.Dropout(0.2)\n",
    "        )\n",
    "\n",
    "        self.classifier = nn.Sequential(\n",
    "            nn.Linear(fusion_dim, fusion_dim),\n",
    "            nn.LayerNorm(fusion_dim),\n",
    "            nn.GELU(),\n",
    "            nn.Dropout(0.1),\n",
    "            nn.Linear(fusion_dim, num_classes)\n",
    "        )\n",
    "\n",
    "        self.contrastive_projection = nn.Sequential(\n",
    "            nn.Linear(fusion_dim, fusion_dim // 2),\n",
    "            nn.LayerNorm(fusion_dim // 2),\n",
    "            nn.GELU(),\n",
    "            nn.Linear(fusion_dim // 2, contrastive_dim)\n",
    "        )\n",
    "\n",
    "        self.text_contrastive_proj = nn.Sequential(\n",
    "            nn.Linear(self.text_dim, contrastive_dim),\n",
    "            nn.LayerNorm(contrastive_dim),\n",
    "            nn.GELU()\n",
    "        )\n",
    "\n",
    "        self.image_contrastive_proj = nn.Sequential(\n",
    "            nn.Linear(self.vision_dim, contrastive_dim),\n",
    "            nn.LayerNorm(contrastive_dim),\n",
    "            nn.GELU()\n",
    "        )\n",
    "\n",
    "    def forward(self, input_ids, attention_mask, image_features, get_embeddings=False):\n",
    "        text_outputs = self.text_encoder(input_ids=input_ids, attention_mask=attention_mask)\n",
    "        text_cls = text_outputs.last_hidden_state[:, 0]\n",
    "\n",
    "        vision_outputs = self.vision_encoder(**image_features)\n",
    "        image_cls = vision_outputs.pooler_output\n",
    "\n",
    "        text_features = self.text_projection(text_cls)\n",
    "        vision_features = self.vision_projection(image_cls)\n",
    "\n",
    "        concatenated_features = torch.cat([text_features, vision_features], dim=1)\n",
    "\n",
    "        fused_features = self.fusion_layer(concatenated_features)\n",
    "\n",
    "        logits = self.classifier(fused_features)\n",
    "\n",
    "        if get_embeddings:\n",
    "            multimodal_contrastive = self.contrastive_projection(fused_features)\n",
    "            text_contrastive = self.text_contrastive_proj(text_cls)\n",
    "            image_contrastive = self.image_contrastive_proj(image_cls)\n",
    "\n",
    "            multimodal_contrastive = F.normalize(multimodal_contrastive, p=2, dim=1)\n",
    "            text_contrastive = F.normalize(text_contrastive, p=2, dim=1)\n",
    "            image_contrastive = F.normalize(image_contrastive, p=2, dim=1)\n",
    "\n",
    "            return {\n",
    "                \"logits\": logits,\n",
    "                \"multimodal_embedding\": multimodal_contrastive,\n",
    "                \"text_embedding\": text_contrastive,\n",
    "                \"image_embedding\": image_contrastive\n",
    "            }\n",
    "\n",
    "        return logits\n",
    "\n",
    "class ContrastiveLoss(nn.Module):\n",
    "    def __init__(self, temperature=0.07):\n",
    "        super().__init__()\n",
    "        self.temperature = temperature\n",
    "        self.criterion = nn.CrossEntropyLoss(reduction=\"sum\")\n",
    "\n",
    "    def forward(self, modal1, modal2):\n",
    "        batch_size = modal1.shape[0]\n",
    "\n",
    "        features = torch.cat([modal1, modal2], dim=0)\n",
    "        similarity_matrix = torch.matmul(features, features.T)\n",
    "\n",
    "        mask = (~torch.eye(2 * batch_size, dtype=bool, device=features.device)).float()\n",
    "\n",
    "        similarity_matrix = similarity_matrix * mask\n",
    "        similarity_matrix = similarity_matrix / self.temperature\n",
    "\n",
    "        labels = torch.arange(batch_size, device=features.device, dtype=torch.long)\n",
    "        labels = torch.cat([labels + batch_size, labels], dim=0)\n",
    "\n",
    "        loss = self.criterion(similarity_matrix, labels)\n",
    "        loss = loss / (2 * batch_size)\n",
    "\n",
    "        return loss"
   ]
  },
  {
   "cell_type": "markdown",
   "metadata": {},
   "source": [
    "## Training Functions"
   ]
  },
  {
   "cell_type": "code",
   "execution_count": 21,
   "metadata": {
    "execution": {
     "iopub.execute_input": "2025-04-14T21:12:04.522675Z",
     "iopub.status.busy": "2025-04-14T21:12:04.522051Z",
     "iopub.status.idle": "2025-04-14T21:12:04.537064Z",
     "shell.execute_reply": "2025-04-14T21:12:04.536339Z",
     "shell.execute_reply.started": "2025-04-14T21:12:04.522650Z"
    },
    "trusted": true
   },
   "outputs": [],
   "source": [
    "def train_multimodal_model(model, train_data, val_data, img_path, epochs, model_save_name):\n",
    "    tokenizer = AutoTokenizer.from_pretrained(\"mental/mental-roberta-base\")\n",
    "    image_processor = CLIPImageProcessor.from_pretrained(\"openai/clip-vit-base-patch32\")\n",
    "\n",
    "    train_dataset = MultimodalAnxietyDataset(train_data, img_path, tokenizer, image_processor, max_len=MAX_LEN)\n",
    "    val_dataset = MultimodalAnxietyDataset(val_data, img_path, tokenizer, image_processor, max_len=MAX_LEN)\n",
    "\n",
    "    print(\"Train Set Size:\", len(train_dataset))\n",
    "    print(\"Validation Set Size:\", len(val_dataset))\n",
    "\n",
    "    train_loader = DataLoader(\n",
    "        train_dataset,\n",
    "        batch_size=BATCH_SIZE,\n",
    "        shuffle=True,\n",
    "        collate_fn=custom_collate_fn\n",
    "    )\n",
    "\n",
    "    val_loader = DataLoader(\n",
    "        val_dataset,\n",
    "        batch_size=BATCH_SIZE,\n",
    "        shuffle=False,\n",
    "        collate_fn=custom_collate_fn\n",
    "    )\n",
    "\n",
    "    optimizer = optim.AdamW(model.parameters(), lr=LR)\n",
    "    scheduler = torch.optim.lr_scheduler.ReduceLROnPlateau(\n",
    "        optimizer, mode='max', factor=0.5, patience=2, verbose=True\n",
    "    )\n",
    "    criterion = nn.CrossEntropyLoss()\n",
    "    contrastive_criterion = ContrastiveLoss(temperature=0.07)\n",
    "    contrastive_weight = 0.3\n",
    "\n",
    "    model = model.to(DEVICE)\n",
    "    model = nn.DataParallel(model)\n",
    "\n",
    "    best_f1 = 0\n",
    "    for epoch in range(epochs):\n",
    "        print(f\"\\nEpoch {epoch+1}/{epochs}\")\n",
    "\n",
    "        model.train()\n",
    "        train_loss = 0\n",
    "        train_preds, train_labels = [], []\n",
    "\n",
    "        for batch in tqdm(train_loader, desc=\"Training\"):\n",
    "            input_ids = batch[\"input_ids\"].to(DEVICE)\n",
    "            attention_mask = batch[\"attention_mask\"].to(DEVICE)\n",
    "            labels = batch[\"label\"].to(DEVICE)\n",
    "            image_features = {k: v.to(DEVICE) for k, v in batch[\"image\"].items()}\n",
    "\n",
    "            optimizer.zero_grad()\n",
    "            outputs = model(input_ids, attention_mask, image_features, get_embeddings=True)\n",
    "            logits = outputs[\"logits\"]\n",
    "\n",
    "            classification_loss = criterion(logits, labels)\n",
    "\n",
    "            multimodal_text_loss = contrastive_criterion(\n",
    "                outputs[\"multimodal_embedding\"],\n",
    "                outputs[\"text_embedding\"]\n",
    "            )\n",
    "\n",
    "            multimodal_image_loss = contrastive_criterion(\n",
    "                outputs[\"multimodal_embedding\"],\n",
    "                outputs[\"image_embedding\"]\n",
    "            )\n",
    "\n",
    "            text_image_loss = contrastive_criterion(\n",
    "                outputs[\"text_embedding\"],\n",
    "                outputs[\"image_embedding\"]\n",
    "            )\n",
    "\n",
    "            contrastive_loss = (multimodal_text_loss + multimodal_image_loss + text_image_loss) / 3\n",
    "            loss = (1 - contrastive_weight) * classification_loss + contrastive_weight * contrastive_loss\n",
    "\n",
    "            loss.backward()\n",
    "            torch.nn.utils.clip_grad_norm_(model.parameters(), 1.0)\n",
    "            optimizer.step()\n",
    "\n",
    "            train_loss += loss.item()\n",
    "            predictions = torch.argmax(logits, dim=1).cpu().numpy()\n",
    "            train_preds.extend(predictions)\n",
    "            train_labels.extend(labels.cpu().numpy())\n",
    "\n",
    "        train_loss = train_loss / len(train_loader)\n",
    "        train_macro_f1 = f1_score(train_labels, train_preds, average=\"macro\")\n",
    "        train_weighted_f1 = f1_score(train_labels, train_preds, average=\"weighted\")\n",
    "\n",
    "        print(f\"Train Loss: {train_loss:.4f}\")\n",
    "        print(f\"Train Macro-F1: {train_macro_f1:.4f}, Weighted-F1: {train_weighted_f1:.4f}\")\n",
    "\n",
    "        val_loss, val_macro_f1, val_weighted_f1 = evaluate_multimodal_model(\n",
    "            model, val_loader, criterion\n",
    "        )\n",
    "\n",
    "        print(f\"Validation Loss: {val_loss:.4f}\")\n",
    "        print(f\"Validation Macro-F1: {val_macro_f1:.4f}, Weighted-F1: {val_weighted_f1:.4f}\")\n",
    "\n",
    "        scheduler.step(val_macro_f1)\n",
    "\n",
    "        f1_hm = 2 * val_macro_f1 * val_weighted_f1 / (val_macro_f1 + val_weighted_f1)\n",
    "        if f1_hm > best_f1:\n",
    "            best_f1 = f1_hm\n",
    "            torch.save(model.state_dict(), f\"{model_save_name}_anxiety.pth\")\n",
    "            print(\"Best model saved!\")\n",
    "\n",
    "    return model\n",
    "\n",
    "def evaluate_multimodal_model(model, loader, criterion):\n",
    "    model.eval()\n",
    "    val_loss = 0\n",
    "    val_preds, val_labels = [], []\n",
    "\n",
    "    with torch.no_grad():\n",
    "        for batch in tqdm(loader, desc=\"Evaluating\"):\n",
    "            input_ids = batch[\"input_ids\"].to(DEVICE)\n",
    "            attention_mask = batch[\"attention_mask\"].to(DEVICE)\n",
    "            labels = batch[\"label\"].to(DEVICE)\n",
    "            image_features = {k: v.to(DEVICE) for k, v in batch[\"image\"].items()}\n",
    "\n",
    "            logits = model(input_ids, attention_mask, image_features)\n",
    "            loss = criterion(logits, labels)\n",
    "\n",
    "            val_loss += loss.item()\n",
    "            predictions = torch.argmax(logits, dim=1).cpu().numpy()\n",
    "            val_preds.extend(predictions)\n",
    "            val_labels.extend(labels.cpu().numpy())\n",
    "\n",
    "    val_loss = val_loss / len(loader)\n",
    "    val_macro_f1 = f1_score(val_labels, val_preds, average=\"macro\")\n",
    "    val_weighted_f1 = f1_score(val_labels, val_preds, average=\"weighted\")\n",
    "\n",
    "    target_names = [k for k, v in sorted(LABEL_MAP.items(), key=lambda x: x[1])]\n",
    "    report = classification_report(val_labels, val_preds, target_names=target_names)\n",
    "    print(report)\n",
    "\n",
    "    return val_loss, val_macro_f1, val_weighted_f1"
   ]
  },
  {
   "cell_type": "markdown",
   "metadata": {},
   "source": [
    "## Model Training"
   ]
  },
  {
   "cell_type": "code",
   "execution_count": 22,
   "metadata": {
    "execution": {
     "iopub.execute_input": "2025-04-14T21:12:07.970251Z",
     "iopub.status.busy": "2025-04-14T21:12:07.969757Z",
     "iopub.status.idle": "2025-04-14T21:12:08.522614Z",
     "shell.execute_reply": "2025-04-14T21:12:08.522106Z",
     "shell.execute_reply.started": "2025-04-14T21:12:07.970228Z"
    },
    "trusted": true
   },
   "outputs": [],
   "source": [
    "full_train_data = json.load(open(\"anxiety_train_llava_dataset.json\", \"r\"))\n",
    "test_data = json.load(open(\"anxiety_test_llava_dataset.json\", \"r\"))\n",
    "\n",
    "labels = [LABEL_MAP[item[\"meme_anxiety_category\"]] for item in full_train_data]\n",
    "\n",
    "train_size = math.ceil(len(full_train_data) * TRAIN_RATIO / (TRAIN_RATIO + VAL_RATIO))\n",
    "train_data, val_data = train_test_split(\n",
    "    full_train_data, train_size=train_size, stratify=labels, random_state=42\n",
    ")\n",
    "\n",
    "img_path = \"anxiety_train_image\"\n",
    "\n",
    "tokenizer = AutoTokenizer.from_pretrained(\"mental/mental-roberta-base\")\n",
    "image_processor = CLIPImageProcessor.from_pretrained(\"openai/clip-vit-base-patch32\")\n",
    "\n",
    "test_dataset = MultimodalAnxietyDataset(test_data, \"anxiety_test_image\", tokenizer, image_processor, max_len=MAX_LEN)\n",
    "test_loader = DataLoader(\n",
    "    test_dataset,\n",
    "    batch_size=BATCH_SIZE,\n",
    "    shuffle=False,\n",
    "    collate_fn=custom_collate_fn\n",
    ")"
   ]
  },
  {
   "cell_type": "code",
   "execution_count": null,
   "metadata": {
    "colab": {
     "referenced_widgets": [
      "093999d1f7d94121877b331557ea9c3d",
      "13875c6e25334e43955d8a67b959df67",
      "3deea3c979174e938c44750c39807d53",
      "3bd9fcceb3a94fceb0821d72359b530a",
      "990db4cdf93e4a7390aa9487d26e8131",
      "40df01e5985341d8a3ff0008b347c2d3",
      "48e8d0ad24054a498e5a4ce1b9846d4f",
      "2e20287687444cf88d9202260df92100",
      "7f0b86a4d8ec4e8d9e8c6a37c99d313a",
      "bc05f072d50a4219a4093c724a384053",
      "878affb4e90441f7be3c6f37f56fc860",
      "9fa0b97003f040be8a714226f39d336b"
     ]
    },
    "execution": {
     "iopub.execute_input": "2025-04-13T09:27:39.315018Z",
     "iopub.status.busy": "2025-04-13T09:27:39.314586Z"
    },
    "id": "ONaMnqISXIOc",
    "outputId": "8546683e-5982-4d8a-b5de-b84a687261dd",
    "trusted": true
   },
   "outputs": [
    {
     "name": "stderr",
     "output_type": "stream",
     "text": [
      "Some weights of RobertaModel were not initialized from the model checkpoint at mental/mental-roberta-base and are newly initialized: ['pooler.dense.bias', 'pooler.dense.weight']\n",
      "You should probably TRAIN this model on a down-stream task to be able to use it for predictions and inference.\n"
     ]
    },
    {
     "name": "stdout",
     "output_type": "stream",
     "text": [
      "Train Set Size: 2153\n",
      "Validation Set Size: 307\n",
      "\n",
      "Epoch 1/30\n"
     ]
    },
    {
     "name": "stderr",
     "output_type": "stream",
     "text": [
      "Training: 100%|██████████| 135/135 [03:21<00:00,  1.49s/it]\n"
     ]
    },
    {
     "name": "stdout",
     "output_type": "stream",
     "text": [
      "Train Loss: 2.2484\n",
      "Train Macro-F1: 0.3441, Weighted-F1: 0.3460\n"
     ]
    },
    {
     "name": "stderr",
     "output_type": "stream",
     "text": [
      "Evaluating: 100%|██████████| 20/20 [00:14<00:00,  1.42it/s]\n"
     ]
    },
    {
     "name": "stdout",
     "output_type": "stream",
     "text": [
      "                       precision    recall  f1-score   support\n",
      "\n",
      "          Nervousness       0.49      0.70      0.57        53\n",
      "Lack of Worry Control       0.63      0.57      0.60        47\n",
      "      Excessive Worry       0.56      0.39      0.46        46\n",
      "  Difficulty Relaxing       0.77      0.90      0.83        51\n",
      "         Restlessness       0.43      0.28      0.34        58\n",
      "       Impending Doom       0.56      0.63      0.59        52\n",
      "\n",
      "             accuracy                           0.58       307\n",
      "            macro avg       0.57      0.58      0.57       307\n",
      "         weighted avg       0.57      0.58      0.56       307\n",
      "\n",
      "Validation Loss: 1.1235\n",
      "Validation Macro-F1: 0.5659, Weighted-F1: 0.5621\n",
      "Best model saved!\n",
      "\n",
      "Epoch 2/30\n"
     ]
    },
    {
     "name": "stderr",
     "output_type": "stream",
     "text": [
      "Training: 100%|██████████| 135/135 [03:24<00:00,  1.51s/it]\n"
     ]
    },
    {
     "name": "stdout",
     "output_type": "stream",
     "text": [
      "Train Loss: 1.4261\n",
      "Train Macro-F1: 0.6749, Weighted-F1: 0.6760\n"
     ]
    },
    {
     "name": "stderr",
     "output_type": "stream",
     "text": [
      "Evaluating: 100%|██████████| 20/20 [00:14<00:00,  1.42it/s]\n"
     ]
    },
    {
     "name": "stdout",
     "output_type": "stream",
     "text": [
      "                       precision    recall  f1-score   support\n",
      "\n",
      "          Nervousness       0.69      0.64      0.67        53\n",
      "Lack of Worry Control       0.73      0.51      0.60        47\n",
      "      Excessive Worry       0.59      0.41      0.49        46\n",
      "  Difficulty Relaxing       0.73      0.96      0.83        51\n",
      "         Restlessness       0.45      0.50      0.47        58\n",
      "       Impending Doom       0.66      0.77      0.71        52\n",
      "\n",
      "             accuracy                           0.64       307\n",
      "            macro avg       0.64      0.63      0.63       307\n",
      "         weighted avg       0.64      0.64      0.63       307\n",
      "\n",
      "Validation Loss: 1.0687\n",
      "Validation Macro-F1: 0.6273, Weighted-F1: 0.6269\n",
      "Best model saved!\n",
      "\n",
      "Epoch 3/30\n"
     ]
    },
    {
     "name": "stderr",
     "output_type": "stream",
     "text": [
      "Training: 100%|██████████| 135/135 [03:23<00:00,  1.51s/it]\n"
     ]
    },
    {
     "name": "stdout",
     "output_type": "stream",
     "text": [
      "Train Loss: 0.8245\n",
      "Train Macro-F1: 0.8625, Weighted-F1: 0.8631\n"
     ]
    },
    {
     "name": "stderr",
     "output_type": "stream",
     "text": [
      "Evaluating: 100%|██████████| 20/20 [00:14<00:00,  1.38it/s]\n"
     ]
    },
    {
     "name": "stdout",
     "output_type": "stream",
     "text": [
      "                       precision    recall  f1-score   support\n",
      "\n",
      "          Nervousness       0.69      0.72      0.70        53\n",
      "Lack of Worry Control       0.64      0.64      0.64        47\n",
      "      Excessive Worry       0.75      0.33      0.45        46\n",
      "  Difficulty Relaxing       0.84      0.80      0.82        51\n",
      "         Restlessness       0.44      0.69      0.54        58\n",
      "       Impending Doom       0.65      0.58      0.61        52\n",
      "\n",
      "             accuracy                           0.63       307\n",
      "            macro avg       0.67      0.63      0.63       307\n",
      "         weighted avg       0.66      0.63      0.63       307\n",
      "\n",
      "Validation Loss: 1.1290\n",
      "Validation Macro-F1: 0.6282, Weighted-F1: 0.6294\n",
      "Best model saved!\n",
      "\n",
      "Epoch 4/30\n"
     ]
    },
    {
     "name": "stderr",
     "output_type": "stream",
     "text": [
      "Training: 100%|██████████| 135/135 [03:24<00:00,  1.51s/it]\n"
     ]
    },
    {
     "name": "stdout",
     "output_type": "stream",
     "text": [
      "Train Loss: 0.4862\n",
      "Train Macro-F1: 0.9557, Weighted-F1: 0.9563\n"
     ]
    },
    {
     "name": "stderr",
     "output_type": "stream",
     "text": [
      "Evaluating: 100%|██████████| 20/20 [00:13<00:00,  1.44it/s]\n"
     ]
    },
    {
     "name": "stdout",
     "output_type": "stream",
     "text": [
      "                       precision    recall  f1-score   support\n",
      "\n",
      "          Nervousness       0.55      0.77      0.64        53\n",
      "Lack of Worry Control       0.69      0.57      0.63        47\n",
      "      Excessive Worry       0.59      0.41      0.49        46\n",
      "  Difficulty Relaxing       0.91      0.78      0.84        51\n",
      "         Restlessness       0.48      0.55      0.52        58\n",
      "       Impending Doom       0.69      0.67      0.68        52\n",
      "\n",
      "             accuracy                           0.63       307\n",
      "            macro avg       0.65      0.63      0.63       307\n",
      "         weighted avg       0.65      0.63      0.63       307\n",
      "\n",
      "Validation Loss: 1.3264\n",
      "Validation Macro-F1: 0.6323, Weighted-F1: 0.6322\n",
      "Best model saved!\n",
      "\n",
      "Epoch 5/30\n"
     ]
    },
    {
     "name": "stderr",
     "output_type": "stream",
     "text": [
      "Training: 100%|██████████| 135/135 [03:22<00:00,  1.50s/it]\n"
     ]
    },
    {
     "name": "stdout",
     "output_type": "stream",
     "text": [
      "Train Loss: 0.3243\n",
      "Train Macro-F1: 0.9630, Weighted-F1: 0.9633\n"
     ]
    },
    {
     "name": "stderr",
     "output_type": "stream",
     "text": [
      "Evaluating: 100%|██████████| 20/20 [00:13<00:00,  1.45it/s]\n"
     ]
    },
    {
     "name": "stdout",
     "output_type": "stream",
     "text": [
      "                       precision    recall  f1-score   support\n",
      "\n",
      "          Nervousness       0.58      0.72      0.64        53\n",
      "Lack of Worry Control       0.82      0.57      0.68        47\n",
      "      Excessive Worry       0.56      0.52      0.54        46\n",
      "  Difficulty Relaxing       0.87      0.78      0.82        51\n",
      "         Restlessness       0.58      0.43      0.50        58\n",
      "       Impending Doom       0.57      0.85      0.68        52\n",
      "\n",
      "             accuracy                           0.64       307\n",
      "            macro avg       0.66      0.65      0.64       307\n",
      "         weighted avg       0.66      0.64      0.64       307\n",
      "\n",
      "Validation Loss: 1.3781\n",
      "Validation Macro-F1: 0.6434, Weighted-F1: 0.6414\n",
      "Best model saved!\n",
      "\n",
      "Epoch 6/30\n"
     ]
    },
    {
     "name": "stderr",
     "output_type": "stream",
     "text": [
      "Training: 100%|██████████| 135/135 [03:22<00:00,  1.50s/it]\n"
     ]
    },
    {
     "name": "stdout",
     "output_type": "stream",
     "text": [
      "Train Loss: 0.2554\n",
      "Train Macro-F1: 0.9681, Weighted-F1: 0.9684\n"
     ]
    },
    {
     "name": "stderr",
     "output_type": "stream",
     "text": [
      "Evaluating: 100%|██████████| 20/20 [00:13<00:00,  1.44it/s]\n"
     ]
    },
    {
     "name": "stdout",
     "output_type": "stream",
     "text": [
      "                       precision    recall  f1-score   support\n",
      "\n",
      "          Nervousness       0.72      0.68      0.70        53\n",
      "Lack of Worry Control       0.56      0.51      0.53        47\n",
      "      Excessive Worry       0.61      0.41      0.49        46\n",
      "  Difficulty Relaxing       0.91      0.76      0.83        51\n",
      "         Restlessness       0.50      0.47      0.48        58\n",
      "       Impending Doom       0.51      0.85      0.64        52\n",
      "\n",
      "             accuracy                           0.62       307\n",
      "            macro avg       0.63      0.61      0.61       307\n",
      "         weighted avg       0.63      0.62      0.61       307\n",
      "\n",
      "Validation Loss: 1.4467\n",
      "Validation Macro-F1: 0.6126, Weighted-F1: 0.6132\n",
      "\n",
      "Epoch 7/30\n"
     ]
    },
    {
     "name": "stderr",
     "output_type": "stream",
     "text": [
      "Training: 100%|██████████| 135/135 [03:22<00:00,  1.50s/it]\n"
     ]
    },
    {
     "name": "stdout",
     "output_type": "stream",
     "text": [
      "Train Loss: 0.1866\n",
      "Train Macro-F1: 0.9788, Weighted-F1: 0.9791\n"
     ]
    },
    {
     "name": "stderr",
     "output_type": "stream",
     "text": [
      "Evaluating: 100%|██████████| 20/20 [00:13<00:00,  1.45it/s]\n"
     ]
    },
    {
     "name": "stdout",
     "output_type": "stream",
     "text": [
      "                       precision    recall  f1-score   support\n",
      "\n",
      "          Nervousness       0.62      0.68      0.65        53\n",
      "Lack of Worry Control       0.64      0.62      0.63        47\n",
      "      Excessive Worry       0.52      0.37      0.43        46\n",
      "  Difficulty Relaxing       0.88      0.71      0.78        51\n",
      "         Restlessness       0.43      0.52      0.47        58\n",
      "       Impending Doom       0.62      0.73      0.67        52\n",
      "\n",
      "             accuracy                           0.61       307\n",
      "            macro avg       0.62      0.60      0.61       307\n",
      "         weighted avg       0.62      0.61      0.61       307\n",
      "\n",
      "Validation Loss: 1.5166\n",
      "Validation Macro-F1: 0.6062, Weighted-F1: 0.6062\n",
      "\n",
      "Epoch 8/30\n"
     ]
    },
    {
     "name": "stderr",
     "output_type": "stream",
     "text": [
      "Training: 100%|██████████| 135/135 [03:22<00:00,  1.50s/it]\n"
     ]
    },
    {
     "name": "stdout",
     "output_type": "stream",
     "text": [
      "Train Loss: 0.1559\n",
      "Train Macro-F1: 0.9807, Weighted-F1: 0.9810\n"
     ]
    },
    {
     "name": "stderr",
     "output_type": "stream",
     "text": [
      "Evaluating: 100%|██████████| 20/20 [00:13<00:00,  1.44it/s]\n"
     ]
    },
    {
     "name": "stdout",
     "output_type": "stream",
     "text": [
      "                       precision    recall  f1-score   support\n",
      "\n",
      "          Nervousness       0.67      0.58      0.63        53\n",
      "Lack of Worry Control       0.62      0.64      0.63        47\n",
      "      Excessive Worry       0.71      0.33      0.45        46\n",
      "  Difficulty Relaxing       0.83      0.84      0.83        51\n",
      "         Restlessness       0.46      0.66      0.54        58\n",
      "       Impending Doom       0.67      0.75      0.71        52\n",
      "\n",
      "             accuracy                           0.64       307\n",
      "            macro avg       0.66      0.63      0.63       307\n",
      "         weighted avg       0.66      0.64      0.63       307\n",
      "\n",
      "Validation Loss: 1.5378\n",
      "Validation Macro-F1: 0.6321, Weighted-F1: 0.6333\n",
      "\n",
      "Epoch 9/30\n"
     ]
    },
    {
     "name": "stderr",
     "output_type": "stream",
     "text": [
      "Training: 100%|██████████| 135/135 [03:23<00:00,  1.51s/it]\n"
     ]
    },
    {
     "name": "stdout",
     "output_type": "stream",
     "text": [
      "Train Loss: 0.1173\n",
      "Train Macro-F1: 0.9886, Weighted-F1: 0.9888\n"
     ]
    },
    {
     "name": "stderr",
     "output_type": "stream",
     "text": [
      "Evaluating: 100%|██████████| 20/20 [00:14<00:00,  1.40it/s]\n"
     ]
    },
    {
     "name": "stdout",
     "output_type": "stream",
     "text": [
      "                       precision    recall  f1-score   support\n",
      "\n",
      "          Nervousness       0.62      0.77      0.69        53\n",
      "Lack of Worry Control       0.75      0.64      0.69        47\n",
      "      Excessive Worry       0.58      0.48      0.52        46\n",
      "  Difficulty Relaxing       0.84      0.82      0.83        51\n",
      "         Restlessness       0.60      0.52      0.56        58\n",
      "       Impending Doom       0.65      0.79      0.71        52\n",
      "\n",
      "             accuracy                           0.67       307\n",
      "            macro avg       0.67      0.67      0.67       307\n",
      "         weighted avg       0.67      0.67      0.67       307\n",
      "\n",
      "Validation Loss: 1.4638\n",
      "Validation Macro-F1: 0.6671, Weighted-F1: 0.6669\n",
      "Best model saved!\n",
      "\n",
      "Epoch 10/30\n"
     ]
    },
    {
     "name": "stderr",
     "output_type": "stream",
     "text": [
      "Training: 100%|██████████| 135/135 [03:24<00:00,  1.52s/it]\n"
     ]
    },
    {
     "name": "stdout",
     "output_type": "stream",
     "text": [
      "Train Loss: 0.0771\n",
      "Train Macro-F1: 0.9948, Weighted-F1: 0.9949\n"
     ]
    },
    {
     "name": "stderr",
     "output_type": "stream",
     "text": [
      "Evaluating: 100%|██████████| 20/20 [00:14<00:00,  1.42it/s]\n"
     ]
    },
    {
     "name": "stdout",
     "output_type": "stream",
     "text": [
      "                       precision    recall  f1-score   support\n",
      "\n",
      "          Nervousness       0.63      0.75      0.69        53\n",
      "Lack of Worry Control       0.73      0.64      0.68        47\n",
      "      Excessive Worry       0.66      0.41      0.51        46\n",
      "  Difficulty Relaxing       0.81      0.86      0.84        51\n",
      "         Restlessness       0.48      0.53      0.51        58\n",
      "       Impending Doom       0.62      0.67      0.65        52\n",
      "\n",
      "             accuracy                           0.65       307\n",
      "            macro avg       0.66      0.65      0.65       307\n",
      "         weighted avg       0.65      0.65      0.64       307\n",
      "\n",
      "Validation Loss: 1.5531\n",
      "Validation Macro-F1: 0.6454, Weighted-F1: 0.6444\n",
      "\n",
      "Epoch 11/30\n"
     ]
    },
    {
     "name": "stderr",
     "output_type": "stream",
     "text": [
      "Training: 100%|██████████| 135/135 [03:24<00:00,  1.51s/it]\n"
     ]
    },
    {
     "name": "stdout",
     "output_type": "stream",
     "text": [
      "Train Loss: 0.0672\n",
      "Train Macro-F1: 0.9947, Weighted-F1: 0.9949\n"
     ]
    },
    {
     "name": "stderr",
     "output_type": "stream",
     "text": [
      "Evaluating: 100%|██████████| 20/20 [00:14<00:00,  1.41it/s]\n"
     ]
    },
    {
     "name": "stdout",
     "output_type": "stream",
     "text": [
      "                       precision    recall  f1-score   support\n",
      "\n",
      "          Nervousness       0.61      0.74      0.67        53\n",
      "Lack of Worry Control       0.71      0.68      0.70        47\n",
      "      Excessive Worry       0.65      0.43      0.52        46\n",
      "  Difficulty Relaxing       0.83      0.88      0.86        51\n",
      "         Restlessness       0.49      0.50      0.50        58\n",
      "       Impending Doom       0.65      0.67      0.66        52\n",
      "\n",
      "             accuracy                           0.65       307\n",
      "            macro avg       0.66      0.65      0.65       307\n",
      "         weighted avg       0.65      0.65      0.65       307\n",
      "\n",
      "Validation Loss: 1.5853\n",
      "Validation Macro-F1: 0.6492, Weighted-F1: 0.6473\n",
      "\n",
      "Epoch 12/30\n"
     ]
    },
    {
     "name": "stderr",
     "output_type": "stream",
     "text": [
      "Training: 100%|██████████| 135/135 [03:23<00:00,  1.51s/it]\n"
     ]
    },
    {
     "name": "stdout",
     "output_type": "stream",
     "text": [
      "Train Loss: 0.0612\n",
      "Train Macro-F1: 0.9953, Weighted-F1: 0.9954\n"
     ]
    },
    {
     "name": "stderr",
     "output_type": "stream",
     "text": [
      "Evaluating: 100%|██████████| 20/20 [00:13<00:00,  1.43it/s]\n"
     ]
    },
    {
     "name": "stdout",
     "output_type": "stream",
     "text": [
      "                       precision    recall  f1-score   support\n",
      "\n",
      "          Nervousness       0.55      0.79      0.65        53\n",
      "Lack of Worry Control       0.67      0.60      0.63        47\n",
      "      Excessive Worry       0.75      0.33      0.45        46\n",
      "  Difficulty Relaxing       0.83      0.88      0.86        51\n",
      "         Restlessness       0.48      0.52      0.50        58\n",
      "       Impending Doom       0.69      0.67      0.68        52\n",
      "\n",
      "             accuracy                           0.64       307\n",
      "            macro avg       0.66      0.63      0.63       307\n",
      "         weighted avg       0.65      0.64      0.63       307\n",
      "\n",
      "Validation Loss: 1.7188\n",
      "Validation Macro-F1: 0.6271, Weighted-F1: 0.6272\n",
      "\n",
      "Epoch 13/30\n"
     ]
    },
    {
     "name": "stderr",
     "output_type": "stream",
     "text": [
      "Training: 100%|██████████| 135/135 [03:22<00:00,  1.50s/it]\n"
     ]
    },
    {
     "name": "stdout",
     "output_type": "stream",
     "text": [
      "Train Loss: 0.0497\n",
      "Train Macro-F1: 0.9962, Weighted-F1: 0.9963\n"
     ]
    },
    {
     "name": "stderr",
     "output_type": "stream",
     "text": [
      "Evaluating: 100%|██████████| 20/20 [00:13<00:00,  1.44it/s]\n"
     ]
    },
    {
     "name": "stdout",
     "output_type": "stream",
     "text": [
      "                       precision    recall  f1-score   support\n",
      "\n",
      "          Nervousness       0.63      0.75      0.69        53\n",
      "Lack of Worry Control       0.67      0.64      0.65        47\n",
      "      Excessive Worry       0.61      0.43      0.51        46\n",
      "  Difficulty Relaxing       0.86      0.84      0.85        51\n",
      "         Restlessness       0.49      0.45      0.47        58\n",
      "       Impending Doom       0.63      0.77      0.70        52\n",
      "\n",
      "             accuracy                           0.65       307\n",
      "            macro avg       0.65      0.65      0.64       307\n",
      "         weighted avg       0.65      0.65      0.64       307\n",
      "\n",
      "Validation Loss: 1.6304\n",
      "Validation Macro-F1: 0.6440, Weighted-F1: 0.6426\n",
      "\n",
      "Epoch 14/30\n"
     ]
    },
    {
     "name": "stderr",
     "output_type": "stream",
     "text": [
      "Training: 100%|██████████| 135/135 [03:23<00:00,  1.51s/it]\n"
     ]
    },
    {
     "name": "stdout",
     "output_type": "stream",
     "text": [
      "Train Loss: 0.0368\n",
      "Train Macro-F1: 0.9962, Weighted-F1: 0.9963\n"
     ]
    },
    {
     "name": "stderr",
     "output_type": "stream",
     "text": [
      "Evaluating: 100%|██████████| 20/20 [00:13<00:00,  1.44it/s]\n"
     ]
    },
    {
     "name": "stdout",
     "output_type": "stream",
     "text": [
      "                       precision    recall  f1-score   support\n",
      "\n",
      "          Nervousness       0.61      0.79      0.69        53\n",
      "Lack of Worry Control       0.69      0.62      0.65        47\n",
      "      Excessive Worry       0.62      0.39      0.48        46\n",
      "  Difficulty Relaxing       0.84      0.90      0.87        51\n",
      "         Restlessness       0.52      0.50      0.51        58\n",
      "       Impending Doom       0.68      0.73      0.70        52\n",
      "\n",
      "             accuracy                           0.66       307\n",
      "            macro avg       0.66      0.66      0.65       307\n",
      "         weighted avg       0.66      0.66      0.65       307\n",
      "\n",
      "Validation Loss: 1.6224\n",
      "Validation Macro-F1: 0.6501, Weighted-F1: 0.6501\n",
      "\n",
      "Epoch 15/30\n"
     ]
    },
    {
     "name": "stderr",
     "output_type": "stream",
     "text": [
      "Training: 100%|██████████| 135/135 [03:22<00:00,  1.50s/it]\n"
     ]
    },
    {
     "name": "stdout",
     "output_type": "stream",
     "text": [
      "Train Loss: 0.0365\n",
      "Train Macro-F1: 0.9972, Weighted-F1: 0.9972\n"
     ]
    },
    {
     "name": "stderr",
     "output_type": "stream",
     "text": [
      "Evaluating: 100%|██████████| 20/20 [00:14<00:00,  1.42it/s]\n"
     ]
    },
    {
     "name": "stdout",
     "output_type": "stream",
     "text": [
      "                       precision    recall  f1-score   support\n",
      "\n",
      "          Nervousness       0.68      0.74      0.71        53\n",
      "Lack of Worry Control       0.66      0.62      0.64        47\n",
      "      Excessive Worry       0.57      0.46      0.51        46\n",
      "  Difficulty Relaxing       0.82      0.92      0.87        51\n",
      "         Restlessness       0.53      0.48      0.50        58\n",
      "       Impending Doom       0.66      0.75      0.70        52\n",
      "\n",
      "             accuracy                           0.66       307\n",
      "            macro avg       0.65      0.66      0.66       307\n",
      "         weighted avg       0.65      0.66      0.65       307\n",
      "\n",
      "Validation Loss: 1.5689\n",
      "Validation Macro-F1: 0.6550, Weighted-F1: 0.6547\n",
      "\n",
      "Epoch 16/30\n"
     ]
    },
    {
     "name": "stderr",
     "output_type": "stream",
     "text": [
      "Training: 100%|██████████| 135/135 [03:22<00:00,  1.50s/it]\n"
     ]
    },
    {
     "name": "stdout",
     "output_type": "stream",
     "text": [
      "Train Loss: 0.0306\n",
      "Train Macro-F1: 0.9967, Weighted-F1: 0.9967\n"
     ]
    },
    {
     "name": "stderr",
     "output_type": "stream",
     "text": [
      "Evaluating: 100%|██████████| 20/20 [00:13<00:00,  1.44it/s]\n"
     ]
    },
    {
     "name": "stdout",
     "output_type": "stream",
     "text": [
      "                       precision    recall  f1-score   support\n",
      "\n",
      "          Nervousness       0.62      0.75      0.68        53\n",
      "Lack of Worry Control       0.71      0.62      0.66        47\n",
      "      Excessive Worry       0.71      0.37      0.49        46\n",
      "  Difficulty Relaxing       0.87      0.88      0.87        51\n",
      "         Restlessness       0.48      0.55      0.52        58\n",
      "       Impending Doom       0.65      0.75      0.70        52\n",
      "\n",
      "             accuracy                           0.66       307\n",
      "            macro avg       0.67      0.65      0.65       307\n",
      "         weighted avg       0.67      0.66      0.65       307\n",
      "\n",
      "Validation Loss: 1.6409\n",
      "Validation Macro-F1: 0.6525, Weighted-F1: 0.6524\n",
      "\n",
      "Epoch 17/30\n"
     ]
    },
    {
     "name": "stderr",
     "output_type": "stream",
     "text": [
      "Training: 100%|██████████| 135/135 [03:22<00:00,  1.50s/it]\n"
     ]
    },
    {
     "name": "stdout",
     "output_type": "stream",
     "text": [
      "Train Loss: 0.0317\n",
      "Train Macro-F1: 0.9967, Weighted-F1: 0.9967\n"
     ]
    },
    {
     "name": "stderr",
     "output_type": "stream",
     "text": [
      "Evaluating: 100%|██████████| 20/20 [00:13<00:00,  1.44it/s]\n"
     ]
    },
    {
     "name": "stdout",
     "output_type": "stream",
     "text": [
      "                       precision    recall  f1-score   support\n",
      "\n",
      "          Nervousness       0.65      0.77      0.71        53\n",
      "Lack of Worry Control       0.72      0.62      0.67        47\n",
      "      Excessive Worry       0.64      0.46      0.53        46\n",
      "  Difficulty Relaxing       0.87      0.90      0.88        51\n",
      "         Restlessness       0.49      0.48      0.49        58\n",
      "       Impending Doom       0.66      0.77      0.71        52\n",
      "\n",
      "             accuracy                           0.67       307\n",
      "            macro avg       0.67      0.67      0.66       307\n",
      "         weighted avg       0.67      0.67      0.66       307\n",
      "\n",
      "Validation Loss: 1.6354\n",
      "Validation Macro-F1: 0.6641, Weighted-F1: 0.6626\n",
      "\n",
      "Epoch 18/30\n"
     ]
    },
    {
     "name": "stderr",
     "output_type": "stream",
     "text": [
      "Training: 100%|██████████| 135/135 [03:22<00:00,  1.50s/it]\n"
     ]
    },
    {
     "name": "stdout",
     "output_type": "stream",
     "text": [
      "Train Loss: 0.0302\n",
      "Train Macro-F1: 0.9962, Weighted-F1: 0.9963\n"
     ]
    },
    {
     "name": "stderr",
     "output_type": "stream",
     "text": [
      "Evaluating: 100%|██████████| 20/20 [00:13<00:00,  1.44it/s]\n"
     ]
    },
    {
     "name": "stdout",
     "output_type": "stream",
     "text": [
      "                       precision    recall  f1-score   support\n",
      "\n",
      "          Nervousness       0.66      0.74      0.70        53\n",
      "Lack of Worry Control       0.74      0.60      0.66        47\n",
      "      Excessive Worry       0.62      0.43      0.51        46\n",
      "  Difficulty Relaxing       0.90      0.84      0.87        51\n",
      "         Restlessness       0.49      0.57      0.52        58\n",
      "       Impending Doom       0.66      0.79      0.72        52\n",
      "\n",
      "             accuracy                           0.66       307\n",
      "            macro avg       0.68      0.66      0.66       307\n",
      "         weighted avg       0.67      0.66      0.66       307\n",
      "\n",
      "Validation Loss: 1.6552\n",
      "Validation Macro-F1: 0.6633, Weighted-F1: 0.6630\n",
      "\n",
      "Epoch 19/30\n"
     ]
    },
    {
     "name": "stderr",
     "output_type": "stream",
     "text": [
      "Training: 100%|██████████| 135/135 [03:22<00:00,  1.50s/it]\n"
     ]
    },
    {
     "name": "stdout",
     "output_type": "stream",
     "text": [
      "Train Loss: 0.0269\n",
      "Train Macro-F1: 0.9976, Weighted-F1: 0.9977\n"
     ]
    },
    {
     "name": "stderr",
     "output_type": "stream",
     "text": [
      "Evaluating: 100%|██████████| 20/20 [00:13<00:00,  1.43it/s]\n"
     ]
    },
    {
     "name": "stdout",
     "output_type": "stream",
     "text": [
      "                       precision    recall  f1-score   support\n",
      "\n",
      "          Nervousness       0.67      0.77      0.72        53\n",
      "Lack of Worry Control       0.66      0.62      0.64        47\n",
      "      Excessive Worry       0.62      0.43      0.51        46\n",
      "  Difficulty Relaxing       0.85      0.88      0.87        51\n",
      "         Restlessness       0.46      0.45      0.46        58\n",
      "       Impending Doom       0.66      0.77      0.71        52\n",
      "\n",
      "             accuracy                           0.65       307\n",
      "            macro avg       0.65      0.65      0.65       307\n",
      "         weighted avg       0.65      0.65      0.65       307\n",
      "\n",
      "Validation Loss: 1.6529\n",
      "Validation Macro-F1: 0.6498, Weighted-F1: 0.6484\n",
      "\n",
      "Epoch 20/30\n"
     ]
    },
    {
     "name": "stderr",
     "output_type": "stream",
     "text": [
      "Training: 100%|██████████| 135/135 [03:22<00:00,  1.50s/it]\n"
     ]
    },
    {
     "name": "stdout",
     "output_type": "stream",
     "text": [
      "Train Loss: 0.0280\n",
      "Train Macro-F1: 0.9962, Weighted-F1: 0.9963\n"
     ]
    },
    {
     "name": "stderr",
     "output_type": "stream",
     "text": [
      "Evaluating: 100%|██████████| 20/20 [00:13<00:00,  1.44it/s]\n"
     ]
    },
    {
     "name": "stdout",
     "output_type": "stream",
     "text": [
      "                       precision    recall  f1-score   support\n",
      "\n",
      "          Nervousness       0.68      0.75      0.71        53\n",
      "Lack of Worry Control       0.64      0.60      0.62        47\n",
      "      Excessive Worry       0.61      0.43      0.51        46\n",
      "  Difficulty Relaxing       0.86      0.86      0.86        51\n",
      "         Restlessness       0.46      0.45      0.46        58\n",
      "       Impending Doom       0.62      0.77      0.69        52\n",
      "\n",
      "             accuracy                           0.64       307\n",
      "            macro avg       0.65      0.64      0.64       307\n",
      "         weighted avg       0.64      0.64      0.64       307\n",
      "\n",
      "Validation Loss: 1.6607\n",
      "Validation Macro-F1: 0.6408, Weighted-F1: 0.6397\n",
      "\n",
      "Epoch 21/30\n"
     ]
    },
    {
     "name": "stderr",
     "output_type": "stream",
     "text": [
      "Training: 100%|██████████| 135/135 [03:22<00:00,  1.50s/it]\n"
     ]
    },
    {
     "name": "stdout",
     "output_type": "stream",
     "text": [
      "Train Loss: 0.0269\n",
      "Train Macro-F1: 0.9976, Weighted-F1: 0.9977\n"
     ]
    },
    {
     "name": "stderr",
     "output_type": "stream",
     "text": [
      "Evaluating: 100%|██████████| 20/20 [00:13<00:00,  1.43it/s]\n"
     ]
    },
    {
     "name": "stdout",
     "output_type": "stream",
     "text": [
      "                       precision    recall  f1-score   support\n",
      "\n",
      "          Nervousness       0.64      0.77      0.70        53\n",
      "Lack of Worry Control       0.72      0.60      0.65        47\n",
      "      Excessive Worry       0.62      0.43      0.51        46\n",
      "  Difficulty Relaxing       0.85      0.86      0.85        51\n",
      "         Restlessness       0.49      0.48      0.49        58\n",
      "       Impending Doom       0.63      0.77      0.70        52\n",
      "\n",
      "             accuracy                           0.65       307\n",
      "            macro avg       0.66      0.65      0.65       307\n",
      "         weighted avg       0.66      0.65      0.65       307\n",
      "\n",
      "Validation Loss: 1.6711\n",
      "Validation Macro-F1: 0.6503, Weighted-F1: 0.6493\n",
      "\n",
      "Epoch 22/30\n"
     ]
    },
    {
     "name": "stderr",
     "output_type": "stream",
     "text": [
      "Training: 100%|██████████| 135/135 [03:23<00:00,  1.50s/it]\n"
     ]
    },
    {
     "name": "stdout",
     "output_type": "stream",
     "text": [
      "Train Loss: 0.0263\n",
      "Train Macro-F1: 0.9976, Weighted-F1: 0.9977\n"
     ]
    },
    {
     "name": "stderr",
     "output_type": "stream",
     "text": [
      "Evaluating: 100%|██████████| 20/20 [00:14<00:00,  1.41it/s]\n"
     ]
    },
    {
     "name": "stdout",
     "output_type": "stream",
     "text": [
      "                       precision    recall  f1-score   support\n",
      "\n",
      "          Nervousness       0.67      0.77      0.72        53\n",
      "Lack of Worry Control       0.65      0.60      0.62        47\n",
      "      Excessive Worry       0.62      0.43      0.51        46\n",
      "  Difficulty Relaxing       0.83      0.88      0.86        51\n",
      "         Restlessness       0.50      0.48      0.49        58\n",
      "       Impending Doom       0.64      0.75      0.69        52\n",
      "\n",
      "             accuracy                           0.65       307\n",
      "            macro avg       0.65      0.65      0.65       307\n",
      "         weighted avg       0.65      0.65      0.65       307\n",
      "\n",
      "Validation Loss: 1.6577\n",
      "Validation Macro-F1: 0.6488, Weighted-F1: 0.6484\n",
      "\n",
      "Epoch 23/30\n"
     ]
    },
    {
     "name": "stderr",
     "output_type": "stream",
     "text": [
      "Training: 100%|██████████| 135/135 [03:22<00:00,  1.50s/it]\n"
     ]
    },
    {
     "name": "stdout",
     "output_type": "stream",
     "text": [
      "Train Loss: 0.0282\n",
      "Train Macro-F1: 0.9962, Weighted-F1: 0.9963\n"
     ]
    },
    {
     "name": "stderr",
     "output_type": "stream",
     "text": [
      "Evaluating: 100%|██████████| 20/20 [00:13<00:00,  1.44it/s]\n"
     ]
    },
    {
     "name": "stdout",
     "output_type": "stream",
     "text": [
      "                       precision    recall  f1-score   support\n",
      "\n",
      "          Nervousness       0.67      0.75      0.71        53\n",
      "Lack of Worry Control       0.67      0.60      0.63        47\n",
      "      Excessive Worry       0.62      0.43      0.51        46\n",
      "  Difficulty Relaxing       0.85      0.86      0.85        51\n",
      "         Restlessness       0.49      0.50      0.50        58\n",
      "       Impending Doom       0.63      0.75      0.68        52\n",
      "\n",
      "             accuracy                           0.65       307\n",
      "            macro avg       0.65      0.65      0.65       307\n",
      "         weighted avg       0.65      0.65      0.65       307\n",
      "\n",
      "Validation Loss: 1.6605\n",
      "Validation Macro-F1: 0.6474, Weighted-F1: 0.6469\n",
      "\n",
      "Epoch 24/30\n"
     ]
    },
    {
     "name": "stderr",
     "output_type": "stream",
     "text": [
      "Training: 100%|██████████| 135/135 [03:22<00:00,  1.50s/it]\n"
     ]
    },
    {
     "name": "stdout",
     "output_type": "stream",
     "text": [
      "Train Loss: 0.0241\n",
      "Train Macro-F1: 0.9971, Weighted-F1: 0.9972\n"
     ]
    },
    {
     "name": "stderr",
     "output_type": "stream",
     "text": [
      "Evaluating: 100%|██████████| 20/20 [00:13<00:00,  1.44it/s]\n"
     ]
    },
    {
     "name": "stdout",
     "output_type": "stream",
     "text": [
      "                       precision    recall  f1-score   support\n",
      "\n",
      "          Nervousness       0.66      0.77      0.71        53\n",
      "Lack of Worry Control       0.67      0.62      0.64        47\n",
      "      Excessive Worry       0.65      0.43      0.52        46\n",
      "  Difficulty Relaxing       0.85      0.86      0.85        51\n",
      "         Restlessness       0.49      0.48      0.49        58\n",
      "       Impending Doom       0.63      0.75      0.68        52\n",
      "\n",
      "             accuracy                           0.65       307\n",
      "            macro avg       0.66      0.65      0.65       307\n",
      "         weighted avg       0.65      0.65      0.65       307\n",
      "\n",
      "Validation Loss: 1.6631\n",
      "Validation Macro-F1: 0.6504, Weighted-F1: 0.6494\n",
      "\n",
      "Epoch 25/30\n"
     ]
    },
    {
     "name": "stderr",
     "output_type": "stream",
     "text": [
      "Training: 100%|██████████| 135/135 [03:22<00:00,  1.50s/it]\n"
     ]
    },
    {
     "name": "stdout",
     "output_type": "stream",
     "text": [
      "Train Loss: 0.0233\n",
      "Train Macro-F1: 0.9967, Weighted-F1: 0.9967\n"
     ]
    },
    {
     "name": "stderr",
     "output_type": "stream",
     "text": [
      "Evaluating: 100%|██████████| 20/20 [00:14<00:00,  1.41it/s]\n"
     ]
    },
    {
     "name": "stdout",
     "output_type": "stream",
     "text": [
      "                       precision    recall  f1-score   support\n",
      "\n",
      "          Nervousness       0.67      0.77      0.72        53\n",
      "Lack of Worry Control       0.66      0.62      0.64        47\n",
      "      Excessive Worry       0.67      0.43      0.53        46\n",
      "  Difficulty Relaxing       0.85      0.88      0.87        51\n",
      "         Restlessness       0.50      0.48      0.49        58\n",
      "       Impending Doom       0.62      0.75      0.68        52\n",
      "\n",
      "             accuracy                           0.66       307\n",
      "            macro avg       0.66      0.66      0.65       307\n",
      "         weighted avg       0.66      0.66      0.65       307\n",
      "\n",
      "Validation Loss: 1.6643\n",
      "Validation Macro-F1: 0.6530, Weighted-F1: 0.6521\n",
      "\n",
      "Epoch 26/30\n"
     ]
    },
    {
     "name": "stderr",
     "output_type": "stream",
     "text": [
      "Training: 100%|██████████| 135/135 [03:22<00:00,  1.50s/it]\n"
     ]
    },
    {
     "name": "stdout",
     "output_type": "stream",
     "text": [
      "Train Loss: 0.0233\n",
      "Train Macro-F1: 0.9976, Weighted-F1: 0.9977\n"
     ]
    },
    {
     "name": "stderr",
     "output_type": "stream",
     "text": [
      "Evaluating: 100%|██████████| 20/20 [00:13<00:00,  1.45it/s]\n"
     ]
    },
    {
     "name": "stdout",
     "output_type": "stream",
     "text": [
      "                       precision    recall  f1-score   support\n",
      "\n",
      "          Nervousness       0.66      0.77      0.71        53\n",
      "Lack of Worry Control       0.69      0.62      0.65        47\n",
      "      Excessive Worry       0.67      0.43      0.53        46\n",
      "  Difficulty Relaxing       0.85      0.88      0.87        51\n",
      "         Restlessness       0.51      0.50      0.50        58\n",
      "       Impending Doom       0.62      0.75      0.68        52\n",
      "\n",
      "             accuracy                           0.66       307\n",
      "            macro avg       0.67      0.66      0.66       307\n",
      "         weighted avg       0.66      0.66      0.66       307\n",
      "\n",
      "Validation Loss: 1.6637\n",
      "Validation Macro-F1: 0.6565, Weighted-F1: 0.6557\n",
      "\n",
      "Epoch 27/30\n"
     ]
    },
    {
     "name": "stderr",
     "output_type": "stream",
     "text": [
      "Training: 100%|██████████| 135/135 [03:22<00:00,  1.50s/it]\n"
     ]
    },
    {
     "name": "stdout",
     "output_type": "stream",
     "text": [
      "Train Loss: 0.0246\n",
      "Train Macro-F1: 0.9976, Weighted-F1: 0.9977\n"
     ]
    },
    {
     "name": "stderr",
     "output_type": "stream",
     "text": [
      "Evaluating: 100%|██████████| 20/20 [00:13<00:00,  1.45it/s]\n"
     ]
    },
    {
     "name": "stdout",
     "output_type": "stream",
     "text": [
      "                       precision    recall  f1-score   support\n",
      "\n",
      "          Nervousness       0.67      0.75      0.71        53\n",
      "Lack of Worry Control       0.67      0.62      0.64        47\n",
      "      Excessive Worry       0.67      0.43      0.53        46\n",
      "  Difficulty Relaxing       0.85      0.88      0.87        51\n",
      "         Restlessness       0.50      0.50      0.50        58\n",
      "       Impending Doom       0.62      0.75      0.68        52\n",
      "\n",
      "             accuracy                           0.66       307\n",
      "            macro avg       0.66      0.66      0.65       307\n",
      "         weighted avg       0.66      0.66      0.65       307\n",
      "\n",
      "Validation Loss: 1.6565\n",
      "Validation Macro-F1: 0.6537, Weighted-F1: 0.6529\n",
      "\n",
      "Epoch 28/30\n"
     ]
    },
    {
     "name": "stderr",
     "output_type": "stream",
     "text": [
      "Training: 100%|██████████| 135/135 [03:22<00:00,  1.50s/it]\n"
     ]
    },
    {
     "name": "stdout",
     "output_type": "stream",
     "text": [
      "Train Loss: 0.0230\n",
      "Train Macro-F1: 0.9972, Weighted-F1: 0.9972\n"
     ]
    },
    {
     "name": "stderr",
     "output_type": "stream",
     "text": [
      "Evaluating: 100%|██████████| 20/20 [00:14<00:00,  1.41it/s]\n"
     ]
    },
    {
     "name": "stdout",
     "output_type": "stream",
     "text": [
      "                       precision    recall  f1-score   support\n",
      "\n",
      "          Nervousness       0.67      0.75      0.71        53\n",
      "Lack of Worry Control       0.67      0.62      0.64        47\n",
      "      Excessive Worry       0.67      0.43      0.53        46\n",
      "  Difficulty Relaxing       0.85      0.86      0.85        51\n",
      "         Restlessness       0.49      0.50      0.50        58\n",
      "       Impending Doom       0.62      0.75      0.68        52\n",
      "\n",
      "             accuracy                           0.65       307\n",
      "            macro avg       0.66      0.65      0.65       307\n",
      "         weighted avg       0.66      0.65      0.65       307\n",
      "\n",
      "Validation Loss: 1.6538\n",
      "Validation Macro-F1: 0.6512, Weighted-F1: 0.6502\n",
      "\n",
      "Epoch 29/30\n"
     ]
    },
    {
     "name": "stderr",
     "output_type": "stream",
     "text": [
      "Training: 100%|██████████| 135/135 [03:22<00:00,  1.50s/it]\n"
     ]
    },
    {
     "name": "stdout",
     "output_type": "stream",
     "text": [
      "Train Loss: 0.0256\n",
      "Train Macro-F1: 0.9976, Weighted-F1: 0.9977\n"
     ]
    },
    {
     "name": "stderr",
     "output_type": "stream",
     "text": [
      "Evaluating: 100%|██████████| 20/20 [00:13<00:00,  1.43it/s]\n"
     ]
    },
    {
     "name": "stdout",
     "output_type": "stream",
     "text": [
      "                       precision    recall  f1-score   support\n",
      "\n",
      "          Nervousness       0.67      0.75      0.71        53\n",
      "Lack of Worry Control       0.69      0.62      0.65        47\n",
      "      Excessive Worry       0.67      0.43      0.53        46\n",
      "  Difficulty Relaxing       0.85      0.88      0.87        51\n",
      "         Restlessness       0.50      0.50      0.50        58\n",
      "       Impending Doom       0.62      0.77      0.69        52\n",
      "\n",
      "             accuracy                           0.66       307\n",
      "            macro avg       0.67      0.66      0.66       307\n",
      "         weighted avg       0.66      0.66      0.66       307\n",
      "\n",
      "Validation Loss: 1.6558\n",
      "Validation Macro-F1: 0.6568, Weighted-F1: 0.6559\n",
      "\n",
      "Epoch 30/30\n"
     ]
    },
    {
     "name": "stderr",
     "output_type": "stream",
     "text": [
      "Training: 100%|██████████| 135/135 [03:22<00:00,  1.50s/it]\n"
     ]
    },
    {
     "name": "stdout",
     "output_type": "stream",
     "text": [
      "Train Loss: 0.0256\n",
      "Train Macro-F1: 0.9971, Weighted-F1: 0.9972\n"
     ]
    },
    {
     "name": "stderr",
     "output_type": "stream",
     "text": [
      "Evaluating: 100%|██████████| 20/20 [00:13<00:00,  1.45it/s]\n"
     ]
    },
    {
     "name": "stdout",
     "output_type": "stream",
     "text": [
      "                       precision    recall  f1-score   support\n",
      "\n",
      "          Nervousness       0.67      0.75      0.71        53\n",
      "Lack of Worry Control       0.67      0.62      0.64        47\n",
      "      Excessive Worry       0.67      0.43      0.53        46\n",
      "  Difficulty Relaxing       0.85      0.88      0.87        51\n",
      "         Restlessness       0.49      0.48      0.49        58\n",
      "       Impending Doom       0.62      0.77      0.69        52\n",
      "\n",
      "             accuracy                           0.66       307\n",
      "            macro avg       0.66      0.66      0.65       307\n",
      "         weighted avg       0.66      0.66      0.65       307\n",
      "\n",
      "Validation Loss: 1.6587\n",
      "Validation Macro-F1: 0.6535, Weighted-F1: 0.6523\n"
     ]
    }
   ],
   "source": [
    "model = MultimodalConcatenationModel(\n",
    "    text_model_name=\"mental/mental-roberta-base\",\n",
    "    num_classes=len(LABEL_MAP),\n",
    "    fusion_dim=FUSION_DIM\n",
    ")\n",
    "\n",
    "trained_model, tokenizer, image_processor = train_multimodal_model(\n",
    "    model,\n",
    "    train_data,\n",
    "    val_data,\n",
    "    img_path,\n",
    "    epochs=30,\n",
    "    model_save_name=\"no_fusion\"\n",
    ")"
   ]
  },
  {
   "cell_type": "markdown",
   "metadata": {},
   "source": [
    "## Inference"
   ]
  },
  {
   "cell_type": "code",
   "execution_count": 24,
   "metadata": {
    "execution": {
     "iopub.execute_input": "2025-04-14T21:12:50.891168Z",
     "iopub.status.busy": "2025-04-14T21:12:50.890500Z",
     "iopub.status.idle": "2025-04-14T21:13:24.802337Z",
     "shell.execute_reply": "2025-04-14T21:13:24.801594Z",
     "shell.execute_reply.started": "2025-04-14T21:12:50.891139Z"
    },
    "id": "fvB17eQ5XIOc",
    "trusted": true
   },
   "outputs": [
    {
     "name": "stdout",
     "output_type": "stream",
     "text": [
      "Downloading...\n",
      "From (original): https://drive.google.com/uc?id=1Tx3n9i3fjK1JKg9KipX_JlurFEvprBQs\n",
      "From (redirected): https://drive.google.com/uc?id=1Tx3n9i3fjK1JKg9KipX_JlurFEvprBQs&confirm=t&uuid=8de1d34c-5411-473d-ad4a-386a9fb4ac9e\n",
      "To: /kaggle/working/no_fusion_anxiety.pth\n",
      "100%|████████████████████████████████████████| 872M/872M [00:29<00:00, 29.7MB/s]\n"
     ]
    }
   ],
   "source": [
    "!gdown 1Tx3n9i3fjK1JKg9KipX_JlurFEvprBQs"
   ]
  },
  {
   "cell_type": "code",
   "execution_count": 25,
   "metadata": {
    "execution": {
     "iopub.execute_input": "2025-04-14T21:13:28.244422Z",
     "iopub.status.busy": "2025-04-14T21:13:28.243824Z",
     "iopub.status.idle": "2025-04-14T21:13:28.250936Z",
     "shell.execute_reply": "2025-04-14T21:13:28.250114Z",
     "shell.execute_reply.started": "2025-04-14T21:13:28.244396Z"
    },
    "trusted": true
   },
   "outputs": [],
   "source": [
    "def inference(test_data, model_path):\n",
    "    model = MultimodalConcatenationModel(\n",
    "        text_model_name=\"mental/mental-roberta-base\",\n",
    "        num_classes=len(LABEL_MAP),\n",
    "        fusion_dim=FUSION_DIM\n",
    "    )\n",
    "\n",
    "    model = model.to(DEVICE)\n",
    "\n",
    "    weights = torch.load(model_path, map_location=DEVICE, weights_only=True)\n",
    "    weights_single = {k.replace(\"module.\", \"\"): v for k, v in weights.items()}\n",
    "\n",
    "    model.load_state_dict(weights_single)\n",
    "    tokenizer = AutoTokenizer.from_pretrained(\"mental/mental-roberta-base\")\n",
    "    image_processor = CLIPImageProcessor.from_pretrained(\"openai/clip-vit-base-patch32\")\n",
    "\n",
    "    test_dataset = MultimodalAnxietyDataset(test_data, \"anxiety_test_image\", tokenizer, image_processor, max_len=MAX_LEN)\n",
    "    test_loader = DataLoader(\n",
    "        test_dataset,\n",
    "        batch_size=BATCH_SIZE,\n",
    "        shuffle=False,\n",
    "        collate_fn=custom_collate_fn\n",
    "    )\n",
    "\n",
    "    loss, macro_f1, weighted_f1 = evaluate_multimodal_model(\n",
    "        model, test_loader, nn.CrossEntropyLoss()\n",
    "    )\n",
    "\n",
    "    print(f\"Test Loss: {loss:.4f}\")\n",
    "    print(f\"Test Macro-F1: {macro_f1:.4f}, Weighted-F1: {weighted_f1:.4f}\")\n",
    "\n",
    "    return macro_f1, weighted_f1"
   ]
  },
  {
   "cell_type": "code",
   "execution_count": 26,
   "metadata": {
    "execution": {
     "iopub.execute_input": "2025-04-14T21:13:28.448683Z",
     "iopub.status.busy": "2025-04-14T21:13:28.448447Z",
     "iopub.status.idle": "2025-04-14T21:14:07.262164Z",
     "shell.execute_reply": "2025-04-14T21:14:07.261609Z",
     "shell.execute_reply.started": "2025-04-14T21:13:28.448668Z"
    },
    "trusted": true
   },
   "outputs": [
    {
     "name": "stderr",
     "output_type": "stream",
     "text": [
      "Some weights of RobertaModel were not initialized from the model checkpoint at mental/mental-roberta-base and are newly initialized: ['pooler.dense.bias', 'pooler.dense.weight']\n",
      "You should probably TRAIN this model on a down-stream task to be able to use it for predictions and inference.\n",
      "Evaluating: 100%|██████████| 39/39 [00:36<00:00,  1.08it/s]"
     ]
    },
    {
     "name": "stdout",
     "output_type": "stream",
     "text": [
      "                       precision    recall  f1-score   support\n",
      "\n",
      "          Nervousness       0.71      0.67      0.69       106\n",
      "Lack of Worry Control       0.75      0.60      0.66        94\n",
      "      Excessive Worry       0.58      0.62      0.60        92\n",
      "  Difficulty Relaxing       0.76      0.77      0.77       102\n",
      "         Restlessness       0.51      0.56      0.53       116\n",
      "       Impending Doom       0.64      0.67      0.65       105\n",
      "\n",
      "             accuracy                           0.65       615\n",
      "            macro avg       0.66      0.65      0.65       615\n",
      "         weighted avg       0.65      0.65      0.65       615\n",
      "\n",
      "Test Loss: 1.5172\n",
      "Test Macro-F1: 0.6503, Weighted-F1: 0.6487\n"
     ]
    },
    {
     "name": "stderr",
     "output_type": "stream",
     "text": [
      "\n"
     ]
    },
    {
     "data": {
      "text/plain": [
       "(0.6503389044020362, 0.6486789102737075)"
      ]
     },
     "execution_count": 26,
     "metadata": {},
     "output_type": "execute_result"
    }
   ],
   "source": [
    "inference(test_data, \"no_fusion_anxiety.pth\")"
   ]
  },
  {
   "cell_type": "code",
   "execution_count": null,
   "metadata": {
    "trusted": true
   },
   "outputs": [],
   "source": []
  }
 ],
 "metadata": {
  "colab": {
   "name": "anxiety_ablation_without_fusion",
   "provenance": []
  },
  "kaggle": {
   "accelerator": "nvidiaTeslaT4",
   "dataSources": [],
   "dockerImageVersionId": 31011,
   "isGpuEnabled": true,
   "isInternetEnabled": true,
   "language": "python",
   "sourceType": "notebook"
  },
  "kernelspec": {
   "display_name": "Python 3",
   "language": "python",
   "name": "python3"
  },
  "language_info": {
   "codemirror_mode": {
    "name": "ipython",
    "version": 3
   },
   "file_extension": ".py",
   "mimetype": "text/x-python",
   "name": "python",
   "nbconvert_exporter": "python",
   "pygments_lexer": "ipython3",
   "version": "3.11.11"
  }
 },
 "nbformat": 4,
 "nbformat_minor": 4
}
