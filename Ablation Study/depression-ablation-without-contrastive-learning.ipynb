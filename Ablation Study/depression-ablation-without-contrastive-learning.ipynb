{
 "cells": [
  {
   "cell_type": "markdown",
   "metadata": {},
   "source": [
    "## Dataset Download"
   ]
  },
  {
   "cell_type": "code",
   "execution_count": 1,
   "metadata": {
    "_cell_guid": "b1076dfc-b9ad-4769-8c92-a6c4dae69d19",
    "_uuid": "8f2839f25d086af736a60e9eeb907d3b93b6e0e5",
    "execution": {
     "iopub.execute_input": "2025-04-14T23:30:35.082335Z",
     "iopub.status.busy": "2025-04-14T23:30:35.082073Z",
     "iopub.status.idle": "2025-04-14T23:30:51.295707Z",
     "shell.execute_reply": "2025-04-14T23:30:51.294870Z",
     "shell.execute_reply.started": "2025-04-14T23:30:35.082305Z"
    },
    "id": "uhiYoFQR3Sqn",
    "outputId": "189919ed-86e6-457e-ee5d-679656fb093d",
    "trusted": true
   },
   "outputs": [
    {
     "name": "stdout",
     "output_type": "stream",
     "text": [
      "Downloading...\n",
      "From (original): https://drive.google.com/uc?id=1LQoyq_ZjHJih7hxJ2yJ_OrZhOIE_BZwB\n",
      "From (redirected): https://drive.google.com/uc?id=1LQoyq_ZjHJih7hxJ2yJ_OrZhOIE_BZwB&confirm=t&uuid=fc605b59-c18d-41e9-84a5-1fee37d6dc9f\n",
      "To: /kaggle/working/depression_dataset_complete.zip\n",
      "100%|████████████████████████████████████████| 652M/652M [00:11<00:00, 58.2MB/s]\n"
     ]
    }
   ],
   "source": [
    "!gdown 1LQoyq_ZjHJih7hxJ2yJ_OrZhOIE_BZwB"
   ]
  },
  {
   "cell_type": "code",
   "execution_count": 2,
   "metadata": {
    "execution": {
     "iopub.execute_input": "2025-04-14T23:31:07.671011Z",
     "iopub.status.busy": "2025-04-14T23:31:07.670462Z",
     "iopub.status.idle": "2025-04-14T23:31:14.133873Z",
     "shell.execute_reply": "2025-04-14T23:31:14.133101Z",
     "shell.execute_reply.started": "2025-04-14T23:31:07.670983Z"
    },
    "id": "G8TB4cOT3Sqo",
    "trusted": true
   },
   "outputs": [],
   "source": [
    "!unzip depression_dataset_complete.zip > /dev/null"
   ]
  },
  {
   "cell_type": "code",
   "execution_count": null,
   "metadata": {
    "execution": {
     "iopub.execute_input": "2025-04-14T23:32:12.461310Z",
     "iopub.status.busy": "2025-04-14T23:32:12.460558Z",
     "iopub.status.idle": "2025-04-14T23:32:12.466659Z",
     "shell.execute_reply": "2025-04-14T23:32:12.465961Z",
     "shell.execute_reply.started": "2025-04-14T23:32:12.461285Z"
    },
    "id": "Z7tEMZOt3Sqo",
    "trusted": true
   },
   "outputs": [],
   "source": [
    "import os\n",
    "import torch\n",
    "import torch.nn as nn\n",
    "import torch.optim as optim\n",
    "from torch.utils.data import Dataset, DataLoader\n",
    "from torchvision import transforms\n",
    "from transformers import AutoTokenizer, AutoModel, CLIPImageProcessor, CLIPVisionModel\n",
    "from sklearn.metrics import precision_recall_fscore_support\n",
    "import numpy as np\n",
    "from tqdm import tqdm\n",
    "from PIL import Image\n",
    "import json\n",
    "import math\n",
    "\n",
    "DEVICE = torch.device(\"cuda\" if torch.cuda.is_available() else \"cpu\")\n",
    "BATCH_SIZE = 16\n",
    "LR = 2e-5\n",
    "MAX_LEN = 512\n",
    "FUSION_DIM = 768\n",
    "LABELS = [\"Lack of Interest\", \"Feeling Down\", \"Eating Disorder\",\n",
    "          \"Sleeping Disorder\", \"Low Self-Esteem\", \"Concentration Problem\", \"Self-Harm\"]\n",
    "LABEL_MAP = {label: i for i, label in enumerate(LABELS)}\n",
    "NUM_CLASSES = len(LABELS)"
   ]
  },
  {
   "cell_type": "markdown",
   "metadata": {},
   "source": [
    "## Custom Dataset"
   ]
  },
  {
   "cell_type": "code",
   "execution_count": 4,
   "metadata": {
    "execution": {
     "iopub.execute_input": "2025-04-14T23:32:05.951069Z",
     "iopub.status.busy": "2025-04-14T23:32:05.950584Z",
     "iopub.status.idle": "2025-04-14T23:32:05.959430Z",
     "shell.execute_reply": "2025-04-14T23:32:05.958744Z",
     "shell.execute_reply.started": "2025-04-14T23:32:05.951049Z"
    },
    "trusted": true
   },
   "outputs": [],
   "source": [
    "class MultimodalDepressionDataset(Dataset):\n",
    "    def __init__(self, data, image_path, tokenizer, image_processor, max_len=512):\n",
    "        self.data = data\n",
    "        self.tokenizer = tokenizer\n",
    "        self.image_processor = image_processor\n",
    "        self.max_len = max_len\n",
    "        self.img_path = image_path\n",
    "        self.transform = transforms.Compose([\n",
    "            transforms.Resize((224, 224)),\n",
    "            transforms.ToTensor(),\n",
    "            transforms.Normalize(mean=[0.485, 0.456, 0.406], std=[0.229, 0.224, 0.225])\n",
    "        ])\n",
    "\n",
    "    def __len__(self):\n",
    "        return len(self.data)\n",
    "\n",
    "    def __getitem__(self, idx):\n",
    "        sample = self.data[idx]\n",
    "\n",
    "        ocr_text = sample[\"ocr_text\"]\n",
    "        figurative_reasoning = sample[\"figurative_reasoning\"]\n",
    "        combined_text = ocr_text + \" [SEP] \" + figurative_reasoning\n",
    "\n",
    "        encoding = self.tokenizer(\n",
    "            combined_text,\n",
    "            padding=\"max_length\",\n",
    "            truncation=True,\n",
    "            max_length=self.max_len,\n",
    "            return_tensors=\"pt\",\n",
    "        )\n",
    "\n",
    "        image_path = os.path.join(self.img_path, sample[\"sample_id\"] + \".jpeg\")\n",
    "        image = Image.open(image_path).convert(\"RGB\")\n",
    "        image_tensor = self.image_processor(image, return_tensors=\"pt\")\n",
    "\n",
    "        labels = torch.zeros(NUM_CLASSES)\n",
    "        for category in sample[\"meme_depressive_categories\"]:\n",
    "            labels[LABEL_MAP[category]] = 1.0\n",
    "\n",
    "        return {\n",
    "            \"input_ids\": encoding[\"input_ids\"].squeeze(0),\n",
    "            \"attention_mask\": encoding[\"attention_mask\"].squeeze(0),\n",
    "            \"image\": image_tensor,\n",
    "            \"label\": labels\n",
    "        }\n",
    "\n",
    "def custom_collate_fn(batch):\n",
    "    input_ids = torch.stack([item['input_ids'] for item in batch])\n",
    "    attention_mask = torch.stack([item['attention_mask'] for item in batch])\n",
    "    labels = torch.stack([item['label'] for item in batch])\n",
    "\n",
    "    images = {}\n",
    "    for key in batch[0]['image'].keys():\n",
    "        if isinstance(batch[0]['image'][key], torch.Tensor):\n",
    "            images[key] = torch.stack([item['image'][key].squeeze(0) for item in batch])\n",
    "\n",
    "    return {\n",
    "        'input_ids': input_ids,\n",
    "        'attention_mask': attention_mask,\n",
    "        'image': images,\n",
    "        'label': labels,\n",
    "    }"
   ]
  },
  {
   "cell_type": "markdown",
   "metadata": {},
   "source": [
    "## Model Definition"
   ]
  },
  {
   "cell_type": "code",
   "execution_count": 5,
   "metadata": {
    "execution": {
     "iopub.execute_input": "2025-04-14T23:32:05.960329Z",
     "iopub.status.busy": "2025-04-14T23:32:05.960079Z",
     "iopub.status.idle": "2025-04-14T23:32:05.993831Z",
     "shell.execute_reply": "2025-04-14T23:32:05.993311Z",
     "shell.execute_reply.started": "2025-04-14T23:32:05.960309Z"
    },
    "id": "yQq0aOiz3Sqq",
    "trusted": true
   },
   "outputs": [],
   "source": [
    "class CrossAttentionLayer(nn.Module):\n",
    "    def __init__(self, hidden_size, num_attention_heads=8, dropout=0.1):\n",
    "        super().__init__()\n",
    "        self.num_attention_heads = num_attention_heads\n",
    "        self.attention_head_size = hidden_size // num_attention_heads\n",
    "        self.all_head_size = self.num_attention_heads * self.attention_head_size\n",
    "\n",
    "        self.query = nn.Linear(hidden_size, self.all_head_size)\n",
    "        self.key = nn.Linear(hidden_size, self.all_head_size)\n",
    "        self.value = nn.Linear(hidden_size, self.all_head_size)\n",
    "\n",
    "        self.output = nn.Linear(hidden_size, hidden_size)\n",
    "\n",
    "        self.dropout = nn.Dropout(dropout)\n",
    "        self.layer_norm = nn.LayerNorm(hidden_size)\n",
    "\n",
    "        self.ffn = nn.Sequential(\n",
    "            nn.Linear(hidden_size, hidden_size * 4),\n",
    "            nn.GELU(),\n",
    "            nn.Dropout(dropout),\n",
    "            nn.Linear(hidden_size * 4, hidden_size),\n",
    "            nn.Dropout(dropout)\n",
    "        )\n",
    "        self.ffn_layer_norm = nn.LayerNorm(hidden_size)\n",
    "\n",
    "    def transpose_for_scores(self, x):\n",
    "        new_x_shape = x.size()[:-1] + (self.num_attention_heads, self.attention_head_size)\n",
    "        x = x.view(*new_x_shape)\n",
    "        return x.permute(0, 2, 1, 3)\n",
    "\n",
    "    def forward(self, x, context):\n",
    "        mixed_query_layer = self.query(x)\n",
    "        mixed_key_layer = self.key(context)\n",
    "        mixed_value_layer = self.value(context)\n",
    "\n",
    "        query_layer = self.transpose_for_scores(mixed_query_layer)\n",
    "        key_layer = self.transpose_for_scores(mixed_key_layer)\n",
    "        value_layer = self.transpose_for_scores(mixed_value_layer)\n",
    "\n",
    "        attention_scores = torch.matmul(query_layer, key_layer.transpose(-1, -2))\n",
    "        attention_scores = attention_scores / math.sqrt(self.attention_head_size)\n",
    "\n",
    "        attention_probs = nn.Softmax(dim=-1)(attention_scores)\n",
    "        attention_probs = self.dropout(attention_probs)\n",
    "\n",
    "        context_layer = torch.matmul(attention_probs, value_layer)\n",
    "        context_layer = context_layer.permute(0, 2, 1, 3).contiguous()\n",
    "        new_context_layer_shape = context_layer.size()[:-2] + (self.all_head_size,)\n",
    "        context_layer = context_layer.view(*new_context_layer_shape)\n",
    "\n",
    "        attention_output = self.output(context_layer)\n",
    "        attention_output = self.dropout(attention_output)\n",
    "        attention_output = self.layer_norm(attention_output + x)\n",
    "\n",
    "        ffn_output = self.ffn(attention_output)\n",
    "\n",
    "        output = self.ffn_layer_norm(ffn_output + attention_output)\n",
    "\n",
    "        return output\n",
    "\n",
    "class MultimodalAttentionModel(nn.Module):\n",
    "    def __init__(self, text_model_name=\"bert-base-uncased\", num_classes=7, fusion_dim=768):\n",
    "        super(MultimodalAttentionModel, self).__init__()\n",
    "\n",
    "        self.text_encoder = AutoModel.from_pretrained(text_model_name)\n",
    "        self.text_dim = self.text_encoder.config.hidden_size\n",
    "\n",
    "        self.vision_encoder = CLIPVisionModel.from_pretrained(\"openai/clip-vit-base-patch32\")\n",
    "        self.vision_dim = self.vision_encoder.config.hidden_size\n",
    "\n",
    "        self.text_dim = self.text_encoder.config.hidden_size\n",
    "        self.vision_dim = self.vision_encoder.config.hidden_size\n",
    "        fusion_dim = 1024\n",
    "\n",
    "        self.text_projections = nn.ModuleList([\n",
    "            nn.Linear(self.text_dim, fusion_dim) for _ in range(3)\n",
    "        ])\n",
    "\n",
    "        self.vision_projections = nn.ModuleList([\n",
    "            nn.Linear(self.vision_dim, fusion_dim) for _ in range(3)\n",
    "        ])\n",
    "\n",
    "        self.co_attention_layers = nn.ModuleList([\n",
    "            CrossAttentionLayer(fusion_dim) for _ in range(3)\n",
    "        ])\n",
    "\n",
    "        self.expert_nets = nn.ModuleList([\n",
    "            nn.Sequential(\n",
    "                nn.Linear(fusion_dim, fusion_dim),\n",
    "                nn.LayerNorm(fusion_dim),\n",
    "                nn.GELU(),\n",
    "                nn.Dropout(0.2)\n",
    "            ) for _ in range(4)\n",
    "        ])\n",
    "\n",
    "        self.moe_gate = nn.Linear(fusion_dim, 4)\n",
    "\n",
    "        self.classifier = nn.Sequential(\n",
    "            nn.Linear(fusion_dim, fusion_dim),\n",
    "            nn.LayerNorm(fusion_dim),\n",
    "            nn.GELU(),\n",
    "            nn.Dropout(0.1),\n",
    "            nn.Linear(fusion_dim, num_classes)\n",
    "        )\n",
    "\n",
    "    def forward(self, input_ids, attention_mask, image_features):\n",
    "        text_outputs = self.text_encoder(input_ids=input_ids, attention_mask=attention_mask, output_hidden_states=True)\n",
    "        text_features = [\n",
    "            text_outputs.hidden_states[-i][:, 0] for i in range(1, 4)\n",
    "        ]\n",
    "        text_features = [\n",
    "            proj(feat) for proj, feat in zip(self.text_projections, text_features)\n",
    "        ]\n",
    "\n",
    "        vision_outputs = self.vision_encoder(**image_features, output_hidden_states=True)\n",
    "        vision_features = [\n",
    "            vision_outputs.hidden_states[-i][:, 0] for i in range(1, 4)\n",
    "        ]\n",
    "        vision_features = [\n",
    "            proj(feat) for proj, feat in zip(self.vision_projections, vision_features)\n",
    "        ]\n",
    "\n",
    "        fused_features = []\n",
    "        for text_feat, vision_feat, co_attn in zip(text_features, vision_features, self.co_attention_layers):\n",
    "            fused_feat = co_attn(text_feat.unsqueeze(1), vision_feat.unsqueeze(1))\n",
    "            fused_features.append(fused_feat.squeeze(1))\n",
    "\n",
    "        combined_feature = sum(fused_features) / len(fused_features)\n",
    "\n",
    "        expert_outputs = [expert(combined_feature) for expert in self.expert_nets]\n",
    "        expert_gates = torch.nn.functional.softmax(self.moe_gate(combined_feature), dim=1)\n",
    "\n",
    "        moe_output = torch.zeros_like(expert_outputs[0])\n",
    "        for i, expert_out in enumerate(expert_outputs):\n",
    "            moe_output += expert_out * expert_gates[:, i].unsqueeze(1)\n",
    "\n",
    "        logits = self.classifier(moe_output)\n",
    "\n",
    "        return logits"
   ]
  },
  {
   "cell_type": "markdown",
   "metadata": {},
   "source": [
    "## Training Functions"
   ]
  },
  {
   "cell_type": "code",
   "execution_count": null,
   "metadata": {
    "execution": {
     "iopub.execute_input": "2025-04-14T23:32:05.995103Z",
     "iopub.status.busy": "2025-04-14T23:32:05.994902Z",
     "iopub.status.idle": "2025-04-14T23:32:06.022874Z",
     "shell.execute_reply": "2025-04-14T23:32:06.022295Z",
     "shell.execute_reply.started": "2025-04-14T23:32:05.995087Z"
    },
    "trusted": true
   },
   "outputs": [],
   "source": [
    "def train_multimodal_model(model, train_data, val_data, img_path, epochs, model_save_name):\n",
    "    tokenizer = AutoTokenizer.from_pretrained(\"mental/mental-roberta-base\")\n",
    "    image_processor = CLIPImageProcessor.from_pretrained(\"openai/clip-vit-base-patch32\")\n",
    "\n",
    "    train_dataset = MultimodalDepressionDataset(train_data, os.path.join(img_path, \"train\"), tokenizer, image_processor, max_len=MAX_LEN)\n",
    "    val_dataset = MultimodalDepressionDataset(val_data, os.path.join(img_path, \"val\"), tokenizer, image_processor, max_len=MAX_LEN)\n",
    "\n",
    "    print(\"Train Set Size:\", len(train_dataset))\n",
    "    print(\"Validation Set Size:\", len(val_dataset))\n",
    "\n",
    "    train_loader = DataLoader(\n",
    "        train_dataset,\n",
    "        batch_size=BATCH_SIZE,\n",
    "        shuffle=True,\n",
    "        collate_fn=custom_collate_fn\n",
    "    )\n",
    "\n",
    "    val_loader = DataLoader(\n",
    "        val_dataset,\n",
    "        batch_size=BATCH_SIZE,\n",
    "        shuffle=False,\n",
    "        collate_fn=custom_collate_fn\n",
    "    )\n",
    "\n",
    "    optimizer = optim.AdamW(model.parameters(), lr=LR)\n",
    "    scheduler = torch.optim.lr_scheduler.ReduceLROnPlateau(\n",
    "        optimizer, mode='max', factor=0.5, patience=2, verbose=True\n",
    "    )\n",
    "    criterion = nn.BCEWithLogitsLoss()\n",
    "\n",
    "    model = model.to(DEVICE)\n",
    "    model = nn.DataParallel(model)\n",
    "\n",
    "    best_f1 = 0\n",
    "    for epoch in range(epochs):\n",
    "        print(f\"\\nEpoch {epoch+1}/{epochs}\")\n",
    "\n",
    "        model.train()\n",
    "        train_loss = 0\n",
    "        all_train_preds, all_train_labels = [], []\n",
    "\n",
    "        for batch in tqdm(train_loader, desc=\"Training\"):\n",
    "            input_ids = batch[\"input_ids\"].to(DEVICE)\n",
    "            attention_mask = batch[\"attention_mask\"].to(DEVICE)\n",
    "            labels = batch[\"label\"].to(DEVICE)\n",
    "            image_features = {k: v.to(DEVICE) for k, v in batch[\"image\"].items()}\n",
    "\n",
    "            optimizer.zero_grad()\n",
    "            logits = model(input_ids, attention_mask, image_features)\n",
    "            loss = criterion(logits, labels)\n",
    "            loss.backward()\n",
    "            torch.nn.utils.clip_grad_norm_(model.parameters(), 1.0)\n",
    "            optimizer.step()\n",
    "\n",
    "            train_loss += loss.item()\n",
    "            with torch.no_grad():\n",
    "                predictions = (torch.sigmoid(logits) > 0.5).float().cpu().numpy()\n",
    "                all_train_preds.extend(predictions)\n",
    "                all_train_labels.extend(labels.cpu().numpy())\n",
    "\n",
    "        train_loss = train_loss / len(train_loader)\n",
    "        train_metrics = compute_multilabel_metrics(np.array(all_train_labels), np.array(all_train_preds))\n",
    "\n",
    "        print(f\"Train Loss: {train_loss:.4f}\")\n",
    "        print(f\"Train Macro-F1: {train_metrics['macro_f1']:.4f}, Weighted-F1: {train_metrics['weighted_f1']:.4f}\")\n",
    "\n",
    "        val_loss, val_metrics = evaluate_multimodal_model(\n",
    "            model, val_loader, criterion\n",
    "        )\n",
    "\n",
    "        print(f\"Validation Loss: {val_loss:.4f}\")\n",
    "        print(f\"Validation Macro-F1: {val_metrics['macro_f1']:.4f}, Weighted-F1: {val_metrics['weighted_f1']:.4f}\")\n",
    "\n",
    "        scheduler.step(val_metrics['macro_f1'])\n",
    "\n",
    "        f1_hm = 2 * val_metrics[\"macro_f1\"] * val_metrics[\"weighted_f1\"] / (val_metrics[\"macro_f1\"] + val_metrics[\"weighted_f1\"])\n",
    "        if f1_hm > best_f1:\n",
    "            best_f1 = f1_hm\n",
    "            torch.save(model.state_dict(), f\"{model_save_name}_depression.pth\")\n",
    "            print(\"Best model saved!\")\n",
    "\n",
    "    return model\n",
    "\n",
    "def compute_multilabel_metrics(y_true, y_pred):\n",
    "    macro_precision, macro_recall, macro_f1, _ = precision_recall_fscore_support(y_true, y_pred, average='macro')\n",
    "    weighted_precision, weighted_recall, weighted_f1, _ = precision_recall_fscore_support(y_true, y_pred, average='weighted')\n",
    "    \n",
    "    per_class_precision, per_class_recall, per_class_f1, _ = precision_recall_fscore_support(y_true, y_pred, average=None)\n",
    "    metrics = {\n",
    "        'macro_precision': macro_precision,\n",
    "        'macro_recall': macro_recall,\n",
    "        'macro_f1': macro_f1,\n",
    "        'weighted_precision': weighted_precision,\n",
    "        'weighted_recall': weighted_recall,\n",
    "        'weighted_f1': weighted_f1,\n",
    "        'per_class_precision': per_class_precision,\n",
    "        'per_class_recall': per_class_recall,\n",
    "        'per_class_f1': per_class_f1\n",
    "    }\n",
    "    \n",
    "    return metrics\n",
    "\n",
    "def evaluate_multimodal_model(model, loader, criterion):\n",
    "    model.eval()\n",
    "    val_loss = 0\n",
    "    all_val_preds, all_val_labels = [], []\n",
    "    \n",
    "    with torch.no_grad():\n",
    "        for batch in tqdm(loader, desc=\"Evaluating\"):\n",
    "            input_ids = batch[\"input_ids\"].to(DEVICE)\n",
    "            attention_mask = batch[\"attention_mask\"].to(DEVICE)\n",
    "            labels = batch[\"label\"].to(DEVICE)\n",
    "            image_features = {k: v.to(DEVICE) for k, v in batch[\"image\"].items()}\n",
    "            \n",
    "            logits = model(input_ids, attention_mask, image_features)\n",
    "            loss = criterion(logits, labels)\n",
    "            \n",
    "            val_loss += loss.item()\n",
    "            predictions = (torch.sigmoid(logits) > 0.5).float().cpu().numpy()\n",
    "            all_val_preds.extend(predictions)\n",
    "            all_val_labels.extend(labels.cpu().numpy())\n",
    "    \n",
    "    val_loss = val_loss / len(loader)\n",
    "    val_metrics = compute_multilabel_metrics(np.array(all_val_labels), np.array(all_val_preds))\n",
    "    \n",
    "    print(\"\\nPer-class metrics:\")\n",
    "    for i, label in enumerate(LABELS):\n",
    "        print(f\"{label}: F1={val_metrics['per_class_f1'][i]:.4f}, \"\n",
    "              f\"Precision={val_metrics['per_class_precision'][i]:.4f}, \"\n",
    "              f\"Recall={val_metrics['per_class_recall'][i]:.4f}\")\n",
    "    \n",
    "    return val_loss, val_metrics"
   ]
  },
  {
   "cell_type": "markdown",
   "metadata": {},
   "source": [
    "## Model Training"
   ]
  },
  {
   "cell_type": "code",
   "execution_count": 10,
   "metadata": {
    "execution": {
     "iopub.execute_input": "2025-04-14T23:32:42.373059Z",
     "iopub.status.busy": "2025-04-14T23:32:42.372778Z",
     "iopub.status.idle": "2025-04-14T23:32:42.734264Z",
     "shell.execute_reply": "2025-04-14T23:32:42.733762Z",
     "shell.execute_reply.started": "2025-04-14T23:32:42.373037Z"
    },
    "trusted": true
   },
   "outputs": [],
   "source": [
    "train_data = json.load(open(\"depression_train_llava_dataset.json\", \"r\"))\n",
    "val_data = json.load(open(\"depression_val_llava_dataset.json\", \"r\"))\n",
    "test_data = json.load(open(\"depression_test_llava_dataset.json\", \"r\"))\n",
    "\n",
    "img_path = \"depressive_image\"\n",
    "\n",
    "tokenizer = AutoTokenizer.from_pretrained(\"mental/mental-roberta-base\")\n",
    "image_processor = CLIPImageProcessor.from_pretrained(\"openai/clip-vit-base-patch32\")\n",
    "\n",
    "test_dataset = MultimodalDepressionDataset(test_data, os.path.join(img_path, \"test\"), tokenizer, image_processor, max_len=MAX_LEN)\n",
    "test_loader = DataLoader(\n",
    "    test_dataset,\n",
    "    batch_size=BATCH_SIZE,\n",
    "    shuffle=False,\n",
    "    collate_fn=custom_collate_fn\n",
    ")"
   ]
  },
  {
   "cell_type": "code",
   "execution_count": null,
   "metadata": {
    "execution": {
     "iopub.execute_input": "2025-04-13T13:38:11.240940Z",
     "iopub.status.busy": "2025-04-13T13:38:11.240606Z",
     "iopub.status.idle": "2025-04-13T20:35:03.962749Z",
     "shell.execute_reply": "2025-04-13T20:35:03.961868Z",
     "shell.execute_reply.started": "2025-04-13T13:38:11.240909Z"
    },
    "id": "sY4Uppqx3Sqt",
    "outputId": "b66546e2-c81f-491c-91b5-3a21b1316d7a",
    "trusted": true
   },
   "outputs": [
    {
     "name": "stdout",
     "output_type": "stream",
     "text": [
      "Train Set Size: 8722\n",
      "Validation Set Size: 359\n"
     ]
    },
    {
     "name": "stderr",
     "output_type": "stream",
     "text": [
      "Some weights of RobertaModel were not initialized from the model checkpoint at mental/mental-roberta-base and are newly initialized: ['pooler.dense.bias', 'pooler.dense.weight']\n",
      "You should probably TRAIN this model on a down-stream task to be able to use it for predictions and inference.\n"
     ]
    },
    {
     "name": "stdout",
     "output_type": "stream",
     "text": [
      "\n",
      "Epoch 1/30\n"
     ]
    },
    {
     "name": "stderr",
     "output_type": "stream",
     "text": [
      "Training: 100%|██████████| 546/546 [13:24<00:00,  1.47s/it]\n"
     ]
    },
    {
     "name": "stdout",
     "output_type": "stream",
     "text": [
      "Train Loss: 0.2677\n",
      "Train Macro-F1: 0.5511, Weighted-F1: 0.5836\n"
     ]
    },
    {
     "name": "stderr",
     "output_type": "stream",
     "text": [
      "Evaluating: 100%|██████████| 23/23 [00:14<00:00,  1.62it/s]\n"
     ]
    },
    {
     "name": "stdout",
     "output_type": "stream",
     "text": [
      "\n",
      "Per-class metrics:\n",
      "Lack of Interest: F1=0.3636, Precision=1.0000, Recall=0.2222\n",
      "Feeling Down: F1=0.6513, Precision=0.7434, Recall=0.5795\n",
      "Eating Disorder: F1=0.7955, Precision=0.8974, Recall=0.7143\n",
      "Sleeping Disorder: F1=0.7907, Precision=0.8293, Recall=0.7556\n",
      "Low Self-Esteem: F1=0.2330, Precision=0.6667, Recall=0.1412\n",
      "Concentration Problem: F1=0.7324, Precision=0.8966, Recall=0.6190\n",
      "Self-Harm: F1=0.4783, Precision=0.7097, Recall=0.3607\n",
      "Validation Loss: 0.3595\n",
      "Validation Macro-F1: 0.5778, Weighted-F1: 0.5702\n",
      "Best model saved!\n"
     ]
    },
    {
     "name": "stdout",
     "output_type": "stream",
     "text": [
      "\n",
      "Epoch 2/30\n"
     ]
    },
    {
     "name": "stderr",
     "output_type": "stream",
     "text": [
      "Training: 100%|██████████| 546/546 [13:23<00:00,  1.47s/it]\n"
     ]
    },
    {
     "name": "stdout",
     "output_type": "stream",
     "text": [
      "Train Loss: 0.1824\n",
      "Train Macro-F1: 0.7290, Weighted-F1: 0.7466\n"
     ]
    },
    {
     "name": "stderr",
     "output_type": "stream",
     "text": [
      "Evaluating: 100%|██████████| 23/23 [00:14<00:00,  1.59it/s]\n"
     ]
    },
    {
     "name": "stdout",
     "output_type": "stream",
     "text": [
      "\n",
      "Per-class metrics:\n",
      "Lack of Interest: F1=0.3333, Precision=0.6667, Recall=0.2222\n",
      "Feeling Down: F1=0.6569, Precision=0.7671, Recall=0.5744\n",
      "Eating Disorder: F1=0.7273, Precision=0.8205, Recall=0.6531\n",
      "Sleeping Disorder: F1=0.6842, Precision=0.8387, Recall=0.5778\n",
      "Low Self-Esteem: F1=0.0667, Precision=0.6000, Recall=0.0353\n",
      "Concentration Problem: F1=0.6857, Precision=0.8571, Recall=0.5714\n",
      "Self-Harm: F1=0.4792, Precision=0.6571, Recall=0.3770\n",
      "Validation Loss: 0.4033\n",
      "Validation Macro-F1: 0.5190, Weighted-F1: 0.5234\n"
     ]
    },
    {
     "name": "stdout",
     "output_type": "stream",
     "text": [
      "\n",
      "Epoch 3/30\n"
     ]
    },
    {
     "name": "stderr",
     "output_type": "stream",
     "text": [
      "Training: 100%|██████████| 546/546 [13:25<00:00,  1.47s/it]\n"
     ]
    },
    {
     "name": "stdout",
     "output_type": "stream",
     "text": [
      "Train Loss: 0.1417\n",
      "Train Macro-F1: 0.8003, Weighted-F1: 0.8165\n"
     ]
    },
    {
     "name": "stderr",
     "output_type": "stream",
     "text": [
      "Evaluating: 100%|██████████| 23/23 [00:13<00:00,  1.65it/s]\n"
     ]
    },
    {
     "name": "stdout",
     "output_type": "stream",
     "text": [
      "\n",
      "Per-class metrics:\n",
      "Lack of Interest: F1=0.3509, Precision=0.8333, Recall=0.2222\n",
      "Feeling Down: F1=0.6412, Precision=0.7517, Recall=0.5590\n",
      "Eating Disorder: F1=0.7959, Precision=0.7959, Recall=0.7959\n",
      "Sleeping Disorder: F1=0.5747, Precision=0.5952, Recall=0.5556\n",
      "Low Self-Esteem: F1=0.0860, Precision=0.5000, Recall=0.0471\n",
      "Concentration Problem: F1=0.7059, Precision=0.9231, Recall=0.5714\n",
      "Self-Harm: F1=0.5470, Precision=0.5714, Recall=0.5246\n",
      "Validation Loss: 0.4368\n",
      "Validation Macro-F1: 0.5288, Weighted-F1: 0.5287\n"
     ]
    },
    {
     "name": "stdout",
     "output_type": "stream",
     "text": [
      "\n",
      "Epoch 4/30\n"
     ]
    },
    {
     "name": "stderr",
     "output_type": "stream",
     "text": [
      "Training: 100%|██████████| 546/546 [13:23<00:00,  1.47s/it]\n"
     ]
    },
    {
     "name": "stdout",
     "output_type": "stream",
     "text": [
      "Train Loss: 0.1082\n",
      "Train Macro-F1: 0.8529, Weighted-F1: 0.8668\n"
     ]
    },
    {
     "name": "stderr",
     "output_type": "stream",
     "text": [
      "Evaluating: 100%|██████████| 23/23 [00:13<00:00,  1.68it/s]\n"
     ]
    },
    {
     "name": "stdout",
     "output_type": "stream",
     "text": [
      "\n",
      "Per-class metrics:\n",
      "Lack of Interest: F1=0.3667, Precision=0.7333, Recall=0.2444\n",
      "Feeling Down: F1=0.5849, Precision=0.7561, Recall=0.4769\n",
      "Eating Disorder: F1=0.8000, Precision=0.8261, Recall=0.7755\n",
      "Sleeping Disorder: F1=0.7765, Precision=0.8250, Recall=0.7333\n",
      "Low Self-Esteem: F1=0.3231, Precision=0.4667, Recall=0.2471\n",
      "Concentration Problem: F1=0.7042, Precision=0.8621, Recall=0.5952\n",
      "Self-Harm: F1=0.5763, Precision=0.5965, Recall=0.5574\n",
      "Validation Loss: 0.4573\n",
      "Validation Macro-F1: 0.5902, Weighted-F1: 0.5688\n",
      "Best model saved!\n"
     ]
    },
    {
     "name": "stdout",
     "output_type": "stream",
     "text": [
      "\n",
      "Epoch 5/30\n"
     ]
    },
    {
     "name": "stderr",
     "output_type": "stream",
     "text": [
      "Training: 100%|██████████| 546/546 [13:15<00:00,  1.46s/it]\n"
     ]
    },
    {
     "name": "stdout",
     "output_type": "stream",
     "text": [
      "Train Loss: 0.0825\n",
      "Train Macro-F1: 0.8974, Weighted-F1: 0.9056\n"
     ]
    },
    {
     "name": "stderr",
     "output_type": "stream",
     "text": [
      "Evaluating: 100%|██████████| 23/23 [00:13<00:00,  1.69it/s]\n"
     ]
    },
    {
     "name": "stdout",
     "output_type": "stream",
     "text": [
      "\n",
      "Per-class metrics:\n",
      "Lack of Interest: F1=0.3492, Precision=0.6111, Recall=0.2444\n",
      "Feeling Down: F1=0.6350, Precision=0.7535, Recall=0.5487\n",
      "Eating Disorder: F1=0.7423, Precision=0.7500, Recall=0.7347\n",
      "Sleeping Disorder: F1=0.6988, Precision=0.7632, Recall=0.6444\n",
      "Low Self-Esteem: F1=0.1887, Precision=0.4762, Recall=0.1176\n",
      "Concentration Problem: F1=0.7397, Precision=0.8710, Recall=0.6429\n",
      "Self-Harm: F1=0.5357, Precision=0.5882, Recall=0.4918\n",
      "Validation Loss: 0.5326\n",
      "Validation Macro-F1: 0.5556, Weighted-F1: 0.5501\n"
     ]
    },
    {
     "name": "stdout",
     "output_type": "stream",
     "text": [
      "\n",
      "Epoch 6/30\n"
     ]
    },
    {
     "name": "stderr",
     "output_type": "stream",
     "text": [
      "Training: 100%|██████████| 546/546 [13:16<00:00,  1.46s/it]\n"
     ]
    },
    {
     "name": "stdout",
     "output_type": "stream",
     "text": [
      "Train Loss: 0.0652\n",
      "Train Macro-F1: 0.9206, Weighted-F1: 0.9284\n"
     ]
    },
    {
     "name": "stderr",
     "output_type": "stream",
     "text": [
      "Evaluating: 100%|██████████| 23/23 [00:13<00:00,  1.68it/s]\n"
     ]
    },
    {
     "name": "stdout",
     "output_type": "stream",
     "text": [
      "\n",
      "Per-class metrics:\n",
      "Lack of Interest: F1=0.3438, Precision=0.5789, Recall=0.2444\n",
      "Feeling Down: F1=0.6319, Precision=0.7863, Recall=0.5282\n",
      "Eating Disorder: F1=0.7358, Precision=0.6842, Recall=0.7959\n",
      "Sleeping Disorder: F1=0.6535, Precision=0.5893, Recall=0.7333\n",
      "Low Self-Esteem: F1=0.1782, Precision=0.5625, Recall=0.1059\n",
      "Concentration Problem: F1=0.7179, Precision=0.7778, Recall=0.6667\n",
      "Self-Harm: F1=0.5051, Precision=0.6579, Recall=0.4098\n",
      "Validation Loss: 0.6097\n",
      "Validation Macro-F1: 0.5380, Weighted-F1: 0.5369\n"
     ]
    },
    {
     "name": "stdout",
     "output_type": "stream",
     "text": [
      "\n",
      "Epoch 7/30\n"
     ]
    },
    {
     "name": "stderr",
     "output_type": "stream",
     "text": [
      "Training: 100%|██████████| 546/546 [13:16<00:00,  1.46s/it]\n"
     ]
    },
    {
     "name": "stdout",
     "output_type": "stream",
     "text": [
      "Train Loss: 0.0505\n",
      "Train Macro-F1: 0.9427, Weighted-F1: 0.9458\n"
     ]
    },
    {
     "name": "stderr",
     "output_type": "stream",
     "text": [
      "Evaluating: 100%|██████████| 23/23 [00:13<00:00,  1.69it/s]\n"
     ]
    },
    {
     "name": "stdout",
     "output_type": "stream",
     "text": [
      "\n",
      "Per-class metrics:\n",
      "Lack of Interest: F1=0.3390, Precision=0.7143, Recall=0.2222\n",
      "Feeling Down: F1=0.5962, Precision=0.7949, Recall=0.4769\n",
      "Eating Disorder: F1=0.7647, Precision=0.7358, Recall=0.7959\n",
      "Sleeping Disorder: F1=0.6600, Precision=0.6000, Recall=0.7333\n",
      "Low Self-Esteem: F1=0.3065, Precision=0.4872, Recall=0.2235\n",
      "Concentration Problem: F1=0.7397, Precision=0.8710, Recall=0.6429\n",
      "Self-Harm: F1=0.5854, Precision=0.5806, Recall=0.5902\n",
      "Validation Loss: 0.6343\n",
      "Validation Macro-F1: 0.5702, Weighted-F1: 0.5584\n"
     ]
    },
    {
     "name": "stdout",
     "output_type": "stream",
     "text": [
      "\n",
      "Epoch 8/30\n"
     ]
    },
    {
     "name": "stderr",
     "output_type": "stream",
     "text": [
      "Training: 100%|██████████| 546/546 [13:20<00:00,  1.47s/it]\n"
     ]
    },
    {
     "name": "stdout",
     "output_type": "stream",
     "text": [
      "Train Loss: 0.0352\n",
      "Train Macro-F1: 0.9626, Weighted-F1: 0.9631\n"
     ]
    },
    {
     "name": "stderr",
     "output_type": "stream",
     "text": [
      "Evaluating: 100%|██████████| 23/23 [00:14<00:00,  1.63it/s]\n"
     ]
    },
    {
     "name": "stdout",
     "output_type": "stream",
     "text": [
      "\n",
      "Per-class metrics:\n",
      "Lack of Interest: F1=0.3125, Precision=0.5263, Recall=0.2222\n",
      "Feeling Down: F1=0.6310, Precision=0.7518, Recall=0.5436\n",
      "Eating Disorder: F1=0.7184, Precision=0.6852, Recall=0.7551\n",
      "Sleeping Disorder: F1=0.6897, Precision=0.7143, Recall=0.6667\n",
      "Low Self-Esteem: F1=0.3662, Precision=0.4561, Recall=0.3059\n",
      "Concentration Problem: F1=0.7297, Precision=0.8438, Recall=0.6429\n",
      "Self-Harm: F1=0.5524, Precision=0.6591, Recall=0.4754\n",
      "Validation Loss: 0.6062\n",
      "Validation Macro-F1: 0.5714, Weighted-F1: 0.5724\n"
     ]
    },
    {
     "name": "stdout",
     "output_type": "stream",
     "text": [
      "\n",
      "Epoch 9/30\n"
     ]
    },
    {
     "name": "stderr",
     "output_type": "stream",
     "text": [
      "Training: 100%|██████████| 546/546 [13:20<00:00,  1.47s/it]\n"
     ]
    },
    {
     "name": "stdout",
     "output_type": "stream",
     "text": [
      "Train Loss: 0.0264\n",
      "Train Macro-F1: 0.9744, Weighted-F1: 0.9748\n"
     ]
    },
    {
     "name": "stderr",
     "output_type": "stream",
     "text": [
      "Evaluating: 100%|██████████| 23/23 [00:13<00:00,  1.68it/s]\n"
     ]
    },
    {
     "name": "stdout",
     "output_type": "stream",
     "text": [
      "\n",
      "Per-class metrics:\n",
      "Lack of Interest: F1=0.3390, Precision=0.7143, Recall=0.2222\n",
      "Feeling Down: F1=0.6724, Precision=0.7564, Recall=0.6051\n",
      "Eating Disorder: F1=0.7708, Precision=0.7872, Recall=0.7551\n",
      "Sleeping Disorder: F1=0.6966, Precision=0.7045, Recall=0.6889\n",
      "Low Self-Esteem: F1=0.2393, Precision=0.4375, Recall=0.1647\n",
      "Concentration Problem: F1=0.7397, Precision=0.8710, Recall=0.6429\n",
      "Self-Harm: F1=0.5500, Precision=0.5593, Recall=0.5410\n",
      "Validation Loss: 0.6385\n",
      "Validation Macro-F1: 0.5726, Weighted-F1: 0.5756\n"
     ]
    },
    {
     "name": "stdout",
     "output_type": "stream",
     "text": [
      "\n",
      "Epoch 10/30\n"
     ]
    },
    {
     "name": "stderr",
     "output_type": "stream",
     "text": [
      "Training: 100%|██████████| 546/546 [13:18<00:00,  1.46s/it]\n"
     ]
    },
    {
     "name": "stdout",
     "output_type": "stream",
     "text": [
      "Train Loss: 0.0213\n",
      "Train Macro-F1: 0.9782, Weighted-F1: 0.9784\n"
     ]
    },
    {
     "name": "stderr",
     "output_type": "stream",
     "text": [
      "Evaluating: 100%|██████████| 23/23 [00:13<00:00,  1.65it/s]\n"
     ]
    },
    {
     "name": "stdout",
     "output_type": "stream",
     "text": [
      "\n",
      "Per-class metrics:\n",
      "Lack of Interest: F1=0.3226, Precision=0.5882, Recall=0.2222\n",
      "Feeling Down: F1=0.6724, Precision=0.7647, Recall=0.6000\n",
      "Eating Disorder: F1=0.7500, Precision=0.7091, Recall=0.7959\n",
      "Sleeping Disorder: F1=0.7381, Precision=0.7949, Recall=0.6889\n",
      "Low Self-Esteem: F1=0.2975, Precision=0.5000, Recall=0.2118\n",
      "Concentration Problem: F1=0.7397, Precision=0.8710, Recall=0.6429\n",
      "Self-Harm: F1=0.5455, Precision=0.6122, Recall=0.4918\n",
      "Validation Loss: 0.6774\n",
      "Validation Macro-F1: 0.5808, Weighted-F1: 0.5847\n"
     ]
    },
    {
     "name": "stdout",
     "output_type": "stream",
     "text": [
      "\n",
      "Epoch 11/30\n"
     ]
    },
    {
     "name": "stderr",
     "output_type": "stream",
     "text": [
      "Training: 100%|██████████| 546/546 [13:15<00:00,  1.46s/it]\n"
     ]
    },
    {
     "name": "stdout",
     "output_type": "stream",
     "text": [
      "Train Loss: 0.0156\n",
      "Train Macro-F1: 0.9862, Weighted-F1: 0.9851\n"
     ]
    },
    {
     "name": "stderr",
     "output_type": "stream",
     "text": [
      "Evaluating: 100%|██████████| 23/23 [00:13<00:00,  1.69it/s]\n"
     ]
    },
    {
     "name": "stdout",
     "output_type": "stream",
     "text": [
      "\n",
      "Per-class metrics:\n",
      "Lack of Interest: F1=0.3333, Precision=0.6667, Recall=0.2222\n",
      "Feeling Down: F1=0.6569, Precision=0.7671, Recall=0.5744\n",
      "Eating Disorder: F1=0.7800, Precision=0.7647, Recall=0.7959\n",
      "Sleeping Disorder: F1=0.7229, Precision=0.7895, Recall=0.6667\n",
      "Low Self-Esteem: F1=0.3051, Precision=0.5455, Recall=0.2118\n",
      "Concentration Problem: F1=0.7397, Precision=0.8710, Recall=0.6429\n",
      "Self-Harm: F1=0.5440, Precision=0.5312, Recall=0.5574\n",
      "Validation Loss: 0.7045\n",
      "Validation Macro-F1: 0.5831, Weighted-F1: 0.5824\n"
     ]
    },
    {
     "name": "stdout",
     "output_type": "stream",
     "text": [
      "\n",
      "Epoch 12/30\n"
     ]
    },
    {
     "name": "stderr",
     "output_type": "stream",
     "text": [
      "Training: 100%|██████████| 546/546 [13:20<00:00,  1.47s/it]\n"
     ]
    },
    {
     "name": "stdout",
     "output_type": "stream",
     "text": [
      "Train Loss: 0.0118\n",
      "Train Macro-F1: 0.9889, Weighted-F1: 0.9888\n"
     ]
    },
    {
     "name": "stderr",
     "output_type": "stream",
     "text": [
      "Evaluating: 100%|██████████| 23/23 [00:13<00:00,  1.66it/s]\n"
     ]
    },
    {
     "name": "stdout",
     "output_type": "stream",
     "text": [
      "\n",
      "Per-class metrics:\n",
      "Lack of Interest: F1=0.3279, Precision=0.6250, Recall=0.2222\n",
      "Feeling Down: F1=0.6627, Precision=0.7832, Recall=0.5744\n",
      "Eating Disorder: F1=0.7879, Precision=0.7800, Recall=0.7959\n",
      "Sleeping Disorder: F1=0.7312, Precision=0.7083, Recall=0.7556\n",
      "Low Self-Esteem: F1=0.2969, Precision=0.4419, Recall=0.2235\n",
      "Concentration Problem: F1=0.7297, Precision=0.8438, Recall=0.6429\n",
      "Self-Harm: F1=0.5546, Precision=0.5690, Recall=0.5410\n",
      "Validation Loss: 0.7264\n",
      "Validation Macro-F1: 0.5844, Weighted-F1: 0.5847\n"
     ]
    },
    {
     "name": "stdout",
     "output_type": "stream",
     "text": [
      "\n",
      "Epoch 13/30\n"
     ]
    },
    {
     "name": "stderr",
     "output_type": "stream",
     "text": [
      "Training: 100%|██████████| 546/546 [13:13<00:00,  1.45s/it]\n"
     ]
    },
    {
     "name": "stdout",
     "output_type": "stream",
     "text": [
      "Train Loss: 0.0099\n",
      "Train Macro-F1: 0.9908, Weighted-F1: 0.9906\n"
     ]
    },
    {
     "name": "stderr",
     "output_type": "stream",
     "text": [
      "Evaluating: 100%|██████████| 23/23 [00:14<00:00,  1.64it/s]\n"
     ]
    },
    {
     "name": "stdout",
     "output_type": "stream",
     "text": [
      "\n",
      "Per-class metrics:\n",
      "Lack of Interest: F1=0.3226, Precision=0.5882, Recall=0.2222\n",
      "Feeling Down: F1=0.6686, Precision=0.7632, Recall=0.5949\n",
      "Eating Disorder: F1=0.7647, Precision=0.7358, Recall=0.7959\n",
      "Sleeping Disorder: F1=0.7126, Precision=0.7381, Recall=0.6889\n",
      "Low Self-Esteem: F1=0.3115, Precision=0.5135, Recall=0.2235\n",
      "Concentration Problem: F1=0.7222, Precision=0.8667, Recall=0.6190\n",
      "Self-Harm: F1=0.5357, Precision=0.5882, Recall=0.4918\n",
      "Validation Loss: 0.7351\n",
      "Validation Macro-F1: 0.5768, Weighted-F1: 0.5822\n"
     ]
    },
    {
     "name": "stdout",
     "output_type": "stream",
     "text": [
      "\n",
      "Epoch 14/30\n"
     ]
    },
    {
     "name": "stderr",
     "output_type": "stream",
     "text": [
      "Training: 100%|██████████| 546/546 [13:17<00:00,  1.46s/it]\n"
     ]
    },
    {
     "name": "stdout",
     "output_type": "stream",
     "text": [
      "Train Loss: 0.0077\n",
      "Train Macro-F1: 0.9929, Weighted-F1: 0.9928\n"
     ]
    },
    {
     "name": "stderr",
     "output_type": "stream",
     "text": [
      "Evaluating: 100%|██████████| 23/23 [00:13<00:00,  1.68it/s]\n"
     ]
    },
    {
     "name": "stdout",
     "output_type": "stream",
     "text": [
      "\n",
      "Per-class metrics:\n",
      "Lack of Interest: F1=0.3175, Precision=0.5556, Recall=0.2222\n",
      "Feeling Down: F1=0.6528, Precision=0.7746, Recall=0.5641\n",
      "Eating Disorder: F1=0.7723, Precision=0.7500, Recall=0.7959\n",
      "Sleeping Disorder: F1=0.7333, Precision=0.7333, Recall=0.7333\n",
      "Low Self-Esteem: F1=0.2881, Precision=0.5152, Recall=0.2000\n",
      "Concentration Problem: F1=0.7297, Precision=0.8438, Recall=0.6429\n",
      "Self-Harm: F1=0.5333, Precision=0.5424, Recall=0.5246\n",
      "Validation Loss: 0.7703\n",
      "Validation Macro-F1: 0.5753, Weighted-F1: 0.5749\n"
     ]
    },
    {
     "name": "stdout",
     "output_type": "stream",
     "text": [
      "\n",
      "Epoch 15/30\n"
     ]
    },
    {
     "name": "stderr",
     "output_type": "stream",
     "text": [
      "Training: 100%|██████████| 546/546 [13:20<00:00,  1.47s/it]\n"
     ]
    },
    {
     "name": "stdout",
     "output_type": "stream",
     "text": [
      "Train Loss: 0.0073\n",
      "Train Macro-F1: 0.9923, Weighted-F1: 0.9921\n"
     ]
    },
    {
     "name": "stderr",
     "output_type": "stream",
     "text": [
      "Evaluating: 100%|██████████| 23/23 [00:14<00:00,  1.61it/s]\n"
     ]
    },
    {
     "name": "stdout",
     "output_type": "stream",
     "text": [
      "\n",
      "Per-class metrics:\n",
      "Lack of Interest: F1=0.3279, Precision=0.6250, Recall=0.2222\n",
      "Feeling Down: F1=0.6608, Precision=0.7687, Recall=0.5795\n",
      "Eating Disorder: F1=0.7500, Precision=0.7091, Recall=0.7959\n",
      "Sleeping Disorder: F1=0.7209, Precision=0.7561, Recall=0.6889\n",
      "Low Self-Esteem: F1=0.3089, Precision=0.5000, Recall=0.2235\n",
      "Concentration Problem: F1=0.7297, Precision=0.8438, Recall=0.6429\n",
      "Self-Harm: F1=0.5920, Precision=0.5781, Recall=0.6066\n",
      "Validation Loss: 0.7634\n",
      "Validation Macro-F1: 0.5843, Weighted-F1: 0.5859\n"
     ]
    },
    {
     "name": "stdout",
     "output_type": "stream",
     "text": [
      "\n",
      "Epoch 16/30\n"
     ]
    },
    {
     "name": "stderr",
     "output_type": "stream",
     "text": [
      "Training: 100%|██████████| 546/546 [13:16<00:00,  1.46s/it]\n"
     ]
    },
    {
     "name": "stdout",
     "output_type": "stream",
     "text": [
      "Train Loss: 0.0060\n",
      "Train Macro-F1: 0.9933, Weighted-F1: 0.9932\n"
     ]
    },
    {
     "name": "stderr",
     "output_type": "stream",
     "text": [
      "Evaluating: 100%|██████████| 23/23 [00:13<00:00,  1.67it/s]\n"
     ]
    },
    {
     "name": "stdout",
     "output_type": "stream",
     "text": [
      "\n",
      "Per-class metrics:\n",
      "Lack of Interest: F1=0.3279, Precision=0.6250, Recall=0.2222\n",
      "Feeling Down: F1=0.6629, Precision=0.7484, Recall=0.5949\n",
      "Eating Disorder: F1=0.7573, Precision=0.7222, Recall=0.7959\n",
      "Sleeping Disorder: F1=0.7059, Precision=0.7500, Recall=0.6667\n",
      "Low Self-Esteem: F1=0.3636, Precision=0.5106, Recall=0.2824\n",
      "Concentration Problem: F1=0.7397, Precision=0.8710, Recall=0.6429\n",
      "Self-Harm: F1=0.5517, Precision=0.5818, Recall=0.5246\n",
      "Validation Loss: 0.7594\n",
      "Validation Macro-F1: 0.5870, Weighted-F1: 0.5910\n"
     ]
    },
    {
     "name": "stdout",
     "output_type": "stream",
     "text": [
      "\n",
      "Epoch 17/30\n"
     ]
    },
    {
     "name": "stderr",
     "output_type": "stream",
     "text": [
      "Training: 100%|██████████| 546/546 [13:17<00:00,  1.46s/it]\n"
     ]
    },
    {
     "name": "stdout",
     "output_type": "stream",
     "text": [
      "Train Loss: 0.0050\n",
      "Train Macro-F1: 0.9942, Weighted-F1: 0.9943\n"
     ]
    },
    {
     "name": "stderr",
     "output_type": "stream",
     "text": [
      "Evaluating: 100%|██████████| 23/23 [00:14<00:00,  1.64it/s]\n"
     ]
    },
    {
     "name": "stdout",
     "output_type": "stream",
     "text": [
      "\n",
      "Per-class metrics:\n",
      "Lack of Interest: F1=0.3279, Precision=0.6250, Recall=0.2222\n",
      "Feeling Down: F1=0.6706, Precision=0.7770, Recall=0.5897\n",
      "Eating Disorder: F1=0.7500, Precision=0.7091, Recall=0.7959\n",
      "Sleeping Disorder: F1=0.7273, Precision=0.7442, Recall=0.7111\n",
      "Low Self-Esteem: F1=0.3065, Precision=0.4872, Recall=0.2235\n",
      "Concentration Problem: F1=0.7397, Precision=0.8710, Recall=0.6429\n",
      "Self-Harm: F1=0.5517, Precision=0.5818, Recall=0.5246\n",
      "Validation Loss: 0.7773\n",
      "Validation Macro-F1: 0.5819, Weighted-F1: 0.5857\n"
     ]
    },
    {
     "name": "stdout",
     "output_type": "stream",
     "text": [
      "\n",
      "Epoch 18/30\n"
     ]
    },
    {
     "name": "stderr",
     "output_type": "stream",
     "text": [
      "Training: 100%|██████████| 546/546 [13:16<00:00,  1.46s/it]\n"
     ]
    },
    {
     "name": "stdout",
     "output_type": "stream",
     "text": [
      "Train Loss: 0.0051\n",
      "Train Macro-F1: 0.9946, Weighted-F1: 0.9945\n"
     ]
    },
    {
     "name": "stderr",
     "output_type": "stream",
     "text": [
      "Evaluating: 100%|██████████| 23/23 [00:13<00:00,  1.69it/s]\n"
     ]
    },
    {
     "name": "stdout",
     "output_type": "stream",
     "text": [
      "\n",
      "Per-class metrics:\n",
      "Lack of Interest: F1=0.3333, Precision=0.6667, Recall=0.2222\n",
      "Feeling Down: F1=0.6686, Precision=0.7718, Recall=0.5897\n",
      "Eating Disorder: F1=0.7500, Precision=0.7091, Recall=0.7959\n",
      "Sleeping Disorder: F1=0.7391, Precision=0.7234, Recall=0.7556\n",
      "Low Self-Esteem: F1=0.3089, Precision=0.5000, Recall=0.2235\n",
      "Concentration Problem: F1=0.7397, Precision=0.8710, Recall=0.6429\n",
      "Self-Harm: F1=0.5614, Precision=0.6038, Recall=0.5246\n",
      "Validation Loss: 0.7784\n",
      "Validation Macro-F1: 0.5859, Weighted-F1: 0.5881\n"
     ]
    },
    {
     "name": "stdout",
     "output_type": "stream",
     "text": [
      "\n",
      "Epoch 19/30\n"
     ]
    },
    {
     "name": "stderr",
     "output_type": "stream",
     "text": [
      "Training: 100%|██████████| 546/546 [13:17<00:00,  1.46s/it]\n"
     ]
    },
    {
     "name": "stdout",
     "output_type": "stream",
     "text": [
      "Train Loss: 0.0048\n",
      "Train Macro-F1: 0.9954, Weighted-F1: 0.9952\n"
     ]
    },
    {
     "name": "stderr",
     "output_type": "stream",
     "text": [
      "Evaluating: 100%|██████████| 23/23 [00:13<00:00,  1.68it/s]\n"
     ]
    },
    {
     "name": "stdout",
     "output_type": "stream",
     "text": [
      "\n",
      "Per-class metrics:\n",
      "Lack of Interest: F1=0.3333, Precision=0.6667, Recall=0.2222\n",
      "Feeling Down: F1=0.6529, Precision=0.7655, Recall=0.5692\n",
      "Eating Disorder: F1=0.7429, Precision=0.6964, Recall=0.7959\n",
      "Sleeping Disorder: F1=0.7253, Precision=0.7174, Recall=0.7333\n",
      "Low Self-Esteem: F1=0.3256, Precision=0.4773, Recall=0.2471\n",
      "Concentration Problem: F1=0.7200, Precision=0.8182, Recall=0.6429\n",
      "Self-Harm: F1=0.5424, Precision=0.5614, Recall=0.5246\n",
      "Validation Loss: 0.7914\n",
      "Validation Macro-F1: 0.5775, Weighted-F1: 0.5792\n"
     ]
    },
    {
     "name": "stdout",
     "output_type": "stream",
     "text": [
      "\n",
      "Epoch 20/30\n"
     ]
    },
    {
     "name": "stderr",
     "output_type": "stream",
     "text": [
      "Training: 100%|██████████| 546/546 [13:25<00:00,  1.47s/it]\n"
     ]
    },
    {
     "name": "stdout",
     "output_type": "stream",
     "text": [
      "Train Loss: 0.0042\n",
      "Train Macro-F1: 0.9958, Weighted-F1: 0.9956\n"
     ]
    },
    {
     "name": "stderr",
     "output_type": "stream",
     "text": [
      "Evaluating: 100%|██████████| 23/23 [00:13<00:00,  1.65it/s]\n"
     ]
    },
    {
     "name": "stdout",
     "output_type": "stream",
     "text": [
      "\n",
      "Per-class metrics:\n",
      "Lack of Interest: F1=0.3333, Precision=0.6667, Recall=0.2222\n",
      "Feeling Down: F1=0.6608, Precision=0.7778, Recall=0.5744\n",
      "Eating Disorder: F1=0.7647, Precision=0.7358, Recall=0.7959\n",
      "Sleeping Disorder: F1=0.7191, Precision=0.7273, Recall=0.7111\n",
      "Low Self-Esteem: F1=0.3175, Precision=0.4878, Recall=0.2353\n",
      "Concentration Problem: F1=0.7297, Precision=0.8438, Recall=0.6429\n",
      "Self-Harm: F1=0.5667, Precision=0.5763, Recall=0.5574\n",
      "Validation Loss: 0.7914\n",
      "Validation Macro-F1: 0.5845, Weighted-F1: 0.5860\n"
     ]
    },
    {
     "name": "stdout",
     "output_type": "stream",
     "text": [
      "\n",
      "Epoch 21/30\n"
     ]
    },
    {
     "name": "stderr",
     "output_type": "stream",
     "text": [
      "Training: 100%|██████████| 546/546 [13:18<00:00,  1.46s/it]\n"
     ]
    },
    {
     "name": "stdout",
     "output_type": "stream",
     "text": [
      "Train Loss: 0.0043\n",
      "Train Macro-F1: 0.9951, Weighted-F1: 0.9951\n"
     ]
    },
    {
     "name": "stderr",
     "output_type": "stream",
     "text": [
      "Evaluating: 100%|██████████| 23/23 [00:13<00:00,  1.68it/s]\n"
     ]
    },
    {
     "name": "stdout",
     "output_type": "stream",
     "text": [
      "\n",
      "Per-class metrics:\n",
      "Lack of Interest: F1=0.3333, Precision=0.6667, Recall=0.2222\n",
      "Feeling Down: F1=0.6686, Precision=0.7718, Recall=0.5897\n",
      "Eating Disorder: F1=0.7573, Precision=0.7222, Recall=0.7959\n",
      "Sleeping Disorder: F1=0.7191, Precision=0.7273, Recall=0.7111\n",
      "Low Self-Esteem: F1=0.3150, Precision=0.4762, Recall=0.2353\n",
      "Concentration Problem: F1=0.7297, Precision=0.8438, Recall=0.6429\n",
      "Self-Harm: F1=0.5424, Precision=0.5614, Recall=0.5246\n",
      "Validation Loss: 0.7937\n",
      "Validation Macro-F1: 0.5808, Weighted-F1: 0.5850\n"
     ]
    },
    {
     "name": "stdout",
     "output_type": "stream",
     "text": [
      "\n",
      "Epoch 22/30\n"
     ]
    },
    {
     "name": "stderr",
     "output_type": "stream",
     "text": [
      "Training: 100%|██████████| 546/546 [13:20<00:00,  1.47s/it]\n"
     ]
    },
    {
     "name": "stdout",
     "output_type": "stream",
     "text": [
      "Train Loss: 0.0039\n",
      "Train Macro-F1: 0.9951, Weighted-F1: 0.9951\n"
     ]
    },
    {
     "name": "stderr",
     "output_type": "stream",
     "text": [
      "Evaluating: 100%|██████████| 23/23 [00:14<00:00,  1.64it/s]\n"
     ]
    },
    {
     "name": "stdout",
     "output_type": "stream",
     "text": [
      "\n",
      "Per-class metrics:\n",
      "Lack of Interest: F1=0.3279, Precision=0.6250, Recall=0.2222\n",
      "Feeling Down: F1=0.6725, Precision=0.7733, Recall=0.5949\n",
      "Eating Disorder: F1=0.7500, Precision=0.7091, Recall=0.7959\n",
      "Sleeping Disorder: F1=0.7253, Precision=0.7174, Recall=0.7333\n",
      "Low Self-Esteem: F1=0.3040, Precision=0.4750, Recall=0.2235\n",
      "Concentration Problem: F1=0.7297, Precision=0.8438, Recall=0.6429\n",
      "Self-Harm: F1=0.5424, Precision=0.5614, Recall=0.5246\n",
      "Validation Loss: 0.8015\n",
      "Validation Macro-F1: 0.5788, Weighted-F1: 0.5840\n"
     ]
    },
    {
     "name": "stdout",
     "output_type": "stream",
     "text": [
      "\n",
      "Epoch 23/30\n"
     ]
    },
    {
     "name": "stderr",
     "output_type": "stream",
     "text": [
      "Training: 100%|██████████| 546/546 [13:20<00:00,  1.47s/it]\n"
     ]
    },
    {
     "name": "stdout",
     "output_type": "stream",
     "text": [
      "Train Loss: 0.0038\n",
      "Train Macro-F1: 0.9965, Weighted-F1: 0.9961\n"
     ]
    },
    {
     "name": "stderr",
     "output_type": "stream",
     "text": [
      "Evaluating: 100%|██████████| 23/23 [00:13<00:00,  1.66it/s]\n"
     ]
    },
    {
     "name": "stdout",
     "output_type": "stream",
     "text": [
      "\n",
      "Per-class metrics:\n",
      "Lack of Interest: F1=0.3279, Precision=0.6250, Recall=0.2222\n",
      "Feeling Down: F1=0.6686, Precision=0.7718, Recall=0.5897\n",
      "Eating Disorder: F1=0.7500, Precision=0.7091, Recall=0.7959\n",
      "Sleeping Disorder: F1=0.7033, Precision=0.6957, Recall=0.7111\n",
      "Low Self-Esteem: F1=0.3040, Precision=0.4750, Recall=0.2235\n",
      "Concentration Problem: F1=0.7200, Precision=0.8182, Recall=0.6429\n",
      "Self-Harm: F1=0.5470, Precision=0.5714, Recall=0.5246\n",
      "Validation Loss: 0.8062\n",
      "Validation Macro-F1: 0.5744, Weighted-F1: 0.5804\n"
     ]
    },
    {
     "name": "stdout",
     "output_type": "stream",
     "text": [
      "\n",
      "Epoch 24/30\n"
     ]
    },
    {
     "name": "stderr",
     "output_type": "stream",
     "text": [
      "Training: 100%|██████████| 546/546 [13:15<00:00,  1.46s/it]\n"
     ]
    },
    {
     "name": "stdout",
     "output_type": "stream",
     "text": [
      "Train Loss: 0.0040\n",
      "Train Macro-F1: 0.9956, Weighted-F1: 0.9951\n"
     ]
    },
    {
     "name": "stderr",
     "output_type": "stream",
     "text": [
      "Evaluating: 100%|██████████| 23/23 [00:13<00:00,  1.66it/s]\n"
     ]
    },
    {
     "name": "stdout",
     "output_type": "stream",
     "text": [
      "\n",
      "Per-class metrics:\n",
      "Lack of Interest: F1=0.3279, Precision=0.6250, Recall=0.2222\n",
      "Feeling Down: F1=0.6628, Precision=0.7740, Recall=0.5795\n",
      "Eating Disorder: F1=0.7500, Precision=0.7091, Recall=0.7959\n",
      "Sleeping Disorder: F1=0.7033, Precision=0.6957, Recall=0.7111\n",
      "Low Self-Esteem: F1=0.3016, Precision=0.4634, Recall=0.2235\n",
      "Concentration Problem: F1=0.7297, Precision=0.8438, Recall=0.6429\n",
      "Self-Harm: F1=0.5424, Precision=0.5614, Recall=0.5246\n",
      "Validation Loss: 0.8084\n",
      "Validation Macro-F1: 0.5739, Weighted-F1: 0.5781\n"
     ]
    },
    {
     "name": "stdout",
     "output_type": "stream",
     "text": [
      "\n",
      "Epoch 25/30\n"
     ]
    },
    {
     "name": "stderr",
     "output_type": "stream",
     "text": [
      "Training: 100%|██████████| 546/546 [13:16<00:00,  1.46s/it]\n"
     ]
    },
    {
     "name": "stdout",
     "output_type": "stream",
     "text": [
      "Train Loss: 0.0038\n",
      "Train Macro-F1: 0.9958, Weighted-F1: 0.9955\n"
     ]
    },
    {
     "name": "stderr",
     "output_type": "stream",
     "text": [
      "Evaluating: 100%|██████████| 23/23 [00:13<00:00,  1.68it/s]\n"
     ]
    },
    {
     "name": "stdout",
     "output_type": "stream",
     "text": [
      "\n",
      "Per-class metrics:\n",
      "Lack of Interest: F1=0.3279, Precision=0.6250, Recall=0.2222\n",
      "Feeling Down: F1=0.6725, Precision=0.7733, Recall=0.5949\n",
      "Eating Disorder: F1=0.7500, Precision=0.7091, Recall=0.7959\n",
      "Sleeping Disorder: F1=0.7174, Precision=0.7021, Recall=0.7333\n",
      "Low Self-Esteem: F1=0.2927, Precision=0.4737, Recall=0.2118\n",
      "Concentration Problem: F1=0.7200, Precision=0.8182, Recall=0.6429\n",
      "Self-Harm: F1=0.5470, Precision=0.5714, Recall=0.5246\n",
      "Validation Loss: 0.8091\n",
      "Validation Macro-F1: 0.5753, Weighted-F1: 0.5812\n"
     ]
    },
    {
     "name": "stdout",
     "output_type": "stream",
     "text": [
      "\n",
      "Epoch 26/30\n"
     ]
    },
    {
     "name": "stderr",
     "output_type": "stream",
     "text": [
      "Training: 100%|██████████| 546/546 [13:21<00:00,  1.47s/it]\n"
     ]
    },
    {
     "name": "stdout",
     "output_type": "stream",
     "text": [
      "Train Loss: 0.0036\n",
      "Train Macro-F1: 0.9958, Weighted-F1: 0.9959\n"
     ]
    },
    {
     "name": "stderr",
     "output_type": "stream",
     "text": [
      "Evaluating: 100%|██████████| 23/23 [00:13<00:00,  1.66it/s]\n"
     ]
    },
    {
     "name": "stdout",
     "output_type": "stream",
     "text": [
      "\n",
      "Per-class metrics:\n",
      "Lack of Interest: F1=0.3279, Precision=0.6250, Recall=0.2222\n",
      "Feeling Down: F1=0.6647, Precision=0.7703, Recall=0.5846\n",
      "Eating Disorder: F1=0.7500, Precision=0.7091, Recall=0.7959\n",
      "Sleeping Disorder: F1=0.7174, Precision=0.7021, Recall=0.7333\n",
      "Low Self-Esteem: F1=0.2975, Precision=0.5000, Recall=0.2118\n",
      "Concentration Problem: F1=0.7200, Precision=0.8182, Recall=0.6429\n",
      "Self-Harm: F1=0.5470, Precision=0.5714, Recall=0.5246\n",
      "Validation Loss: 0.8149\n",
      "Validation Macro-F1: 0.5749, Weighted-F1: 0.5791\n"
     ]
    },
    {
     "name": "stdout",
     "output_type": "stream",
     "text": [
      "\n",
      "Epoch 27/30\n"
     ]
    },
    {
     "name": "stderr",
     "output_type": "stream",
     "text": [
      "Training: 100%|██████████| 546/546 [13:20<00:00,  1.47s/it]\n"
     ]
    },
    {
     "name": "stdout",
     "output_type": "stream",
     "text": [
      "Train Loss: 0.0034\n",
      "Train Macro-F1: 0.9963, Weighted-F1: 0.9962\n"
     ]
    },
    {
     "name": "stderr",
     "output_type": "stream",
     "text": [
      "Evaluating: 100%|██████████| 23/23 [00:13<00:00,  1.66it/s]\n"
     ]
    },
    {
     "name": "stdout",
     "output_type": "stream",
     "text": [
      "\n",
      "Per-class metrics:\n",
      "Lack of Interest: F1=0.3279, Precision=0.6250, Recall=0.2222\n",
      "Feeling Down: F1=0.6647, Precision=0.7793, Recall=0.5795\n",
      "Eating Disorder: F1=0.7500, Precision=0.7091, Recall=0.7959\n",
      "Sleeping Disorder: F1=0.7174, Precision=0.7021, Recall=0.7333\n",
      "Low Self-Esteem: F1=0.2927, Precision=0.4737, Recall=0.2118\n",
      "Concentration Problem: F1=0.7200, Precision=0.8182, Recall=0.6429\n",
      "Self-Harm: F1=0.5470, Precision=0.5714, Recall=0.5246\n",
      "Validation Loss: 0.8175\n",
      "Validation Macro-F1: 0.5742, Weighted-F1: 0.5783\n"
     ]
    },
    {
     "name": "stdout",
     "output_type": "stream",
     "text": [
      "\n",
      "Epoch 28/30\n"
     ]
    },
    {
     "name": "stderr",
     "output_type": "stream",
     "text": [
      "Training: 100%|██████████| 546/546 [13:15<00:00,  1.46s/it]\n"
     ]
    },
    {
     "name": "stdout",
     "output_type": "stream",
     "text": [
      "Train Loss: 0.0038\n",
      "Train Macro-F1: 0.9958, Weighted-F1: 0.9958\n"
     ]
    },
    {
     "name": "stderr",
     "output_type": "stream",
     "text": [
      "Evaluating: 100%|██████████| 23/23 [00:13<00:00,  1.68it/s]\n"
     ]
    },
    {
     "name": "stdout",
     "output_type": "stream",
     "text": [
      "\n",
      "Per-class metrics:\n",
      "Lack of Interest: F1=0.3279, Precision=0.6250, Recall=0.2222\n",
      "Feeling Down: F1=0.6686, Precision=0.7808, Recall=0.5846\n",
      "Eating Disorder: F1=0.7500, Precision=0.7091, Recall=0.7959\n",
      "Sleeping Disorder: F1=0.7174, Precision=0.7021, Recall=0.7333\n",
      "Low Self-Esteem: F1=0.2951, Precision=0.4865, Recall=0.2118\n",
      "Concentration Problem: F1=0.7200, Precision=0.8182, Recall=0.6429\n",
      "Self-Harm: F1=0.5424, Precision=0.5614, Recall=0.5246\n",
      "Validation Loss: 0.8181\n",
      "Validation Macro-F1: 0.5745, Weighted-F1: 0.5796\n"
     ]
    },
    {
     "name": "stdout",
     "output_type": "stream",
     "text": [
      "\n",
      "Epoch 29/30\n"
     ]
    },
    {
     "name": "stderr",
     "output_type": "stream",
     "text": [
      "Training: 100%|██████████| 546/546 [13:13<00:00,  1.45s/it]\n"
     ]
    },
    {
     "name": "stdout",
     "output_type": "stream",
     "text": [
      "Train Loss: 0.0035\n",
      "Train Macro-F1: 0.9961, Weighted-F1: 0.9962\n"
     ]
    },
    {
     "name": "stderr",
     "output_type": "stream",
     "text": [
      "Evaluating: 100%|██████████| 23/23 [00:13<00:00,  1.68it/s]\n"
     ]
    },
    {
     "name": "stdout",
     "output_type": "stream",
     "text": [
      "\n",
      "Per-class metrics:\n",
      "Lack of Interest: F1=0.3279, Precision=0.6250, Recall=0.2222\n",
      "Feeling Down: F1=0.6667, Precision=0.7755, Recall=0.5846\n",
      "Eating Disorder: F1=0.7500, Precision=0.7091, Recall=0.7959\n",
      "Sleeping Disorder: F1=0.7033, Precision=0.6957, Recall=0.7111\n",
      "Low Self-Esteem: F1=0.2903, Precision=0.4615, Recall=0.2118\n",
      "Concentration Problem: F1=0.7200, Precision=0.8182, Recall=0.6429\n",
      "Self-Harm: F1=0.5424, Precision=0.5614, Recall=0.5246\n",
      "Validation Loss: 0.8156\n",
      "Validation Macro-F1: 0.5715, Weighted-F1: 0.5769\n"
     ]
    },
    {
     "name": "stdout",
     "output_type": "stream",
     "text": [
      "\n",
      "Epoch 30/30\n"
     ]
    },
    {
     "name": "stderr",
     "output_type": "stream",
     "text": [
      "Training: 100%|██████████| 546/546 [13:13<00:00,  1.45s/it]\n"
     ]
    },
    {
     "name": "stdout",
     "output_type": "stream",
     "text": [
      "Train Loss: 0.0035\n",
      "Train Macro-F1: 0.9963, Weighted-F1: 0.9960\n"
     ]
    },
    {
     "name": "stderr",
     "output_type": "stream",
     "text": [
      "Evaluating: 100%|██████████| 23/23 [00:13<00:00,  1.68it/s]\n"
     ]
    },
    {
     "name": "stdout",
     "output_type": "stream",
     "text": [
      "\n",
      "Per-class metrics:\n",
      "Lack of Interest: F1=0.3279, Precision=0.6250, Recall=0.2222\n",
      "Feeling Down: F1=0.6667, Precision=0.7755, Recall=0.5846\n",
      "Eating Disorder: F1=0.7500, Precision=0.7091, Recall=0.7959\n",
      "Sleeping Disorder: F1=0.7174, Precision=0.7021, Recall=0.7333\n",
      "Low Self-Esteem: F1=0.2903, Precision=0.4615, Recall=0.2118\n",
      "Concentration Problem: F1=0.7200, Precision=0.8182, Recall=0.6429\n",
      "Self-Harm: F1=0.5424, Precision=0.5614, Recall=0.5246\n",
      "Validation Loss: 0.8175\n",
      "Validation Macro-F1: 0.5735, Weighted-F1: 0.5781\n"
     ]
    }
   ],
   "source": [
    "model = MultimodalAttentionModel(\n",
    "    text_model_name=\"mental/mental-roberta-base\",\n",
    "    num_classes=NUM_CLASSES,\n",
    "    fusion_dim=FUSION_DIM\n",
    ")\n",
    "\n",
    "trained_model = train_multimodal_model(\n",
    "    model,\n",
    "    train_data,\n",
    "    val_data,\n",
    "    img_path,\n",
    "    epochs=30,\n",
    "    model_save_name=\"no_contrastive\"\n",
    ")"
   ]
  },
  {
   "cell_type": "markdown",
   "metadata": {},
   "source": [
    "## Inference"
   ]
  },
  {
   "cell_type": "code",
   "execution_count": 11,
   "metadata": {
    "execution": {
     "iopub.execute_input": "2025-04-14T23:32:52.031213Z",
     "iopub.status.busy": "2025-04-14T23:32:52.030515Z",
     "iopub.status.idle": "2025-04-14T23:33:12.868952Z",
     "shell.execute_reply": "2025-04-14T23:33:12.868255Z",
     "shell.execute_reply.started": "2025-04-14T23:32:52.031188Z"
    },
    "id": "i5p_0clV3Squ",
    "trusted": true
   },
   "outputs": [
    {
     "name": "stdout",
     "output_type": "stream",
     "text": [
      "Downloading...\n",
      "From (original): https://drive.google.com/uc?id=1bjnRsr_3dh-8RNJ2CvunWTxuzZMVZH5c\n",
      "From (redirected): https://drive.google.com/uc?id=1bjnRsr_3dh-8RNJ2CvunWTxuzZMVZH5c&confirm=t&uuid=77b628fa-aaa5-4db5-a617-7c8e858cd626\n",
      "To: /kaggle/working/no_contrastive_depression.pth\n",
      "100%|██████████████████████████████████████| 1.04G/1.04G [00:16<00:00, 63.8MB/s]\n"
     ]
    }
   ],
   "source": [
    "!gdown 1bjnRsr_3dh-8RNJ2CvunWTxuzZMVZH5c"
   ]
  },
  {
   "cell_type": "code",
   "execution_count": 14,
   "metadata": {
    "execution": {
     "iopub.execute_input": "2025-04-14T23:34:34.856314Z",
     "iopub.status.busy": "2025-04-14T23:34:34.855706Z",
     "iopub.status.idle": "2025-04-14T23:34:34.861977Z",
     "shell.execute_reply": "2025-04-14T23:34:34.861390Z",
     "shell.execute_reply.started": "2025-04-14T23:34:34.856288Z"
    },
    "trusted": true
   },
   "outputs": [],
   "source": [
    "def inference(test_data, model_path):\n",
    "    model = MultimodalAttentionModel(\n",
    "        text_model_name=\"mental/mental-roberta-base\",\n",
    "        num_classes=NUM_CLASSES,\n",
    "        fusion_dim=FUSION_DIM\n",
    "    )\n",
    "    \n",
    "    model = model.to(DEVICE)\n",
    "\n",
    "    weights = torch.load(model_path, map_location=DEVICE, weights_only=True)\n",
    "    weights_single = {k.replace(\"module.\", \"\"): v for k, v in weights.items()}\n",
    "\n",
    "    model.load_state_dict(weights_single)\n",
    "    tokenizer = AutoTokenizer.from_pretrained(\"mental/mental-roberta-base\")\n",
    "    image_processor = CLIPImageProcessor.from_pretrained(\"openai/clip-vit-base-patch32\")\n",
    "\n",
    "    test_dataset = MultimodalDepressionDataset(test_data, os.path.join(img_path, \"test\"), tokenizer, image_processor, max_len=MAX_LEN)\n",
    "    test_loader = DataLoader(\n",
    "        test_dataset,\n",
    "        batch_size=BATCH_SIZE,\n",
    "        shuffle=False,\n",
    "        collate_fn=custom_collate_fn\n",
    "    )\n",
    "\n",
    "    loss, metrics = evaluate_multimodal_model(\n",
    "        model, test_loader, nn.BCEWithLogitsLoss()\n",
    "    )\n",
    "\n",
    "    print(f\"Test Loss: {loss:.4f}\")\n",
    "    print(f\"Test Macro-F1: {metrics['macro_f1']:.4f}, Weighted-F1: {metrics['weighted_f1']:.4f}\")"
   ]
  },
  {
   "cell_type": "code",
   "execution_count": 15,
   "metadata": {
    "execution": {
     "iopub.execute_input": "2025-04-14T23:34:35.111459Z",
     "iopub.status.busy": "2025-04-14T23:34:35.111241Z",
     "iopub.status.idle": "2025-04-14T23:35:00.583634Z",
     "shell.execute_reply": "2025-04-14T23:35:00.582999Z",
     "shell.execute_reply.started": "2025-04-14T23:34:35.111443Z"
    },
    "trusted": true
   },
   "outputs": [
    {
     "name": "stderr",
     "output_type": "stream",
     "text": [
      "Some weights of RobertaModel were not initialized from the model checkpoint at mental/mental-roberta-base and are newly initialized: ['pooler.dense.bias', 'pooler.dense.weight']\n",
      "You should probably TRAIN this model on a down-stream task to be able to use it for predictions and inference.\n",
      "Evaluating: 100%|██████████| 33/33 [00:22<00:00,  1.44it/s]"
     ]
    },
    {
     "name": "stdout",
     "output_type": "stream",
     "text": [
      "\n",
      "Per-class metrics:\n",
      "Lack of Interest: F1=0.4800, Precision=0.8276, Recall=0.3380\n",
      "Feeling Down: F1=0.6667, Precision=0.8451, Recall=0.5505\n",
      "Eating Disorder: F1=0.8000, Precision=0.8182, Recall=0.7826\n",
      "Sleeping Disorder: F1=0.7586, Precision=0.8333, Recall=0.6962\n",
      "Low Self-Esteem: F1=0.3699, Precision=0.5424, Recall=0.2807\n",
      "Concentration Problem: F1=0.8036, Precision=0.9783, Recall=0.6818\n",
      "Self-Harm: F1=0.6391, Precision=0.6136, Recall=0.6667\n",
      "Test Loss: 0.3889\n",
      "Test Macro-F1: 0.6454, Weighted-F1: 0.6379\n"
     ]
    },
    {
     "name": "stderr",
     "output_type": "stream",
     "text": [
      "\n"
     ]
    }
   ],
   "source": [
    "inference(test_data, \"no_contrastive_depression.pth\")"
   ]
  },
  {
   "cell_type": "code",
   "execution_count": null,
   "metadata": {
    "trusted": true
   },
   "outputs": [],
   "source": []
  }
 ],
 "metadata": {
  "colab": {
   "name": "depression-ablation-without-contrastive_learning",
   "provenance": []
  },
  "kaggle": {
   "accelerator": "nvidiaTeslaT4",
   "dataSources": [],
   "dockerImageVersionId": 31011,
   "isGpuEnabled": true,
   "isInternetEnabled": true,
   "language": "python",
   "sourceType": "notebook"
  },
  "kernelspec": {
   "display_name": "Python 3",
   "language": "python",
   "name": "python3"
  },
  "language_info": {
   "codemirror_mode": {
    "name": "ipython",
    "version": 3
   },
   "file_extension": ".py",
   "mimetype": "text/x-python",
   "name": "python",
   "nbconvert_exporter": "python",
   "pygments_lexer": "ipython3",
   "version": "3.11.11"
  }
 },
 "nbformat": 4,
 "nbformat_minor": 4
}
