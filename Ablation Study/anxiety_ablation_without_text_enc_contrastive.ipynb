{
 "cells": [
  {
   "cell_type": "markdown",
   "metadata": {},
   "source": [
    "## Dataset Download"
   ]
  },
  {
   "cell_type": "code",
   "execution_count": null,
   "metadata": {
    "execution": {
     "iopub.execute_input": "2025-04-13T10:22:47.045686Z",
     "iopub.status.busy": "2025-04-13T10:22:47.04551Z",
     "iopub.status.idle": "2025-04-13T10:23:08.851323Z",
     "shell.execute_reply": "2025-04-13T10:23:08.850558Z",
     "shell.execute_reply.started": "2025-04-13T10:22:47.04567Z"
    },
    "id": "5F8E3YUehB2S",
    "outputId": "c04f22c9-e02b-4a40-e5d7-7dd28a73deaa",
    "trusted": true
   },
   "outputs": [
    {
     "name": "stdout",
     "output_type": "stream",
     "text": [
      "Downloading...\n",
      "From (original): https://drive.google.com/uc?id=1doU9FE1tJ-0IL4tKZUOOp76JkXKuTkFU\n",
      "From (redirected): https://drive.google.com/uc?id=1doU9FE1tJ-0IL4tKZUOOp76JkXKuTkFU&confirm=t&uuid=5e3bef8b-d79b-4ea5-810e-5ce7a67ce72a\n",
      "To: /kaggle/working/anxiety_dataset_complete.zip\n",
      "100%|██████████████████████████████████████| 1.41G/1.41G [00:17<00:00, 80.8MB/s]\n"
     ]
    }
   ],
   "source": [
    "!gdown 1doU9FE1tJ-0IL4tKZUOOp76JkXKuTkFU"
   ]
  },
  {
   "cell_type": "code",
   "execution_count": null,
   "metadata": {
    "execution": {
     "iopub.execute_input": "2025-04-13T10:23:08.853388Z",
     "iopub.status.busy": "2025-04-13T10:23:08.853144Z",
     "iopub.status.idle": "2025-04-13T10:23:24.159578Z",
     "shell.execute_reply": "2025-04-13T10:23:24.158378Z",
     "shell.execute_reply.started": "2025-04-13T10:23:08.853364Z"
    },
    "id": "uXeRG1WthB2T",
    "trusted": true
   },
   "outputs": [],
   "source": [
    "!unzip anxiety_dataset_complete.zip > /dev/null"
   ]
  },
  {
   "cell_type": "code",
   "execution_count": 40,
   "metadata": {
    "execution": {
     "iopub.execute_input": "2025-04-14T21:51:32.770858Z",
     "iopub.status.busy": "2025-04-14T21:51:32.770254Z",
     "iopub.status.idle": "2025-04-14T21:51:32.776661Z",
     "shell.execute_reply": "2025-04-14T21:51:32.775867Z",
     "shell.execute_reply.started": "2025-04-14T21:51:32.770836Z"
    },
    "trusted": true
   },
   "outputs": [],
   "source": [
    "import os\n",
    "import torch\n",
    "import torch.nn as nn\n",
    "import torch.optim as optim\n",
    "import torch.nn.functional as F\n",
    "from torch.utils.data import Dataset, DataLoader\n",
    "from torchvision import transforms\n",
    "from transformers import CLIPImageProcessor, CLIPVisionModel\n",
    "from sklearn.metrics import f1_score, classification_report\n",
    "from sklearn.model_selection import train_test_split\n",
    "from tqdm import tqdm\n",
    "from PIL import Image\n",
    "import json\n",
    "import math\n",
    "\n",
    "TRAIN_RATIO = 0.7  # 70% train\n",
    "VAL_RATIO = 0.1  # 10% validation\n",
    "TEST_RATIO = 0.2  # 20% test\n",
    "DEVICE = torch.device(\"cuda\" if torch.cuda.is_available() else \"cpu\")\n",
    "BATCH_SIZE = 16\n",
    "LR = 2e-5\n",
    "FUSION_DIM = 768\n",
    "LABELS = [\"Nervousness\", \"Lack of Worry Control\", \"Excessive Worry\",\n",
    "          \"Difficulty Relaxing\", \"Restlessness\", \"Impending Doom\"]\n",
    "LABEL_MAP = {i: idx for idx, i in enumerate(LABELS)}"
   ]
  },
  {
   "cell_type": "markdown",
   "metadata": {},
   "source": [
    "## Custom Dataset"
   ]
  },
  {
   "cell_type": "code",
   "execution_count": 41,
   "metadata": {
    "execution": {
     "iopub.execute_input": "2025-04-14T21:51:34.761243Z",
     "iopub.status.busy": "2025-04-14T21:51:34.760980Z",
     "iopub.status.idle": "2025-04-14T21:51:34.769663Z",
     "shell.execute_reply": "2025-04-14T21:51:34.768692Z",
     "shell.execute_reply.started": "2025-04-14T21:51:34.761226Z"
    },
    "id": "Zql5N3bohB2T",
    "outputId": "d6a4eb60-0b39-46a3-8e6d-691f31b9c144",
    "trusted": true
   },
   "outputs": [],
   "source": [
    "class ImageOnlyAnxietyDataset(Dataset):\n",
    "    def __init__(self, data, image_path, image_processor):\n",
    "        self.data = data\n",
    "        self.image_processor = image_processor\n",
    "        self.img_path = image_path\n",
    "        self.transform = transforms.Compose([\n",
    "            transforms.Resize((224, 224)),\n",
    "            transforms.ToTensor(),\n",
    "            transforms.Normalize(mean=[0.485, 0.456, 0.406], std=[0.229, 0.224, 0.225])\n",
    "        ])\n",
    "\n",
    "    def __len__(self):\n",
    "        return len(self.data)\n",
    "\n",
    "    def __getitem__(self, idx):\n",
    "        sample = self.data[idx]\n",
    "\n",
    "        image_path = os.path.join(self.img_path, sample[\"sample_id\"] + \".jpg\")\n",
    "        image = Image.open(image_path).convert(\"RGB\")\n",
    "        image_tensor = self.image_processor(image, return_tensors=\"pt\")\n",
    "\n",
    "        label = LABEL_MAP[sample[\"meme_anxiety_category\"]]\n",
    "\n",
    "        return {\n",
    "            \"image\": image_tensor,\n",
    "            \"label\": torch.tensor(label, dtype=torch.long)\n",
    "        }\n",
    "\n",
    "def custom_collate_fn(batch):\n",
    "    labels = torch.stack([item['label'] for item in batch])\n",
    "\n",
    "    images = {}\n",
    "    for key in batch[0]['image'].keys():\n",
    "        if isinstance(batch[0]['image'][key], torch.Tensor):\n",
    "            images[key] = torch.stack([item['image'][key].squeeze(0) for item in batch])\n",
    "\n",
    "    return {\n",
    "        'image': images,\n",
    "        'label': labels,\n",
    "    }"
   ]
  },
  {
   "cell_type": "markdown",
   "metadata": {},
   "source": [
    "## Model Definition"
   ]
  },
  {
   "cell_type": "code",
   "execution_count": 42,
   "metadata": {
    "execution": {
     "iopub.execute_input": "2025-04-14T21:51:37.062702Z",
     "iopub.status.busy": "2025-04-14T21:51:37.062432Z",
     "iopub.status.idle": "2025-04-14T21:51:37.070743Z",
     "shell.execute_reply": "2025-04-14T21:51:37.070131Z",
     "shell.execute_reply.started": "2025-04-14T21:51:37.062681Z"
    },
    "id": "uRAagZGChB2U",
    "trusted": true
   },
   "outputs": [],
   "source": [
    "class ImageOnlyModel(nn.Module):\n",
    "    def __init__(self, num_classes=6):\n",
    "        super(ImageOnlyModel, self).__init__()\n",
    "\n",
    "        self.vision_encoder = CLIPVisionModel.from_pretrained(\"openai/clip-vit-base-patch32\")\n",
    "        self.vision_dim = self.vision_encoder.config.hidden_size\n",
    "\n",
    "        self.vision_projections = nn.ModuleList([\n",
    "            nn.Linear(self.vision_dim, 1024) for _ in range(3)\n",
    "        ])\n",
    "\n",
    "        self.expert_nets = nn.ModuleList([\n",
    "            nn.Sequential(\n",
    "                nn.Linear(1024, 1024),\n",
    "                nn.LayerNorm(1024),\n",
    "                nn.GELU(),\n",
    "                nn.Dropout(0.2)\n",
    "            ) for _ in range(4)\n",
    "        ])\n",
    "\n",
    "        self.moe_gate = nn.Linear(1024, 4)\n",
    "\n",
    "        self.classifier = nn.Sequential(\n",
    "            nn.Linear(1024, 1024),\n",
    "            nn.LayerNorm(1024),\n",
    "            nn.GELU(),\n",
    "            nn.Dropout(0.1),\n",
    "            nn.Linear(1024, num_classes)\n",
    "        )\n",
    "\n",
    "\n",
    "    def forward(self, image_features):\n",
    "        vision_outputs = self.vision_encoder(**image_features, output_hidden_states=True)\n",
    "        vision_features = [\n",
    "            vision_outputs.hidden_states[-i][:, 0] for i in range(1, 4)\n",
    "        ]\n",
    "        vision_features = [\n",
    "            proj(feat) for proj, feat in zip(self.vision_projections, vision_features)\n",
    "        ]\n",
    "\n",
    "        combined_feature = sum(vision_features) / len(vision_features)\n",
    "\n",
    "        expert_outputs = [expert(combined_feature) for expert in self.expert_nets]\n",
    "        expert_gates = F.softmax(self.moe_gate(combined_feature), dim=1)\n",
    "\n",
    "        moe_output = torch.zeros_like(expert_outputs[0])\n",
    "        for i, expert_out in enumerate(expert_outputs):\n",
    "            moe_output += expert_out * expert_gates[:, i].unsqueeze(1)\n",
    "\n",
    "        logits = self.classifier(moe_output)\n",
    "\n",
    "        return logits"
   ]
  },
  {
   "cell_type": "markdown",
   "metadata": {},
   "source": [
    "## Training Functions"
   ]
  },
  {
   "cell_type": "code",
   "execution_count": 43,
   "metadata": {
    "execution": {
     "iopub.execute_input": "2025-04-14T21:51:39.534807Z",
     "iopub.status.busy": "2025-04-14T21:51:39.534236Z",
     "iopub.status.idle": "2025-04-14T21:51:39.547344Z",
     "shell.execute_reply": "2025-04-14T21:51:39.546562Z",
     "shell.execute_reply.started": "2025-04-14T21:51:39.534761Z"
    },
    "trusted": true
   },
   "outputs": [],
   "source": [
    "def train_image_only_model(model, train_data, val_data, img_path, epochs, model_save_name):\n",
    "    image_processor = CLIPImageProcessor.from_pretrained(\"openai/clip-vit-base-patch32\")\n",
    "\n",
    "    train_dataset = ImageOnlyAnxietyDataset(train_data, img_path, image_processor)\n",
    "    val_dataset = ImageOnlyAnxietyDataset(val_data, img_path, image_processor)\n",
    "\n",
    "    print(\"Train Set Size:\", len(train_dataset))\n",
    "    print(\"Validation Set Size:\", len(val_dataset))\n",
    "\n",
    "    train_loader = DataLoader(\n",
    "        train_dataset,\n",
    "        batch_size=BATCH_SIZE,\n",
    "        shuffle=True,\n",
    "        collate_fn=custom_collate_fn\n",
    "    )\n",
    "\n",
    "    val_loader = DataLoader(\n",
    "        val_dataset,\n",
    "        batch_size=BATCH_SIZE,\n",
    "        shuffle=False,\n",
    "        collate_fn=custom_collate_fn\n",
    "    )\n",
    "\n",
    "    optimizer = optim.AdamW(model.parameters(), lr=LR)\n",
    "    scheduler = torch.optim.lr_scheduler.ReduceLROnPlateau(\n",
    "        optimizer, mode='max', factor=0.5, patience=2, verbose=True\n",
    "    )\n",
    "    criterion = nn.CrossEntropyLoss()\n",
    "    \n",
    "    model = model.to(DEVICE)\n",
    "    model = nn.DataParallel(model)\n",
    "\n",
    "    best_f1 = 0\n",
    "    for epoch in range(epochs):\n",
    "        print(f\"\\nEpoch {epoch+1}/{epochs}\")\n",
    "\n",
    "        model.train()\n",
    "        train_loss = 0\n",
    "        train_preds, train_labels = [], []\n",
    "\n",
    "        for batch in tqdm(train_loader, desc=\"Training\"):\n",
    "            labels = batch[\"label\"].to(DEVICE)\n",
    "            image_features = {k: v.to(DEVICE) for k, v in batch[\"image\"].items()}\n",
    "\n",
    "            optimizer.zero_grad()\n",
    "            logits = model(image_features)\n",
    "            loss = criterion(logits, labels)\n",
    "            loss.backward()\n",
    "            torch.nn.utils.clip_grad_norm_(model.parameters(), 1.0)\n",
    "            optimizer.step()\n",
    "\n",
    "            train_loss += loss.item()\n",
    "            predictions = torch.argmax(logits, dim=1).cpu().numpy()\n",
    "            train_preds.extend(predictions)\n",
    "            train_labels.extend(labels.cpu().numpy())\n",
    "\n",
    "        train_loss = train_loss / len(train_loader)\n",
    "        train_macro_f1 = f1_score(train_labels, train_preds, average=\"macro\")\n",
    "        train_weighted_f1 = f1_score(train_labels, train_preds, average=\"weighted\")\n",
    "\n",
    "        print(f\"Train Loss: {train_loss:.4f}\")\n",
    "        print(f\"Train Macro-F1: {train_macro_f1:.4f}, Weighted-F1: {train_weighted_f1:.4f}\")\n",
    "\n",
    "        val_loss, val_macro_f1, val_weighted_f1 = evaluate_image_model(\n",
    "            model, val_loader, criterion\n",
    "        )\n",
    "\n",
    "        print(f\"Validation Loss: {val_loss:.4f}\")\n",
    "        print(f\"Validation Macro-F1: {val_macro_f1:.4f}, Weighted-F1: {val_weighted_f1:.4f}\")\n",
    "\n",
    "        scheduler.step(val_macro_f1)\n",
    "\n",
    "        f1_hm = 2 * val_macro_f1 * val_weighted_f1 / (val_macro_f1 + val_weighted_f1)\n",
    "        if f1_hm > best_f1:\n",
    "            best_f1 = f1_hm\n",
    "            torch.save(model.state_dict(), f\"{model_save_name}_anxiety.pth\")\n",
    "            print(\"Best model saved!\")\n",
    "\n",
    "    return model\n",
    "\n",
    "def evaluate_image_model(model, loader, criterion):\n",
    "    model.eval()\n",
    "    val_loss = 0\n",
    "    val_preds, val_labels = [], []\n",
    "\n",
    "    with torch.no_grad():\n",
    "        for batch in tqdm(loader, desc=\"Evaluating\"):\n",
    "            labels = batch[\"label\"].to(DEVICE)\n",
    "            image_features = {k: v.to(DEVICE) for k, v in batch[\"image\"].items()}\n",
    "\n",
    "            logits = model(image_features)\n",
    "            loss = criterion(logits, labels)\n",
    "\n",
    "            val_loss += loss.item()\n",
    "            predictions = torch.argmax(logits, dim=1).cpu().numpy()\n",
    "            val_preds.extend(predictions)\n",
    "            val_labels.extend(labels.cpu().numpy())\n",
    "\n",
    "    val_loss = val_loss / len(loader)\n",
    "    val_macro_f1 = f1_score(val_labels, val_preds, average=\"macro\")\n",
    "    val_weighted_f1 = f1_score(val_labels, val_preds, average=\"weighted\")\n",
    "\n",
    "    target_names = [k for k, v in sorted(LABEL_MAP.items(), key=lambda x: x[1])]\n",
    "    report = classification_report(val_labels, val_preds, target_names=target_names)\n",
    "    print(report)\n",
    "\n",
    "    return val_loss, val_macro_f1, val_weighted_f1"
   ]
  },
  {
   "cell_type": "markdown",
   "metadata": {},
   "source": [
    "## Model Training"
   ]
  },
  {
   "cell_type": "code",
   "execution_count": 44,
   "metadata": {
    "execution": {
     "iopub.execute_input": "2025-04-14T21:51:42.235276Z",
     "iopub.status.busy": "2025-04-14T21:51:42.235026Z",
     "iopub.status.idle": "2025-04-14T21:51:42.363041Z",
     "shell.execute_reply": "2025-04-14T21:51:42.362524Z",
     "shell.execute_reply.started": "2025-04-14T21:51:42.235257Z"
    },
    "trusted": true
   },
   "outputs": [],
   "source": [
    "full_train_data = json.load(open(\"anxiety_train_llava_dataset.json\", \"r\"))\n",
    "test_data = json.load(open(\"anxiety_test_llava_dataset.json\", \"r\"))\n",
    "\n",
    "labels = [LABEL_MAP[item[\"meme_anxiety_category\"]] for item in full_train_data]\n",
    "\n",
    "train_size = math.ceil(len(full_train_data) * TRAIN_RATIO / (TRAIN_RATIO + VAL_RATIO))\n",
    "train_data, val_data = train_test_split(\n",
    "    full_train_data, train_size=train_size, stratify=labels, random_state=42\n",
    ")\n",
    "\n",
    "img_path = \"anxiety_train_image\"\n",
    "\n",
    "image_processor = CLIPImageProcessor.from_pretrained(\"openai/clip-vit-base-patch32\")\n",
    "\n",
    "test_dataset = ImageOnlyAnxietyDataset(test_data, \"anxiety_test_image\", image_processor)\n",
    "test_loader = DataLoader(\n",
    "    test_dataset,\n",
    "    batch_size=BATCH_SIZE,\n",
    "    shuffle=False,\n",
    "    collate_fn=custom_collate_fn\n",
    ")"
   ]
  },
  {
   "cell_type": "code",
   "execution_count": null,
   "metadata": {
    "execution": {
     "iopub.execute_input": "2025-04-13T10:24:56.316958Z",
     "iopub.status.busy": "2025-04-13T10:24:56.316375Z",
     "iopub.status.idle": "2025-04-13T11:17:48.633532Z",
     "shell.execute_reply": "2025-04-13T11:17:48.632829Z",
     "shell.execute_reply.started": "2025-04-13T10:24:56.316936Z"
    },
    "id": "YixfEmWWhB2V",
    "outputId": "fc60b8e8-42b1-4cec-cfee-93548bffe8da",
    "trusted": true
   },
   "outputs": [
    {
     "name": "stdout",
     "output_type": "stream",
     "text": [
      "Train Set Size: 2153\n",
      "Validation Set Size: 307\n",
      "\n",
      "Epoch 1/30\n"
     ]
    },
    {
     "name": "stderr",
     "output_type": "stream",
     "text": [
      "Training: 100%|██████████| 135/135 [01:19<00:00,  1.69it/s]\n"
     ]
    },
    {
     "name": "stdout",
     "output_type": "stream",
     "text": [
      "Train Loss: 1.8536\n",
      "Train Macro-F1: 0.2953, Weighted-F1: 0.2953\n"
     ]
    },
    {
     "name": "stderr",
     "output_type": "stream",
     "text": [
      "Evaluating: 100%|██████████| 20/20 [00:09<00:00,  2.21it/s]\n"
     ]
    },
    {
     "name": "stdout",
     "output_type": "stream",
     "text": [
      "                       precision    recall  f1-score   support\n",
      "\n",
      "          Nervousness       0.67      0.04      0.07        53\n",
      "Lack of Worry Control       0.71      0.32      0.44        47\n",
      "      Excessive Worry       0.00      0.00      0.00        46\n",
      "  Difficulty Relaxing       0.33      0.88      0.48        51\n",
      "         Restlessness       0.24      0.26      0.25        58\n",
      "       Impending Doom       0.32      0.50      0.39        52\n",
      "\n",
      "             accuracy                           0.34       307\n",
      "            macro avg       0.38      0.33      0.27       307\n",
      "         weighted avg       0.38      0.34      0.27       307\n",
      "\n",
      "Validation Loss: 1.6980\n",
      "Validation Macro-F1: 0.2708, Weighted-F1: 0.2716\n",
      "Best model saved!\n",
      "\n",
      "Epoch 2/30\n"
     ]
    },
    {
     "name": "stderr",
     "output_type": "stream",
     "text": [
      "Training: 100%|██████████| 135/135 [01:20<00:00,  1.68it/s]\n"
     ]
    },
    {
     "name": "stdout",
     "output_type": "stream",
     "text": [
      "Train Loss: 1.4580\n",
      "Train Macro-F1: 0.5562, Weighted-F1: 0.5561\n"
     ]
    },
    {
     "name": "stderr",
     "output_type": "stream",
     "text": [
      "Evaluating: 100%|██████████| 20/20 [00:08<00:00,  2.23it/s]\n"
     ]
    },
    {
     "name": "stdout",
     "output_type": "stream",
     "text": [
      "                       precision    recall  f1-score   support\n",
      "\n",
      "          Nervousness       0.38      0.51      0.43        53\n",
      "Lack of Worry Control       0.59      0.49      0.53        47\n",
      "      Excessive Worry       0.55      0.37      0.44        46\n",
      "  Difficulty Relaxing       0.86      0.47      0.61        51\n",
      "         Restlessness       0.25      0.22      0.24        58\n",
      "       Impending Doom       0.43      0.71      0.54        52\n",
      "\n",
      "             accuracy                           0.46       307\n",
      "            macro avg       0.51      0.46      0.47       307\n",
      "         weighted avg       0.50      0.46      0.46       307\n",
      "\n",
      "Validation Loss: 1.4569\n",
      "Validation Macro-F1: 0.4651, Weighted-F1: 0.4595\n",
      "Best model saved!\n",
      "\n",
      "Epoch 3/30\n"
     ]
    },
    {
     "name": "stderr",
     "output_type": "stream",
     "text": [
      "Training: 100%|██████████| 135/135 [01:20<00:00,  1.67it/s]\n"
     ]
    },
    {
     "name": "stdout",
     "output_type": "stream",
     "text": [
      "Train Loss: 0.9964\n",
      "Train Macro-F1: 0.7621, Weighted-F1: 0.7629\n"
     ]
    },
    {
     "name": "stderr",
     "output_type": "stream",
     "text": [
      "Evaluating: 100%|██████████| 20/20 [00:09<00:00,  2.19it/s]\n"
     ]
    },
    {
     "name": "stdout",
     "output_type": "stream",
     "text": [
      "                       precision    recall  f1-score   support\n",
      "\n",
      "          Nervousness       0.39      0.51      0.44        53\n",
      "Lack of Worry Control       0.49      0.49      0.49        47\n",
      "      Excessive Worry       0.42      0.24      0.31        46\n",
      "  Difficulty Relaxing       0.88      0.43      0.58        51\n",
      "         Restlessness       0.35      0.40      0.37        58\n",
      "       Impending Doom       0.46      0.65      0.54        52\n",
      "\n",
      "             accuracy                           0.46       307\n",
      "            macro avg       0.50      0.45      0.45       307\n",
      "         weighted avg       0.50      0.46      0.45       307\n",
      "\n",
      "Validation Loss: 1.6143\n",
      "Validation Macro-F1: 0.4545, Weighted-F1: 0.4548\n",
      "\n",
      "Epoch 4/30\n"
     ]
    },
    {
     "name": "stderr",
     "output_type": "stream",
     "text": [
      "Training: 100%|██████████| 135/135 [01:20<00:00,  1.67it/s]\n"
     ]
    },
    {
     "name": "stdout",
     "output_type": "stream",
     "text": [
      "Train Loss: 0.7085\n",
      "Train Macro-F1: 0.8694, Weighted-F1: 0.8698\n"
     ]
    },
    {
     "name": "stderr",
     "output_type": "stream",
     "text": [
      "Evaluating: 100%|██████████| 20/20 [00:09<00:00,  2.21it/s]\n"
     ]
    },
    {
     "name": "stdout",
     "output_type": "stream",
     "text": [
      "                       precision    recall  f1-score   support\n",
      "\n",
      "          Nervousness       0.39      0.51      0.44        53\n",
      "Lack of Worry Control       0.57      0.51      0.54        47\n",
      "      Excessive Worry       0.52      0.30      0.38        46\n",
      "  Difficulty Relaxing       0.74      0.57      0.64        51\n",
      "         Restlessness       0.31      0.47      0.37        58\n",
      "       Impending Doom       0.60      0.48      0.53        52\n",
      "\n",
      "             accuracy                           0.48       307\n",
      "            macro avg       0.52      0.47      0.49       307\n",
      "         weighted avg       0.51      0.48      0.48       307\n",
      "\n",
      "Validation Loss: 1.7553\n",
      "Validation Macro-F1: 0.4851, Weighted-F1: 0.4833\n",
      "Best model saved!\n",
      "\n",
      "Epoch 5/30\n"
     ]
    },
    {
     "name": "stderr",
     "output_type": "stream",
     "text": [
      "Training: 100%|██████████| 135/135 [01:20<00:00,  1.67it/s]\n"
     ]
    },
    {
     "name": "stdout",
     "output_type": "stream",
     "text": [
      "Train Loss: 0.6106\n",
      "Train Macro-F1: 0.9057, Weighted-F1: 0.9058\n"
     ]
    },
    {
     "name": "stderr",
     "output_type": "stream",
     "text": [
      "Evaluating: 100%|██████████| 20/20 [00:09<00:00,  2.18it/s]\n"
     ]
    },
    {
     "name": "stdout",
     "output_type": "stream",
     "text": [
      "                       precision    recall  f1-score   support\n",
      "\n",
      "          Nervousness       0.39      0.51      0.44        53\n",
      "Lack of Worry Control       0.44      0.40      0.42        47\n",
      "      Excessive Worry       0.52      0.30      0.38        46\n",
      "  Difficulty Relaxing       0.70      0.51      0.59        51\n",
      "         Restlessness       0.26      0.19      0.22        58\n",
      "       Impending Doom       0.41      0.69      0.51        52\n",
      "\n",
      "             accuracy                           0.43       307\n",
      "            macro avg       0.45      0.43      0.43       307\n",
      "         weighted avg       0.45      0.43      0.42       307\n",
      "\n",
      "Validation Loss: 2.1478\n",
      "Validation Macro-F1: 0.4286, Weighted-F1: 0.4250\n",
      "\n",
      "Epoch 6/30\n"
     ]
    },
    {
     "name": "stderr",
     "output_type": "stream",
     "text": [
      "Training: 100%|██████████| 135/135 [01:20<00:00,  1.67it/s]\n"
     ]
    },
    {
     "name": "stdout",
     "output_type": "stream",
     "text": [
      "Train Loss: 0.5254\n",
      "Train Macro-F1: 0.9368, Weighted-F1: 0.9368\n"
     ]
    },
    {
     "name": "stderr",
     "output_type": "stream",
     "text": [
      "Evaluating: 100%|██████████| 20/20 [00:09<00:00,  2.21it/s]\n"
     ]
    },
    {
     "name": "stdout",
     "output_type": "stream",
     "text": [
      "                       precision    recall  f1-score   support\n",
      "\n",
      "          Nervousness       0.41      0.51      0.45        53\n",
      "Lack of Worry Control       0.57      0.43      0.49        47\n",
      "      Excessive Worry       0.28      0.41      0.33        46\n",
      "  Difficulty Relaxing       0.80      0.47      0.59        51\n",
      "         Restlessness       0.29      0.22      0.25        58\n",
      "       Impending Doom       0.49      0.60      0.54        52\n",
      "\n",
      "             accuracy                           0.44       307\n",
      "            macro avg       0.47      0.44      0.44       307\n",
      "         weighted avg       0.47      0.44      0.44       307\n",
      "\n",
      "Validation Loss: 2.5853\n",
      "Validation Macro-F1: 0.4432, Weighted-F1: 0.4404\n",
      "\n",
      "Epoch 7/30\n"
     ]
    },
    {
     "name": "stderr",
     "output_type": "stream",
     "text": [
      "Training: 100%|██████████| 135/135 [01:21<00:00,  1.67it/s]\n"
     ]
    },
    {
     "name": "stdout",
     "output_type": "stream",
     "text": [
      "Train Loss: 0.5776\n",
      "Train Macro-F1: 0.9267, Weighted-F1: 0.9266\n"
     ]
    },
    {
     "name": "stderr",
     "output_type": "stream",
     "text": [
      "Evaluating: 100%|██████████| 20/20 [00:08<00:00,  2.28it/s]\n"
     ]
    },
    {
     "name": "stdout",
     "output_type": "stream",
     "text": [
      "                       precision    recall  f1-score   support\n",
      "\n",
      "          Nervousness       0.38      0.57      0.45        53\n",
      "Lack of Worry Control       0.61      0.53      0.57        47\n",
      "      Excessive Worry       0.40      0.46      0.42        46\n",
      "  Difficulty Relaxing       0.76      0.55      0.64        51\n",
      "         Restlessness       0.38      0.34      0.36        58\n",
      "       Impending Doom       0.55      0.46      0.50        52\n",
      "\n",
      "             accuracy                           0.48       307\n",
      "            macro avg       0.51      0.48      0.49       307\n",
      "         weighted avg       0.51      0.48      0.49       307\n",
      "\n",
      "Validation Loss: 2.4035\n",
      "Validation Macro-F1: 0.4906, Weighted-F1: 0.4875\n",
      "Best model saved!\n",
      "\n",
      "Epoch 8/30\n"
     ]
    },
    {
     "name": "stderr",
     "output_type": "stream",
     "text": [
      "Training: 100%|██████████| 135/135 [01:21<00:00,  1.66it/s]\n"
     ]
    },
    {
     "name": "stdout",
     "output_type": "stream",
     "text": [
      "Train Loss: 0.4973\n",
      "Train Macro-F1: 0.9485, Weighted-F1: 0.9485\n"
     ]
    },
    {
     "name": "stderr",
     "output_type": "stream",
     "text": [
      "Evaluating: 100%|██████████| 20/20 [00:09<00:00,  2.19it/s]\n"
     ]
    },
    {
     "name": "stdout",
     "output_type": "stream",
     "text": [
      "                       precision    recall  f1-score   support\n",
      "\n",
      "          Nervousness       0.35      0.58      0.44        53\n",
      "Lack of Worry Control       0.46      0.51      0.48        47\n",
      "      Excessive Worry       0.47      0.39      0.43        46\n",
      "  Difficulty Relaxing       0.66      0.57      0.61        51\n",
      "         Restlessness       0.35      0.19      0.25        58\n",
      "       Impending Doom       0.51      0.52      0.51        52\n",
      "\n",
      "             accuracy                           0.46       307\n",
      "            macro avg       0.47      0.46      0.45       307\n",
      "         weighted avg       0.46      0.46      0.45       307\n",
      "\n",
      "Validation Loss: 2.8378\n",
      "Validation Macro-F1: 0.4537, Weighted-F1: 0.4491\n",
      "\n",
      "Epoch 9/30\n"
     ]
    },
    {
     "name": "stderr",
     "output_type": "stream",
     "text": [
      "Training: 100%|██████████| 135/135 [01:21<00:00,  1.67it/s]\n"
     ]
    },
    {
     "name": "stdout",
     "output_type": "stream",
     "text": [
      "Train Loss: 0.5114\n",
      "Train Macro-F1: 0.9496, Weighted-F1: 0.9494\n"
     ]
    },
    {
     "name": "stderr",
     "output_type": "stream",
     "text": [
      "Evaluating: 100%|██████████| 20/20 [00:09<00:00,  2.21it/s]\n"
     ]
    },
    {
     "name": "stdout",
     "output_type": "stream",
     "text": [
      "                       precision    recall  f1-score   support\n",
      "\n",
      "          Nervousness       0.34      0.68      0.45        53\n",
      "Lack of Worry Control       0.78      0.30      0.43        47\n",
      "      Excessive Worry       0.48      0.22      0.30        46\n",
      "  Difficulty Relaxing       0.56      0.49      0.52        51\n",
      "         Restlessness       0.30      0.31      0.30        58\n",
      "       Impending Doom       0.53      0.56      0.54        52\n",
      "\n",
      "             accuracy                           0.43       307\n",
      "            macro avg       0.49      0.43      0.42       307\n",
      "         weighted avg       0.49      0.43      0.42       307\n",
      "\n",
      "Validation Loss: 3.0701\n",
      "Validation Macro-F1: 0.4241, Weighted-F1: 0.4239\n",
      "\n",
      "Epoch 10/30\n"
     ]
    },
    {
     "name": "stderr",
     "output_type": "stream",
     "text": [
      "Training: 100%|██████████| 135/135 [01:20<00:00,  1.67it/s]\n"
     ]
    },
    {
     "name": "stdout",
     "output_type": "stream",
     "text": [
      "Train Loss: 0.4919\n",
      "Train Macro-F1: 0.9487, Weighted-F1: 0.9490\n"
     ]
    },
    {
     "name": "stderr",
     "output_type": "stream",
     "text": [
      "Evaluating: 100%|██████████| 20/20 [00:09<00:00,  2.21it/s]\n"
     ]
    },
    {
     "name": "stdout",
     "output_type": "stream",
     "text": [
      "                       precision    recall  f1-score   support\n",
      "\n",
      "          Nervousness       0.38      0.43      0.41        53\n",
      "Lack of Worry Control       0.63      0.40      0.49        47\n",
      "      Excessive Worry       0.54      0.28      0.37        46\n",
      "  Difficulty Relaxing       0.80      0.55      0.65        51\n",
      "         Restlessness       0.28      0.52      0.36        58\n",
      "       Impending Doom       0.46      0.44      0.45        52\n",
      "\n",
      "             accuracy                           0.44       307\n",
      "            macro avg       0.52      0.44      0.46       307\n",
      "         weighted avg       0.51      0.44      0.45       307\n",
      "\n",
      "Validation Loss: 3.0115\n",
      "Validation Macro-F1: 0.4559, Weighted-F1: 0.4543\n",
      "\n",
      "Epoch 11/30\n"
     ]
    },
    {
     "name": "stderr",
     "output_type": "stream",
     "text": [
      "Training: 100%|██████████| 135/135 [01:21<00:00,  1.66it/s]\n"
     ]
    },
    {
     "name": "stdout",
     "output_type": "stream",
     "text": [
      "Train Loss: 0.4204\n",
      "Train Macro-F1: 0.9783, Weighted-F1: 0.9787\n"
     ]
    },
    {
     "name": "stderr",
     "output_type": "stream",
     "text": [
      "Evaluating: 100%|██████████| 20/20 [00:09<00:00,  2.19it/s]\n"
     ]
    },
    {
     "name": "stdout",
     "output_type": "stream",
     "text": [
      "                       precision    recall  f1-score   support\n",
      "\n",
      "          Nervousness       0.35      0.57      0.43        53\n",
      "Lack of Worry Control       0.55      0.57      0.56        47\n",
      "      Excessive Worry       0.52      0.37      0.43        46\n",
      "  Difficulty Relaxing       0.78      0.57      0.66        51\n",
      "         Restlessness       0.27      0.21      0.23        58\n",
      "       Impending Doom       0.50      0.56      0.53        52\n",
      "\n",
      "             accuracy                           0.47       307\n",
      "            macro avg       0.49      0.47      0.47       307\n",
      "         weighted avg       0.49      0.47      0.47       307\n",
      "\n",
      "Validation Loss: 3.0952\n",
      "Validation Macro-F1: 0.4745, Weighted-F1: 0.4685\n",
      "\n",
      "Epoch 12/30\n"
     ]
    },
    {
     "name": "stderr",
     "output_type": "stream",
     "text": [
      "Training: 100%|██████████| 135/135 [01:21<00:00,  1.66it/s]\n"
     ]
    },
    {
     "name": "stdout",
     "output_type": "stream",
     "text": [
      "Train Loss: 0.3869\n",
      "Train Macro-F1: 0.9882, Weighted-F1: 0.9884\n"
     ]
    },
    {
     "name": "stderr",
     "output_type": "stream",
     "text": [
      "Evaluating: 100%|██████████| 20/20 [00:09<00:00,  2.18it/s]\n"
     ]
    },
    {
     "name": "stdout",
     "output_type": "stream",
     "text": [
      "                       precision    recall  f1-score   support\n",
      "\n",
      "          Nervousness       0.58      0.34      0.43        53\n",
      "Lack of Worry Control       0.53      0.55      0.54        47\n",
      "      Excessive Worry       0.46      0.46      0.46        46\n",
      "  Difficulty Relaxing       0.59      0.69      0.64        51\n",
      "         Restlessness       0.33      0.45      0.38        58\n",
      "       Impending Doom       0.48      0.40      0.44        52\n",
      "\n",
      "             accuracy                           0.48       307\n",
      "            macro avg       0.50      0.48      0.48       307\n",
      "         weighted avg       0.49      0.48      0.48       307\n",
      "\n",
      "Validation Loss: 3.1221\n",
      "Validation Macro-F1: 0.4805, Weighted-F1: 0.4774\n",
      "\n",
      "Epoch 13/30\n"
     ]
    },
    {
     "name": "stderr",
     "output_type": "stream",
     "text": [
      "Training: 100%|██████████| 135/135 [01:21<00:00,  1.66it/s]\n"
     ]
    },
    {
     "name": "stdout",
     "output_type": "stream",
     "text": [
      "Train Loss: 0.3913\n",
      "Train Macro-F1: 0.9874, Weighted-F1: 0.9875\n"
     ]
    },
    {
     "name": "stderr",
     "output_type": "stream",
     "text": [
      "Evaluating: 100%|██████████| 20/20 [00:09<00:00,  2.18it/s]\n"
     ]
    },
    {
     "name": "stdout",
     "output_type": "stream",
     "text": [
      "                       precision    recall  f1-score   support\n",
      "\n",
      "          Nervousness       0.45      0.45      0.45        53\n",
      "Lack of Worry Control       0.63      0.40      0.49        47\n",
      "      Excessive Worry       0.50      0.50      0.50        46\n",
      "  Difficulty Relaxing       0.74      0.57      0.64        51\n",
      "         Restlessness       0.33      0.55      0.41        58\n",
      "       Impending Doom       0.66      0.52      0.58        52\n",
      "\n",
      "             accuracy                           0.50       307\n",
      "            macro avg       0.55      0.50      0.51       307\n",
      "         weighted avg       0.55      0.50      0.51       307\n",
      "\n",
      "Validation Loss: 3.1540\n",
      "Validation Macro-F1: 0.5136, Weighted-F1: 0.5116\n",
      "Best model saved!\n",
      "\n",
      "Epoch 14/30\n"
     ]
    },
    {
     "name": "stderr",
     "output_type": "stream",
     "text": [
      "Training: 100%|██████████| 135/135 [01:21<00:00,  1.67it/s]\n"
     ]
    },
    {
     "name": "stdout",
     "output_type": "stream",
     "text": [
      "Train Loss: 0.3830\n",
      "Train Macro-F1: 0.9905, Weighted-F1: 0.9907\n"
     ]
    },
    {
     "name": "stderr",
     "output_type": "stream",
     "text": [
      "Evaluating: 100%|██████████| 20/20 [00:09<00:00,  2.19it/s]\n"
     ]
    },
    {
     "name": "stdout",
     "output_type": "stream",
     "text": [
      "                       precision    recall  f1-score   support\n",
      "\n",
      "          Nervousness       0.54      0.53      0.53        53\n",
      "Lack of Worry Control       0.49      0.49      0.49        47\n",
      "      Excessive Worry       0.45      0.43      0.44        46\n",
      "  Difficulty Relaxing       0.72      0.57      0.64        51\n",
      "         Restlessness       0.33      0.41      0.37        58\n",
      "       Impending Doom       0.54      0.54      0.54        52\n",
      "\n",
      "             accuracy                           0.50       307\n",
      "            macro avg       0.51      0.50      0.50       307\n",
      "         weighted avg       0.51      0.50      0.50       307\n",
      "\n",
      "Validation Loss: 3.2205\n",
      "Validation Macro-F1: 0.5020, Weighted-F1: 0.5004\n",
      "\n",
      "Epoch 15/30\n"
     ]
    },
    {
     "name": "stderr",
     "output_type": "stream",
     "text": [
      "Training: 100%|██████████| 135/135 [01:21<00:00,  1.66it/s]\n"
     ]
    },
    {
     "name": "stdout",
     "output_type": "stream",
     "text": [
      "Train Loss: 0.3665\n",
      "Train Macro-F1: 0.9924, Weighted-F1: 0.9926\n"
     ]
    },
    {
     "name": "stderr",
     "output_type": "stream",
     "text": [
      "Evaluating: 100%|██████████| 20/20 [00:09<00:00,  2.17it/s]\n"
     ]
    },
    {
     "name": "stdout",
     "output_type": "stream",
     "text": [
      "                       precision    recall  f1-score   support\n",
      "\n",
      "          Nervousness       0.41      0.47      0.44        53\n",
      "Lack of Worry Control       0.51      0.53      0.52        47\n",
      "      Excessive Worry       0.56      0.30      0.39        46\n",
      "  Difficulty Relaxing       0.78      0.57      0.66        51\n",
      "         Restlessness       0.34      0.50      0.40        58\n",
      "       Impending Doom       0.57      0.54      0.55        52\n",
      "\n",
      "             accuracy                           0.49       307\n",
      "            macro avg       0.53      0.49      0.50       307\n",
      "         weighted avg       0.52      0.49      0.49       307\n",
      "\n",
      "Validation Loss: 3.1817\n",
      "Validation Macro-F1: 0.4950, Weighted-F1: 0.4940\n",
      "\n",
      "Epoch 16/30\n"
     ]
    },
    {
     "name": "stderr",
     "output_type": "stream",
     "text": [
      "Training: 100%|██████████| 135/135 [01:19<00:00,  1.70it/s]\n"
     ]
    },
    {
     "name": "stdout",
     "output_type": "stream",
     "text": [
      "Train Loss: 0.3680\n",
      "Train Macro-F1: 0.9909, Weighted-F1: 0.9912\n"
     ]
    },
    {
     "name": "stderr",
     "output_type": "stream",
     "text": [
      "Evaluating: 100%|██████████| 20/20 [00:08<00:00,  2.36it/s]\n"
     ]
    },
    {
     "name": "stdout",
     "output_type": "stream",
     "text": [
      "                       precision    recall  f1-score   support\n",
      "\n",
      "          Nervousness       0.43      0.55      0.48        53\n",
      "Lack of Worry Control       0.59      0.51      0.55        47\n",
      "      Excessive Worry       0.42      0.41      0.42        46\n",
      "  Difficulty Relaxing       0.66      0.57      0.61        51\n",
      "         Restlessness       0.35      0.31      0.33        58\n",
      "       Impending Doom       0.49      0.54      0.51        52\n",
      "\n",
      "             accuracy                           0.48       307\n",
      "            macro avg       0.49      0.48      0.48       307\n",
      "         weighted avg       0.48      0.48      0.48       307\n",
      "\n",
      "Validation Loss: 3.1794\n",
      "Validation Macro-F1: 0.4823, Weighted-F1: 0.4791\n",
      "\n",
      "Epoch 17/30\n"
     ]
    },
    {
     "name": "stderr",
     "output_type": "stream",
     "text": [
      "Training: 100%|██████████| 135/135 [01:17<00:00,  1.75it/s]\n"
     ]
    },
    {
     "name": "stdout",
     "output_type": "stream",
     "text": [
      "Train Loss: 0.3714\n",
      "Train Macro-F1: 0.9915, Weighted-F1: 0.9916\n"
     ]
    },
    {
     "name": "stderr",
     "output_type": "stream",
     "text": [
      "Evaluating: 100%|██████████| 20/20 [00:08<00:00,  2.38it/s]\n"
     ]
    },
    {
     "name": "stdout",
     "output_type": "stream",
     "text": [
      "                       precision    recall  f1-score   support\n",
      "\n",
      "          Nervousness       0.50      0.51      0.50        53\n",
      "Lack of Worry Control       0.63      0.51      0.56        47\n",
      "      Excessive Worry       0.52      0.33      0.40        46\n",
      "  Difficulty Relaxing       0.67      0.63      0.65        51\n",
      "         Restlessness       0.34      0.41      0.37        58\n",
      "       Impending Doom       0.48      0.62      0.54        52\n",
      "\n",
      "             accuracy                           0.50       307\n",
      "            macro avg       0.52      0.50      0.50       307\n",
      "         weighted avg       0.52      0.50      0.50       307\n",
      "\n",
      "Validation Loss: 3.3746\n",
      "Validation Macro-F1: 0.5043, Weighted-F1: 0.5023\n",
      "\n",
      "Epoch 18/30\n"
     ]
    },
    {
     "name": "stderr",
     "output_type": "stream",
     "text": [
      "Training: 100%|██████████| 135/135 [01:19<00:00,  1.70it/s]\n"
     ]
    },
    {
     "name": "stdout",
     "output_type": "stream",
     "text": [
      "Train Loss: 0.3622\n",
      "Train Macro-F1: 0.9939, Weighted-F1: 0.9940\n"
     ]
    },
    {
     "name": "stderr",
     "output_type": "stream",
     "text": [
      "Evaluating: 100%|██████████| 20/20 [00:08<00:00,  2.28it/s]\n"
     ]
    },
    {
     "name": "stdout",
     "output_type": "stream",
     "text": [
      "                       precision    recall  f1-score   support\n",
      "\n",
      "          Nervousness       0.42      0.58      0.49        53\n",
      "Lack of Worry Control       0.61      0.49      0.54        47\n",
      "      Excessive Worry       0.56      0.30      0.39        46\n",
      "  Difficulty Relaxing       0.82      0.53      0.64        51\n",
      "         Restlessness       0.31      0.41      0.35        58\n",
      "       Impending Doom       0.49      0.56      0.52        52\n",
      "\n",
      "             accuracy                           0.48       307\n",
      "            macro avg       0.53      0.48      0.49       307\n",
      "         weighted avg       0.53      0.48      0.49       307\n",
      "\n",
      "Validation Loss: 3.4535\n",
      "Validation Macro-F1: 0.4903, Weighted-F1: 0.4882\n",
      "\n",
      "Epoch 19/30\n"
     ]
    },
    {
     "name": "stderr",
     "output_type": "stream",
     "text": [
      "Training: 100%|██████████| 135/135 [01:18<00:00,  1.72it/s]\n"
     ]
    },
    {
     "name": "stdout",
     "output_type": "stream",
     "text": [
      "Train Loss: 0.3523\n",
      "Train Macro-F1: 0.9953, Weighted-F1: 0.9954\n"
     ]
    },
    {
     "name": "stderr",
     "output_type": "stream",
     "text": [
      "Evaluating: 100%|██████████| 20/20 [00:08<00:00,  2.38it/s]\n"
     ]
    },
    {
     "name": "stdout",
     "output_type": "stream",
     "text": [
      "                       precision    recall  f1-score   support\n",
      "\n",
      "          Nervousness       0.49      0.49      0.49        53\n",
      "Lack of Worry Control       0.48      0.55      0.51        47\n",
      "      Excessive Worry       0.55      0.37      0.44        46\n",
      "  Difficulty Relaxing       0.72      0.57      0.64        51\n",
      "         Restlessness       0.34      0.43      0.38        58\n",
      "       Impending Doom       0.50      0.54      0.52        52\n",
      "\n",
      "             accuracy                           0.49       307\n",
      "            macro avg       0.51      0.49      0.50       307\n",
      "         weighted avg       0.51      0.49      0.50       307\n",
      "\n",
      "Validation Loss: 3.4072\n",
      "Validation Macro-F1: 0.4974, Weighted-F1: 0.4955\n",
      "\n",
      "Epoch 20/30\n"
     ]
    },
    {
     "name": "stderr",
     "output_type": "stream",
     "text": [
      "Training: 100%|██████████| 135/135 [01:17<00:00,  1.75it/s]\n"
     ]
    },
    {
     "name": "stdout",
     "output_type": "stream",
     "text": [
      "Train Loss: 0.3508\n",
      "Train Macro-F1: 0.9953, Weighted-F1: 0.9954\n"
     ]
    },
    {
     "name": "stderr",
     "output_type": "stream",
     "text": [
      "Evaluating: 100%|██████████| 20/20 [00:08<00:00,  2.34it/s]\n"
     ]
    },
    {
     "name": "stdout",
     "output_type": "stream",
     "text": [
      "                       precision    recall  f1-score   support\n",
      "\n",
      "          Nervousness       0.48      0.43      0.46        53\n",
      "Lack of Worry Control       0.50      0.53      0.52        47\n",
      "      Excessive Worry       0.55      0.39      0.46        46\n",
      "  Difficulty Relaxing       0.73      0.59      0.65        51\n",
      "         Restlessness       0.33      0.48      0.39        58\n",
      "       Impending Doom       0.51      0.50      0.50        52\n",
      "\n",
      "             accuracy                           0.49       307\n",
      "            macro avg       0.52      0.49      0.50       307\n",
      "         weighted avg       0.51      0.49      0.49       307\n",
      "\n",
      "Validation Loss: 3.4333\n",
      "Validation Macro-F1: 0.4963, Weighted-F1: 0.4942\n",
      "\n",
      "Epoch 21/30\n"
     ]
    },
    {
     "name": "stderr",
     "output_type": "stream",
     "text": [
      "Training: 100%|██████████| 135/135 [01:17<00:00,  1.74it/s]\n"
     ]
    },
    {
     "name": "stdout",
     "output_type": "stream",
     "text": [
      "Train Loss: 0.3500\n",
      "Train Macro-F1: 0.9953, Weighted-F1: 0.9954\n"
     ]
    },
    {
     "name": "stderr",
     "output_type": "stream",
     "text": [
      "Evaluating: 100%|██████████| 20/20 [00:08<00:00,  2.33it/s]\n"
     ]
    },
    {
     "name": "stdout",
     "output_type": "stream",
     "text": [
      "                       precision    recall  f1-score   support\n",
      "\n",
      "          Nervousness       0.43      0.43      0.43        53\n",
      "Lack of Worry Control       0.56      0.53      0.54        47\n",
      "      Excessive Worry       0.56      0.39      0.46        46\n",
      "  Difficulty Relaxing       0.78      0.57      0.66        51\n",
      "         Restlessness       0.31      0.50      0.38        58\n",
      "       Impending Doom       0.52      0.46      0.49        52\n",
      "\n",
      "             accuracy                           0.48       307\n",
      "            macro avg       0.53      0.48      0.49       307\n",
      "         weighted avg       0.52      0.48      0.49       307\n",
      "\n",
      "Validation Loss: 3.4373\n",
      "Validation Macro-F1: 0.4947, Weighted-F1: 0.4916\n",
      "\n",
      "Epoch 22/30\n"
     ]
    },
    {
     "name": "stderr",
     "output_type": "stream",
     "text": [
      "Training: 100%|██████████| 135/135 [01:16<00:00,  1.76it/s]\n"
     ]
    },
    {
     "name": "stdout",
     "output_type": "stream",
     "text": [
      "Train Loss: 0.3498\n",
      "Train Macro-F1: 0.9943, Weighted-F1: 0.9944\n"
     ]
    },
    {
     "name": "stderr",
     "output_type": "stream",
     "text": [
      "Evaluating: 100%|██████████| 20/20 [00:08<00:00,  2.32it/s]\n"
     ]
    },
    {
     "name": "stdout",
     "output_type": "stream",
     "text": [
      "                       precision    recall  f1-score   support\n",
      "\n",
      "          Nervousness       0.45      0.43      0.44        53\n",
      "Lack of Worry Control       0.56      0.53      0.54        47\n",
      "      Excessive Worry       0.59      0.37      0.45        46\n",
      "  Difficulty Relaxing       0.78      0.57      0.66        51\n",
      "         Restlessness       0.30      0.50      0.37        58\n",
      "       Impending Doom       0.49      0.44      0.46        52\n",
      "\n",
      "             accuracy                           0.48       307\n",
      "            macro avg       0.53      0.47      0.49       307\n",
      "         weighted avg       0.52      0.48      0.49       307\n",
      "\n",
      "Validation Loss: 3.4416\n",
      "Validation Macro-F1: 0.4891, Weighted-F1: 0.4859\n",
      "\n",
      "Epoch 23/30\n"
     ]
    },
    {
     "name": "stderr",
     "output_type": "stream",
     "text": [
      "Training: 100%|██████████| 135/135 [01:17<00:00,  1.75it/s]\n"
     ]
    },
    {
     "name": "stdout",
     "output_type": "stream",
     "text": [
      "Train Loss: 0.3498\n",
      "Train Macro-F1: 0.9953, Weighted-F1: 0.9954\n"
     ]
    },
    {
     "name": "stderr",
     "output_type": "stream",
     "text": [
      "Evaluating: 100%|██████████| 20/20 [00:08<00:00,  2.35it/s]\n"
     ]
    },
    {
     "name": "stdout",
     "output_type": "stream",
     "text": [
      "                       precision    recall  f1-score   support\n",
      "\n",
      "          Nervousness       0.47      0.43      0.45        53\n",
      "Lack of Worry Control       0.57      0.53      0.55        47\n",
      "      Excessive Worry       0.57      0.37      0.45        46\n",
      "  Difficulty Relaxing       0.80      0.55      0.65        51\n",
      "         Restlessness       0.30      0.50      0.37        58\n",
      "       Impending Doom       0.47      0.46      0.47        52\n",
      "\n",
      "             accuracy                           0.48       307\n",
      "            macro avg       0.53      0.47      0.49       307\n",
      "         weighted avg       0.52      0.48      0.49       307\n",
      "\n",
      "Validation Loss: 3.4790\n",
      "Validation Macro-F1: 0.4895, Weighted-F1: 0.4864\n",
      "\n",
      "Epoch 24/30\n"
     ]
    },
    {
     "name": "stderr",
     "output_type": "stream",
     "text": [
      "Training: 100%|██████████| 135/135 [01:17<00:00,  1.75it/s]\n"
     ]
    },
    {
     "name": "stdout",
     "output_type": "stream",
     "text": [
      "Train Loss: 0.3495\n",
      "Train Macro-F1: 0.9962, Weighted-F1: 0.9963\n"
     ]
    },
    {
     "name": "stderr",
     "output_type": "stream",
     "text": [
      "Evaluating: 100%|██████████| 20/20 [00:08<00:00,  2.35it/s]\n"
     ]
    },
    {
     "name": "stdout",
     "output_type": "stream",
     "text": [
      "                       precision    recall  f1-score   support\n",
      "\n",
      "          Nervousness       0.45      0.43      0.44        53\n",
      "Lack of Worry Control       0.58      0.53      0.56        47\n",
      "      Excessive Worry       0.55      0.37      0.44        46\n",
      "  Difficulty Relaxing       0.79      0.53      0.64        51\n",
      "         Restlessness       0.29      0.48      0.37        58\n",
      "       Impending Doom       0.49      0.50      0.50        52\n",
      "\n",
      "             accuracy                           0.48       307\n",
      "            macro avg       0.53      0.47      0.49       307\n",
      "         weighted avg       0.52      0.48      0.49       307\n",
      "\n",
      "Validation Loss: 3.4558\n",
      "Validation Macro-F1: 0.4893, Weighted-F1: 0.4861\n",
      "\n",
      "Epoch 25/30\n"
     ]
    },
    {
     "name": "stderr",
     "output_type": "stream",
     "text": [
      "Training: 100%|██████████| 135/135 [01:16<00:00,  1.76it/s]\n"
     ]
    },
    {
     "name": "stdout",
     "output_type": "stream",
     "text": [
      "Train Loss: 0.3492\n",
      "Train Macro-F1: 0.9953, Weighted-F1: 0.9954\n"
     ]
    },
    {
     "name": "stderr",
     "output_type": "stream",
     "text": [
      "Evaluating: 100%|██████████| 20/20 [00:08<00:00,  2.33it/s]\n"
     ]
    },
    {
     "name": "stdout",
     "output_type": "stream",
     "text": [
      "                       precision    recall  f1-score   support\n",
      "\n",
      "          Nervousness       0.44      0.45      0.45        53\n",
      "Lack of Worry Control       0.58      0.53      0.56        47\n",
      "      Excessive Worry       0.55      0.37      0.44        46\n",
      "  Difficulty Relaxing       0.82      0.53      0.64        51\n",
      "         Restlessness       0.31      0.47      0.37        58\n",
      "       Impending Doom       0.50      0.56      0.53        52\n",
      "\n",
      "             accuracy                           0.49       307\n",
      "            macro avg       0.53      0.48      0.50       307\n",
      "         weighted avg       0.53      0.49      0.49       307\n",
      "\n",
      "Validation Loss: 3.4568\n",
      "Validation Macro-F1: 0.4976, Weighted-F1: 0.4946\n",
      "\n",
      "Epoch 26/30\n"
     ]
    },
    {
     "name": "stderr",
     "output_type": "stream",
     "text": [
      "Training: 100%|██████████| 135/135 [01:17<00:00,  1.75it/s]\n"
     ]
    },
    {
     "name": "stdout",
     "output_type": "stream",
     "text": [
      "Train Loss: 0.3483\n",
      "Train Macro-F1: 0.9953, Weighted-F1: 0.9954\n"
     ]
    },
    {
     "name": "stderr",
     "output_type": "stream",
     "text": [
      "Evaluating: 100%|██████████| 20/20 [00:08<00:00,  2.28it/s]\n"
     ]
    },
    {
     "name": "stdout",
     "output_type": "stream",
     "text": [
      "                       precision    recall  f1-score   support\n",
      "\n",
      "          Nervousness       0.44      0.45      0.45        53\n",
      "Lack of Worry Control       0.58      0.53      0.56        47\n",
      "      Excessive Worry       0.55      0.37      0.44        46\n",
      "  Difficulty Relaxing       0.82      0.55      0.66        51\n",
      "         Restlessness       0.31      0.47      0.37        58\n",
      "       Impending Doom       0.49      0.54      0.51        52\n",
      "\n",
      "             accuracy                           0.49       307\n",
      "            macro avg       0.53      0.48      0.50       307\n",
      "         weighted avg       0.53      0.49      0.50       307\n",
      "\n",
      "Validation Loss: 3.4423\n",
      "Validation Macro-F1: 0.4980, Weighted-F1: 0.4950\n",
      "\n",
      "Epoch 27/30\n"
     ]
    },
    {
     "name": "stderr",
     "output_type": "stream",
     "text": [
      "Training: 100%|██████████| 135/135 [01:16<00:00,  1.76it/s]\n"
     ]
    },
    {
     "name": "stdout",
     "output_type": "stream",
     "text": [
      "Train Loss: 0.3482\n",
      "Train Macro-F1: 0.9957, Weighted-F1: 0.9958\n"
     ]
    },
    {
     "name": "stderr",
     "output_type": "stream",
     "text": [
      "Evaluating: 100%|██████████| 20/20 [00:08<00:00,  2.37it/s]\n"
     ]
    },
    {
     "name": "stdout",
     "output_type": "stream",
     "text": [
      "                       precision    recall  f1-score   support\n",
      "\n",
      "          Nervousness       0.46      0.43      0.45        53\n",
      "Lack of Worry Control       0.58      0.53      0.56        47\n",
      "      Excessive Worry       0.55      0.37      0.44        46\n",
      "  Difficulty Relaxing       0.82      0.53      0.64        51\n",
      "         Restlessness       0.29      0.47      0.36        58\n",
      "       Impending Doom       0.49      0.54      0.51        52\n",
      "\n",
      "             accuracy                           0.48       307\n",
      "            macro avg       0.53      0.48      0.49       307\n",
      "         weighted avg       0.52      0.48      0.49       307\n",
      "\n",
      "Validation Loss: 3.4700\n",
      "Validation Macro-F1: 0.4930, Weighted-F1: 0.4897\n",
      "\n",
      "Epoch 28/30\n"
     ]
    },
    {
     "name": "stderr",
     "output_type": "stream",
     "text": [
      "Training: 100%|██████████| 135/135 [01:17<00:00,  1.75it/s]\n"
     ]
    },
    {
     "name": "stdout",
     "output_type": "stream",
     "text": [
      "Train Loss: 0.3482\n",
      "Train Macro-F1: 0.9962, Weighted-F1: 0.9963\n"
     ]
    },
    {
     "name": "stderr",
     "output_type": "stream",
     "text": [
      "Evaluating: 100%|██████████| 20/20 [00:08<00:00,  2.35it/s]\n"
     ]
    },
    {
     "name": "stdout",
     "output_type": "stream",
     "text": [
      "                       precision    recall  f1-score   support\n",
      "\n",
      "          Nervousness       0.46      0.43      0.45        53\n",
      "Lack of Worry Control       0.58      0.53      0.56        47\n",
      "      Excessive Worry       0.53      0.37      0.44        46\n",
      "  Difficulty Relaxing       0.82      0.53      0.64        51\n",
      "         Restlessness       0.29      0.47      0.36        58\n",
      "       Impending Doom       0.49      0.54      0.51        52\n",
      "\n",
      "             accuracy                           0.48       307\n",
      "            macro avg       0.53      0.48      0.49       307\n",
      "         weighted avg       0.52      0.48      0.49       307\n",
      "\n",
      "Validation Loss: 3.4812\n",
      "Validation Macro-F1: 0.4924, Weighted-F1: 0.4893\n",
      "\n",
      "Epoch 29/30\n"
     ]
    },
    {
     "name": "stderr",
     "output_type": "stream",
     "text": [
      "Training: 100%|██████████| 135/135 [01:17<00:00,  1.74it/s]\n"
     ]
    },
    {
     "name": "stdout",
     "output_type": "stream",
     "text": [
      "Train Loss: 0.3476\n",
      "Train Macro-F1: 0.9971, Weighted-F1: 0.9972\n"
     ]
    },
    {
     "name": "stderr",
     "output_type": "stream",
     "text": [
      "Evaluating: 100%|██████████| 20/20 [00:08<00:00,  2.28it/s]\n"
     ]
    },
    {
     "name": "stdout",
     "output_type": "stream",
     "text": [
      "                       precision    recall  f1-score   support\n",
      "\n",
      "          Nervousness       0.47      0.43      0.45        53\n",
      "Lack of Worry Control       0.58      0.53      0.56        47\n",
      "      Excessive Worry       0.53      0.37      0.44        46\n",
      "  Difficulty Relaxing       0.82      0.53      0.64        51\n",
      "         Restlessness       0.29      0.47      0.36        58\n",
      "       Impending Doom       0.49      0.54      0.51        52\n",
      "\n",
      "             accuracy                           0.48       307\n",
      "            macro avg       0.53      0.48      0.49       307\n",
      "         weighted avg       0.52      0.48      0.49       307\n",
      "\n",
      "Validation Loss: 3.4880\n",
      "Validation Macro-F1: 0.4928, Weighted-F1: 0.4896\n",
      "\n",
      "Epoch 30/30\n"
     ]
    },
    {
     "name": "stderr",
     "output_type": "stream",
     "text": [
      "Training: 100%|██████████| 135/135 [01:18<00:00,  1.73it/s]\n"
     ]
    },
    {
     "name": "stdout",
     "output_type": "stream",
     "text": [
      "Train Loss: 0.3474\n",
      "Train Macro-F1: 0.9966, Weighted-F1: 0.9968\n"
     ]
    },
    {
     "name": "stderr",
     "output_type": "stream",
     "text": [
      "Evaluating: 100%|██████████| 20/20 [00:08<00:00,  2.26it/s]\n"
     ]
    },
    {
     "name": "stdout",
     "output_type": "stream",
     "text": [
      "                       precision    recall  f1-score   support\n",
      "\n",
      "          Nervousness       0.47      0.43      0.45        53\n",
      "Lack of Worry Control       0.57      0.53      0.55        47\n",
      "      Excessive Worry       0.53      0.37      0.44        46\n",
      "  Difficulty Relaxing       0.82      0.53      0.64        51\n",
      "         Restlessness       0.30      0.48      0.37        58\n",
      "       Impending Doom       0.49      0.52      0.50        52\n",
      "\n",
      "             accuracy                           0.48       307\n",
      "            macro avg       0.53      0.48      0.49       307\n",
      "         weighted avg       0.52      0.48      0.49       307\n",
      "\n",
      "Validation Loss: 3.4840\n",
      "Validation Macro-F1: 0.4920, Weighted-F1: 0.4892\n"
     ]
    }
   ],
   "source": [
    "model = ImageOnlyModel(num_classes=len(LABEL_MAP))\n",
    "\n",
    "trained_model, image_processor = train_image_only_model(\n",
    "    model,\n",
    "    train_data,\n",
    "    val_data,\n",
    "    img_path,\n",
    "    epochs=30,\n",
    "    model_save_name=\"only_image\"\n",
    ")"
   ]
  },
  {
   "cell_type": "markdown",
   "metadata": {},
   "source": [
    "## Inference"
   ]
  },
  {
   "cell_type": "code",
   "execution_count": 71,
   "metadata": {
    "execution": {
     "iopub.execute_input": "2025-04-14T22:29:29.487627Z",
     "iopub.status.busy": "2025-04-14T22:29:29.487267Z",
     "iopub.status.idle": "2025-04-14T22:29:36.459371Z",
     "shell.execute_reply": "2025-04-14T22:29:36.458652Z",
     "shell.execute_reply.started": "2025-04-14T22:29:29.487607Z"
    },
    "id": "Y9PPAcjUhB2V",
    "trusted": true
   },
   "outputs": [
    {
     "name": "stdout",
     "output_type": "stream",
     "text": [
      "Downloading...\n",
      "From (original): https://drive.google.com/uc?id=1rdLwO2mZTYoD7NtMYjpZW_owsPzyHjvi\n",
      "From (redirected): https://drive.google.com/uc?id=1rdLwO2mZTYoD7NtMYjpZW_owsPzyHjvi&confirm=t&uuid=e3037a52-acd3-480e-9130-43d9e05bc16b\n",
      "To: /kaggle/working/only_image_anxiety.pth\n",
      "100%|█████████████████████████████████████████| 380M/380M [00:02<00:00, 151MB/s]\n"
     ]
    }
   ],
   "source": [
    "!gdown 1rdLwO2mZTYoD7NtMYjpZW_owsPzyHjvi"
   ]
  },
  {
   "cell_type": "code",
   "execution_count": 72,
   "metadata": {
    "execution": {
     "iopub.execute_input": "2025-04-14T22:29:37.850540Z",
     "iopub.status.busy": "2025-04-14T22:29:37.850214Z",
     "iopub.status.idle": "2025-04-14T22:29:37.857447Z",
     "shell.execute_reply": "2025-04-14T22:29:37.856699Z",
     "shell.execute_reply.started": "2025-04-14T22:29:37.850496Z"
    },
    "trusted": true
   },
   "outputs": [],
   "source": [
    "def inference(test_data, model_path):\n",
    "    model = ImageOnlyModel(num_classes=len(LABEL_MAP))\n",
    "\n",
    "    model = model.to(DEVICE)\n",
    "\n",
    "    weights = torch.load(model_path, map_location=DEVICE, weights_only=True)\n",
    "    weights_single = {k.replace(\"module.\", \"\"): v for k, v in weights.items() if \"contrastive_projection\" not in k}\n",
    "\n",
    "    model.load_state_dict(weights_single)\n",
    "    image_processor = CLIPImageProcessor.from_pretrained(\"openai/clip-vit-base-patch32\")\n",
    "\n",
    "    test_dataset = ImageOnlyAnxietyDataset(test_data, \"anxiety_test_image\", image_processor)\n",
    "    test_loader = DataLoader(\n",
    "        test_dataset,\n",
    "        batch_size=BATCH_SIZE,\n",
    "        shuffle=False,\n",
    "        collate_fn=custom_collate_fn\n",
    "    )\n",
    "\n",
    "    loss, macro_f1, weighted_f1 = evaluate_image_model(\n",
    "        model, test_loader, nn.CrossEntropyLoss()\n",
    "    )\n",
    "\n",
    "    print(f\"Test Loss: {loss:.4f}\")\n",
    "    print(f\"Test Macro-F1: {macro_f1:.4f}, Weighted-F1: {weighted_f1:.4f}\")\n",
    "\n",
    "    return macro_f1, weighted_f1"
   ]
  },
  {
   "cell_type": "code",
   "execution_count": 73,
   "metadata": {
    "execution": {
     "iopub.execute_input": "2025-04-14T22:29:39.232723Z",
     "iopub.status.busy": "2025-04-14T22:29:39.232112Z",
     "iopub.status.idle": "2025-04-14T22:29:57.737460Z",
     "shell.execute_reply": "2025-04-14T22:29:57.736922Z",
     "shell.execute_reply.started": "2025-04-14T22:29:39.232695Z"
    },
    "trusted": true
   },
   "outputs": [
    {
     "name": "stderr",
     "output_type": "stream",
     "text": [
      "Evaluating: 100%|██████████| 39/39 [00:17<00:00,  2.23it/s]\n"
     ]
    },
    {
     "name": "stdout",
     "output_type": "stream",
     "text": [
      "                       precision    recall  f1-score   support\n",
      "\n",
      "          Nervousness       0.44      0.36      0.40       106\n",
      "Lack of Worry Control       0.67      0.39      0.50        94\n",
      "      Excessive Worry       0.41      0.39      0.40        92\n",
      "  Difficulty Relaxing       0.76      0.58      0.66       102\n",
      "         Restlessness       0.37      0.74      0.49       116\n",
      "       Impending Doom       0.55      0.40      0.46       105\n",
      "\n",
      "             accuracy                           0.48       615\n",
      "            macro avg       0.53      0.48      0.48       615\n",
      "         weighted avg       0.53      0.48      0.49       615\n",
      "\n",
      "Test Loss: 3.2406\n",
      "Test Macro-F1: 0.4845, Weighted-F1: 0.4852\n"
     ]
    },
    {
     "data": {
      "text/plain": [
       "(0.48453214917837184, 0.48522518139802373)"
      ]
     },
     "execution_count": 73,
     "metadata": {},
     "output_type": "execute_result"
    }
   ],
   "source": [
    "inference(test_data, \"only_image_anxiety.pth\")"
   ]
  },
  {
   "cell_type": "code",
   "execution_count": null,
   "metadata": {
    "trusted": true
   },
   "outputs": [],
   "source": []
  }
 ],
 "metadata": {
  "colab": {
   "name": "anxiety_ablation_without_text_enc_contrastive",
   "provenance": []
  },
  "kaggle": {
   "accelerator": "nvidiaTeslaT4",
   "dataSources": [
    {
     "datasetId": 7146171,
     "sourceId": 11408163,
     "sourceType": "datasetVersion"
    },
    {
     "datasetId": 7146212,
     "sourceId": 11408231,
     "sourceType": "datasetVersion"
    }
   ],
   "dockerImageVersionId": 31011,
   "isGpuEnabled": true,
   "isInternetEnabled": true,
   "language": "python",
   "sourceType": "notebook"
  },
  "kernelspec": {
   "display_name": "Python 3",
   "language": "python",
   "name": "python3"
  },
  "language_info": {
   "codemirror_mode": {
    "name": "ipython",
    "version": 3
   },
   "file_extension": ".py",
   "mimetype": "text/x-python",
   "name": "python",
   "nbconvert_exporter": "python",
   "pygments_lexer": "ipython3",
   "version": "3.11.11"
  }
 },
 "nbformat": 4,
 "nbformat_minor": 4
}
